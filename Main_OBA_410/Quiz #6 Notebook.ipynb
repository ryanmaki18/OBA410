{
 "cells": [
  {
   "cell_type": "markdown",
   "id": "87d8e86f",
   "metadata": {},
   "source": [
    "# Quiz #6"
   ]
  },
  {
   "cell_type": "code",
   "execution_count": 2,
   "id": "f8ebedbe",
   "metadata": {},
   "outputs": [],
   "source": [
    "import pandas as pd"
   ]
  },
  {
   "cell_type": "code",
   "execution_count": 3,
   "id": "7b6eeea9",
   "metadata": {},
   "outputs": [
    {
     "data": {
      "text/html": [
       "<div>\n",
       "<style scoped>\n",
       "    .dataframe tbody tr th:only-of-type {\n",
       "        vertical-align: middle;\n",
       "    }\n",
       "\n",
       "    .dataframe tbody tr th {\n",
       "        vertical-align: top;\n",
       "    }\n",
       "\n",
       "    .dataframe thead th {\n",
       "        text-align: right;\n",
       "    }\n",
       "</style>\n",
       "<table border=\"1\" class=\"dataframe\">\n",
       "  <thead>\n",
       "    <tr style=\"text-align: right;\">\n",
       "      <th></th>\n",
       "      <th>INCOME</th>\n",
       "      <th>AGE</th>\n",
       "      <th>GENDER</th>\n",
       "      <th>HOURS_working</th>\n",
       "      <th>JOB_TYPE</th>\n",
       "      <th>EXPERIECE_in_YEARS</th>\n",
       "    </tr>\n",
       "  </thead>\n",
       "  <tbody>\n",
       "    <tr>\n",
       "      <th>0</th>\n",
       "      <td>&lt;=50K</td>\n",
       "      <td>20</td>\n",
       "      <td>1</td>\n",
       "      <td>44</td>\n",
       "      <td>Sales</td>\n",
       "      <td>5</td>\n",
       "    </tr>\n",
       "    <tr>\n",
       "      <th>1</th>\n",
       "      <td>&gt;50K</td>\n",
       "      <td>31</td>\n",
       "      <td>3</td>\n",
       "      <td>38</td>\n",
       "      <td>Sales</td>\n",
       "      <td>21</td>\n",
       "    </tr>\n",
       "    <tr>\n",
       "      <th>2</th>\n",
       "      <td>&lt;=50K</td>\n",
       "      <td>24</td>\n",
       "      <td>1</td>\n",
       "      <td>50</td>\n",
       "      <td>Tech-support</td>\n",
       "      <td>6</td>\n",
       "    </tr>\n",
       "  </tbody>\n",
       "</table>\n",
       "</div>"
      ],
      "text/plain": [
       "   INCOME  AGE  GENDER  HOURS_working       JOB_TYPE  EXPERIECE_in_YEARS\n",
       "0   <=50K   20       1             44          Sales                   5\n",
       "1    >50K   31       3             38          Sales                  21\n",
       "2   <=50K   24       1             50   Tech-support                   6"
      ]
     },
     "execution_count": 3,
     "metadata": {},
     "output_type": "execute_result"
    }
   ],
   "source": [
    "income_df = pd.read_csv(\"Income_Categorical.csv\")\n",
    "income_df.head(3)"
   ]
  },
  {
   "cell_type": "code",
   "execution_count": 4,
   "id": "5ae6a636",
   "metadata": {},
   "outputs": [
    {
     "data": {
      "text/html": [
       "<div>\n",
       "<style scoped>\n",
       "    .dataframe tbody tr th:only-of-type {\n",
       "        vertical-align: middle;\n",
       "    }\n",
       "\n",
       "    .dataframe tbody tr th {\n",
       "        vertical-align: top;\n",
       "    }\n",
       "\n",
       "    .dataframe thead th {\n",
       "        text-align: right;\n",
       "    }\n",
       "</style>\n",
       "<table border=\"1\" class=\"dataframe\">\n",
       "  <thead>\n",
       "    <tr style=\"text-align: right;\">\n",
       "      <th></th>\n",
       "      <th>AGE</th>\n",
       "      <th>GENDER</th>\n",
       "      <th>HOURS_working</th>\n",
       "      <th>JOB_TYPE</th>\n",
       "      <th>EXPERIECE_in_YEARS</th>\n",
       "    </tr>\n",
       "  </thead>\n",
       "  <tbody>\n",
       "    <tr>\n",
       "      <th>0</th>\n",
       "      <td>20</td>\n",
       "      <td>1</td>\n",
       "      <td>44</td>\n",
       "      <td>Sales</td>\n",
       "      <td>5</td>\n",
       "    </tr>\n",
       "    <tr>\n",
       "      <th>1</th>\n",
       "      <td>31</td>\n",
       "      <td>3</td>\n",
       "      <td>38</td>\n",
       "      <td>Sales</td>\n",
       "      <td>21</td>\n",
       "    </tr>\n",
       "    <tr>\n",
       "      <th>2</th>\n",
       "      <td>24</td>\n",
       "      <td>1</td>\n",
       "      <td>50</td>\n",
       "      <td>Tech-support</td>\n",
       "      <td>6</td>\n",
       "    </tr>\n",
       "  </tbody>\n",
       "</table>\n",
       "</div>"
      ],
      "text/plain": [
       "   AGE  GENDER  HOURS_working       JOB_TYPE  EXPERIECE_in_YEARS\n",
       "0   20       1             44          Sales                   5\n",
       "1   31       3             38          Sales                  21\n",
       "2   24       1             50   Tech-support                   6"
      ]
     },
     "metadata": {},
     "output_type": "display_data"
    },
    {
     "data": {
      "text/plain": [
       "0     <=50K\n",
       "1      >50K\n",
       "2     <=50K\n",
       "Name: INCOME, dtype: object"
      ]
     },
     "metadata": {},
     "output_type": "display_data"
    }
   ],
   "source": [
    "# Create features and target sets\n",
    "x_income, y_income = income_df.iloc[:,1:], income_df[\"INCOME\"]\n",
    "# Check our work\n",
    "display(x_income.head(3))\n",
    "display(y_income.head(3))"
   ]
  },
  {
   "cell_type": "code",
   "execution_count": 13,
   "id": "640eba6b",
   "metadata": {
    "scrolled": true
   },
   "outputs": [
    {
     "data": {
      "text/html": [
       "<div>\n",
       "<style scoped>\n",
       "    .dataframe tbody tr th:only-of-type {\n",
       "        vertical-align: middle;\n",
       "    }\n",
       "\n",
       "    .dataframe tbody tr th {\n",
       "        vertical-align: top;\n",
       "    }\n",
       "\n",
       "    .dataframe thead th {\n",
       "        text-align: right;\n",
       "    }\n",
       "</style>\n",
       "<table border=\"1\" class=\"dataframe\">\n",
       "  <thead>\n",
       "    <tr style=\"text-align: right;\">\n",
       "      <th></th>\n",
       "      <th>AGE</th>\n",
       "      <th>HOURS_working</th>\n",
       "      <th>EXPERIECE_in_YEARS</th>\n",
       "      <th>GENDER_1</th>\n",
       "      <th>GENDER_2</th>\n",
       "      <th>GENDER_3</th>\n",
       "      <th>JOB_TYPE_ Sales</th>\n",
       "      <th>JOB_TYPE_ Tech-support</th>\n",
       "    </tr>\n",
       "  </thead>\n",
       "  <tbody>\n",
       "    <tr>\n",
       "      <th>0</th>\n",
       "      <td>20</td>\n",
       "      <td>44</td>\n",
       "      <td>5</td>\n",
       "      <td>1</td>\n",
       "      <td>0</td>\n",
       "      <td>0</td>\n",
       "      <td>1</td>\n",
       "      <td>0</td>\n",
       "    </tr>\n",
       "    <tr>\n",
       "      <th>1</th>\n",
       "      <td>31</td>\n",
       "      <td>38</td>\n",
       "      <td>21</td>\n",
       "      <td>0</td>\n",
       "      <td>0</td>\n",
       "      <td>1</td>\n",
       "      <td>1</td>\n",
       "      <td>0</td>\n",
       "    </tr>\n",
       "    <tr>\n",
       "      <th>2</th>\n",
       "      <td>24</td>\n",
       "      <td>50</td>\n",
       "      <td>6</td>\n",
       "      <td>1</td>\n",
       "      <td>0</td>\n",
       "      <td>0</td>\n",
       "      <td>0</td>\n",
       "      <td>1</td>\n",
       "    </tr>\n",
       "  </tbody>\n",
       "</table>\n",
       "</div>"
      ],
      "text/plain": [
       "   AGE  HOURS_working  EXPERIECE_in_YEARS  GENDER_1  GENDER_2  GENDER_3  \\\n",
       "0   20             44                   5         1         0         0   \n",
       "1   31             38                  21         0         0         1   \n",
       "2   24             50                   6         1         0         0   \n",
       "\n",
       "   JOB_TYPE_ Sales  JOB_TYPE_ Tech-support  \n",
       "0                1                       0  \n",
       "1                1                       0  \n",
       "2                0                       1  "
      ]
     },
     "execution_count": 13,
     "metadata": {},
     "output_type": "execute_result"
    }
   ],
   "source": [
    "# Original Categorical Features dropped\n",
    "# the order of colums is as follow:\n",
    "#   - original numberic cols go first, followed by newly created binary vars\n",
    "x_income[\"GENDER\"] = x_income[\"GENDER\"].astype(str)\n",
    "x_dummies = pd.get_dummies(x_income)\n",
    "x_dummies.head(3)"
   ]
  },
  {
   "cell_type": "code",
   "execution_count": 23,
   "id": "bc8ecd29",
   "metadata": {
    "scrolled": true
   },
   "outputs": [
    {
     "data": {
      "text/html": [
       "<div>\n",
       "<style scoped>\n",
       "    .dataframe tbody tr th:only-of-type {\n",
       "        vertical-align: middle;\n",
       "    }\n",
       "\n",
       "    .dataframe tbody tr th {\n",
       "        vertical-align: top;\n",
       "    }\n",
       "\n",
       "    .dataframe thead th {\n",
       "        text-align: right;\n",
       "    }\n",
       "</style>\n",
       "<table border=\"1\" class=\"dataframe\">\n",
       "  <thead>\n",
       "    <tr style=\"text-align: right;\">\n",
       "      <th></th>\n",
       "      <th>AGE</th>\n",
       "      <th>HOURS_working</th>\n",
       "      <th>EXPERIECE_in_YEARS</th>\n",
       "      <th>GENDER_1</th>\n",
       "      <th>GENDER_2</th>\n",
       "      <th>GENDER_3</th>\n",
       "      <th>JOB_TYPE_ Sales</th>\n",
       "      <th>JOB_TYPE_ Tech-support</th>\n",
       "    </tr>\n",
       "  </thead>\n",
       "  <tbody>\n",
       "    <tr>\n",
       "      <th>count</th>\n",
       "      <td>2217.000000</td>\n",
       "      <td>2217.000000</td>\n",
       "      <td>2217.000000</td>\n",
       "      <td>2217.000000</td>\n",
       "      <td>2217.000000</td>\n",
       "      <td>2217.000000</td>\n",
       "      <td>2217.000000</td>\n",
       "      <td>2217.000000</td>\n",
       "    </tr>\n",
       "    <tr>\n",
       "      <th>mean</th>\n",
       "      <td>36.355886</td>\n",
       "      <td>41.091114</td>\n",
       "      <td>9.035183</td>\n",
       "      <td>0.289581</td>\n",
       "      <td>0.404601</td>\n",
       "      <td>0.305819</td>\n",
       "      <td>0.785747</td>\n",
       "      <td>0.214253</td>\n",
       "    </tr>\n",
       "    <tr>\n",
       "      <th>std</th>\n",
       "      <td>12.891981</td>\n",
       "      <td>12.126097</td>\n",
       "      <td>6.143194</td>\n",
       "      <td>0.453670</td>\n",
       "      <td>0.490925</td>\n",
       "      <td>0.460857</td>\n",
       "      <td>0.410396</td>\n",
       "      <td>0.410396</td>\n",
       "    </tr>\n",
       "    <tr>\n",
       "      <th>min</th>\n",
       "      <td>18.000000</td>\n",
       "      <td>2.000000</td>\n",
       "      <td>3.000000</td>\n",
       "      <td>0.000000</td>\n",
       "      <td>0.000000</td>\n",
       "      <td>0.000000</td>\n",
       "      <td>0.000000</td>\n",
       "      <td>0.000000</td>\n",
       "    </tr>\n",
       "    <tr>\n",
       "      <th>25%</th>\n",
       "      <td>26.000000</td>\n",
       "      <td>40.000000</td>\n",
       "      <td>5.000000</td>\n",
       "      <td>0.000000</td>\n",
       "      <td>0.000000</td>\n",
       "      <td>0.000000</td>\n",
       "      <td>1.000000</td>\n",
       "      <td>0.000000</td>\n",
       "    </tr>\n",
       "    <tr>\n",
       "      <th>50%</th>\n",
       "      <td>35.000000</td>\n",
       "      <td>40.000000</td>\n",
       "      <td>7.000000</td>\n",
       "      <td>0.000000</td>\n",
       "      <td>0.000000</td>\n",
       "      <td>0.000000</td>\n",
       "      <td>1.000000</td>\n",
       "      <td>0.000000</td>\n",
       "    </tr>\n",
       "    <tr>\n",
       "      <th>75%</th>\n",
       "      <td>45.000000</td>\n",
       "      <td>50.000000</td>\n",
       "      <td>11.000000</td>\n",
       "      <td>1.000000</td>\n",
       "      <td>1.000000</td>\n",
       "      <td>1.000000</td>\n",
       "      <td>1.000000</td>\n",
       "      <td>0.000000</td>\n",
       "    </tr>\n",
       "    <tr>\n",
       "      <th>max</th>\n",
       "      <td>90.000000</td>\n",
       "      <td>99.000000</td>\n",
       "      <td>25.000000</td>\n",
       "      <td>1.000000</td>\n",
       "      <td>1.000000</td>\n",
       "      <td>1.000000</td>\n",
       "      <td>1.000000</td>\n",
       "      <td>1.000000</td>\n",
       "    </tr>\n",
       "  </tbody>\n",
       "</table>\n",
       "</div>"
      ],
      "text/plain": [
       "               AGE  HOURS_working  EXPERIECE_in_YEARS     GENDER_1  \\\n",
       "count  2217.000000    2217.000000         2217.000000  2217.000000   \n",
       "mean     36.355886      41.091114            9.035183     0.289581   \n",
       "std      12.891981      12.126097            6.143194     0.453670   \n",
       "min      18.000000       2.000000            3.000000     0.000000   \n",
       "25%      26.000000      40.000000            5.000000     0.000000   \n",
       "50%      35.000000      40.000000            7.000000     0.000000   \n",
       "75%      45.000000      50.000000           11.000000     1.000000   \n",
       "max      90.000000      99.000000           25.000000     1.000000   \n",
       "\n",
       "          GENDER_2     GENDER_3  JOB_TYPE_ Sales  JOB_TYPE_ Tech-support  \n",
       "count  2217.000000  2217.000000      2217.000000             2217.000000  \n",
       "mean      0.404601     0.305819         0.785747                0.214253  \n",
       "std       0.490925     0.460857         0.410396                0.410396  \n",
       "min       0.000000     0.000000         0.000000                0.000000  \n",
       "25%       0.000000     0.000000         1.000000                0.000000  \n",
       "50%       0.000000     0.000000         1.000000                0.000000  \n",
       "75%       1.000000     1.000000         1.000000                0.000000  \n",
       "max       1.000000     1.000000         1.000000                1.000000  "
      ]
     },
     "execution_count": 23,
     "metadata": {},
     "output_type": "execute_result"
    }
   ],
   "source": [
    "x_dummies.describe()"
   ]
  },
  {
   "cell_type": "code",
   "execution_count": 32,
   "id": "6042e91d",
   "metadata": {},
   "outputs": [
    {
     "data": {
      "text/plain": [
       "41.09"
      ]
     },
     "execution_count": 32,
     "metadata": {},
     "output_type": "execute_result"
    }
   ],
   "source": [
    "d = x_dummies[\"HOURS_working\"].mean()\n",
    "d.round(2)"
   ]
  },
  {
   "cell_type": "code",
   "execution_count": 14,
   "id": "744f3c75",
   "metadata": {},
   "outputs": [],
   "source": [
    "from sklearn.model_selection import train_test_split\n",
    "from sklearn.neighbors import KNeighborsClassifier"
   ]
  },
  {
   "cell_type": "code",
   "execution_count": 15,
   "id": "16b17512",
   "metadata": {},
   "outputs": [
    {
     "name": "stdout",
     "output_type": "stream",
     "text": [
      "(1773, 8)\n",
      "(444, 8)\n",
      "(1773,)\n",
      "(444,)\n"
     ]
    }
   ],
   "source": [
    "# split data to train and test (80/20)\n",
    "# ----- use x_dummbies and y_income in train_test_split function\n",
    "# we define a KNN w/ 9 neighbors\n",
    "# fit the model using training data\n",
    "# evaluate the performance\n",
    "# split data to train and test (75/25)\n",
    "x_train, x_test, y_train, y_test = train_test_split(x_dummies, y_income, test_size=.2, random_state=0)\n",
    "\n",
    "print(x_train.shape)\n",
    "print(x_test.shape)\n",
    "print(y_train.shape)\n",
    "print(y_test.shape)"
   ]
  },
  {
   "cell_type": "code",
   "execution_count": 16,
   "id": "a6884df4",
   "metadata": {},
   "outputs": [
    {
     "data": {
      "text/plain": [
       "KNeighborsClassifier(n_neighbors=9)"
      ]
     },
     "execution_count": 16,
     "metadata": {},
     "output_type": "execute_result"
    }
   ],
   "source": [
    "# define the model\n",
    "knn_cls = KNeighborsClassifier(n_neighbors=9)\n",
    "\n",
    "# fit (train) the model -- we pass both features and target sets\n",
    "# we use fit() method to fit a model\n",
    "knn_cls.fit(x_train, y_train)"
   ]
  },
  {
   "cell_type": "code",
   "execution_count": 17,
   "id": "80119cdc",
   "metadata": {},
   "outputs": [
    {
     "name": "stdout",
     "output_type": "stream",
     "text": [
      "knn accuracy on train: 94.75%\n",
      "knn accuracy on test: 95.72%\n"
     ]
    }
   ],
   "source": [
    "# we evaluate our model's performance\n",
    "# we use score() method\n",
    "print(\"knn accuracy on train: {:.2%}\".format(knn_cls.score(x_train, y_train)))\n",
    "print(\"knn accuracy on test: {:.2%}\".format(knn_cls.score(x_test, y_test)))"
   ]
  },
  {
   "cell_type": "code",
   "execution_count": 18,
   "id": "d40cd39f",
   "metadata": {},
   "outputs": [
    {
     "data": {
      "text/html": [
       "<div>\n",
       "<style scoped>\n",
       "    .dataframe tbody tr th:only-of-type {\n",
       "        vertical-align: middle;\n",
       "    }\n",
       "\n",
       "    .dataframe tbody tr th {\n",
       "        vertical-align: top;\n",
       "    }\n",
       "\n",
       "    .dataframe thead th {\n",
       "        text-align: right;\n",
       "    }\n",
       "</style>\n",
       "<table border=\"1\" class=\"dataframe\">\n",
       "  <thead>\n",
       "    <tr style=\"text-align: right;\">\n",
       "      <th></th>\n",
       "      <th>AGE</th>\n",
       "      <th>HOURS_working</th>\n",
       "      <th>EXPERIECE_in_YEARS</th>\n",
       "      <th>GENDER_1</th>\n",
       "      <th>GENDER_2</th>\n",
       "      <th>GENDER_3</th>\n",
       "      <th>JOB_TYPE_ Sales</th>\n",
       "      <th>JOB_TYPE_ Tech-support</th>\n",
       "    </tr>\n",
       "  </thead>\n",
       "  <tbody>\n",
       "    <tr>\n",
       "      <th>1809</th>\n",
       "      <td>49</td>\n",
       "      <td>40</td>\n",
       "      <td>9</td>\n",
       "      <td>1</td>\n",
       "      <td>0</td>\n",
       "      <td>0</td>\n",
       "      <td>1</td>\n",
       "      <td>0</td>\n",
       "    </tr>\n",
       "    <tr>\n",
       "      <th>15</th>\n",
       "      <td>27</td>\n",
       "      <td>40</td>\n",
       "      <td>5</td>\n",
       "      <td>1</td>\n",
       "      <td>0</td>\n",
       "      <td>0</td>\n",
       "      <td>1</td>\n",
       "      <td>0</td>\n",
       "    </tr>\n",
       "    <tr>\n",
       "      <th>1507</th>\n",
       "      <td>36</td>\n",
       "      <td>40</td>\n",
       "      <td>3</td>\n",
       "      <td>1</td>\n",
       "      <td>0</td>\n",
       "      <td>0</td>\n",
       "      <td>0</td>\n",
       "      <td>1</td>\n",
       "    </tr>\n",
       "  </tbody>\n",
       "</table>\n",
       "</div>"
      ],
      "text/plain": [
       "      AGE  HOURS_working  EXPERIECE_in_YEARS  GENDER_1  GENDER_2  GENDER_3  \\\n",
       "1809   49             40                   9         1         0         0   \n",
       "15     27             40                   5         1         0         0   \n",
       "1507   36             40                   3         1         0         0   \n",
       "\n",
       "      JOB_TYPE_ Sales  JOB_TYPE_ Tech-support  \n",
       "1809                1                       0  \n",
       "15                  1                       0  \n",
       "1507                0                       1  "
      ]
     },
     "execution_count": 18,
     "metadata": {},
     "output_type": "execute_result"
    }
   ],
   "source": [
    "x_train.head(3)"
   ]
  },
  {
   "cell_type": "code",
   "execution_count": 20,
   "id": "993d0d31",
   "metadata": {},
   "outputs": [
    {
     "name": "stderr",
     "output_type": "stream",
     "text": [
      "/Users/ryanmaki/opt/anaconda3/lib/python3.9/site-packages/sklearn/base.py:450: UserWarning: X does not have valid feature names, but KNeighborsClassifier was fitted with feature names\n",
      "  warnings.warn(\n"
     ]
    },
    {
     "data": {
      "text/plain": [
       "array([' <=50K', ' <=50K', ' >50K'], dtype=object)"
      ]
     },
     "execution_count": 20,
     "metadata": {},
     "output_type": "execute_result"
    }
   ],
   "source": [
    "# make predictions\n",
    "# we use predict() method -- it only takes features\n",
    "# must make predictions in same way we trained model (with dummy variables)\n",
    "p1 = [35, 40, 10, 1, 0, 0, 1, 0]\n",
    "p2 = [23, 35, 3, 0, 1, 0, 0, 1]\n",
    "p3 = [45, 38, 12, 0, 0, 1, 0, 1]\n",
    "knn_cls.predict([p1, p2, p3])"
   ]
  },
  {
   "cell_type": "code",
   "execution_count": null,
   "id": "2c8b9fe4",
   "metadata": {},
   "outputs": [],
   "source": []
  }
 ],
 "metadata": {
  "kernelspec": {
   "display_name": "Python 3 (ipykernel)",
   "language": "python",
   "name": "python3"
  },
  "language_info": {
   "codemirror_mode": {
    "name": "ipython",
    "version": 3
   },
   "file_extension": ".py",
   "mimetype": "text/x-python",
   "name": "python",
   "nbconvert_exporter": "python",
   "pygments_lexer": "ipython3",
   "version": "3.9.12"
  },
  "toc": {
   "base_numbering": 1,
   "nav_menu": {},
   "number_sections": true,
   "sideBar": true,
   "skip_h1_title": false,
   "title_cell": "Table of Contents",
   "title_sidebar": "Contents",
   "toc_cell": false,
   "toc_position": {},
   "toc_section_display": true,
   "toc_window_display": true
  }
 },
 "nbformat": 4,
 "nbformat_minor": 5
}
