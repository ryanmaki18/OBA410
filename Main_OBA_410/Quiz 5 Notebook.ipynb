{
 "cells": [
  {
   "cell_type": "markdown",
   "metadata": {},
   "source": [
    "# boston housing data v2 (version 2)"
   ]
  },
  {
   "cell_type": "markdown",
   "metadata": {},
   "source": [
    "## provided code"
   ]
  },
  {
   "cell_type": "code",
   "execution_count": 41,
   "metadata": {},
   "outputs": [],
   "source": [
    "import pandas as pd\n",
    "from sklearn.model_selection import train_test_split"
   ]
  },
  {
   "cell_type": "code",
   "execution_count": 42,
   "metadata": {},
   "outputs": [
    {
     "data": {
      "text/html": [
       "<div>\n",
       "<style scoped>\n",
       "    .dataframe tbody tr th:only-of-type {\n",
       "        vertical-align: middle;\n",
       "    }\n",
       "\n",
       "    .dataframe tbody tr th {\n",
       "        vertical-align: top;\n",
       "    }\n",
       "\n",
       "    .dataframe thead th {\n",
       "        text-align: right;\n",
       "    }\n",
       "</style>\n",
       "<table border=\"1\" class=\"dataframe\">\n",
       "  <thead>\n",
       "    <tr style=\"text-align: right;\">\n",
       "      <th></th>\n",
       "      <th>target_medv</th>\n",
       "      <th>crim</th>\n",
       "      <th>zn</th>\n",
       "      <th>indus</th>\n",
       "      <th>chas</th>\n",
       "      <th>nox</th>\n",
       "      <th>rm</th>\n",
       "      <th>age</th>\n",
       "      <th>dis</th>\n",
       "      <th>rad</th>\n",
       "      <th>...</th>\n",
       "      <th>col40</th>\n",
       "      <th>col41</th>\n",
       "      <th>col42</th>\n",
       "      <th>col43</th>\n",
       "      <th>col44</th>\n",
       "      <th>col45</th>\n",
       "      <th>col46</th>\n",
       "      <th>col47</th>\n",
       "      <th>col48</th>\n",
       "      <th>col49</th>\n",
       "    </tr>\n",
       "  </thead>\n",
       "  <tbody>\n",
       "    <tr>\n",
       "      <th>0</th>\n",
       "      <td>24.0</td>\n",
       "      <td>0.00632</td>\n",
       "      <td>18.0</td>\n",
       "      <td>2.31</td>\n",
       "      <td>0</td>\n",
       "      <td>0.538</td>\n",
       "      <td>6.575</td>\n",
       "      <td>65.2</td>\n",
       "      <td>4.0900</td>\n",
       "      <td>1</td>\n",
       "      <td>...</td>\n",
       "      <td>0.065486</td>\n",
       "      <td>0.000000</td>\n",
       "      <td>0.084749</td>\n",
       "      <td>0.201987</td>\n",
       "      <td>0.181807</td>\n",
       "      <td>0.099108</td>\n",
       "      <td>0.0</td>\n",
       "      <td>0.0</td>\n",
       "      <td>0.0</td>\n",
       "      <td>0.0</td>\n",
       "    </tr>\n",
       "    <tr>\n",
       "      <th>1</th>\n",
       "      <td>21.6</td>\n",
       "      <td>0.02731</td>\n",
       "      <td>0.0</td>\n",
       "      <td>7.07</td>\n",
       "      <td>0</td>\n",
       "      <td>0.469</td>\n",
       "      <td>6.421</td>\n",
       "      <td>78.9</td>\n",
       "      <td>4.9671</td>\n",
       "      <td>2</td>\n",
       "      <td>...</td>\n",
       "      <td>0.018142</td>\n",
       "      <td>0.007515</td>\n",
       "      <td>0.060314</td>\n",
       "      <td>0.135281</td>\n",
       "      <td>0.094716</td>\n",
       "      <td>0.029873</td>\n",
       "      <td>0.0</td>\n",
       "      <td>0.0</td>\n",
       "      <td>0.0</td>\n",
       "      <td>0.0</td>\n",
       "    </tr>\n",
       "  </tbody>\n",
       "</table>\n",
       "<p>2 rows × 62 columns</p>\n",
       "</div>"
      ],
      "text/plain": [
       "   target_medv     crim    zn  indus  chas    nox     rm   age     dis  rad  \\\n",
       "0         24.0  0.00632  18.0   2.31     0  0.538  6.575  65.2  4.0900    1   \n",
       "1         21.6  0.02731   0.0   7.07     0  0.469  6.421  78.9  4.9671    2   \n",
       "\n",
       "   ...     col40     col41     col42     col43     col44     col45  col46  \\\n",
       "0  ...  0.065486  0.000000  0.084749  0.201987  0.181807  0.099108    0.0   \n",
       "1  ...  0.018142  0.007515  0.060314  0.135281  0.094716  0.029873    0.0   \n",
       "\n",
       "   col47  col48  col49  \n",
       "0    0.0    0.0    0.0  \n",
       "1    0.0    0.0    0.0  \n",
       "\n",
       "[2 rows x 62 columns]"
      ]
     },
     "execution_count": 42,
     "metadata": {},
     "output_type": "execute_result"
    }
   ],
   "source": [
    "# reading the data (boston_housing_data_v2)\n",
    "boston2=pd.read_csv('boston_housing_data_v2-1.csv')\n",
    "boston2.head(2)"
   ]
  },
  {
   "cell_type": "code",
   "execution_count": 43,
   "metadata": {},
   "outputs": [
    {
     "data": {
      "text/html": [
       "<div>\n",
       "<style scoped>\n",
       "    .dataframe tbody tr th:only-of-type {\n",
       "        vertical-align: middle;\n",
       "    }\n",
       "\n",
       "    .dataframe tbody tr th {\n",
       "        vertical-align: top;\n",
       "    }\n",
       "\n",
       "    .dataframe thead th {\n",
       "        text-align: right;\n",
       "    }\n",
       "</style>\n",
       "<table border=\"1\" class=\"dataframe\">\n",
       "  <thead>\n",
       "    <tr style=\"text-align: right;\">\n",
       "      <th></th>\n",
       "      <th>crim</th>\n",
       "      <th>zn</th>\n",
       "      <th>indus</th>\n",
       "      <th>chas</th>\n",
       "      <th>nox</th>\n",
       "      <th>rm</th>\n",
       "      <th>age</th>\n",
       "      <th>dis</th>\n",
       "      <th>rad</th>\n",
       "      <th>tax</th>\n",
       "      <th>...</th>\n",
       "      <th>col40</th>\n",
       "      <th>col41</th>\n",
       "      <th>col42</th>\n",
       "      <th>col43</th>\n",
       "      <th>col44</th>\n",
       "      <th>col45</th>\n",
       "      <th>col46</th>\n",
       "      <th>col47</th>\n",
       "      <th>col48</th>\n",
       "      <th>col49</th>\n",
       "    </tr>\n",
       "  </thead>\n",
       "  <tbody>\n",
       "    <tr>\n",
       "      <th>0</th>\n",
       "      <td>0.00632</td>\n",
       "      <td>18.0</td>\n",
       "      <td>2.31</td>\n",
       "      <td>0</td>\n",
       "      <td>0.538</td>\n",
       "      <td>6.575</td>\n",
       "      <td>65.2</td>\n",
       "      <td>4.0900</td>\n",
       "      <td>1</td>\n",
       "      <td>296</td>\n",
       "      <td>...</td>\n",
       "      <td>0.065486</td>\n",
       "      <td>0.000000</td>\n",
       "      <td>0.084749</td>\n",
       "      <td>0.201987</td>\n",
       "      <td>0.181807</td>\n",
       "      <td>0.099108</td>\n",
       "      <td>0.0</td>\n",
       "      <td>0.0</td>\n",
       "      <td>0.0</td>\n",
       "      <td>0.0</td>\n",
       "    </tr>\n",
       "    <tr>\n",
       "      <th>1</th>\n",
       "      <td>0.02731</td>\n",
       "      <td>0.0</td>\n",
       "      <td>7.07</td>\n",
       "      <td>0</td>\n",
       "      <td>0.469</td>\n",
       "      <td>6.421</td>\n",
       "      <td>78.9</td>\n",
       "      <td>4.9671</td>\n",
       "      <td>2</td>\n",
       "      <td>242</td>\n",
       "      <td>...</td>\n",
       "      <td>0.018142</td>\n",
       "      <td>0.007515</td>\n",
       "      <td>0.060314</td>\n",
       "      <td>0.135281</td>\n",
       "      <td>0.094716</td>\n",
       "      <td>0.029873</td>\n",
       "      <td>0.0</td>\n",
       "      <td>0.0</td>\n",
       "      <td>0.0</td>\n",
       "      <td>0.0</td>\n",
       "    </tr>\n",
       "  </tbody>\n",
       "</table>\n",
       "<p>2 rows × 61 columns</p>\n",
       "</div>"
      ],
      "text/plain": [
       "      crim    zn  indus  chas    nox     rm   age     dis  rad  tax  ...  \\\n",
       "0  0.00632  18.0   2.31     0  0.538  6.575  65.2  4.0900    1  296  ...   \n",
       "1  0.02731   0.0   7.07     0  0.469  6.421  78.9  4.9671    2  242  ...   \n",
       "\n",
       "      col40     col41     col42     col43     col44     col45  col46  col47  \\\n",
       "0  0.065486  0.000000  0.084749  0.201987  0.181807  0.099108    0.0    0.0   \n",
       "1  0.018142  0.007515  0.060314  0.135281  0.094716  0.029873    0.0    0.0   \n",
       "\n",
       "   col48  col49  \n",
       "0    0.0    0.0  \n",
       "1    0.0    0.0  \n",
       "\n",
       "[2 rows x 61 columns]"
      ]
     },
     "execution_count": 43,
     "metadata": {},
     "output_type": "execute_result"
    }
   ],
   "source": [
    "# creating features and target sets\n",
    "x_boston, y_boston=boston2.iloc[:,1:], boston2['target_medv']\n",
    "x_boston.head(2)"
   ]
  },
  {
   "cell_type": "code",
   "execution_count": 44,
   "metadata": {},
   "outputs": [],
   "source": [
    "# split to train and test\n",
    "x_train, x_test, y_train, y_test=train_test_split(x_boston, y_boston, random_state=88)"
   ]
  },
  {
   "cell_type": "markdown",
   "metadata": {},
   "source": [
    "## you part"
   ]
  },
  {
   "cell_type": "code",
   "execution_count": 45,
   "metadata": {},
   "outputs": [
    {
     "name": "stdout",
     "output_type": "stream",
     "text": [
      "(249, 61)\n",
      "(84, 61)\n",
      "(249,)\n",
      "(84,)\n"
     ]
    }
   ],
   "source": [
    "print(x_train.shape)\n",
    "print(x_test.shape)\n",
    "print(y_train.shape)\n",
    "print(y_test.shape)"
   ]
  },
  {
   "cell_type": "code",
   "execution_count": 46,
   "metadata": {},
   "outputs": [
    {
     "data": {
      "text/plain": [
       "LinearRegression()"
      ]
     },
     "execution_count": 46,
     "metadata": {},
     "output_type": "execute_result"
    }
   ],
   "source": [
    "from sklearn.linear_model import LinearRegression\n",
    "# define the model\n",
    "lr = LinearRegression()\n",
    "# fit the model\n",
    "lr.fit(x_train, y_train)"
   ]
  },
  {
   "cell_type": "code",
   "execution_count": 47,
   "metadata": {},
   "outputs": [
    {
     "name": "stdout",
     "output_type": "stream",
     "text": [
      "lr R2 on train: 80.11%\n",
      "lr R2 on test: 59.16%\n"
     ]
    }
   ],
   "source": [
    "# evaluate the model's performance\n",
    "print('lr R2 on train: {:.2%}'.format(lr.score(x_train, y_train)))\n",
    "print('lr R2 on test: {:.2%}'.format(lr.score(x_test, y_test)))"
   ]
  },
  {
   "cell_type": "code",
   "execution_count": 48,
   "metadata": {},
   "outputs": [],
   "source": [
    "from sklearn.linear_model import Ridge"
   ]
  },
  {
   "cell_type": "code",
   "execution_count": 49,
   "metadata": {},
   "outputs": [],
   "source": [
    "from sklearn.linear_model import Lasso"
   ]
  },
  {
   "cell_type": "code",
   "execution_count": 50,
   "metadata": {},
   "outputs": [
    {
     "data": {
      "text/plain": [
       "Ridge()"
      ]
     },
     "execution_count": 50,
     "metadata": {},
     "output_type": "execute_result"
    }
   ],
   "source": [
    "# define the model (with default perameters) -- alpha is 1 by default\n",
    "ridge = Ridge()\n",
    "# fit the model\n",
    "ridge.fit(x_train, y_train)"
   ]
  },
  {
   "cell_type": "code",
   "execution_count": 51,
   "metadata": {},
   "outputs": [
    {
     "data": {
      "text/plain": [
       "array([-0.11942002,  0.07026909, -0.01444316,  3.04522878, -7.68886306,\n",
       "        3.25619341,  0.00093144, -1.65077744,  0.42601293, -0.01748805,\n",
       "       -0.76360666, -0.65633283,  0.81839263,  1.81448902, -2.70643186,\n",
       "        0.41204264,  0.94506179, -0.32390358,  0.61188494,  1.5077661 ,\n",
       "       -0.38235833, -0.64607565,  1.01969465,  2.31174101,  1.27165287,\n",
       "        0.90458581,  0.73751918,  1.85142133, -0.46464676,  2.04637209,\n",
       "        2.14634912,  2.77196099,  3.35180798,  0.69941559,  1.44072227,\n",
       "        0.26026375, -0.1514385 , -0.32685775,  1.71432754, -2.53230964,\n",
       "        0.7121408 , -1.11922171,  0.4591097 ,  0.93027855,  0.96372039,\n",
       "       -1.1051396 ,  1.26486033,  0.04723196,  0.23051394,  1.32296335,\n",
       "        0.91495732,  0.40883903,  0.23116632, -0.29932818, -0.00397597,\n",
       "        1.12976888,  1.13425589,  3.47142479, -1.30830282, -4.34056626,\n",
       "        1.7606089 ])"
      ]
     },
     "execution_count": 51,
     "metadata": {},
     "output_type": "execute_result"
    }
   ],
   "source": [
    "# ridge model coefficients\n",
    "ridge.coef_"
   ]
  },
  {
   "cell_type": "code",
   "execution_count": 52,
   "metadata": {},
   "outputs": [],
   "source": [
    "# force the numbers oto be down in float format\n",
    "import numpy as np\n",
    "np.set_printoptions(suppress=True)"
   ]
  },
  {
   "cell_type": "code",
   "execution_count": 53,
   "metadata": {},
   "outputs": [
    {
     "data": {
      "text/plain": [
       "array([-0.12,  0.07, -0.01,  3.05, -7.69,  3.26,  0.  , -1.65,  0.43,\n",
       "       -0.02, -0.76, -0.66,  0.82,  1.81, -2.71,  0.41,  0.95, -0.32,\n",
       "        0.61,  1.51, -0.38, -0.65,  1.02,  2.31,  1.27,  0.9 ,  0.74,\n",
       "        1.85, -0.46,  2.05,  2.15,  2.77,  3.35,  0.7 ,  1.44,  0.26,\n",
       "       -0.15, -0.33,  1.71, -2.53,  0.71, -1.12,  0.46,  0.93,  0.96,\n",
       "       -1.11,  1.26,  0.05,  0.23,  1.32,  0.91,  0.41,  0.23, -0.3 ,\n",
       "       -0.  ,  1.13,  1.13,  3.47, -1.31, -4.34,  1.76])"
      ]
     },
     "execution_count": 53,
     "metadata": {},
     "output_type": "execute_result"
    }
   ],
   "source": [
    "#ridge model coefficients\n",
    "ridge.coef_.round(2)"
   ]
  },
  {
   "cell_type": "code",
   "execution_count": 54,
   "metadata": {},
   "outputs": [
    {
     "data": {
      "text/plain": [
       "array([ -0.07,   0.04,   0.02,   4.11, -23.71,   3.45,   0.  ,  -1.78,\n",
       "         0.37,  -0.01,  -0.9 ,  -0.67,  -1.74,  15.12,  -2.71, -24.01,\n",
       "         2.03,   2.3 ,  25.56,  31.19, -13.49, -91.78,  26.51, -45.38,\n",
       "       -47.53,  34.78, -20.22,  22.36, -71.66,   1.19,  67.28, 121.6 ,\n",
       "        48.58,  20.57,  -4.22,  12.49,  -8.7 , -16.71,   8.41, -21.37,\n",
       "       -26.14,  20.31,   7.82, -24.38,  21.22,  -5.6 ,  17.94, -17.31,\n",
       "       -27.13, -13.91,   6.08,  66.71, 130.5 , -58.84,  20.63,  -2.31,\n",
       "       -35.92,   9.75,   5.76, -20.59,  -2.52])"
      ]
     },
     "execution_count": 54,
     "metadata": {},
     "output_type": "execute_result"
    }
   ],
   "source": [
    "lr.coef_.round(2)"
   ]
  },
  {
   "cell_type": "code",
   "execution_count": 55,
   "metadata": {},
   "outputs": [
    {
     "data": {
      "text/plain": [
       "56"
      ]
     },
     "execution_count": 55,
     "metadata": {},
     "output_type": "execute_result"
    }
   ],
   "source": [
    "# 52 coefficents have smaller absolute value in ridge compared to linear regression model\n",
    "sum(abs(ridge.coef_)<=abs(lr.coef_))"
   ]
  },
  {
   "cell_type": "code",
   "execution_count": 56,
   "metadata": {},
   "outputs": [
    {
     "name": "stdout",
     "output_type": "stream",
     "text": [
      "ridge R2 on train:75.60%\n",
      "ridge R2 on test:68.79%\n"
     ]
    }
   ],
   "source": [
    "# evaluate ridge's performance\n",
    "print('ridge R2 on train:{:.2%}'.format(ridge.score(x_train,y_train)))\n",
    "print('ridge R2 on test:{:.2%}'.format(ridge.score(x_test,y_test)))"
   ]
  },
  {
   "cell_type": "code",
   "execution_count": 57,
   "metadata": {},
   "outputs": [],
   "source": [
    "# Adjust alpha to control the complexity of the ridge model\n",
    "# Ridge(alpha = 0) ------------------ Regular linear regression model (most complex)\n",
    "# smaller alpha -- more complex model/higher chance of overfitting\n",
    "ridge1 = Ridge(alpha = .01)\n",
    "\n",
    "# in between\n",
    "ridge2 = Ridge(alpha = 1)\n",
    "\n",
    "# larger alpha -- less complex (simpler) model/lower chance of over-fitting \n",
    "# if we keep increading alpha we may do underfitting eventually (very simple model)\n",
    "ridge3 = Ridge(alpha = 10)"
   ]
  },
  {
   "cell_type": "code",
   "execution_count": 58,
   "metadata": {},
   "outputs": [
    {
     "data": {
      "text/plain": [
       "Ridge(alpha=10)"
      ]
     },
     "execution_count": 58,
     "metadata": {},
     "output_type": "execute_result"
    }
   ],
   "source": [
    "# fit the models \n",
    "ridge1.fit(x_train, y_train)\n",
    "ridge2.fit(x_train, y_train)\n",
    "ridge3.fit(x_train, y_train)"
   ]
  },
  {
   "cell_type": "code",
   "execution_count": 59,
   "metadata": {},
   "outputs": [
    {
     "name": "stdout",
     "output_type": "stream",
     "text": [
      "ridge1 R2 score on train: 79.50%\n",
      "ridge1 R2 score on test: 63.57% \n",
      "\n",
      "ridge2 R2 score on train: 75.60%\n",
      "ridge2 R2 score on test: 68.79% \n",
      "\n",
      "ridge3 R2 score on train: 73.58%\n",
      "ridge3 R2 score on test: 69.32% \n",
      "\n"
     ]
    }
   ],
   "source": [
    "# evaluate performance \n",
    "print('ridge1 R2 score on train: {:.2%}'.format(ridge1.score(x_train, y_train)))\n",
    "print('ridge1 R2 score on test: {:.2%}'.format(ridge1.score(x_test, y_test)), '\\n')\n",
    "\n",
    "print('ridge2 R2 score on train: {:.2%}'.format(ridge2.score(x_train, y_train)))\n",
    "print('ridge2 R2 score on test: {:.2%}'.format(ridge2.score(x_test, y_test)), '\\n')\n",
    "\n",
    "print('ridge3 R2 score on train: {:.2%}'.format(ridge3.score(x_train, y_train)))\n",
    "print('ridge3 R2 score on test: {:.2%}'.format(ridge3.score(x_test, y_test)), '\\n')"
   ]
  },
  {
   "cell_type": "code",
   "execution_count": 60,
   "metadata": {},
   "outputs": [
    {
     "data": {
      "text/plain": [
       "Lasso()"
      ]
     },
     "execution_count": 60,
     "metadata": {},
     "output_type": "execute_result"
    }
   ],
   "source": [
    "# define a Lasso with default param values -- by default, alpha is 1\n",
    "lasso = Lasso()\n",
    "# fit the model \n",
    "lasso.fit(x_train,y_train)"
   ]
  },
  {
   "cell_type": "code",
   "execution_count": 61,
   "metadata": {},
   "outputs": [
    {
     "name": "stdout",
     "output_type": "stream",
     "text": [
      "lasso R2 on train:65.93%\n",
      "lasso R2 on test:60.53%\n"
     ]
    }
   ],
   "source": [
    "print ('lasso R2 on train:{:.2%}'.format(lasso.score(x_train,y_train)))\n",
    "print ('lasso R2 on test:{:.2%}'.format(lasso.score(x_test,y_test)))"
   ]
  },
  {
   "cell_type": "code",
   "execution_count": 62,
   "metadata": {},
   "outputs": [
    {
     "data": {
      "text/plain": [
       "array([-0.08,  0.07, -0.  ,  0.  , -0.  ,  0.1 ,  0.05, -0.56,  0.38,\n",
       "       -0.02, -0.67, -0.89,  0.  ,  0.  , -0.  ,  0.  ,  0.  ,  0.  ,\n",
       "        0.  ,  0.  ,  0.  ,  0.  ,  0.  ,  0.  ,  0.  ,  0.  ,  0.  ,\n",
       "        0.  , -0.  ,  0.  ,  0.  ,  0.  ,  0.  ,  0.  ,  0.  ,  0.  ,\n",
       "        0.  ,  0.  , -0.  ,  0.  ,  0.  , -0.  , -0.  ,  0.  , -0.  ,\n",
       "       -0.  ,  0.  , -0.  ,  0.  ,  0.  ,  0.  ,  0.  ,  0.  , -0.  ,\n",
       "        0.  ,  0.  ,  0.  ,  0.  , -0.  , -0.  ,  0.  ])"
      ]
     },
     "execution_count": 62,
     "metadata": {},
     "output_type": "execute_result"
    }
   ],
   "source": [
    "lasso.coef_.round(2)"
   ]
  },
  {
   "cell_type": "code",
   "execution_count": 63,
   "metadata": {},
   "outputs": [
    {
     "data": {
      "text/plain": [
       "9"
      ]
     },
     "execution_count": 63,
     "metadata": {},
     "output_type": "execute_result"
    }
   ],
   "source": [
    "# number of non-0 coefficients \n",
    "sum(lasso.coef_ != 0)"
   ]
  },
  {
   "cell_type": "code",
   "execution_count": 64,
   "metadata": {},
   "outputs": [],
   "source": [
    "# Lasso (alpha=0) -- regular linear regression\n",
    "\n",
    "#smaller alpha -- more complex complex model -- higher chancve of overfitting\n",
    "lasso1 = Lasso(alpha=.0001, max_iter=100000)\n",
    "\n",
    "# in between\n",
    "lasso2 = Lasso(alpha=.001, max_iter=100000)\n",
    "\n",
    "# in between\n",
    "lasso3 = Lasso(alpha=.1, max_iter=100000)\n",
    "\n",
    "# larger alpha -- less complex (simpler) -- lower chance of overfitting but can have underfitting (too simple)\n",
    "lasso4 = Lasso(alpha=1, max_iter=100000)\n",
    "\n",
    "# largest alpha -- less complex (simpler) -- lower chance of overfitting but can have underfitting (too simple)\n",
    "lasso5 = Lasso(alpha=2, max_iter=100000)"
   ]
  },
  {
   "cell_type": "code",
   "execution_count": 65,
   "metadata": {},
   "outputs": [
    {
     "data": {
      "text/plain": [
       "Lasso(alpha=2, max_iter=100000)"
      ]
     },
     "execution_count": 65,
     "metadata": {},
     "output_type": "execute_result"
    }
   ],
   "source": [
    "# fit all models\n",
    "lasso1.fit(x_train, y_train)\n",
    "lasso2.fit(x_train, y_train)\n",
    "lasso3.fit(x_train, y_train)\n",
    "lasso4.fit(x_train, y_train)\n",
    "lasso5.fit(x_train, y_train)"
   ]
  },
  {
   "cell_type": "code",
   "execution_count": 66,
   "metadata": {},
   "outputs": [
    {
     "name": "stdout",
     "output_type": "stream",
     "text": [
      "lasso1 R2 score on train: 80.09%\n",
      "lasso1 R2 score on test: 59.95%\n",
      "lasso1 # of non-zero coeffs: 60 \n",
      "\n",
      "lasso2 R2 score on train: 79.46%\n",
      "lasso R2 score on test: 63.31%\n",
      "lasso2 # of non-zero coeffs: 51 \n",
      "\n",
      "lasso3 R2 score on train: 71.82%\n",
      "lasso3 R2 score on test: 68.78%\n",
      "lasso3 # of non-zero coeffs: 14 \n",
      "\n",
      "lasso4 R2 score on train: 65.93%\n",
      "lasso4 R2 score on test: 60.53%\n",
      "lasso4 # of non-zero coeffs: 9 \n",
      "\n",
      "lasso5 R2 score on train: 62.39%\n",
      "lasso5 R2 score on test: 57.55%\n",
      "lasso5 # of non-zero coeffs: 7 \n",
      "\n"
     ]
    }
   ],
   "source": [
    "# evaluate their performance\n",
    "#find the number of non-zero coeffs\n",
    "# choose the best model\n",
    "\n",
    "print('lasso1 R2 score on train: {:.2%}'.format(lasso1.score(x_train, y_train)))\n",
    "print('lasso1 R2 score on test: {:.2%}'.format(lasso1.score(x_test, y_test)))\n",
    "print('lasso1 # of non-zero coeffs:', sum(lasso1.coef_ != 0), '\\n')\n",
    "\n",
    "print('lasso2 R2 score on train: {:.2%}'.format(lasso2.score(x_train, y_train)))\n",
    "print('lasso R2 score on test: {:.2%}'.format(lasso2.score(x_test, y_test)))\n",
    "print('lasso2 # of non-zero coeffs:', sum(lasso2.coef_ != 0), '\\n')\n",
    "\n",
    "print('lasso3 R2 score on train: {:.2%}'.format(lasso3.score(x_train, y_train)))\n",
    "print('lasso3 R2 score on test: {:.2%}'.format(lasso3.score(x_test, y_test)))\n",
    "print('lasso3 # of non-zero coeffs:', sum(lasso3.coef_ != 0), '\\n')\n",
    "\n",
    "print('lasso4 R2 score on train: {:.2%}'.format(lasso4.score(x_train, y_train)))\n",
    "print('lasso4 R2 score on test: {:.2%}'.format(lasso4.score(x_test, y_test)))\n",
    "print('lasso4 # of non-zero coeffs:', sum(lasso4.coef_ != 0), '\\n')\n",
    "\n",
    "print('lasso5 R2 score on train: {:.2%}'.format(lasso5.score(x_train, y_train)))\n",
    "print('lasso5 R2 score on test: {:.2%}'.format(lasso5.score(x_test, y_test)))\n",
    "print('lasso5 # of non-zero coeffs:', sum(lasso5.coef_ != 0), '\\n')"
   ]
  }
 ],
 "metadata": {
  "kernelspec": {
   "display_name": "Python 3 (ipykernel)",
   "language": "python",
   "name": "python3"
  },
  "language_info": {
   "codemirror_mode": {
    "name": "ipython",
    "version": 3
   },
   "file_extension": ".py",
   "mimetype": "text/x-python",
   "name": "python",
   "nbconvert_exporter": "python",
   "pygments_lexer": "ipython3",
   "version": "3.9.12"
  },
  "toc": {
   "base_numbering": 1,
   "nav_menu": {},
   "number_sections": true,
   "sideBar": true,
   "skip_h1_title": false,
   "title_cell": "Table of Contents",
   "title_sidebar": "Contents",
   "toc_cell": false,
   "toc_position": {},
   "toc_section_display": true,
   "toc_window_display": false
  }
 },
 "nbformat": 4,
 "nbformat_minor": 2
}
