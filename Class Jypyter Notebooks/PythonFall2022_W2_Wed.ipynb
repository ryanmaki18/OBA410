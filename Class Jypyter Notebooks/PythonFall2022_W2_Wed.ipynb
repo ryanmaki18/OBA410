{
 "cells": [
  {
   "cell_type": "markdown",
   "id": "96adc6f5",
   "metadata": {},
   "source": [
    "# Python Packages"
   ]
  },
  {
   "cell_type": "markdown",
   "id": "2a6cf9db",
   "metadata": {},
   "source": [
    "## NumPy"
   ]
  },
  {
   "cell_type": "code",
   "execution_count": 1,
   "id": "cea8964b",
   "metadata": {},
   "outputs": [],
   "source": [
    "#importing numpy\n",
    "import numpy as np"
   ]
  },
  {
   "cell_type": "code",
   "execution_count": 8,
   "id": "eff2acf6",
   "metadata": {},
   "outputs": [
    {
     "data": {
      "text/plain": [
       "array([22, 54,  0, -2, 54])"
      ]
     },
     "execution_count": 8,
     "metadata": {},
     "output_type": "execute_result"
    }
   ],
   "source": [
    "# create a 1-dim array\n",
    "a1=np.array([22,54,0,-2,54])\n",
    "a1"
   ]
  },
  {
   "cell_type": "code",
   "execution_count": 9,
   "id": "c382d666",
   "metadata": {
    "scrolled": true
   },
   "outputs": [
    {
     "data": {
      "text/plain": [
       "array(['20', 'False', 'Hi'], dtype='<U21')"
      ]
     },
     "execution_count": 9,
     "metadata": {},
     "output_type": "execute_result"
    }
   ],
   "source": [
    "# type coerrsion\n",
    "a2=np.array([20,False,'Hi'])\n",
    "a2"
   ]
  },
  {
   "cell_type": "code",
   "execution_count": 14,
   "id": "189f8194",
   "metadata": {
    "code_folding": [],
    "scrolled": true
   },
   "outputs": [
    {
     "data": {
      "text/plain": [
       "array([[  1,   4,  -5, 200,   0],\n",
       "       [400,   5,   2,   0,   1],\n",
       "       [  4,   4,   4,   4,   4]])"
      ]
     },
     "execution_count": 14,
     "metadata": {},
     "output_type": "execute_result"
    }
   ],
   "source": [
    "# 2- dim array\n",
    "a3=np.array([[1,4,-5,200,0], [400,5,2,0,1], [4,4,4,4,4]])\n",
    "a3"
   ]
  },
  {
   "cell_type": "code",
   "execution_count": 15,
   "id": "3d2f0d66",
   "metadata": {},
   "outputs": [
    {
     "data": {
      "text/plain": [
       "(3, 5)"
      ]
     },
     "execution_count": 15,
     "metadata": {},
     "output_type": "execute_result"
    }
   ],
   "source": [
    "# the shape (or size) of an array\n",
    "a3.shape"
   ]
  },
  {
   "cell_type": "code",
   "execution_count": 16,
   "id": "e9643168",
   "metadata": {},
   "outputs": [
    {
     "data": {
      "text/plain": [
       "array([[  1, 400,   4],\n",
       "       [  4,   5,   4],\n",
       "       [ -5,   2,   4],\n",
       "       [200,   0,   4],\n",
       "       [  0,   1,   4]])"
      ]
     },
     "execution_count": 16,
     "metadata": {},
     "output_type": "execute_result"
    }
   ],
   "source": [
    "# transpose of an array\n",
    "a3.T"
   ]
  },
  {
   "cell_type": "code",
   "execution_count": 17,
   "id": "c80591a4",
   "metadata": {},
   "outputs": [
    {
     "data": {
      "text/plain": [
       "(5, 3)"
      ]
     },
     "execution_count": 17,
     "metadata": {},
     "output_type": "execute_result"
    }
   ],
   "source": [
    "a3.T.shape"
   ]
  },
  {
   "cell_type": "code",
   "execution_count": 32,
   "id": "335c32b9",
   "metadata": {
    "scrolled": true
   },
   "outputs": [
    {
     "data": {
      "text/plain": [
       "array([5, 0])"
      ]
     },
     "execution_count": 32,
     "metadata": {},
     "output_type": "execute_result"
    }
   ],
   "source": [
    "# How to specify a seed\n",
    "np.random.seed(0)\n",
    "np.random.randint(0,10,2)"
   ]
  },
  {
   "cell_type": "code",
   "execution_count": 33,
   "id": "affef61b",
   "metadata": {},
   "outputs": [
    {
     "data": {
      "text/plain": [
       "array([[  72,  -53,   17,   92,  151,   95,  -91,  111,  177,  142,  192,\n",
       "         -13,  -30,  -12,   93],\n",
       "       [-161, -113,  -26, -112,  -35, -175, -128,   65,  -85,   43,   -3,\n",
       "        -101,  -23,   43,  -53]])"
      ]
     },
     "execution_count": 33,
     "metadata": {},
     "output_type": "execute_result"
    }
   ],
   "source": [
    "np.random.seed(0)\n",
    "a4=np.array([np.random.randint(-100,200,15),np.random.randint(-200,75,15)])\n",
    "a4"
   ]
  },
  {
   "cell_type": "code",
   "execution_count": 35,
   "id": "7d289d4c",
   "metadata": {},
   "outputs": [
    {
     "data": {
      "text/plain": [
       "192"
      ]
     },
     "execution_count": 35,
     "metadata": {},
     "output_type": "execute_result"
    }
   ],
   "source": [
    "# finding maximum value within an array\n",
    "np.max(a4)"
   ]
  },
  {
   "cell_type": "code",
   "execution_count": 36,
   "id": "36c39d33",
   "metadata": {},
   "outputs": [
    {
     "data": {
      "text/plain": [
       "10"
      ]
     },
     "execution_count": 36,
     "metadata": {},
     "output_type": "execute_result"
    }
   ],
   "source": [
    "# index of maximum value\n",
    "np.argmax(a4)"
   ]
  },
  {
   "cell_type": "code",
   "execution_count": 38,
   "id": "248ec23a",
   "metadata": {},
   "outputs": [
    {
     "name": "stdout",
     "output_type": "stream",
     "text": [
      "Minimum value in a4 is: -175\n",
      "The index for min value in a4 is: 20\n"
     ]
    }
   ],
   "source": [
    "#finidng minimum value within an array\n",
    "print('Minimum value in a4 is:', np.min(a4))\n",
    "print('The index for min value in a4 is:',np.argmin(a4))"
   ]
  },
  {
   "cell_type": "code",
   "execution_count": 46,
   "id": "c3e145a5",
   "metadata": {},
   "outputs": [
    {
     "data": {
      "text/plain": [
       "99.34"
      ]
     },
     "execution_count": 46,
     "metadata": {},
     "output_type": "execute_result"
    }
   ],
   "source": [
    "#standard deviation\n",
    "round(np.std(a4),2)"
   ]
  },
  {
   "cell_type": "code",
   "execution_count": 34,
   "id": "0ebdb18d",
   "metadata": {},
   "outputs": [
    {
     "data": {
      "text/plain": [
       "array([[11,  2,  5,  7, 99],\n",
       "       [ 6,  4,  4,  0, 90],\n",
       "       [ 1,  0,  0,  0, 32]])"
      ]
     },
     "execution_count": 34,
     "metadata": {},
     "output_type": "execute_result"
    }
   ],
   "source": [
    "#creating an array from a list\n",
    "l1=[[11,2,5,7,99], [6,4,4,0,90], [1,0,0,0,32]]\n",
    "a5=np.array(l1)\n",
    "a5"
   ]
  },
  {
   "cell_type": "markdown",
   "id": "43acf3da",
   "metadata": {},
   "source": [
    "## Pandas"
   ]
  },
  {
   "cell_type": "code",
   "execution_count": 49,
   "id": "071c75a4",
   "metadata": {},
   "outputs": [],
   "source": [
    "import pandas as pd"
   ]
  },
  {
   "cell_type": "code",
   "execution_count": 50,
   "id": "603ea3f4",
   "metadata": {
    "scrolled": true
   },
   "outputs": [
    {
     "data": {
      "text/plain": [
       "['Football', 'Soccer', 'Taekwondo']"
      ]
     },
     "execution_count": 50,
     "metadata": {},
     "output_type": "execute_result"
    }
   ],
   "source": [
    "# create a list of sports\n",
    "sports=['Football', 'Soccer', 'Taekwondo']\n",
    "sports"
   ]
  },
  {
   "cell_type": "markdown",
   "id": "8513e647",
   "metadata": {},
   "source": [
    "### Series"
   ]
  },
  {
   "cell_type": "code",
   "execution_count": 51,
   "id": "995dc8f5",
   "metadata": {},
   "outputs": [
    {
     "data": {
      "text/plain": [
       "0     Football\n",
       "1       Soccer\n",
       "2    Taekwondo\n",
       "dtype: object"
      ]
     },
     "execution_count": 51,
     "metadata": {},
     "output_type": "execute_result"
    }
   ],
   "source": [
    "# create a pandas Series using the list\n",
    "s1=pd.Series(sports)\n",
    "s1"
   ]
  },
  {
   "cell_type": "code",
   "execution_count": 53,
   "id": "4328fbb7",
   "metadata": {},
   "outputs": [
    {
     "data": {
      "text/plain": [
       "{'US': 'Football', 'Argentina': 'Soccer', 'South Korea': 'Taekwondo'}"
      ]
     },
     "execution_count": 53,
     "metadata": {},
     "output_type": "execute_result"
    }
   ],
   "source": [
    "# create a dictionary of sports\n",
    "d_sports={'US':'Football','Argentina':'Soccer','South Korea':'Taekwondo'}\n",
    "d_sports"
   ]
  },
  {
   "cell_type": "code",
   "execution_count": 54,
   "id": "5e34f0f2",
   "metadata": {},
   "outputs": [
    {
     "data": {
      "text/plain": [
       "US              Football\n",
       "Argentina         Soccer\n",
       "South Korea    Taekwondo\n",
       "dtype: object"
      ]
     },
     "execution_count": 54,
     "metadata": {},
     "output_type": "execute_result"
    }
   ],
   "source": [
    "s2=pd.Series(d_sports)\n",
    "s2"
   ]
  },
  {
   "cell_type": "code",
   "execution_count": 67,
   "id": "97ccbad1",
   "metadata": {},
   "outputs": [
    {
     "data": {
      "text/plain": [
       "US              Football\n",
       "Argentina         Soccer\n",
       "South Korea    Taekwondo\n",
       "dtype: object"
      ]
     },
     "execution_count": 67,
     "metadata": {},
     "output_type": "execute_result"
    }
   ],
   "source": [
    "s3 = pd.Series(data=['Football', 'Soccer', 'Taekwondo'], index=['US', 'Argentina', \"South Korea\"])\n",
    "s3"
   ]
  },
  {
   "cell_type": "markdown",
   "id": "a6bae665",
   "metadata": {},
   "source": [
    "### Subset or retrieve values from Series "
   ]
  },
  {
   "cell_type": "code",
   "execution_count": 59,
   "id": "bb359470",
   "metadata": {},
   "outputs": [
    {
     "data": {
      "text/plain": [
       "'Soccer'"
      ]
     },
     "execution_count": 59,
     "metadata": {},
     "output_type": "execute_result"
    }
   ],
   "source": [
    "# subsetting using integer index\n",
    "# get the sport for the second country in Series\n",
    "s3.iloc[1]"
   ]
  },
  {
   "cell_type": "code",
   "execution_count": 60,
   "id": "3bbc78a2",
   "metadata": {},
   "outputs": [
    {
     "data": {
      "text/plain": [
       "'Football'"
      ]
     },
     "execution_count": 60,
     "metadata": {},
     "output_type": "execute_result"
    }
   ],
   "source": [
    "# subset using index labels\n",
    "# get the sport for the US\n",
    "s3.loc['US']"
   ]
  },
  {
   "cell_type": "code",
   "execution_count": 69,
   "id": "8724d8f9",
   "metadata": {},
   "outputs": [
    {
     "data": {
      "text/plain": [
       "US             Basketball\n",
       "Argentina          Soccer\n",
       "South Korea     badminton\n",
       "dtype: object"
      ]
     },
     "execution_count": 69,
     "metadata": {},
     "output_type": "execute_result"
    }
   ],
   "source": [
    "# Updating values in Series\n",
    "# change the sport for US to basketball\n",
    "s3.loc['US']='Basketball'\n",
    "s3"
   ]
  },
  {
   "cell_type": "code",
   "execution_count": 68,
   "id": "026d1ed2",
   "metadata": {},
   "outputs": [
    {
     "data": {
      "text/plain": [
       "US              Football\n",
       "Argentina         Soccer\n",
       "South Korea    badminton\n",
       "dtype: object"
      ]
     },
     "execution_count": 68,
     "metadata": {},
     "output_type": "execute_result"
    }
   ],
   "source": [
    "# change the sport for the last country to 'badminton'\n",
    "s3.iloc[-1]='badminton'\n",
    "s3"
   ]
  },
  {
   "cell_type": "code",
   "execution_count": 72,
   "id": "57c0910a",
   "metadata": {},
   "outputs": [
    {
     "data": {
      "text/plain": [
       "US             Basketball\n",
       "Brazil             Soccer\n",
       "South Korea     badminton\n",
       "dtype: object"
      ]
     },
     "execution_count": 72,
     "metadata": {},
     "output_type": "execute_result"
    }
   ],
   "source": [
    "# rename index labels\n",
    "# if we want to make the change permanent, set the inplace to True\n",
    "s3.rename(index={'Argentina':'Brazil'}, inplace=True)\n",
    "s3"
   ]
  },
  {
   "cell_type": "code",
   "execution_count": 82,
   "id": "b401539c",
   "metadata": {},
   "outputs": [
    {
     "data": {
      "text/plain": [
       "US             Basketball\n",
       "Brazil             Soccer\n",
       "South Korea     badminton\n",
       "UK                Fencing\n",
       "China            PingPong\n",
       "Switzerland        Skiing\n",
       "Germany              Beer\n",
       "Canada             Hockey\n",
       "dtype: object"
      ]
     },
     "execution_count": 82,
     "metadata": {},
     "output_type": "execute_result"
    }
   ],
   "source": [
    "# when adding values, we use loc with a new label\n",
    "s3.loc['Canada']='Hockey'\n",
    "s3"
   ]
  },
  {
   "cell_type": "code",
   "execution_count": 83,
   "id": "6ca699cb",
   "metadata": {},
   "outputs": [
    {
     "data": {
      "text/plain": [
       "US             Basketball\n",
       "Brazil             Soccer\n",
       "South Korea     badminton\n",
       "UK                Fencing\n",
       "China            PingPong\n",
       "Switzerland        Skiing\n",
       "Germany              Beer\n",
       "Canada             Hockey\n",
       "dtype: object"
      ]
     },
     "execution_count": 83,
     "metadata": {},
     "output_type": "execute_result"
    }
   ],
   "source": [
    "s3.loc['UK']='Fencing'\n",
    "s3"
   ]
  },
  {
   "cell_type": "code",
   "execution_count": 75,
   "id": "dd9676e1",
   "metadata": {},
   "outputs": [
    {
     "data": {
      "text/plain": [
       "US             Basketball\n",
       "Brazil             Soccer\n",
       "South Korea     badminton\n",
       "Canada             Hockey\n",
       "UK                Fencing\n",
       "China            PingPong\n",
       "dtype: object"
      ]
     },
     "execution_count": 75,
     "metadata": {},
     "output_type": "execute_result"
    }
   ],
   "source": [
    "s3.loc['China']='PingPong'\n",
    "s3"
   ]
  },
  {
   "cell_type": "code",
   "execution_count": 84,
   "id": "43f32f6f",
   "metadata": {},
   "outputs": [
    {
     "data": {
      "text/plain": [
       "US             Basketball\n",
       "Brazil             Soccer\n",
       "South Korea     badminton\n",
       "UK                Fencing\n",
       "China            PingPong\n",
       "Switzerland        Skiing\n",
       "Germany              Beer\n",
       "Canada             Hockey\n",
       "dtype: object"
      ]
     },
     "execution_count": 84,
     "metadata": {},
     "output_type": "execute_result"
    }
   ],
   "source": [
    "s3.loc['Switzerland']='Skiing'\n",
    "s3"
   ]
  },
  {
   "cell_type": "code",
   "execution_count": 85,
   "id": "6485792f",
   "metadata": {},
   "outputs": [
    {
     "data": {
      "text/plain": [
       "US             Basketball\n",
       "Brazil             Soccer\n",
       "South Korea     badminton\n",
       "UK                Fencing\n",
       "China            PingPong\n",
       "Switzerland        Skiing\n",
       "Germany              Beer\n",
       "Canada             Hockey\n",
       "dtype: object"
      ]
     },
     "execution_count": 85,
     "metadata": {},
     "output_type": "execute_result"
    }
   ],
   "source": [
    "s3.loc['Germany']='Beer'\n",
    "s3"
   ]
  },
  {
   "cell_type": "code",
   "execution_count": 86,
   "id": "9220f0a5",
   "metadata": {},
   "outputs": [],
   "source": [
    "# drop values from our Series\n",
    "s3.drop('Canada', inplace=True)"
   ]
  },
  {
   "cell_type": "code",
   "execution_count": 87,
   "id": "ea612ab3",
   "metadata": {},
   "outputs": [
    {
     "data": {
      "text/plain": [
       "US             Basketball\n",
       "Brazil             Soccer\n",
       "South Korea     badminton\n",
       "UK                Fencing\n",
       "China            PingPong\n",
       "Switzerland        Skiing\n",
       "Germany              Beer\n",
       "dtype: object"
      ]
     },
     "execution_count": 87,
     "metadata": {},
     "output_type": "execute_result"
    }
   ],
   "source": [
    "s3"
   ]
  },
  {
   "cell_type": "markdown",
   "id": "87e28d80",
   "metadata": {},
   "source": [
    "### DataFrames"
   ]
  },
  {
   "cell_type": "code",
   "execution_count": 93,
   "id": "6554d5c5",
   "metadata": {},
   "outputs": [
    {
     "data": {
      "text/html": [
       "<div>\n",
       "<style scoped>\n",
       "    .dataframe tbody tr th:only-of-type {\n",
       "        vertical-align: middle;\n",
       "    }\n",
       "\n",
       "    .dataframe tbody tr th {\n",
       "        vertical-align: top;\n",
       "    }\n",
       "\n",
       "    .dataframe thead th {\n",
       "        text-align: right;\n",
       "    }\n",
       "</style>\n",
       "<table border=\"1\" class=\"dataframe\">\n",
       "  <thead>\n",
       "    <tr style=\"text-align: right;\">\n",
       "      <th></th>\n",
       "      <th>Product</th>\n",
       "      <th>Unit Price</th>\n",
       "    </tr>\n",
       "  </thead>\n",
       "  <tbody>\n",
       "    <tr>\n",
       "      <th>pr1</th>\n",
       "      <td>Milk</td>\n",
       "      <td>5</td>\n",
       "    </tr>\n",
       "    <tr>\n",
       "      <th>pr2</th>\n",
       "      <td>Bread</td>\n",
       "      <td>6</td>\n",
       "    </tr>\n",
       "    <tr>\n",
       "      <th>pr3</th>\n",
       "      <td>Beer</td>\n",
       "      <td>15</td>\n",
       "    </tr>\n",
       "  </tbody>\n",
       "</table>\n",
       "</div>"
      ],
      "text/plain": [
       "    Product  Unit Price\n",
       "pr1    Milk           5\n",
       "pr2   Bread           6\n",
       "pr3    Beer          15"
      ]
     },
     "execution_count": 93,
     "metadata": {},
     "output_type": "execute_result"
    }
   ],
   "source": [
    "df=pd.DataFrame(data={'Product':['Milk','Bread','Beer'],'Unit Price':[5,6,15]},\n",
    "               index=['pr1','pr2','pr3'])\n",
    "df"
   ]
  },
  {
   "cell_type": "code",
   "execution_count": 99,
   "id": "8c13940c",
   "metadata": {},
   "outputs": [
    {
     "data": {
      "text/html": [
       "<div>\n",
       "<style scoped>\n",
       "    .dataframe tbody tr th:only-of-type {\n",
       "        vertical-align: middle;\n",
       "    }\n",
       "\n",
       "    .dataframe tbody tr th {\n",
       "        vertical-align: top;\n",
       "    }\n",
       "\n",
       "    .dataframe thead th {\n",
       "        text-align: right;\n",
       "    }\n",
       "</style>\n",
       "<table border=\"1\" class=\"dataframe\">\n",
       "  <thead>\n",
       "    <tr style=\"text-align: right;\">\n",
       "      <th></th>\n",
       "      <th>popular_sport</th>\n",
       "    </tr>\n",
       "  </thead>\n",
       "  <tbody>\n",
       "    <tr>\n",
       "      <th>US</th>\n",
       "      <td>Basketball</td>\n",
       "    </tr>\n",
       "    <tr>\n",
       "      <th>Brazil</th>\n",
       "      <td>Soccer</td>\n",
       "    </tr>\n",
       "    <tr>\n",
       "      <th>South Korea</th>\n",
       "      <td>badminton</td>\n",
       "    </tr>\n",
       "    <tr>\n",
       "      <th>UK</th>\n",
       "      <td>Fencing</td>\n",
       "    </tr>\n",
       "    <tr>\n",
       "      <th>China</th>\n",
       "      <td>PingPong</td>\n",
       "    </tr>\n",
       "    <tr>\n",
       "      <th>Switzerland</th>\n",
       "      <td>Skiing</td>\n",
       "    </tr>\n",
       "    <tr>\n",
       "      <th>Germany</th>\n",
       "      <td>Beer</td>\n",
       "    </tr>\n",
       "  </tbody>\n",
       "</table>\n",
       "</div>"
      ],
      "text/plain": [
       "            popular_sport\n",
       "US             Basketball\n",
       "Brazil             Soccer\n",
       "South Korea     badminton\n",
       "UK                Fencing\n",
       "China            PingPong\n",
       "Switzerland        Skiing\n",
       "Germany              Beer"
      ]
     },
     "execution_count": 99,
     "metadata": {},
     "output_type": "execute_result"
    }
   ],
   "source": [
    "sports_df=pd.DataFrame(s3,columns=['popular_sport'])\n",
    "sports_df"
   ]
  },
  {
   "cell_type": "code",
   "execution_count": 101,
   "id": "599d0c2a",
   "metadata": {},
   "outputs": [
    {
     "data": {
      "text/html": [
       "<div>\n",
       "<style scoped>\n",
       "    .dataframe tbody tr th:only-of-type {\n",
       "        vertical-align: middle;\n",
       "    }\n",
       "\n",
       "    .dataframe tbody tr th {\n",
       "        vertical-align: top;\n",
       "    }\n",
       "\n",
       "    .dataframe thead th {\n",
       "        text-align: right;\n",
       "    }\n",
       "</style>\n",
       "<table border=\"1\" class=\"dataframe\">\n",
       "  <thead>\n",
       "    <tr style=\"text-align: right;\">\n",
       "      <th></th>\n",
       "      <th>index</th>\n",
       "      <th>popular_sport</th>\n",
       "    </tr>\n",
       "  </thead>\n",
       "  <tbody>\n",
       "    <tr>\n",
       "      <th>0</th>\n",
       "      <td>US</td>\n",
       "      <td>Basketball</td>\n",
       "    </tr>\n",
       "    <tr>\n",
       "      <th>1</th>\n",
       "      <td>Brazil</td>\n",
       "      <td>Soccer</td>\n",
       "    </tr>\n",
       "    <tr>\n",
       "      <th>2</th>\n",
       "      <td>South Korea</td>\n",
       "      <td>badminton</td>\n",
       "    </tr>\n",
       "    <tr>\n",
       "      <th>3</th>\n",
       "      <td>UK</td>\n",
       "      <td>Fencing</td>\n",
       "    </tr>\n",
       "    <tr>\n",
       "      <th>4</th>\n",
       "      <td>China</td>\n",
       "      <td>PingPong</td>\n",
       "    </tr>\n",
       "    <tr>\n",
       "      <th>5</th>\n",
       "      <td>Switzerland</td>\n",
       "      <td>Skiing</td>\n",
       "    </tr>\n",
       "    <tr>\n",
       "      <th>6</th>\n",
       "      <td>Germany</td>\n",
       "      <td>Beer</td>\n",
       "    </tr>\n",
       "  </tbody>\n",
       "</table>\n",
       "</div>"
      ],
      "text/plain": [
       "         index popular_sport\n",
       "0           US    Basketball\n",
       "1       Brazil        Soccer\n",
       "2  South Korea     badminton\n",
       "3           UK       Fencing\n",
       "4        China      PingPong\n",
       "5  Switzerland        Skiing\n",
       "6      Germany          Beer"
      ]
     },
     "execution_count": 101,
     "metadata": {},
     "output_type": "execute_result"
    }
   ],
   "source": [
    "sports_df.reset_index()"
   ]
  }
 ],
 "metadata": {
  "kernelspec": {
   "display_name": "Python 3 (ipykernel)",
   "language": "python",
   "name": "python3"
  },
  "language_info": {
   "codemirror_mode": {
    "name": "ipython",
    "version": 3
   },
   "file_extension": ".py",
   "mimetype": "text/x-python",
   "name": "python",
   "nbconvert_exporter": "python",
   "pygments_lexer": "ipython3",
   "version": "3.9.12"
  },
  "toc": {
   "base_numbering": 1,
   "nav_menu": {},
   "number_sections": true,
   "sideBar": true,
   "skip_h1_title": false,
   "title_cell": "Table of Contents",
   "title_sidebar": "Contents",
   "toc_cell": false,
   "toc_position": {
    "height": "calc(100% - 180px)",
    "left": "10px",
    "top": "150px",
    "width": "258px"
   },
   "toc_section_display": true,
   "toc_window_display": true
  }
 },
 "nbformat": 4,
 "nbformat_minor": 5
}
