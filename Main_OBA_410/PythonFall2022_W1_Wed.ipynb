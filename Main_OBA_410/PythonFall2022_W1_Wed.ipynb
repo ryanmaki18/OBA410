{
 "cells": [
  {
   "cell_type": "code",
   "execution_count": 1,
   "id": "6d4c404b",
   "metadata": {},
   "outputs": [],
   "source": [
    "#Defining our first variable\n",
    "#shortkey for running the code: shift+enter\n",
    "num1=43"
   ]
  },
  {
   "cell_type": "code",
   "execution_count": 2,
   "id": "cf009113",
   "metadata": {},
   "outputs": [
    {
     "data": {
      "text/plain": [
       "43"
      ]
     },
     "execution_count": 2,
     "metadata": {},
     "output_type": "execute_result"
    }
   ],
   "source": [
    "num1"
   ]
  },
  {
   "cell_type": "code",
   "execution_count": 7,
   "id": "06637bd4",
   "metadata": {},
   "outputs": [],
   "source": [
    "#assigning a new value to var num1\n",
    "num1=500"
   ]
  },
  {
   "cell_type": "code",
   "execution_count": 10,
   "id": "0abb24e7",
   "metadata": {},
   "outputs": [
    {
     "data": {
      "text/plain": [
       "500"
      ]
     },
     "execution_count": 10,
     "metadata": {},
     "output_type": "execute_result"
    }
   ],
   "source": [
    "num1"
   ]
  },
  {
   "cell_type": "code",
   "execution_count": 8,
   "id": "be3cf85b",
   "metadata": {},
   "outputs": [],
   "source": [
    "#Python is case sensitive, Num1 is different from num1\n",
    "Num1=250"
   ]
  },
  {
   "cell_type": "code",
   "execution_count": 15,
   "id": "d1a953aa",
   "metadata": {},
   "outputs": [
    {
     "data": {
      "text/plain": [
       "'Ryan'"
      ]
     },
     "execution_count": 15,
     "metadata": {},
     "output_type": "execute_result"
    }
   ],
   "source": [
    "#creating another variable --- a string var\n",
    "#to create string variables we have to put the value inside either single or double quotations\n",
    "name='Ryan'\n",
    "name"
   ]
  },
  {
   "cell_type": "code",
   "execution_count": 18,
   "id": "1619fa40",
   "metadata": {},
   "outputs": [
    {
     "data": {
      "text/plain": [
       "'MAki'"
      ]
     },
     "execution_count": 18,
     "metadata": {},
     "output_type": "execute_result"
    }
   ],
   "source": [
    "#Wether it is in single or double quotations, it doesnt matter. Also, still case senstive\n",
    "name2=\"MAki\"\n",
    "name2"
   ]
  },
  {
   "cell_type": "code",
   "execution_count": 19,
   "id": "33abe5d7",
   "metadata": {},
   "outputs": [
    {
     "data": {
      "text/plain": [
       "'356'"
      ]
     },
     "execution_count": 19,
     "metadata": {},
     "output_type": "execute_result"
    }
   ],
   "source": [
    "#var 1 is a string bc we put it in quotations\n",
    "var1='356'\n",
    "var1"
   ]
  },
  {
   "cell_type": "code",
   "execution_count": 20,
   "id": "f442f7bd",
   "metadata": {},
   "outputs": [
    {
     "data": {
      "text/plain": [
       "True"
      ]
     },
     "execution_count": 20,
     "metadata": {},
     "output_type": "execute_result"
    }
   ],
   "source": [
    "#boolean var\n",
    "test_pass=True\n",
    "test_pass"
   ]
  },
  {
   "cell_type": "code",
   "execution_count": 21,
   "id": "f3814286",
   "metadata": {},
   "outputs": [
    {
     "data": {
      "text/plain": [
       "'True'"
      ]
     },
     "execution_count": 21,
     "metadata": {},
     "output_type": "execute_result"
    }
   ],
   "source": [
    "test_pass='True'\n",
    "test_pass"
   ]
  },
  {
   "cell_type": "code",
   "execution_count": 23,
   "id": "9b88aeb9",
   "metadata": {},
   "outputs": [
    {
     "data": {
      "text/plain": [
       "False"
      ]
     },
     "execution_count": 23,
     "metadata": {},
     "output_type": "execute_result"
    }
   ],
   "source": [
    "test_pass=False\n",
    "test_pass"
   ]
  },
  {
   "cell_type": "code",
   "execution_count": 25,
   "id": "e266ed20",
   "metadata": {},
   "outputs": [
    {
     "data": {
      "text/plain": [
       "23.87"
      ]
     },
     "execution_count": 25,
     "metadata": {},
     "output_type": "execute_result"
    }
   ],
   "source": [
    "#define a float var\n",
    "num3=23.87\n",
    "num3"
   ]
  },
  {
   "cell_type": "code",
   "execution_count": 27,
   "id": "d54e5cfd",
   "metadata": {},
   "outputs": [
    {
     "data": {
      "text/plain": [
       "False"
      ]
     },
     "execution_count": 27,
     "metadata": {},
     "output_type": "execute_result"
    }
   ],
   "source": [
    "test_pass"
   ]
  },
  {
   "cell_type": "code",
   "execution_count": 28,
   "id": "1e7cd597",
   "metadata": {},
   "outputs": [
    {
     "data": {
      "text/plain": [
       "bool"
      ]
     },
     "execution_count": 28,
     "metadata": {},
     "output_type": "execute_result"
    }
   ],
   "source": [
    "#getting the type of the variable using the type function\n",
    "type(test_pass)"
   ]
  },
  {
   "cell_type": "code",
   "execution_count": 29,
   "id": "4be61eb2",
   "metadata": {},
   "outputs": [
    {
     "data": {
      "text/plain": [
       "float"
      ]
     },
     "execution_count": 29,
     "metadata": {},
     "output_type": "execute_result"
    }
   ],
   "source": [
    "type(num3)"
   ]
  },
  {
   "cell_type": "code",
   "execution_count": 30,
   "id": "348cabad",
   "metadata": {},
   "outputs": [
    {
     "ename": "SyntaxError",
     "evalue": "invalid syntax (1867332573.py, line 2)",
     "output_type": "error",
     "traceback": [
      "\u001b[0;36m  Input \u001b[0;32mIn [30]\u001b[0;36m\u001b[0m\n\u001b[0;31m    4num=209\u001b[0m\n\u001b[0m     ^\u001b[0m\n\u001b[0;31mSyntaxError\u001b[0m\u001b[0;31m:\u001b[0m invalid syntax\n"
     ]
    }
   ],
   "source": [
    "#we cannot start a var name with a number\n",
    "4num=209"
   ]
  },
  {
   "cell_type": "code",
   "execution_count": 31,
   "id": "91d226e2",
   "metadata": {},
   "outputs": [
    {
     "data": {
      "text/plain": [
       "float"
      ]
     },
     "execution_count": 31,
     "metadata": {},
     "output_type": "execute_result"
    }
   ],
   "source": [
    "#you can start a name with an underscore\n",
    "_acc_bal=75.87\n",
    "type(_acc_bal)"
   ]
  },
  {
   "cell_type": "code",
   "execution_count": 32,
   "id": "1a3cc592",
   "metadata": {},
   "outputs": [
    {
     "name": "stdout",
     "output_type": "stream",
     "text": [
      "Hello\n"
     ]
    }
   ],
   "source": [
    "#print function\n",
    "print('Hello')"
   ]
  },
  {
   "cell_type": "code",
   "execution_count": 34,
   "id": "49920d1e",
   "metadata": {},
   "outputs": [
    {
     "name": "stdout",
     "output_type": "stream",
     "text": [
      "MAki\n"
     ]
    }
   ],
   "source": [
    "#print a var value\n",
    "    #displays value without quotations\n",
    "print(name2)"
   ]
  },
  {
   "cell_type": "code",
   "execution_count": 35,
   "id": "d112ae34",
   "metadata": {},
   "outputs": [
    {
     "name": "stdout",
     "output_type": "stream",
     "text": [
      "name2\n"
     ]
    }
   ],
   "source": [
    "#when you put something in quotations, it will treat it just like the \"Hello\" above\n",
    "print('name2')"
   ]
  },
  {
   "cell_type": "code",
   "execution_count": 36,
   "id": "e9909144",
   "metadata": {},
   "outputs": [
    {
     "name": "stdout",
     "output_type": "stream",
     "text": [
      "name3\n"
     ]
    }
   ],
   "source": [
    "print('name3')"
   ]
  },
  {
   "cell_type": "code",
   "execution_count": 37,
   "id": "121e4c68",
   "metadata": {},
   "outputs": [
    {
     "ename": "NameError",
     "evalue": "name 'name3' is not defined",
     "output_type": "error",
     "traceback": [
      "\u001b[0;31m---------------------------------------------------------------------------\u001b[0m",
      "\u001b[0;31mNameError\u001b[0m                                 Traceback (most recent call last)",
      "Input \u001b[0;32mIn [37]\u001b[0m, in \u001b[0;36m<cell line: 1>\u001b[0;34m()\u001b[0m\n\u001b[0;32m----> 1\u001b[0m \u001b[38;5;28mprint\u001b[39m(\u001b[43mname3\u001b[49m)\n",
      "\u001b[0;31mNameError\u001b[0m: name 'name3' is not defined"
     ]
    }
   ],
   "source": [
    "#we have not yet defined name 3 so it gives us back an error saying its not defined\n",
    "print(name3)"
   ]
  },
  {
   "cell_type": "code",
   "execution_count": 38,
   "id": "9af12900",
   "metadata": {},
   "outputs": [
    {
     "data": {
      "text/plain": [
       "'Ryan'"
      ]
     },
     "execution_count": 38,
     "metadata": {},
     "output_type": "execute_result"
    }
   ],
   "source": [
    "name"
   ]
  },
  {
   "cell_type": "code",
   "execution_count": 39,
   "id": "2aaef3a1",
   "metadata": {},
   "outputs": [
    {
     "data": {
      "text/plain": [
       "'MAki'"
      ]
     },
     "execution_count": 39,
     "metadata": {},
     "output_type": "execute_result"
    }
   ],
   "source": [
    "name2"
   ]
  },
  {
   "cell_type": "code",
   "execution_count": 40,
   "id": "fe969d31",
   "metadata": {},
   "outputs": [
    {
     "data": {
      "text/plain": [
       "'MAki'"
      ]
     },
     "execution_count": 40,
     "metadata": {},
     "output_type": "execute_result"
    }
   ],
   "source": [
    "#It will only give you back the 2nd output when trying to get both outputs in \n",
    "    #same cell unless you use print\n",
    "name\n",
    "name2"
   ]
  },
  {
   "cell_type": "code",
   "execution_count": 41,
   "id": "9763bcb6",
   "metadata": {},
   "outputs": [
    {
     "name": "stdout",
     "output_type": "stream",
     "text": [
      "Ryan\n",
      "MAki\n"
     ]
    }
   ],
   "source": [
    "print(name)\n",
    "print(name2)"
   ]
  },
  {
   "cell_type": "code",
   "execution_count": 42,
   "id": "d4e93df6",
   "metadata": {},
   "outputs": [
    {
     "name": "stdout",
     "output_type": "stream",
     "text": [
      "Hi, good afternoon\n"
     ]
    }
   ],
   "source": [
    "print('Hi, good afternoon')"
   ]
  },
  {
   "cell_type": "code",
   "execution_count": 43,
   "id": "98aff0e4",
   "metadata": {},
   "outputs": [
    {
     "data": {
      "text/plain": [
       "75.87"
      ]
     },
     "execution_count": 43,
     "metadata": {},
     "output_type": "execute_result"
    }
   ],
   "source": [
    "_acc_bal"
   ]
  },
  {
   "cell_type": "code",
   "execution_count": 44,
   "id": "66801bbd",
   "metadata": {},
   "outputs": [
    {
     "ename": "TypeError",
     "evalue": "can only concatenate str (not \"float\") to str",
     "output_type": "error",
     "traceback": [
      "\u001b[0;31m---------------------------------------------------------------------------\u001b[0m",
      "\u001b[0;31mTypeError\u001b[0m                                 Traceback (most recent call last)",
      "Input \u001b[0;32mIn [44]\u001b[0m, in \u001b[0;36m<cell line: 1>\u001b[0;34m()\u001b[0m\n\u001b[0;32m----> 1\u001b[0m \u001b[38;5;28mprint\u001b[39m(\u001b[38;5;124;43m'\u001b[39;49m\u001b[38;5;124;43myour account balance is:\u001b[39;49m\u001b[38;5;124;43m'\u001b[39;49m\u001b[38;5;241;43m+\u001b[39;49m\u001b[43m_acc_bal\u001b[49m)\n",
      "\u001b[0;31mTypeError\u001b[0m: can only concatenate str (not \"float\") to str"
     ]
    }
   ],
   "source": [
    "#doesn't work since different types of variables\n",
    "print('your account balance is:'+_acc_bal)"
   ]
  },
  {
   "cell_type": "code",
   "execution_count": 45,
   "id": "1abbc62e",
   "metadata": {},
   "outputs": [
    {
     "data": {
      "text/plain": [
       "'75.87'"
      ]
     },
     "execution_count": 45,
     "metadata": {},
     "output_type": "execute_result"
    }
   ],
   "source": [
    "str(_acc_bal)"
   ]
  },
  {
   "cell_type": "code",
   "execution_count": 46,
   "id": "9b0668f2",
   "metadata": {},
   "outputs": [
    {
     "ename": "TypeError",
     "evalue": "can only concatenate str (not \"float\") to str",
     "output_type": "error",
     "traceback": [
      "\u001b[0;31m---------------------------------------------------------------------------\u001b[0m",
      "\u001b[0;31mTypeError\u001b[0m                                 Traceback (most recent call last)",
      "Input \u001b[0;32mIn [46]\u001b[0m, in \u001b[0;36m<cell line: 1>\u001b[0;34m()\u001b[0m\n\u001b[0;32m----> 1\u001b[0m \u001b[38;5;28mprint\u001b[39m(\u001b[38;5;124;43m'\u001b[39;49m\u001b[38;5;124;43myour account balance is:\u001b[39;49m\u001b[38;5;124;43m'\u001b[39;49m\u001b[38;5;241;43m+\u001b[39;49m\u001b[43m_acc_bal\u001b[49m)\n",
      "\u001b[0;31mTypeError\u001b[0m: can only concatenate str (not \"float\") to str"
     ]
    }
   ],
   "source": [
    "print('your account balance is:'+_acc_bal)"
   ]
  },
  {
   "cell_type": "code",
   "execution_count": 47,
   "id": "dabdad0e",
   "metadata": {},
   "outputs": [],
   "source": [
    "#If we want to change _acc_bal to string, we have to assign a new value to it\n",
    "#THIS IS NOT A GOOD IDEA TO PERMANENTLY CHANGE THE TYPE OF THE DATA\n",
    "_acc_bal=str(_acc_bal)"
   ]
  },
  {
   "cell_type": "code",
   "execution_count": 51,
   "id": "54212d15",
   "metadata": {},
   "outputs": [
    {
     "name": "stdout",
     "output_type": "stream",
     "text": [
      "your account balance is: 75.87\n"
     ]
    }
   ],
   "source": [
    "#now that we have changed _acc_bal to a str, it will work\n",
    "print('your account balance is: '+_acc_bal)"
   ]
  },
  {
   "cell_type": "code",
   "execution_count": 53,
   "id": "a0e24c7e",
   "metadata": {},
   "outputs": [
    {
     "name": "stdout",
     "output_type": "stream",
     "text": [
      "your account balance is: 75.87\n"
     ]
    }
   ],
   "source": [
    "#THIS WOULD HAVE BEEN MUCH MORE PROFESSIONAL\n",
    "print('your account balance is: '+str(_acc_bal))"
   ]
  },
  {
   "cell_type": "code",
   "execution_count": 55,
   "id": "ed5921fa",
   "metadata": {},
   "outputs": [
    {
     "name": "stdout",
     "output_type": "stream",
     "text": [
      "your account balance is: 75.87\n"
     ]
    }
   ],
   "source": [
    "#OR\n",
    "print('your account balance is:',_acc_bal)"
   ]
  },
  {
   "cell_type": "code",
   "execution_count": 60,
   "id": "06e2e623",
   "metadata": {},
   "outputs": [
    {
     "name": "stdout",
     "output_type": "stream",
     "text": [
      "Your account balance is 75.87 Sorry, you are broke!\n"
     ]
    }
   ],
   "source": [
    "print('Your account balance is',_acc_bal,'Sorry, you are broke!')"
   ]
  },
  {
   "cell_type": "code",
   "execution_count": 61,
   "id": "21d86b2d",
   "metadata": {},
   "outputs": [
    {
     "data": {
      "text/plain": [
       "44"
      ]
     },
     "execution_count": 61,
     "metadata": {},
     "output_type": "execute_result"
    }
   ],
   "source": [
    "#####Sift+Tab gives you help for the function\n",
    "\n",
    "#SOME OTHER BUILT-IN FUNCTIONS!!!!!!!\n",
    "##Max Function\n",
    "max(23,44,-98, 0,3)"
   ]
  },
  {
   "cell_type": "code",
   "execution_count": 62,
   "id": "0f3a6c91",
   "metadata": {},
   "outputs": [
    {
     "data": {
      "text/plain": [
       "-98"
      ]
     },
     "execution_count": 62,
     "metadata": {},
     "output_type": "execute_result"
    }
   ],
   "source": [
    "##Min function\n",
    "min(23,44,-98, 0,3)\n"
   ]
  },
  {
   "cell_type": "code",
   "execution_count": 63,
   "id": "3799e45d",
   "metadata": {},
   "outputs": [
    {
     "data": {
      "text/plain": [
       "46"
      ]
     },
     "execution_count": 63,
     "metadata": {},
     "output_type": "execute_result"
    }
   ],
   "source": [
    "##rounding the number to the nearest integer\n",
    "round(45.776)"
   ]
  },
  {
   "cell_type": "code",
   "execution_count": 64,
   "id": "049620b6",
   "metadata": {},
   "outputs": [
    {
     "data": {
      "text/plain": [
       "45.8"
      ]
     },
     "execution_count": 64,
     "metadata": {},
     "output_type": "execute_result"
    }
   ],
   "source": [
    "#specifying the number of decimals in the output of the round function\n",
    "round(45.776, 1)"
   ]
  },
  {
   "cell_type": "code",
   "execution_count": 65,
   "id": "17a9f443",
   "metadata": {},
   "outputs": [
    {
     "data": {
      "text/plain": [
       "100.09"
      ]
     },
     "execution_count": 65,
     "metadata": {},
     "output_type": "execute_result"
    }
   ],
   "source": [
    "round(max(34.732, 44, 62.346, 100.087),2)"
   ]
  },
  {
   "cell_type": "code",
   "execution_count": 66,
   "id": "cdecbf96",
   "metadata": {},
   "outputs": [
    {
     "data": {
      "text/plain": [
       "64"
      ]
     },
     "execution_count": 66,
     "metadata": {},
     "output_type": "execute_result"
    }
   ],
   "source": [
    "2*32"
   ]
  },
  {
   "cell_type": "code",
   "execution_count": 67,
   "id": "ea6a07f5",
   "metadata": {},
   "outputs": [
    {
     "data": {
      "text/plain": [
       "164"
      ]
     },
     "execution_count": 67,
     "metadata": {},
     "output_type": "execute_result"
    }
   ],
   "source": [
    "2*32+100"
   ]
  },
  {
   "cell_type": "code",
   "execution_count": 68,
   "id": "60e2273d",
   "metadata": {},
   "outputs": [
    {
     "data": {
      "text/plain": [
       "264"
      ]
     },
     "execution_count": 68,
     "metadata": {},
     "output_type": "execute_result"
    }
   ],
   "source": [
    "2*(32+100)"
   ]
  },
  {
   "cell_type": "code",
   "execution_count": 69,
   "id": "5180e65c",
   "metadata": {},
   "outputs": [],
   "source": [
    "###Creating new functions\n",
    "#Define a function that takes 3 numbers and adds them up\n",
    "def sum3num(a,b,c):\n",
    "    d=a+b+c\n",
    "    return d"
   ]
  },
  {
   "cell_type": "code",
   "execution_count": 70,
   "id": "7a4f49cc",
   "metadata": {},
   "outputs": [
    {
     "data": {
      "text/plain": [
       "350"
      ]
     },
     "execution_count": 70,
     "metadata": {},
     "output_type": "execute_result"
    }
   ],
   "source": [
    "sum3num(100,200,50)"
   ]
  },
  {
   "cell_type": "code",
   "execution_count": 72,
   "id": "6d6b7478",
   "metadata": {},
   "outputs": [],
   "source": [
    "def sum3num(x1,x2,x3):\n",
    "    return x1+x2+x3"
   ]
  },
  {
   "cell_type": "code",
   "execution_count": 73,
   "id": "2b5d7dac",
   "metadata": {},
   "outputs": [],
   "source": [
    "#define a function that takes 3 numbers, multiplies the first one by the summation \n",
    "    #of the last one\n",
    "def func1(x,y,z):\n",
    "    return x*(y+z)"
   ]
  },
  {
   "cell_type": "code",
   "execution_count": 74,
   "id": "bed630f8",
   "metadata": {},
   "outputs": [
    {
     "data": {
      "text/plain": [
       "340"
      ]
     },
     "execution_count": 74,
     "metadata": {},
     "output_type": "execute_result"
    }
   ],
   "source": [
    "func1(20,12,5)"
   ]
  },
  {
   "cell_type": "code",
   "execution_count": null,
   "id": "1c155fec",
   "metadata": {},
   "outputs": [],
   "source": []
  }
 ],
 "metadata": {
  "kernelspec": {
   "display_name": "Python 3 (ipykernel)",
   "language": "python",
   "name": "python3"
  },
  "language_info": {
   "codemirror_mode": {
    "name": "ipython",
    "version": 3
   },
   "file_extension": ".py",
   "mimetype": "text/x-python",
   "name": "python",
   "nbconvert_exporter": "python",
   "pygments_lexer": "ipython3",
   "version": "3.9.12"
  }
 },
 "nbformat": 4,
 "nbformat_minor": 5
}
