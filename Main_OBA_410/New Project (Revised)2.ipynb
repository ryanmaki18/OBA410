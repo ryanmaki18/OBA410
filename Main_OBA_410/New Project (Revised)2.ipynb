{
 "cells": [
  {
   "cell_type": "code",
   "execution_count": 1,
   "id": "bd721cd8",
   "metadata": {},
   "outputs": [],
   "source": [
    "import pandas as pd\n",
    "from sklearn.model_selection import train_test_split\n",
    "from sklearn.linear_model import LogisticRegression\n",
    "from sklearn.preprocessing import MinMaxScaler\n",
    "from sklearn.model_selection import validation_curve\n",
    "from sklearn.svm import LinearSVC\n",
    "from sklearn.tree import DecisionTreeClassifier\n",
    "from sklearn.tree import export_graphviz\n",
    "from sklearn.neighbors import KNeighborsClassifier, KNeighborsRegressor\n",
    "from sklearn.model_selection import cross_val_score, train_test_split"
   ]
  },
  {
   "cell_type": "code",
   "execution_count": 2,
   "id": "3659730f",
   "metadata": {},
   "outputs": [
    {
     "data": {
      "text/plain": [
       "'/Users/ryanmaki'"
      ]
     },
     "execution_count": 2,
     "metadata": {},
     "output_type": "execute_result"
    }
   ],
   "source": [
    "%pwd"
   ]
  },
  {
   "cell_type": "code",
   "execution_count": 5,
   "id": "74b17c97",
   "metadata": {
    "scrolled": false
   },
   "outputs": [
    {
     "data": {
      "text/html": [
       "<div>\n",
       "<style scoped>\n",
       "    .dataframe tbody tr th:only-of-type {\n",
       "        vertical-align: middle;\n",
       "    }\n",
       "\n",
       "    .dataframe tbody tr th {\n",
       "        vertical-align: top;\n",
       "    }\n",
       "\n",
       "    .dataframe thead th {\n",
       "        text-align: right;\n",
       "    }\n",
       "</style>\n",
       "<table border=\"1\" class=\"dataframe\">\n",
       "  <thead>\n",
       "    <tr style=\"text-align: right;\">\n",
       "      <th></th>\n",
       "      <th>Bankrupt?</th>\n",
       "      <th>ROA(C) before interest and depreciation before interest</th>\n",
       "      <th>ROA(A) before interest and % after tax</th>\n",
       "      <th>ROA(B) before interest and depreciation after tax</th>\n",
       "      <th>Operating Gross Margin</th>\n",
       "      <th>Realized Sales Gross Margin</th>\n",
       "      <th>Operating Profit Rate</th>\n",
       "      <th>Pre-tax net Interest Rate</th>\n",
       "      <th>After-tax net Interest Rate</th>\n",
       "      <th>Non-industry income and expenditure/revenue</th>\n",
       "      <th>...</th>\n",
       "      <th>Net Income to Total Assets</th>\n",
       "      <th>Total assets to GNP price</th>\n",
       "      <th>No-credit Interval</th>\n",
       "      <th>Gross Profit to Sales</th>\n",
       "      <th>Net Income to Stockholder's Equity</th>\n",
       "      <th>Liability to Equity</th>\n",
       "      <th>Degree of Financial Leverage (DFL)</th>\n",
       "      <th>Interest Coverage Ratio (Interest expense to EBIT)</th>\n",
       "      <th>Net Income Flag</th>\n",
       "      <th>Equity to Liability</th>\n",
       "    </tr>\n",
       "  </thead>\n",
       "  <tbody>\n",
       "    <tr>\n",
       "      <th>0</th>\n",
       "      <td>0</td>\n",
       "      <td>0.000000</td>\n",
       "      <td>0.006923</td>\n",
       "      <td>0.000000</td>\n",
       "      <td>0.593501</td>\n",
       "      <td>0.593551</td>\n",
       "      <td>0.998775</td>\n",
       "      <td>0.795533</td>\n",
       "      <td>0.807547</td>\n",
       "      <td>0.300687</td>\n",
       "      <td>...</td>\n",
       "      <td>0.224792</td>\n",
       "      <td>2.090270e-04</td>\n",
       "      <td>0.623797</td>\n",
       "      <td>0.593502</td>\n",
       "      <td>0.770902</td>\n",
       "      <td>0.285511</td>\n",
       "      <td>0.026790</td>\n",
       "      <td>0.565152</td>\n",
       "      <td>1</td>\n",
       "      <td>0.019171</td>\n",
       "    </tr>\n",
       "    <tr>\n",
       "      <th>1</th>\n",
       "      <td>1</td>\n",
       "      <td>0.024277</td>\n",
       "      <td>0.000000</td>\n",
       "      <td>0.033514</td>\n",
       "      <td>0.591324</td>\n",
       "      <td>0.591324</td>\n",
       "      <td>0.994015</td>\n",
       "      <td>0.791503</td>\n",
       "      <td>0.803775</td>\n",
       "      <td>0.303602</td>\n",
       "      <td>...</td>\n",
       "      <td>0.584583</td>\n",
       "      <td>2.710000e+09</td>\n",
       "      <td>0.623818</td>\n",
       "      <td>0.591322</td>\n",
       "      <td>0.827165</td>\n",
       "      <td>0.276846</td>\n",
       "      <td>0.026791</td>\n",
       "      <td>0.565158</td>\n",
       "      <td>1</td>\n",
       "      <td>0.054959</td>\n",
       "    </tr>\n",
       "    <tr>\n",
       "      <th>2</th>\n",
       "      <td>1</td>\n",
       "      <td>0.066933</td>\n",
       "      <td>0.057185</td>\n",
       "      <td>0.054821</td>\n",
       "      <td>0.601861</td>\n",
       "      <td>0.601861</td>\n",
       "      <td>0.998825</td>\n",
       "      <td>0.796779</td>\n",
       "      <td>0.808717</td>\n",
       "      <td>0.302760</td>\n",
       "      <td>...</td>\n",
       "      <td>0.525651</td>\n",
       "      <td>5.803037e-03</td>\n",
       "      <td>0.623648</td>\n",
       "      <td>0.601857</td>\n",
       "      <td>1.000000</td>\n",
       "      <td>0.182790</td>\n",
       "      <td>0.026763</td>\n",
       "      <td>0.565021</td>\n",
       "      <td>1</td>\n",
       "      <td>0.009178</td>\n",
       "    </tr>\n",
       "    <tr>\n",
       "      <th>3</th>\n",
       "      <td>0</td>\n",
       "      <td>0.081412</td>\n",
       "      <td>0.091256</td>\n",
       "      <td>0.091761</td>\n",
       "      <td>0.602935</td>\n",
       "      <td>0.602935</td>\n",
       "      <td>0.973875</td>\n",
       "      <td>0.767759</td>\n",
       "      <td>0.781429</td>\n",
       "      <td>0.304248</td>\n",
       "      <td>...</td>\n",
       "      <td>0.412621</td>\n",
       "      <td>1.920000e+09</td>\n",
       "      <td>0.623783</td>\n",
       "      <td>0.602932</td>\n",
       "      <td>0.813135</td>\n",
       "      <td>0.278182</td>\n",
       "      <td>0.026791</td>\n",
       "      <td>0.565158</td>\n",
       "      <td>1</td>\n",
       "      <td>0.037886</td>\n",
       "    </tr>\n",
       "    <tr>\n",
       "      <th>4</th>\n",
       "      <td>0</td>\n",
       "      <td>0.082826</td>\n",
       "      <td>0.069287</td>\n",
       "      <td>0.088388</td>\n",
       "      <td>0.646846</td>\n",
       "      <td>0.646846</td>\n",
       "      <td>0.997083</td>\n",
       "      <td>0.795795</td>\n",
       "      <td>0.807815</td>\n",
       "      <td>0.304684</td>\n",
       "      <td>...</td>\n",
       "      <td>0.000000</td>\n",
       "      <td>0.000000e+00</td>\n",
       "      <td>0.623730</td>\n",
       "      <td>0.646841</td>\n",
       "      <td>0.748252</td>\n",
       "      <td>0.284685</td>\n",
       "      <td>0.026791</td>\n",
       "      <td>0.565158</td>\n",
       "      <td>1</td>\n",
       "      <td>0.019908</td>\n",
       "    </tr>\n",
       "    <tr>\n",
       "      <th>...</th>\n",
       "      <td>...</td>\n",
       "      <td>...</td>\n",
       "      <td>...</td>\n",
       "      <td>...</td>\n",
       "      <td>...</td>\n",
       "      <td>...</td>\n",
       "      <td>...</td>\n",
       "      <td>...</td>\n",
       "      <td>...</td>\n",
       "      <td>...</td>\n",
       "      <td>...</td>\n",
       "      <td>...</td>\n",
       "      <td>...</td>\n",
       "      <td>...</td>\n",
       "      <td>...</td>\n",
       "      <td>...</td>\n",
       "      <td>...</td>\n",
       "      <td>...</td>\n",
       "      <td>...</td>\n",
       "      <td>...</td>\n",
       "      <td>...</td>\n",
       "    </tr>\n",
       "    <tr>\n",
       "      <th>6814</th>\n",
       "      <td>0</td>\n",
       "      <td>0.787988</td>\n",
       "      <td>0.804514</td>\n",
       "      <td>0.783928</td>\n",
       "      <td>0.608015</td>\n",
       "      <td>0.608015</td>\n",
       "      <td>0.999147</td>\n",
       "      <td>0.798222</td>\n",
       "      <td>0.809903</td>\n",
       "      <td>0.304606</td>\n",
       "      <td>...</td>\n",
       "      <td>0.905790</td>\n",
       "      <td>2.948022e-03</td>\n",
       "      <td>0.624791</td>\n",
       "      <td>0.608017</td>\n",
       "      <td>0.847232</td>\n",
       "      <td>0.277502</td>\n",
       "      <td>0.026791</td>\n",
       "      <td>0.565159</td>\n",
       "      <td>1</td>\n",
       "      <td>0.044549</td>\n",
       "    </tr>\n",
       "    <tr>\n",
       "      <th>6815</th>\n",
       "      <td>0</td>\n",
       "      <td>0.818018</td>\n",
       "      <td>0.801570</td>\n",
       "      <td>0.814551</td>\n",
       "      <td>0.634983</td>\n",
       "      <td>0.634983</td>\n",
       "      <td>0.999278</td>\n",
       "      <td>0.797758</td>\n",
       "      <td>0.809581</td>\n",
       "      <td>0.303522</td>\n",
       "      <td>...</td>\n",
       "      <td>0.923155</td>\n",
       "      <td>1.093630e-04</td>\n",
       "      <td>0.623786</td>\n",
       "      <td>0.634983</td>\n",
       "      <td>0.848965</td>\n",
       "      <td>0.278178</td>\n",
       "      <td>0.026794</td>\n",
       "      <td>0.565170</td>\n",
       "      <td>1</td>\n",
       "      <td>0.037918</td>\n",
       "    </tr>\n",
       "    <tr>\n",
       "      <th>6816</th>\n",
       "      <td>0</td>\n",
       "      <td>0.864964</td>\n",
       "      <td>0.942706</td>\n",
       "      <td>0.932598</td>\n",
       "      <td>0.622371</td>\n",
       "      <td>0.622371</td>\n",
       "      <td>0.999308</td>\n",
       "      <td>0.797793</td>\n",
       "      <td>0.809673</td>\n",
       "      <td>0.303519</td>\n",
       "      <td>...</td>\n",
       "      <td>0.959320</td>\n",
       "      <td>2.271900e-04</td>\n",
       "      <td>0.624001</td>\n",
       "      <td>0.622370</td>\n",
       "      <td>0.849236</td>\n",
       "      <td>0.276178</td>\n",
       "      <td>0.026791</td>\n",
       "      <td>0.565158</td>\n",
       "      <td>1</td>\n",
       "      <td>0.074893</td>\n",
       "    </tr>\n",
       "    <tr>\n",
       "      <th>6817</th>\n",
       "      <td>0</td>\n",
       "      <td>0.971530</td>\n",
       "      <td>1.000000</td>\n",
       "      <td>1.000000</td>\n",
       "      <td>0.640035</td>\n",
       "      <td>0.640035</td>\n",
       "      <td>0.999571</td>\n",
       "      <td>0.798105</td>\n",
       "      <td>0.809906</td>\n",
       "      <td>0.303516</td>\n",
       "      <td>...</td>\n",
       "      <td>0.981315</td>\n",
       "      <td>1.534960e-04</td>\n",
       "      <td>0.624305</td>\n",
       "      <td>0.640035</td>\n",
       "      <td>0.851547</td>\n",
       "      <td>0.277013</td>\n",
       "      <td>0.026799</td>\n",
       "      <td>0.565196</td>\n",
       "      <td>1</td>\n",
       "      <td>0.051752</td>\n",
       "    </tr>\n",
       "    <tr>\n",
       "      <th>6818</th>\n",
       "      <td>0</td>\n",
       "      <td>1.000000</td>\n",
       "      <td>0.947067</td>\n",
       "      <td>0.957760</td>\n",
       "      <td>0.640684</td>\n",
       "      <td>0.640684</td>\n",
       "      <td>0.999507</td>\n",
       "      <td>0.798029</td>\n",
       "      <td>0.809765</td>\n",
       "      <td>0.303516</td>\n",
       "      <td>...</td>\n",
       "      <td>0.944328</td>\n",
       "      <td>6.064360e-04</td>\n",
       "      <td>0.623997</td>\n",
       "      <td>0.640680</td>\n",
       "      <td>0.852566</td>\n",
       "      <td>0.280232</td>\n",
       "      <td>0.026791</td>\n",
       "      <td>0.565158</td>\n",
       "      <td>1</td>\n",
       "      <td>0.027671</td>\n",
       "    </tr>\n",
       "  </tbody>\n",
       "</table>\n",
       "<p>6819 rows × 96 columns</p>\n",
       "</div>"
      ],
      "text/plain": [
       "      Bankrupt?   ROA(C) before interest and depreciation before interest  \\\n",
       "0             0                                           0.000000          \n",
       "1             1                                           0.024277          \n",
       "2             1                                           0.066933          \n",
       "3             0                                           0.081412          \n",
       "4             0                                           0.082826          \n",
       "...         ...                                                ...          \n",
       "6814          0                                           0.787988          \n",
       "6815          0                                           0.818018          \n",
       "6816          0                                           0.864964          \n",
       "6817          0                                           0.971530          \n",
       "6818          0                                           1.000000          \n",
       "\n",
       "       ROA(A) before interest and % after tax  \\\n",
       "0                                    0.006923   \n",
       "1                                    0.000000   \n",
       "2                                    0.057185   \n",
       "3                                    0.091256   \n",
       "4                                    0.069287   \n",
       "...                                       ...   \n",
       "6814                                 0.804514   \n",
       "6815                                 0.801570   \n",
       "6816                                 0.942706   \n",
       "6817                                 1.000000   \n",
       "6818                                 0.947067   \n",
       "\n",
       "       ROA(B) before interest and depreciation after tax  \\\n",
       "0                                              0.000000    \n",
       "1                                              0.033514    \n",
       "2                                              0.054821    \n",
       "3                                              0.091761    \n",
       "4                                              0.088388    \n",
       "...                                                 ...    \n",
       "6814                                           0.783928    \n",
       "6815                                           0.814551    \n",
       "6816                                           0.932598    \n",
       "6817                                           1.000000    \n",
       "6818                                           0.957760    \n",
       "\n",
       "       Operating Gross Margin   Realized Sales Gross Margin  \\\n",
       "0                    0.593501                      0.593551   \n",
       "1                    0.591324                      0.591324   \n",
       "2                    0.601861                      0.601861   \n",
       "3                    0.602935                      0.602935   \n",
       "4                    0.646846                      0.646846   \n",
       "...                       ...                           ...   \n",
       "6814                 0.608015                      0.608015   \n",
       "6815                 0.634983                      0.634983   \n",
       "6816                 0.622371                      0.622371   \n",
       "6817                 0.640035                      0.640035   \n",
       "6818                 0.640684                      0.640684   \n",
       "\n",
       "       Operating Profit Rate   Pre-tax net Interest Rate  \\\n",
       "0                   0.998775                    0.795533   \n",
       "1                   0.994015                    0.791503   \n",
       "2                   0.998825                    0.796779   \n",
       "3                   0.973875                    0.767759   \n",
       "4                   0.997083                    0.795795   \n",
       "...                      ...                         ...   \n",
       "6814                0.999147                    0.798222   \n",
       "6815                0.999278                    0.797758   \n",
       "6816                0.999308                    0.797793   \n",
       "6817                0.999571                    0.798105   \n",
       "6818                0.999507                    0.798029   \n",
       "\n",
       "       After-tax net Interest Rate  \\\n",
       "0                         0.807547   \n",
       "1                         0.803775   \n",
       "2                         0.808717   \n",
       "3                         0.781429   \n",
       "4                         0.807815   \n",
       "...                            ...   \n",
       "6814                      0.809903   \n",
       "6815                      0.809581   \n",
       "6816                      0.809673   \n",
       "6817                      0.809906   \n",
       "6818                      0.809765   \n",
       "\n",
       "       Non-industry income and expenditure/revenue  ...  \\\n",
       "0                                         0.300687  ...   \n",
       "1                                         0.303602  ...   \n",
       "2                                         0.302760  ...   \n",
       "3                                         0.304248  ...   \n",
       "4                                         0.304684  ...   \n",
       "...                                            ...  ...   \n",
       "6814                                      0.304606  ...   \n",
       "6815                                      0.303522  ...   \n",
       "6816                                      0.303519  ...   \n",
       "6817                                      0.303516  ...   \n",
       "6818                                      0.303516  ...   \n",
       "\n",
       "       Net Income to Total Assets   Total assets to GNP price  \\\n",
       "0                        0.224792                2.090270e-04   \n",
       "1                        0.584583                2.710000e+09   \n",
       "2                        0.525651                5.803037e-03   \n",
       "3                        0.412621                1.920000e+09   \n",
       "4                        0.000000                0.000000e+00   \n",
       "...                           ...                         ...   \n",
       "6814                     0.905790                2.948022e-03   \n",
       "6815                     0.923155                1.093630e-04   \n",
       "6816                     0.959320                2.271900e-04   \n",
       "6817                     0.981315                1.534960e-04   \n",
       "6818                     0.944328                6.064360e-04   \n",
       "\n",
       "       No-credit Interval   Gross Profit to Sales  \\\n",
       "0                0.623797                0.593502   \n",
       "1                0.623818                0.591322   \n",
       "2                0.623648                0.601857   \n",
       "3                0.623783                0.602932   \n",
       "4                0.623730                0.646841   \n",
       "...                   ...                     ...   \n",
       "6814             0.624791                0.608017   \n",
       "6815             0.623786                0.634983   \n",
       "6816             0.624001                0.622370   \n",
       "6817             0.624305                0.640035   \n",
       "6818             0.623997                0.640680   \n",
       "\n",
       "       Net Income to Stockholder's Equity   Liability to Equity  \\\n",
       "0                                0.770902              0.285511   \n",
       "1                                0.827165              0.276846   \n",
       "2                                1.000000              0.182790   \n",
       "3                                0.813135              0.278182   \n",
       "4                                0.748252              0.284685   \n",
       "...                                   ...                   ...   \n",
       "6814                             0.847232              0.277502   \n",
       "6815                             0.848965              0.278178   \n",
       "6816                             0.849236              0.276178   \n",
       "6817                             0.851547              0.277013   \n",
       "6818                             0.852566              0.280232   \n",
       "\n",
       "       Degree of Financial Leverage (DFL)  \\\n",
       "0                                0.026790   \n",
       "1                                0.026791   \n",
       "2                                0.026763   \n",
       "3                                0.026791   \n",
       "4                                0.026791   \n",
       "...                                   ...   \n",
       "6814                             0.026791   \n",
       "6815                             0.026794   \n",
       "6816                             0.026791   \n",
       "6817                             0.026799   \n",
       "6818                             0.026791   \n",
       "\n",
       "       Interest Coverage Ratio (Interest expense to EBIT)   Net Income Flag  \\\n",
       "0                                              0.565152                   1   \n",
       "1                                              0.565158                   1   \n",
       "2                                              0.565021                   1   \n",
       "3                                              0.565158                   1   \n",
       "4                                              0.565158                   1   \n",
       "...                                                 ...                 ...   \n",
       "6814                                           0.565159                   1   \n",
       "6815                                           0.565170                   1   \n",
       "6816                                           0.565158                   1   \n",
       "6817                                           0.565196                   1   \n",
       "6818                                           0.565158                   1   \n",
       "\n",
       "       Equity to Liability  \n",
       "0                 0.019171  \n",
       "1                 0.054959  \n",
       "2                 0.009178  \n",
       "3                 0.037886  \n",
       "4                 0.019908  \n",
       "...                    ...  \n",
       "6814              0.044549  \n",
       "6815              0.037918  \n",
       "6816              0.074893  \n",
       "6817              0.051752  \n",
       "6818              0.027671  \n",
       "\n",
       "[6819 rows x 96 columns]"
      ]
     },
     "execution_count": 5,
     "metadata": {},
     "output_type": "execute_result"
    }
   ],
   "source": [
    "bank_bal=pd.read_csv('OBA_410_Group_Data.csv')\n",
    "bank_bal"
   ]
  },
  {
   "cell_type": "code",
   "execution_count": 6,
   "id": "ffeeaf30",
   "metadata": {},
   "outputs": [],
   "source": [
    "# bank_bal.drop(bank_bal.iloc[:,10:], inplace=True, axis=1)"
   ]
  },
  {
   "cell_type": "code",
   "execution_count": 7,
   "id": "2414ab00",
   "metadata": {},
   "outputs": [
    {
     "data": {
      "text/plain": [
       "0    1000\n",
       "1    1000\n",
       "Name: Bankrupt?, dtype: int64"
      ]
     },
     "execution_count": 7,
     "metadata": {},
     "output_type": "execute_result"
    }
   ],
   "source": [
    "bank_bal=bank_bal.groupby('Bankrupt?',group_keys=False).apply(lambda x: x.sample(1000,replace=True,random_state=0))\n",
    "bank_bal['Bankrupt?'].value_counts()"
   ]
  },
  {
   "cell_type": "code",
   "execution_count": 8,
   "id": "0a48c0e1",
   "metadata": {},
   "outputs": [
    {
     "data": {
      "text/html": [
       "<div>\n",
       "<style scoped>\n",
       "    .dataframe tbody tr th:only-of-type {\n",
       "        vertical-align: middle;\n",
       "    }\n",
       "\n",
       "    .dataframe tbody tr th {\n",
       "        vertical-align: top;\n",
       "    }\n",
       "\n",
       "    .dataframe thead th {\n",
       "        text-align: right;\n",
       "    }\n",
       "</style>\n",
       "<table border=\"1\" class=\"dataframe\">\n",
       "  <thead>\n",
       "    <tr style=\"text-align: right;\">\n",
       "      <th></th>\n",
       "      <th>Bankrupt?</th>\n",
       "      <th>ROA(C) before interest and depreciation before interest</th>\n",
       "      <th>ROA(A) before interest and % after tax</th>\n",
       "      <th>ROA(B) before interest and depreciation after tax</th>\n",
       "      <th>Operating Gross Margin</th>\n",
       "      <th>Realized Sales Gross Margin</th>\n",
       "      <th>Operating Profit Rate</th>\n",
       "      <th>Pre-tax net Interest Rate</th>\n",
       "      <th>After-tax net Interest Rate</th>\n",
       "      <th>Non-industry income and expenditure/revenue</th>\n",
       "      <th>...</th>\n",
       "      <th>Net Income to Total Assets</th>\n",
       "      <th>Total assets to GNP price</th>\n",
       "      <th>No-credit Interval</th>\n",
       "      <th>Gross Profit to Sales</th>\n",
       "      <th>Net Income to Stockholder's Equity</th>\n",
       "      <th>Liability to Equity</th>\n",
       "      <th>Degree of Financial Leverage (DFL)</th>\n",
       "      <th>Interest Coverage Ratio (Interest expense to EBIT)</th>\n",
       "      <th>Net Income Flag</th>\n",
       "      <th>Equity to Liability</th>\n",
       "    </tr>\n",
       "  </thead>\n",
       "  <tbody>\n",
       "    <tr>\n",
       "      <th>2935</th>\n",
       "      <td>0</td>\n",
       "      <td>0.495686</td>\n",
       "      <td>0.550916</td>\n",
       "      <td>0.542963</td>\n",
       "      <td>0.599209</td>\n",
       "      <td>0.599209</td>\n",
       "      <td>0.999001</td>\n",
       "      <td>0.797404</td>\n",
       "      <td>0.809320</td>\n",
       "      <td>0.303483</td>\n",
       "      <td>...</td>\n",
       "      <td>0.804195</td>\n",
       "      <td>5.797642e-03</td>\n",
       "      <td>0.623865</td>\n",
       "      <td>0.599205</td>\n",
       "      <td>0.840688</td>\n",
       "      <td>0.279388</td>\n",
       "      <td>0.027243</td>\n",
       "      <td>0.566668</td>\n",
       "      <td>1</td>\n",
       "      <td>0.030801</td>\n",
       "    </tr>\n",
       "    <tr>\n",
       "      <th>2807</th>\n",
       "      <td>0</td>\n",
       "      <td>0.494028</td>\n",
       "      <td>0.556149</td>\n",
       "      <td>0.539697</td>\n",
       "      <td>0.603273</td>\n",
       "      <td>0.603021</td>\n",
       "      <td>0.999016</td>\n",
       "      <td>0.797448</td>\n",
       "      <td>0.809353</td>\n",
       "      <td>0.303527</td>\n",
       "      <td>...</td>\n",
       "      <td>0.806766</td>\n",
       "      <td>1.678171e-03</td>\n",
       "      <td>0.623481</td>\n",
       "      <td>0.603273</td>\n",
       "      <td>0.841082</td>\n",
       "      <td>0.281947</td>\n",
       "      <td>0.027068</td>\n",
       "      <td>0.566204</td>\n",
       "      <td>1</td>\n",
       "      <td>0.023555</td>\n",
       "    </tr>\n",
       "    <tr>\n",
       "      <th>1834</th>\n",
       "      <td>0</td>\n",
       "      <td>0.478672</td>\n",
       "      <td>0.541976</td>\n",
       "      <td>0.531881</td>\n",
       "      <td>0.605226</td>\n",
       "      <td>0.605226</td>\n",
       "      <td>0.999008</td>\n",
       "      <td>0.797419</td>\n",
       "      <td>0.809341</td>\n",
       "      <td>0.303494</td>\n",
       "      <td>...</td>\n",
       "      <td>0.801978</td>\n",
       "      <td>4.771583e-03</td>\n",
       "      <td>0.623800</td>\n",
       "      <td>0.605225</td>\n",
       "      <td>0.840553</td>\n",
       "      <td>0.280316</td>\n",
       "      <td>0.026973</td>\n",
       "      <td>0.565898</td>\n",
       "      <td>1</td>\n",
       "      <td>0.027411</td>\n",
       "    </tr>\n",
       "    <tr>\n",
       "      <th>3475</th>\n",
       "      <td>0</td>\n",
       "      <td>0.503924</td>\n",
       "      <td>0.551297</td>\n",
       "      <td>0.549280</td>\n",
       "      <td>0.607064</td>\n",
       "      <td>0.607064</td>\n",
       "      <td>0.998987</td>\n",
       "      <td>0.797522</td>\n",
       "      <td>0.809440</td>\n",
       "      <td>0.303718</td>\n",
       "      <td>...</td>\n",
       "      <td>0.804269</td>\n",
       "      <td>4.786887e-02</td>\n",
       "      <td>0.624181</td>\n",
       "      <td>0.607060</td>\n",
       "      <td>0.840859</td>\n",
       "      <td>0.282237</td>\n",
       "      <td>0.027089</td>\n",
       "      <td>0.566266</td>\n",
       "      <td>1</td>\n",
       "      <td>0.023043</td>\n",
       "    </tr>\n",
       "    <tr>\n",
       "      <th>5150</th>\n",
       "      <td>0</td>\n",
       "      <td>0.536635</td>\n",
       "      <td>0.597580</td>\n",
       "      <td>0.580813</td>\n",
       "      <td>0.610466</td>\n",
       "      <td>0.610141</td>\n",
       "      <td>0.999138</td>\n",
       "      <td>0.797629</td>\n",
       "      <td>0.809496</td>\n",
       "      <td>0.303588</td>\n",
       "      <td>...</td>\n",
       "      <td>0.832874</td>\n",
       "      <td>3.267898e-03</td>\n",
       "      <td>0.625247</td>\n",
       "      <td>0.610468</td>\n",
       "      <td>0.842125</td>\n",
       "      <td>0.276202</td>\n",
       "      <td>0.026792</td>\n",
       "      <td>0.565160</td>\n",
       "      <td>1</td>\n",
       "      <td>0.073883</td>\n",
       "    </tr>\n",
       "    <tr>\n",
       "      <th>...</th>\n",
       "      <td>...</td>\n",
       "      <td>...</td>\n",
       "      <td>...</td>\n",
       "      <td>...</td>\n",
       "      <td>...</td>\n",
       "      <td>...</td>\n",
       "      <td>...</td>\n",
       "      <td>...</td>\n",
       "      <td>...</td>\n",
       "      <td>...</td>\n",
       "      <td>...</td>\n",
       "      <td>...</td>\n",
       "      <td>...</td>\n",
       "      <td>...</td>\n",
       "      <td>...</td>\n",
       "      <td>...</td>\n",
       "      <td>...</td>\n",
       "      <td>...</td>\n",
       "      <td>...</td>\n",
       "      <td>...</td>\n",
       "      <td>...</td>\n",
       "    </tr>\n",
       "    <tr>\n",
       "      <th>928</th>\n",
       "      <td>1</td>\n",
       "      <td>0.454346</td>\n",
       "      <td>0.513792</td>\n",
       "      <td>0.506023</td>\n",
       "      <td>0.597522</td>\n",
       "      <td>0.597522</td>\n",
       "      <td>0.998899</td>\n",
       "      <td>0.797237</td>\n",
       "      <td>0.809064</td>\n",
       "      <td>0.303405</td>\n",
       "      <td>...</td>\n",
       "      <td>0.771996</td>\n",
       "      <td>6.000143e-03</td>\n",
       "      <td>0.621979</td>\n",
       "      <td>0.597522</td>\n",
       "      <td>0.837544</td>\n",
       "      <td>0.283088</td>\n",
       "      <td>0.026463</td>\n",
       "      <td>0.562888</td>\n",
       "      <td>1</td>\n",
       "      <td>0.021747</td>\n",
       "    </tr>\n",
       "    <tr>\n",
       "      <th>1791</th>\n",
       "      <td>1</td>\n",
       "      <td>0.477990</td>\n",
       "      <td>0.538323</td>\n",
       "      <td>0.529632</td>\n",
       "      <td>0.616966</td>\n",
       "      <td>0.616930</td>\n",
       "      <td>0.999190</td>\n",
       "      <td>0.797473</td>\n",
       "      <td>0.809361</td>\n",
       "      <td>0.303207</td>\n",
       "      <td>...</td>\n",
       "      <td>0.797931</td>\n",
       "      <td>2.171998e-02</td>\n",
       "      <td>0.619427</td>\n",
       "      <td>0.616962</td>\n",
       "      <td>0.840159</td>\n",
       "      <td>0.276686</td>\n",
       "      <td>0.027789</td>\n",
       "      <td>0.567605</td>\n",
       "      <td>1</td>\n",
       "      <td>0.058527</td>\n",
       "    </tr>\n",
       "    <tr>\n",
       "      <th>368</th>\n",
       "      <td>1</td>\n",
       "      <td>0.417540</td>\n",
       "      <td>0.470726</td>\n",
       "      <td>0.460892</td>\n",
       "      <td>0.600852</td>\n",
       "      <td>0.600852</td>\n",
       "      <td>0.998935</td>\n",
       "      <td>0.797160</td>\n",
       "      <td>0.809086</td>\n",
       "      <td>0.303195</td>\n",
       "      <td>...</td>\n",
       "      <td>0.754696</td>\n",
       "      <td>8.433273e-03</td>\n",
       "      <td>0.624491</td>\n",
       "      <td>0.600848</td>\n",
       "      <td>0.836693</td>\n",
       "      <td>0.279759</td>\n",
       "      <td>0.026550</td>\n",
       "      <td>0.563668</td>\n",
       "      <td>1</td>\n",
       "      <td>0.029296</td>\n",
       "    </tr>\n",
       "    <tr>\n",
       "      <th>1250</th>\n",
       "      <td>1</td>\n",
       "      <td>0.466728</td>\n",
       "      <td>0.490078</td>\n",
       "      <td>0.501097</td>\n",
       "      <td>0.607850</td>\n",
       "      <td>0.607850</td>\n",
       "      <td>0.998855</td>\n",
       "      <td>0.797196</td>\n",
       "      <td>0.809109</td>\n",
       "      <td>0.303425</td>\n",
       "      <td>...</td>\n",
       "      <td>0.767057</td>\n",
       "      <td>8.094303e-03</td>\n",
       "      <td>0.623321</td>\n",
       "      <td>0.607845</td>\n",
       "      <td>0.834982</td>\n",
       "      <td>0.293298</td>\n",
       "      <td>0.026485</td>\n",
       "      <td>0.563103</td>\n",
       "      <td>1</td>\n",
       "      <td>0.015432</td>\n",
       "    </tr>\n",
       "    <tr>\n",
       "      <th>1</th>\n",
       "      <td>1</td>\n",
       "      <td>0.024277</td>\n",
       "      <td>0.000000</td>\n",
       "      <td>0.033514</td>\n",
       "      <td>0.591324</td>\n",
       "      <td>0.591324</td>\n",
       "      <td>0.994015</td>\n",
       "      <td>0.791503</td>\n",
       "      <td>0.803775</td>\n",
       "      <td>0.303602</td>\n",
       "      <td>...</td>\n",
       "      <td>0.584583</td>\n",
       "      <td>2.710000e+09</td>\n",
       "      <td>0.623818</td>\n",
       "      <td>0.591322</td>\n",
       "      <td>0.827165</td>\n",
       "      <td>0.276846</td>\n",
       "      <td>0.026791</td>\n",
       "      <td>0.565158</td>\n",
       "      <td>1</td>\n",
       "      <td>0.054959</td>\n",
       "    </tr>\n",
       "  </tbody>\n",
       "</table>\n",
       "<p>2000 rows × 96 columns</p>\n",
       "</div>"
      ],
      "text/plain": [
       "      Bankrupt?   ROA(C) before interest and depreciation before interest  \\\n",
       "2935          0                                           0.495686          \n",
       "2807          0                                           0.494028          \n",
       "1834          0                                           0.478672          \n",
       "3475          0                                           0.503924          \n",
       "5150          0                                           0.536635          \n",
       "...         ...                                                ...          \n",
       "928           1                                           0.454346          \n",
       "1791          1                                           0.477990          \n",
       "368           1                                           0.417540          \n",
       "1250          1                                           0.466728          \n",
       "1             1                                           0.024277          \n",
       "\n",
       "       ROA(A) before interest and % after tax  \\\n",
       "2935                                 0.550916   \n",
       "2807                                 0.556149   \n",
       "1834                                 0.541976   \n",
       "3475                                 0.551297   \n",
       "5150                                 0.597580   \n",
       "...                                       ...   \n",
       "928                                  0.513792   \n",
       "1791                                 0.538323   \n",
       "368                                  0.470726   \n",
       "1250                                 0.490078   \n",
       "1                                    0.000000   \n",
       "\n",
       "       ROA(B) before interest and depreciation after tax  \\\n",
       "2935                                           0.542963    \n",
       "2807                                           0.539697    \n",
       "1834                                           0.531881    \n",
       "3475                                           0.549280    \n",
       "5150                                           0.580813    \n",
       "...                                                 ...    \n",
       "928                                            0.506023    \n",
       "1791                                           0.529632    \n",
       "368                                            0.460892    \n",
       "1250                                           0.501097    \n",
       "1                                              0.033514    \n",
       "\n",
       "       Operating Gross Margin   Realized Sales Gross Margin  \\\n",
       "2935                 0.599209                      0.599209   \n",
       "2807                 0.603273                      0.603021   \n",
       "1834                 0.605226                      0.605226   \n",
       "3475                 0.607064                      0.607064   \n",
       "5150                 0.610466                      0.610141   \n",
       "...                       ...                           ...   \n",
       "928                  0.597522                      0.597522   \n",
       "1791                 0.616966                      0.616930   \n",
       "368                  0.600852                      0.600852   \n",
       "1250                 0.607850                      0.607850   \n",
       "1                    0.591324                      0.591324   \n",
       "\n",
       "       Operating Profit Rate   Pre-tax net Interest Rate  \\\n",
       "2935                0.999001                    0.797404   \n",
       "2807                0.999016                    0.797448   \n",
       "1834                0.999008                    0.797419   \n",
       "3475                0.998987                    0.797522   \n",
       "5150                0.999138                    0.797629   \n",
       "...                      ...                         ...   \n",
       "928                 0.998899                    0.797237   \n",
       "1791                0.999190                    0.797473   \n",
       "368                 0.998935                    0.797160   \n",
       "1250                0.998855                    0.797196   \n",
       "1                   0.994015                    0.791503   \n",
       "\n",
       "       After-tax net Interest Rate  \\\n",
       "2935                      0.809320   \n",
       "2807                      0.809353   \n",
       "1834                      0.809341   \n",
       "3475                      0.809440   \n",
       "5150                      0.809496   \n",
       "...                            ...   \n",
       "928                       0.809064   \n",
       "1791                      0.809361   \n",
       "368                       0.809086   \n",
       "1250                      0.809109   \n",
       "1                         0.803775   \n",
       "\n",
       "       Non-industry income and expenditure/revenue  ...  \\\n",
       "2935                                      0.303483  ...   \n",
       "2807                                      0.303527  ...   \n",
       "1834                                      0.303494  ...   \n",
       "3475                                      0.303718  ...   \n",
       "5150                                      0.303588  ...   \n",
       "...                                            ...  ...   \n",
       "928                                       0.303405  ...   \n",
       "1791                                      0.303207  ...   \n",
       "368                                       0.303195  ...   \n",
       "1250                                      0.303425  ...   \n",
       "1                                         0.303602  ...   \n",
       "\n",
       "       Net Income to Total Assets   Total assets to GNP price  \\\n",
       "2935                     0.804195                5.797642e-03   \n",
       "2807                     0.806766                1.678171e-03   \n",
       "1834                     0.801978                4.771583e-03   \n",
       "3475                     0.804269                4.786887e-02   \n",
       "5150                     0.832874                3.267898e-03   \n",
       "...                           ...                         ...   \n",
       "928                      0.771996                6.000143e-03   \n",
       "1791                     0.797931                2.171998e-02   \n",
       "368                      0.754696                8.433273e-03   \n",
       "1250                     0.767057                8.094303e-03   \n",
       "1                        0.584583                2.710000e+09   \n",
       "\n",
       "       No-credit Interval   Gross Profit to Sales  \\\n",
       "2935             0.623865                0.599205   \n",
       "2807             0.623481                0.603273   \n",
       "1834             0.623800                0.605225   \n",
       "3475             0.624181                0.607060   \n",
       "5150             0.625247                0.610468   \n",
       "...                   ...                     ...   \n",
       "928              0.621979                0.597522   \n",
       "1791             0.619427                0.616962   \n",
       "368              0.624491                0.600848   \n",
       "1250             0.623321                0.607845   \n",
       "1                0.623818                0.591322   \n",
       "\n",
       "       Net Income to Stockholder's Equity   Liability to Equity  \\\n",
       "2935                             0.840688              0.279388   \n",
       "2807                             0.841082              0.281947   \n",
       "1834                             0.840553              0.280316   \n",
       "3475                             0.840859              0.282237   \n",
       "5150                             0.842125              0.276202   \n",
       "...                                   ...                   ...   \n",
       "928                              0.837544              0.283088   \n",
       "1791                             0.840159              0.276686   \n",
       "368                              0.836693              0.279759   \n",
       "1250                             0.834982              0.293298   \n",
       "1                                0.827165              0.276846   \n",
       "\n",
       "       Degree of Financial Leverage (DFL)  \\\n",
       "2935                             0.027243   \n",
       "2807                             0.027068   \n",
       "1834                             0.026973   \n",
       "3475                             0.027089   \n",
       "5150                             0.026792   \n",
       "...                                   ...   \n",
       "928                              0.026463   \n",
       "1791                             0.027789   \n",
       "368                              0.026550   \n",
       "1250                             0.026485   \n",
       "1                                0.026791   \n",
       "\n",
       "       Interest Coverage Ratio (Interest expense to EBIT)   Net Income Flag  \\\n",
       "2935                                           0.566668                   1   \n",
       "2807                                           0.566204                   1   \n",
       "1834                                           0.565898                   1   \n",
       "3475                                           0.566266                   1   \n",
       "5150                                           0.565160                   1   \n",
       "...                                                 ...                 ...   \n",
       "928                                            0.562888                   1   \n",
       "1791                                           0.567605                   1   \n",
       "368                                            0.563668                   1   \n",
       "1250                                           0.563103                   1   \n",
       "1                                              0.565158                   1   \n",
       "\n",
       "       Equity to Liability  \n",
       "2935              0.030801  \n",
       "2807              0.023555  \n",
       "1834              0.027411  \n",
       "3475              0.023043  \n",
       "5150              0.073883  \n",
       "...                    ...  \n",
       "928               0.021747  \n",
       "1791              0.058527  \n",
       "368               0.029296  \n",
       "1250              0.015432  \n",
       "1                 0.054959  \n",
       "\n",
       "[2000 rows x 96 columns]"
      ]
     },
     "execution_count": 8,
     "metadata": {},
     "output_type": "execute_result"
    }
   ],
   "source": [
    "bank_bal"
   ]
  },
  {
   "cell_type": "markdown",
   "id": "447d7b93",
   "metadata": {},
   "source": [
    "# Logistic Regression¶"
   ]
  },
  {
   "cell_type": "code",
   "execution_count": 9,
   "id": "928cac57",
   "metadata": {},
   "outputs": [
    {
     "data": {
      "text/html": [
       "<div>\n",
       "<style scoped>\n",
       "    .dataframe tbody tr th:only-of-type {\n",
       "        vertical-align: middle;\n",
       "    }\n",
       "\n",
       "    .dataframe tbody tr th {\n",
       "        vertical-align: top;\n",
       "    }\n",
       "\n",
       "    .dataframe thead th {\n",
       "        text-align: right;\n",
       "    }\n",
       "</style>\n",
       "<table border=\"1\" class=\"dataframe\">\n",
       "  <thead>\n",
       "    <tr style=\"text-align: right;\">\n",
       "      <th></th>\n",
       "      <th>Bankrupt?</th>\n",
       "      <th>ROA(C) before interest and depreciation before interest</th>\n",
       "      <th>ROA(A) before interest and % after tax</th>\n",
       "      <th>ROA(B) before interest and depreciation after tax</th>\n",
       "      <th>Operating Gross Margin</th>\n",
       "      <th>Realized Sales Gross Margin</th>\n",
       "      <th>Operating Profit Rate</th>\n",
       "      <th>Pre-tax net Interest Rate</th>\n",
       "      <th>After-tax net Interest Rate</th>\n",
       "      <th>Non-industry income and expenditure/revenue</th>\n",
       "      <th>...</th>\n",
       "      <th>Net Income to Total Assets</th>\n",
       "      <th>Total assets to GNP price</th>\n",
       "      <th>No-credit Interval</th>\n",
       "      <th>Gross Profit to Sales</th>\n",
       "      <th>Net Income to Stockholder's Equity</th>\n",
       "      <th>Liability to Equity</th>\n",
       "      <th>Degree of Financial Leverage (DFL)</th>\n",
       "      <th>Interest Coverage Ratio (Interest expense to EBIT)</th>\n",
       "      <th>Net Income Flag</th>\n",
       "      <th>Equity to Liability</th>\n",
       "    </tr>\n",
       "  </thead>\n",
       "  <tbody>\n",
       "    <tr>\n",
       "      <th>count</th>\n",
       "      <td>1000.0</td>\n",
       "      <td>1000.00</td>\n",
       "      <td>1000.00</td>\n",
       "      <td>1000.00</td>\n",
       "      <td>1000.00</td>\n",
       "      <td>1000.00</td>\n",
       "      <td>1000.00</td>\n",
       "      <td>1000.00</td>\n",
       "      <td>1000.00</td>\n",
       "      <td>1000.00</td>\n",
       "      <td>...</td>\n",
       "      <td>1000.00</td>\n",
       "      <td>1.000000e+03</td>\n",
       "      <td>1000.00</td>\n",
       "      <td>1000.00</td>\n",
       "      <td>1000.00</td>\n",
       "      <td>1000.00</td>\n",
       "      <td>1000.00</td>\n",
       "      <td>1000.00</td>\n",
       "      <td>1000.0</td>\n",
       "      <td>1000.00</td>\n",
       "    </tr>\n",
       "    <tr>\n",
       "      <th>mean</th>\n",
       "      <td>1.0</td>\n",
       "      <td>0.42</td>\n",
       "      <td>0.46</td>\n",
       "      <td>0.46</td>\n",
       "      <td>0.60</td>\n",
       "      <td>0.60</td>\n",
       "      <td>1.00</td>\n",
       "      <td>0.80</td>\n",
       "      <td>0.81</td>\n",
       "      <td>0.30</td>\n",
       "      <td>...</td>\n",
       "      <td>0.74</td>\n",
       "      <td>5.630000e+07</td>\n",
       "      <td>0.62</td>\n",
       "      <td>0.60</td>\n",
       "      <td>0.83</td>\n",
       "      <td>0.29</td>\n",
       "      <td>0.03</td>\n",
       "      <td>0.56</td>\n",
       "      <td>1.0</td>\n",
       "      <td>0.02</td>\n",
       "    </tr>\n",
       "    <tr>\n",
       "      <th>std</th>\n",
       "      <td>0.0</td>\n",
       "      <td>0.08</td>\n",
       "      <td>0.11</td>\n",
       "      <td>0.09</td>\n",
       "      <td>0.01</td>\n",
       "      <td>0.01</td>\n",
       "      <td>0.00</td>\n",
       "      <td>0.00</td>\n",
       "      <td>0.00</td>\n",
       "      <td>0.01</td>\n",
       "      <td>...</td>\n",
       "      <td>0.08</td>\n",
       "      <td>5.971907e+08</td>\n",
       "      <td>0.01</td>\n",
       "      <td>0.01</td>\n",
       "      <td>0.06</td>\n",
       "      <td>0.05</td>\n",
       "      <td>0.02</td>\n",
       "      <td>0.01</td>\n",
       "      <td>0.0</td>\n",
       "      <td>0.05</td>\n",
       "    </tr>\n",
       "    <tr>\n",
       "      <th>min</th>\n",
       "      <td>1.0</td>\n",
       "      <td>0.02</td>\n",
       "      <td>0.00</td>\n",
       "      <td>0.03</td>\n",
       "      <td>0.53</td>\n",
       "      <td>0.53</td>\n",
       "      <td>0.99</td>\n",
       "      <td>0.76</td>\n",
       "      <td>0.76</td>\n",
       "      <td>0.24</td>\n",
       "      <td>...</td>\n",
       "      <td>0.41</td>\n",
       "      <td>0.000000e+00</td>\n",
       "      <td>0.59</td>\n",
       "      <td>0.53</td>\n",
       "      <td>0.00</td>\n",
       "      <td>0.00</td>\n",
       "      <td>0.02</td>\n",
       "      <td>0.55</td>\n",
       "      <td>1.0</td>\n",
       "      <td>0.00</td>\n",
       "    </tr>\n",
       "    <tr>\n",
       "      <th>25%</th>\n",
       "      <td>1.0</td>\n",
       "      <td>0.39</td>\n",
       "      <td>0.43</td>\n",
       "      <td>0.44</td>\n",
       "      <td>0.59</td>\n",
       "      <td>0.59</td>\n",
       "      <td>1.00</td>\n",
       "      <td>0.80</td>\n",
       "      <td>0.81</td>\n",
       "      <td>0.30</td>\n",
       "      <td>...</td>\n",
       "      <td>0.72</td>\n",
       "      <td>0.000000e+00</td>\n",
       "      <td>0.62</td>\n",
       "      <td>0.59</td>\n",
       "      <td>0.83</td>\n",
       "      <td>0.28</td>\n",
       "      <td>0.03</td>\n",
       "      <td>0.56</td>\n",
       "      <td>1.0</td>\n",
       "      <td>0.02</td>\n",
       "    </tr>\n",
       "    <tr>\n",
       "      <th>50%</th>\n",
       "      <td>1.0</td>\n",
       "      <td>0.44</td>\n",
       "      <td>0.49</td>\n",
       "      <td>0.49</td>\n",
       "      <td>0.60</td>\n",
       "      <td>0.60</td>\n",
       "      <td>1.00</td>\n",
       "      <td>0.80</td>\n",
       "      <td>0.81</td>\n",
       "      <td>0.30</td>\n",
       "      <td>...</td>\n",
       "      <td>0.77</td>\n",
       "      <td>0.000000e+00</td>\n",
       "      <td>0.62</td>\n",
       "      <td>0.60</td>\n",
       "      <td>0.84</td>\n",
       "      <td>0.29</td>\n",
       "      <td>0.03</td>\n",
       "      <td>0.56</td>\n",
       "      <td>1.0</td>\n",
       "      <td>0.02</td>\n",
       "    </tr>\n",
       "    <tr>\n",
       "      <th>75%</th>\n",
       "      <td>1.0</td>\n",
       "      <td>0.47</td>\n",
       "      <td>0.53</td>\n",
       "      <td>0.52</td>\n",
       "      <td>0.60</td>\n",
       "      <td>0.60</td>\n",
       "      <td>1.00</td>\n",
       "      <td>0.80</td>\n",
       "      <td>0.81</td>\n",
       "      <td>0.30</td>\n",
       "      <td>...</td>\n",
       "      <td>0.79</td>\n",
       "      <td>1.000000e-02</td>\n",
       "      <td>0.62</td>\n",
       "      <td>0.60</td>\n",
       "      <td>0.84</td>\n",
       "      <td>0.29</td>\n",
       "      <td>0.03</td>\n",
       "      <td>0.57</td>\n",
       "      <td>1.0</td>\n",
       "      <td>0.02</td>\n",
       "    </tr>\n",
       "    <tr>\n",
       "      <th>max</th>\n",
       "      <td>1.0</td>\n",
       "      <td>0.58</td>\n",
       "      <td>0.58</td>\n",
       "      <td>0.62</td>\n",
       "      <td>0.67</td>\n",
       "      <td>0.67</td>\n",
       "      <td>1.00</td>\n",
       "      <td>0.80</td>\n",
       "      <td>0.81</td>\n",
       "      <td>0.31</td>\n",
       "      <td>...</td>\n",
       "      <td>0.82</td>\n",
       "      <td>9.170000e+09</td>\n",
       "      <td>0.68</td>\n",
       "      <td>0.67</td>\n",
       "      <td>1.00</td>\n",
       "      <td>1.00</td>\n",
       "      <td>0.26</td>\n",
       "      <td>0.62</td>\n",
       "      <td>1.0</td>\n",
       "      <td>0.80</td>\n",
       "    </tr>\n",
       "  </tbody>\n",
       "</table>\n",
       "<p>8 rows × 96 columns</p>\n",
       "</div>"
      ],
      "text/plain": [
       "       Bankrupt?   ROA(C) before interest and depreciation before interest  \\\n",
       "count     1000.0                                            1000.00          \n",
       "mean         1.0                                               0.42          \n",
       "std          0.0                                               0.08          \n",
       "min          1.0                                               0.02          \n",
       "25%          1.0                                               0.39          \n",
       "50%          1.0                                               0.44          \n",
       "75%          1.0                                               0.47          \n",
       "max          1.0                                               0.58          \n",
       "\n",
       "        ROA(A) before interest and % after tax  \\\n",
       "count                                  1000.00   \n",
       "mean                                      0.46   \n",
       "std                                       0.11   \n",
       "min                                       0.00   \n",
       "25%                                       0.43   \n",
       "50%                                       0.49   \n",
       "75%                                       0.53   \n",
       "max                                       0.58   \n",
       "\n",
       "        ROA(B) before interest and depreciation after tax  \\\n",
       "count                                            1000.00    \n",
       "mean                                                0.46    \n",
       "std                                                 0.09    \n",
       "min                                                 0.03    \n",
       "25%                                                 0.44    \n",
       "50%                                                 0.49    \n",
       "75%                                                 0.52    \n",
       "max                                                 0.62    \n",
       "\n",
       "        Operating Gross Margin   Realized Sales Gross Margin  \\\n",
       "count                  1000.00                       1000.00   \n",
       "mean                      0.60                          0.60   \n",
       "std                       0.01                          0.01   \n",
       "min                       0.53                          0.53   \n",
       "25%                       0.59                          0.59   \n",
       "50%                       0.60                          0.60   \n",
       "75%                       0.60                          0.60   \n",
       "max                       0.67                          0.67   \n",
       "\n",
       "        Operating Profit Rate   Pre-tax net Interest Rate  \\\n",
       "count                 1000.00                     1000.00   \n",
       "mean                     1.00                        0.80   \n",
       "std                      0.00                        0.00   \n",
       "min                      0.99                        0.76   \n",
       "25%                      1.00                        0.80   \n",
       "50%                      1.00                        0.80   \n",
       "75%                      1.00                        0.80   \n",
       "max                      1.00                        0.80   \n",
       "\n",
       "        After-tax net Interest Rate  \\\n",
       "count                       1000.00   \n",
       "mean                           0.81   \n",
       "std                            0.00   \n",
       "min                            0.76   \n",
       "25%                            0.81   \n",
       "50%                            0.81   \n",
       "75%                            0.81   \n",
       "max                            0.81   \n",
       "\n",
       "        Non-industry income and expenditure/revenue  ...  \\\n",
       "count                                       1000.00  ...   \n",
       "mean                                           0.30  ...   \n",
       "std                                            0.01  ...   \n",
       "min                                            0.24  ...   \n",
       "25%                                            0.30  ...   \n",
       "50%                                            0.30  ...   \n",
       "75%                                            0.30  ...   \n",
       "max                                            0.31  ...   \n",
       "\n",
       "        Net Income to Total Assets   Total assets to GNP price  \\\n",
       "count                      1000.00                1.000000e+03   \n",
       "mean                          0.74                5.630000e+07   \n",
       "std                           0.08                5.971907e+08   \n",
       "min                           0.41                0.000000e+00   \n",
       "25%                           0.72                0.000000e+00   \n",
       "50%                           0.77                0.000000e+00   \n",
       "75%                           0.79                1.000000e-02   \n",
       "max                           0.82                9.170000e+09   \n",
       "\n",
       "        No-credit Interval   Gross Profit to Sales  \\\n",
       "count              1000.00                 1000.00   \n",
       "mean                  0.62                    0.60   \n",
       "std                   0.01                    0.01   \n",
       "min                   0.59                    0.53   \n",
       "25%                   0.62                    0.59   \n",
       "50%                   0.62                    0.60   \n",
       "75%                   0.62                    0.60   \n",
       "max                   0.68                    0.67   \n",
       "\n",
       "        Net Income to Stockholder's Equity   Liability to Equity  \\\n",
       "count                              1000.00               1000.00   \n",
       "mean                                  0.83                  0.29   \n",
       "std                                   0.06                  0.05   \n",
       "min                                   0.00                  0.00   \n",
       "25%                                   0.83                  0.28   \n",
       "50%                                   0.84                  0.29   \n",
       "75%                                   0.84                  0.29   \n",
       "max                                   1.00                  1.00   \n",
       "\n",
       "        Degree of Financial Leverage (DFL)  \\\n",
       "count                              1000.00   \n",
       "mean                                  0.03   \n",
       "std                                   0.02   \n",
       "min                                   0.02   \n",
       "25%                                   0.03   \n",
       "50%                                   0.03   \n",
       "75%                                   0.03   \n",
       "max                                   0.26   \n",
       "\n",
       "        Interest Coverage Ratio (Interest expense to EBIT)   Net Income Flag  \\\n",
       "count                                            1000.00              1000.0   \n",
       "mean                                                0.56                 1.0   \n",
       "std                                                 0.01                 0.0   \n",
       "min                                                 0.55                 1.0   \n",
       "25%                                                 0.56                 1.0   \n",
       "50%                                                 0.56                 1.0   \n",
       "75%                                                 0.57                 1.0   \n",
       "max                                                 0.62                 1.0   \n",
       "\n",
       "        Equity to Liability  \n",
       "count               1000.00  \n",
       "mean                   0.02  \n",
       "std                    0.05  \n",
       "min                    0.00  \n",
       "25%                    0.02  \n",
       "50%                    0.02  \n",
       "75%                    0.02  \n",
       "max                    0.80  \n",
       "\n",
       "[8 rows x 96 columns]"
      ]
     },
     "execution_count": 9,
     "metadata": {},
     "output_type": "execute_result"
    }
   ],
   "source": [
    "bank_bal[bank_bal['Bankrupt?']==1].describe().round(2)"
   ]
  },
  {
   "cell_type": "code",
   "execution_count": 10,
   "id": "4de72d22",
   "metadata": {},
   "outputs": [
    {
     "data": {
      "text/html": [
       "<div>\n",
       "<style scoped>\n",
       "    .dataframe tbody tr th:only-of-type {\n",
       "        vertical-align: middle;\n",
       "    }\n",
       "\n",
       "    .dataframe tbody tr th {\n",
       "        vertical-align: top;\n",
       "    }\n",
       "\n",
       "    .dataframe thead th {\n",
       "        text-align: right;\n",
       "    }\n",
       "</style>\n",
       "<table border=\"1\" class=\"dataframe\">\n",
       "  <thead>\n",
       "    <tr style=\"text-align: right;\">\n",
       "      <th></th>\n",
       "      <th>Bankrupt?</th>\n",
       "      <th>ROA(C) before interest and depreciation before interest</th>\n",
       "      <th>ROA(A) before interest and % after tax</th>\n",
       "      <th>ROA(B) before interest and depreciation after tax</th>\n",
       "      <th>Operating Gross Margin</th>\n",
       "      <th>Realized Sales Gross Margin</th>\n",
       "      <th>Operating Profit Rate</th>\n",
       "      <th>Pre-tax net Interest Rate</th>\n",
       "      <th>After-tax net Interest Rate</th>\n",
       "      <th>Non-industry income and expenditure/revenue</th>\n",
       "      <th>...</th>\n",
       "      <th>Net Income to Total Assets</th>\n",
       "      <th>Total assets to GNP price</th>\n",
       "      <th>No-credit Interval</th>\n",
       "      <th>Gross Profit to Sales</th>\n",
       "      <th>Net Income to Stockholder's Equity</th>\n",
       "      <th>Liability to Equity</th>\n",
       "      <th>Degree of Financial Leverage (DFL)</th>\n",
       "      <th>Interest Coverage Ratio (Interest expense to EBIT)</th>\n",
       "      <th>Net Income Flag</th>\n",
       "      <th>Equity to Liability</th>\n",
       "    </tr>\n",
       "  </thead>\n",
       "  <tbody>\n",
       "    <tr>\n",
       "      <th>count</th>\n",
       "      <td>1000.0</td>\n",
       "      <td>1000.00</td>\n",
       "      <td>1000.00</td>\n",
       "      <td>1000.00</td>\n",
       "      <td>1000.00</td>\n",
       "      <td>1000.00</td>\n",
       "      <td>1000.00</td>\n",
       "      <td>1000.00</td>\n",
       "      <td>1000.00</td>\n",
       "      <td>1000.00</td>\n",
       "      <td>...</td>\n",
       "      <td>1000.00</td>\n",
       "      <td>1000.00</td>\n",
       "      <td>1000.00</td>\n",
       "      <td>1000.00</td>\n",
       "      <td>1000.00</td>\n",
       "      <td>1000.00</td>\n",
       "      <td>1000.00</td>\n",
       "      <td>1000.00</td>\n",
       "      <td>1000.0</td>\n",
       "      <td>1000.00</td>\n",
       "    </tr>\n",
       "    <tr>\n",
       "      <th>mean</th>\n",
       "      <td>0.0</td>\n",
       "      <td>0.51</td>\n",
       "      <td>0.56</td>\n",
       "      <td>0.56</td>\n",
       "      <td>0.61</td>\n",
       "      <td>0.61</td>\n",
       "      <td>1.00</td>\n",
       "      <td>0.80</td>\n",
       "      <td>0.81</td>\n",
       "      <td>0.30</td>\n",
       "      <td>...</td>\n",
       "      <td>0.81</td>\n",
       "      <td>0.01</td>\n",
       "      <td>0.62</td>\n",
       "      <td>0.61</td>\n",
       "      <td>0.84</td>\n",
       "      <td>0.28</td>\n",
       "      <td>0.03</td>\n",
       "      <td>0.57</td>\n",
       "      <td>1.0</td>\n",
       "      <td>0.05</td>\n",
       "    </tr>\n",
       "    <tr>\n",
       "      <th>std</th>\n",
       "      <td>0.0</td>\n",
       "      <td>0.06</td>\n",
       "      <td>0.06</td>\n",
       "      <td>0.06</td>\n",
       "      <td>0.01</td>\n",
       "      <td>0.01</td>\n",
       "      <td>0.01</td>\n",
       "      <td>0.02</td>\n",
       "      <td>0.03</td>\n",
       "      <td>0.01</td>\n",
       "      <td>...</td>\n",
       "      <td>0.04</td>\n",
       "      <td>0.04</td>\n",
       "      <td>0.01</td>\n",
       "      <td>0.01</td>\n",
       "      <td>0.00</td>\n",
       "      <td>0.01</td>\n",
       "      <td>0.02</td>\n",
       "      <td>0.01</td>\n",
       "      <td>0.0</td>\n",
       "      <td>0.06</td>\n",
       "    </tr>\n",
       "    <tr>\n",
       "      <th>min</th>\n",
       "      <td>0.0</td>\n",
       "      <td>0.00</td>\n",
       "      <td>0.01</td>\n",
       "      <td>0.00</td>\n",
       "      <td>0.45</td>\n",
       "      <td>0.45</td>\n",
       "      <td>0.61</td>\n",
       "      <td>0.16</td>\n",
       "      <td>0.00</td>\n",
       "      <td>0.00</td>\n",
       "      <td>...</td>\n",
       "      <td>0.22</td>\n",
       "      <td>0.00</td>\n",
       "      <td>0.55</td>\n",
       "      <td>0.45</td>\n",
       "      <td>0.77</td>\n",
       "      <td>0.27</td>\n",
       "      <td>0.00</td>\n",
       "      <td>0.33</td>\n",
       "      <td>1.0</td>\n",
       "      <td>0.01</td>\n",
       "    </tr>\n",
       "    <tr>\n",
       "      <th>25%</th>\n",
       "      <td>0.0</td>\n",
       "      <td>0.48</td>\n",
       "      <td>0.54</td>\n",
       "      <td>0.53</td>\n",
       "      <td>0.60</td>\n",
       "      <td>0.60</td>\n",
       "      <td>1.00</td>\n",
       "      <td>0.80</td>\n",
       "      <td>0.81</td>\n",
       "      <td>0.30</td>\n",
       "      <td>...</td>\n",
       "      <td>0.80</td>\n",
       "      <td>0.00</td>\n",
       "      <td>0.62</td>\n",
       "      <td>0.60</td>\n",
       "      <td>0.84</td>\n",
       "      <td>0.28</td>\n",
       "      <td>0.03</td>\n",
       "      <td>0.57</td>\n",
       "      <td>1.0</td>\n",
       "      <td>0.03</td>\n",
       "    </tr>\n",
       "    <tr>\n",
       "      <th>50%</th>\n",
       "      <td>0.0</td>\n",
       "      <td>0.50</td>\n",
       "      <td>0.56</td>\n",
       "      <td>0.55</td>\n",
       "      <td>0.61</td>\n",
       "      <td>0.61</td>\n",
       "      <td>1.00</td>\n",
       "      <td>0.80</td>\n",
       "      <td>0.81</td>\n",
       "      <td>0.30</td>\n",
       "      <td>...</td>\n",
       "      <td>0.81</td>\n",
       "      <td>0.00</td>\n",
       "      <td>0.62</td>\n",
       "      <td>0.61</td>\n",
       "      <td>0.84</td>\n",
       "      <td>0.28</td>\n",
       "      <td>0.03</td>\n",
       "      <td>0.57</td>\n",
       "      <td>1.0</td>\n",
       "      <td>0.04</td>\n",
       "    </tr>\n",
       "    <tr>\n",
       "      <th>75%</th>\n",
       "      <td>0.0</td>\n",
       "      <td>0.54</td>\n",
       "      <td>0.59</td>\n",
       "      <td>0.59</td>\n",
       "      <td>0.61</td>\n",
       "      <td>0.61</td>\n",
       "      <td>1.00</td>\n",
       "      <td>0.80</td>\n",
       "      <td>0.81</td>\n",
       "      <td>0.30</td>\n",
       "      <td>...</td>\n",
       "      <td>0.83</td>\n",
       "      <td>0.01</td>\n",
       "      <td>0.62</td>\n",
       "      <td>0.61</td>\n",
       "      <td>0.84</td>\n",
       "      <td>0.28</td>\n",
       "      <td>0.03</td>\n",
       "      <td>0.57</td>\n",
       "      <td>1.0</td>\n",
       "      <td>0.06</td>\n",
       "    </tr>\n",
       "    <tr>\n",
       "      <th>max</th>\n",
       "      <td>0.0</td>\n",
       "      <td>1.00</td>\n",
       "      <td>0.95</td>\n",
       "      <td>0.96</td>\n",
       "      <td>0.66</td>\n",
       "      <td>0.66</td>\n",
       "      <td>1.00</td>\n",
       "      <td>0.81</td>\n",
       "      <td>0.82</td>\n",
       "      <td>0.33</td>\n",
       "      <td>...</td>\n",
       "      <td>0.94</td>\n",
       "      <td>0.54</td>\n",
       "      <td>0.70</td>\n",
       "      <td>0.66</td>\n",
       "      <td>0.85</td>\n",
       "      <td>0.33</td>\n",
       "      <td>0.54</td>\n",
       "      <td>0.74</td>\n",
       "      <td>1.0</td>\n",
       "      <td>1.00</td>\n",
       "    </tr>\n",
       "  </tbody>\n",
       "</table>\n",
       "<p>8 rows × 96 columns</p>\n",
       "</div>"
      ],
      "text/plain": [
       "       Bankrupt?   ROA(C) before interest and depreciation before interest  \\\n",
       "count     1000.0                                            1000.00          \n",
       "mean         0.0                                               0.51          \n",
       "std          0.0                                               0.06          \n",
       "min          0.0                                               0.00          \n",
       "25%          0.0                                               0.48          \n",
       "50%          0.0                                               0.50          \n",
       "75%          0.0                                               0.54          \n",
       "max          0.0                                               1.00          \n",
       "\n",
       "        ROA(A) before interest and % after tax  \\\n",
       "count                                  1000.00   \n",
       "mean                                      0.56   \n",
       "std                                       0.06   \n",
       "min                                       0.01   \n",
       "25%                                       0.54   \n",
       "50%                                       0.56   \n",
       "75%                                       0.59   \n",
       "max                                       0.95   \n",
       "\n",
       "        ROA(B) before interest and depreciation after tax  \\\n",
       "count                                            1000.00    \n",
       "mean                                                0.56    \n",
       "std                                                 0.06    \n",
       "min                                                 0.00    \n",
       "25%                                                 0.53    \n",
       "50%                                                 0.55    \n",
       "75%                                                 0.59    \n",
       "max                                                 0.96    \n",
       "\n",
       "        Operating Gross Margin   Realized Sales Gross Margin  \\\n",
       "count                  1000.00                       1000.00   \n",
       "mean                      0.61                          0.61   \n",
       "std                       0.01                          0.01   \n",
       "min                       0.45                          0.45   \n",
       "25%                       0.60                          0.60   \n",
       "50%                       0.61                          0.61   \n",
       "75%                       0.61                          0.61   \n",
       "max                       0.66                          0.66   \n",
       "\n",
       "        Operating Profit Rate   Pre-tax net Interest Rate  \\\n",
       "count                 1000.00                     1000.00   \n",
       "mean                     1.00                        0.80   \n",
       "std                      0.01                        0.02   \n",
       "min                      0.61                        0.16   \n",
       "25%                      1.00                        0.80   \n",
       "50%                      1.00                        0.80   \n",
       "75%                      1.00                        0.80   \n",
       "max                      1.00                        0.81   \n",
       "\n",
       "        After-tax net Interest Rate  \\\n",
       "count                       1000.00   \n",
       "mean                           0.81   \n",
       "std                            0.03   \n",
       "min                            0.00   \n",
       "25%                            0.81   \n",
       "50%                            0.81   \n",
       "75%                            0.81   \n",
       "max                            0.82   \n",
       "\n",
       "        Non-industry income and expenditure/revenue  ...  \\\n",
       "count                                       1000.00  ...   \n",
       "mean                                           0.30  ...   \n",
       "std                                            0.01  ...   \n",
       "min                                            0.00  ...   \n",
       "25%                                            0.30  ...   \n",
       "50%                                            0.30  ...   \n",
       "75%                                            0.30  ...   \n",
       "max                                            0.33  ...   \n",
       "\n",
       "        Net Income to Total Assets   Total assets to GNP price  \\\n",
       "count                      1000.00                     1000.00   \n",
       "mean                          0.81                        0.01   \n",
       "std                           0.04                        0.04   \n",
       "min                           0.22                        0.00   \n",
       "25%                           0.80                        0.00   \n",
       "50%                           0.81                        0.00   \n",
       "75%                           0.83                        0.01   \n",
       "max                           0.94                        0.54   \n",
       "\n",
       "        No-credit Interval   Gross Profit to Sales  \\\n",
       "count              1000.00                 1000.00   \n",
       "mean                  0.62                    0.61   \n",
       "std                   0.01                    0.01   \n",
       "min                   0.55                    0.45   \n",
       "25%                   0.62                    0.60   \n",
       "50%                   0.62                    0.61   \n",
       "75%                   0.62                    0.61   \n",
       "max                   0.70                    0.66   \n",
       "\n",
       "        Net Income to Stockholder's Equity   Liability to Equity  \\\n",
       "count                              1000.00               1000.00   \n",
       "mean                                  0.84                  0.28   \n",
       "std                                   0.00                  0.01   \n",
       "min                                   0.77                  0.27   \n",
       "25%                                   0.84                  0.28   \n",
       "50%                                   0.84                  0.28   \n",
       "75%                                   0.84                  0.28   \n",
       "max                                   0.85                  0.33   \n",
       "\n",
       "        Degree of Financial Leverage (DFL)  \\\n",
       "count                              1000.00   \n",
       "mean                                  0.03   \n",
       "std                                   0.02   \n",
       "min                                   0.00   \n",
       "25%                                   0.03   \n",
       "50%                                   0.03   \n",
       "75%                                   0.03   \n",
       "max                                   0.54   \n",
       "\n",
       "        Interest Coverage Ratio (Interest expense to EBIT)   Net Income Flag  \\\n",
       "count                                            1000.00              1000.0   \n",
       "mean                                                0.57                 1.0   \n",
       "std                                                 0.01                 0.0   \n",
       "min                                                 0.33                 1.0   \n",
       "25%                                                 0.57                 1.0   \n",
       "50%                                                 0.57                 1.0   \n",
       "75%                                                 0.57                 1.0   \n",
       "max                                                 0.74                 1.0   \n",
       "\n",
       "        Equity to Liability  \n",
       "count               1000.00  \n",
       "mean                   0.05  \n",
       "std                    0.06  \n",
       "min                    0.01  \n",
       "25%                    0.03  \n",
       "50%                    0.04  \n",
       "75%                    0.06  \n",
       "max                    1.00  \n",
       "\n",
       "[8 rows x 96 columns]"
      ]
     },
     "execution_count": 10,
     "metadata": {},
     "output_type": "execute_result"
    }
   ],
   "source": [
    "bank_bal[bank_bal['Bankrupt?']==0].describe().round(2)"
   ]
  },
  {
   "cell_type": "code",
   "execution_count": 11,
   "id": "6c5ca7cb",
   "metadata": {},
   "outputs": [
    {
     "data": {
      "text/html": [
       "<div>\n",
       "<style scoped>\n",
       "    .dataframe tbody tr th:only-of-type {\n",
       "        vertical-align: middle;\n",
       "    }\n",
       "\n",
       "    .dataframe tbody tr th {\n",
       "        vertical-align: top;\n",
       "    }\n",
       "\n",
       "    .dataframe thead th {\n",
       "        text-align: right;\n",
       "    }\n",
       "</style>\n",
       "<table border=\"1\" class=\"dataframe\">\n",
       "  <thead>\n",
       "    <tr style=\"text-align: right;\">\n",
       "      <th></th>\n",
       "      <th>ROA(C) before interest and depreciation before interest</th>\n",
       "      <th>ROA(A) before interest and % after tax</th>\n",
       "      <th>ROA(B) before interest and depreciation after tax</th>\n",
       "      <th>Operating Gross Margin</th>\n",
       "      <th>Realized Sales Gross Margin</th>\n",
       "      <th>Operating Profit Rate</th>\n",
       "      <th>Pre-tax net Interest Rate</th>\n",
       "      <th>After-tax net Interest Rate</th>\n",
       "      <th>Non-industry income and expenditure/revenue</th>\n",
       "      <th>Continuous interest rate (after tax)</th>\n",
       "      <th>...</th>\n",
       "      <th>Net Income to Total Assets</th>\n",
       "      <th>Total assets to GNP price</th>\n",
       "      <th>No-credit Interval</th>\n",
       "      <th>Gross Profit to Sales</th>\n",
       "      <th>Net Income to Stockholder's Equity</th>\n",
       "      <th>Liability to Equity</th>\n",
       "      <th>Degree of Financial Leverage (DFL)</th>\n",
       "      <th>Interest Coverage Ratio (Interest expense to EBIT)</th>\n",
       "      <th>Net Income Flag</th>\n",
       "      <th>Equity to Liability</th>\n",
       "    </tr>\n",
       "  </thead>\n",
       "  <tbody>\n",
       "    <tr>\n",
       "      <th>2935</th>\n",
       "      <td>0.495686</td>\n",
       "      <td>0.550916</td>\n",
       "      <td>0.542963</td>\n",
       "      <td>0.599209</td>\n",
       "      <td>0.599209</td>\n",
       "      <td>0.999001</td>\n",
       "      <td>0.797404</td>\n",
       "      <td>0.809320</td>\n",
       "      <td>0.303483</td>\n",
       "      <td>0.781574</td>\n",
       "      <td>...</td>\n",
       "      <td>0.804195</td>\n",
       "      <td>0.005798</td>\n",
       "      <td>0.623865</td>\n",
       "      <td>0.599205</td>\n",
       "      <td>0.840688</td>\n",
       "      <td>0.279388</td>\n",
       "      <td>0.027243</td>\n",
       "      <td>0.566668</td>\n",
       "      <td>1</td>\n",
       "      <td>0.030801</td>\n",
       "    </tr>\n",
       "    <tr>\n",
       "      <th>2807</th>\n",
       "      <td>0.494028</td>\n",
       "      <td>0.556149</td>\n",
       "      <td>0.539697</td>\n",
       "      <td>0.603273</td>\n",
       "      <td>0.603021</td>\n",
       "      <td>0.999016</td>\n",
       "      <td>0.797448</td>\n",
       "      <td>0.809353</td>\n",
       "      <td>0.303527</td>\n",
       "      <td>0.781613</td>\n",
       "      <td>...</td>\n",
       "      <td>0.806766</td>\n",
       "      <td>0.001678</td>\n",
       "      <td>0.623481</td>\n",
       "      <td>0.603273</td>\n",
       "      <td>0.841082</td>\n",
       "      <td>0.281947</td>\n",
       "      <td>0.027068</td>\n",
       "      <td>0.566204</td>\n",
       "      <td>1</td>\n",
       "      <td>0.023555</td>\n",
       "    </tr>\n",
       "  </tbody>\n",
       "</table>\n",
       "<p>2 rows × 95 columns</p>\n",
       "</div>"
      ],
      "text/plain": [
       "       ROA(C) before interest and depreciation before interest  \\\n",
       "2935                                           0.495686          \n",
       "2807                                           0.494028          \n",
       "\n",
       "       ROA(A) before interest and % after tax  \\\n",
       "2935                                 0.550916   \n",
       "2807                                 0.556149   \n",
       "\n",
       "       ROA(B) before interest and depreciation after tax  \\\n",
       "2935                                           0.542963    \n",
       "2807                                           0.539697    \n",
       "\n",
       "       Operating Gross Margin   Realized Sales Gross Margin  \\\n",
       "2935                 0.599209                      0.599209   \n",
       "2807                 0.603273                      0.603021   \n",
       "\n",
       "       Operating Profit Rate   Pre-tax net Interest Rate  \\\n",
       "2935                0.999001                    0.797404   \n",
       "2807                0.999016                    0.797448   \n",
       "\n",
       "       After-tax net Interest Rate  \\\n",
       "2935                      0.809320   \n",
       "2807                      0.809353   \n",
       "\n",
       "       Non-industry income and expenditure/revenue  \\\n",
       "2935                                      0.303483   \n",
       "2807                                      0.303527   \n",
       "\n",
       "       Continuous interest rate (after tax)  ...   Net Income to Total Assets  \\\n",
       "2935                               0.781574  ...                     0.804195   \n",
       "2807                               0.781613  ...                     0.806766   \n",
       "\n",
       "       Total assets to GNP price   No-credit Interval   Gross Profit to Sales  \\\n",
       "2935                    0.005798             0.623865                0.599205   \n",
       "2807                    0.001678             0.623481                0.603273   \n",
       "\n",
       "       Net Income to Stockholder's Equity   Liability to Equity  \\\n",
       "2935                             0.840688              0.279388   \n",
       "2807                             0.841082              0.281947   \n",
       "\n",
       "       Degree of Financial Leverage (DFL)  \\\n",
       "2935                             0.027243   \n",
       "2807                             0.027068   \n",
       "\n",
       "       Interest Coverage Ratio (Interest expense to EBIT)   Net Income Flag  \\\n",
       "2935                                           0.566668                   1   \n",
       "2807                                           0.566204                   1   \n",
       "\n",
       "       Equity to Liability  \n",
       "2935              0.030801  \n",
       "2807              0.023555  \n",
       "\n",
       "[2 rows x 95 columns]"
      ]
     },
     "metadata": {},
     "output_type": "display_data"
    },
    {
     "data": {
      "text/plain": [
       "2935    0\n",
       "2807    0\n",
       "Name: Bankrupt?, dtype: int64"
      ]
     },
     "metadata": {},
     "output_type": "display_data"
    }
   ],
   "source": [
    "X_bank, y_bank=bank_bal.iloc[:,1:], bank_bal['Bankrupt?'] \n",
    "display(X_bank.head(2))\n",
    "display(y_bank.head(2))"
   ]
  },
  {
   "cell_type": "code",
   "execution_count": 12,
   "id": "bbf7838b",
   "metadata": {},
   "outputs": [],
   "source": [
    "from sklearn.tree import DecisionTreeClassifier"
   ]
  },
  {
   "cell_type": "code",
   "execution_count": 13,
   "id": "c87ff51b",
   "metadata": {},
   "outputs": [
    {
     "data": {
      "text/plain": [
       "DecisionTreeClassifier(random_state=0)"
      ]
     },
     "execution_count": 13,
     "metadata": {},
     "output_type": "execute_result"
    }
   ],
   "source": [
    "dt=DecisionTreeClassifier(random_state=0)\n",
    "dt.fit(X_bank,y_bank)"
   ]
  },
  {
   "cell_type": "code",
   "execution_count": 14,
   "id": "cb116f67",
   "metadata": {},
   "outputs": [
    {
     "data": {
      "text/plain": [
       "16"
      ]
     },
     "execution_count": 14,
     "metadata": {},
     "output_type": "execute_result"
    }
   ],
   "source": [
    "sum(dt.feature_importances_>.01)"
   ]
  },
  {
   "cell_type": "code",
   "execution_count": 15,
   "id": "f7775290",
   "metadata": {
    "scrolled": true
   },
   "outputs": [
    {
     "data": {
      "text/html": [
       "<div>\n",
       "<style scoped>\n",
       "    .dataframe tbody tr th:only-of-type {\n",
       "        vertical-align: middle;\n",
       "    }\n",
       "\n",
       "    .dataframe tbody tr th {\n",
       "        vertical-align: top;\n",
       "    }\n",
       "\n",
       "    .dataframe thead th {\n",
       "        text-align: right;\n",
       "    }\n",
       "</style>\n",
       "<table border=\"1\" class=\"dataframe\">\n",
       "  <thead>\n",
       "    <tr style=\"text-align: right;\">\n",
       "      <th></th>\n",
       "      <th>Continuous interest rate (after tax)</th>\n",
       "      <th>Operating Expense Rate</th>\n",
       "      <th>Interest-bearing debt interest rate</th>\n",
       "      <th>Net Value Per Share (A)</th>\n",
       "      <th>Persistent EPS in the Last Four Seasons</th>\n",
       "      <th>Operating Profit Growth Rate</th>\n",
       "      <th>Total Asset Growth Rate</th>\n",
       "      <th>Quick Ratio</th>\n",
       "      <th>Interest Expense Ratio</th>\n",
       "      <th>Total debt/Total net worth</th>\n",
       "      <th>Accounts Receivable Turnover</th>\n",
       "      <th>Operating profit per person</th>\n",
       "      <th>Allocation rate per person</th>\n",
       "      <th>Cash Turnover Rate</th>\n",
       "      <th>Cash Flow to Sales</th>\n",
       "      <th>Interest Coverage Ratio (Interest expense to EBIT)</th>\n",
       "    </tr>\n",
       "  </thead>\n",
       "  <tbody>\n",
       "    <tr>\n",
       "      <th>2935</th>\n",
       "      <td>0.781574</td>\n",
       "      <td>5.820000e+09</td>\n",
       "      <td>0.000672</td>\n",
       "      <td>0.177447</td>\n",
       "      <td>0.217831</td>\n",
       "      <td>0.848084</td>\n",
       "      <td>5.550000e+09</td>\n",
       "      <td>0.007517</td>\n",
       "      <td>0.632188</td>\n",
       "      <td>0.006354</td>\n",
       "      <td>0.001469</td>\n",
       "      <td>0.396373</td>\n",
       "      <td>0.005721</td>\n",
       "      <td>2.580000e+08</td>\n",
       "      <td>0.671572</td>\n",
       "      <td>0.566668</td>\n",
       "    </tr>\n",
       "    <tr>\n",
       "      <th>2807</th>\n",
       "      <td>0.781613</td>\n",
       "      <td>1.038420e-04</td>\n",
       "      <td>0.000359</td>\n",
       "      <td>0.190342</td>\n",
       "      <td>0.224355</td>\n",
       "      <td>0.848025</td>\n",
       "      <td>8.000000e+09</td>\n",
       "      <td>0.003586</td>\n",
       "      <td>0.631575</td>\n",
       "      <td>0.009883</td>\n",
       "      <td>0.001108</td>\n",
       "      <td>0.398295</td>\n",
       "      <td>0.006320</td>\n",
       "      <td>6.650000e+09</td>\n",
       "      <td>0.671579</td>\n",
       "      <td>0.566204</td>\n",
       "    </tr>\n",
       "    <tr>\n",
       "      <th>1834</th>\n",
       "      <td>0.781601</td>\n",
       "      <td>1.474370e-04</td>\n",
       "      <td>0.000141</td>\n",
       "      <td>0.171421</td>\n",
       "      <td>0.218020</td>\n",
       "      <td>0.848012</td>\n",
       "      <td>5.830000e+09</td>\n",
       "      <td>0.006185</td>\n",
       "      <td>0.631163</td>\n",
       "      <td>0.007635</td>\n",
       "      <td>0.000363</td>\n",
       "      <td>0.394677</td>\n",
       "      <td>0.015585</td>\n",
       "      <td>1.250000e+09</td>\n",
       "      <td>0.671575</td>\n",
       "      <td>0.565898</td>\n",
       "    </tr>\n",
       "    <tr>\n",
       "      <th>3475</th>\n",
       "      <td>0.781594</td>\n",
       "      <td>1.973910e-04</td>\n",
       "      <td>0.000484</td>\n",
       "      <td>0.189415</td>\n",
       "      <td>0.216129</td>\n",
       "      <td>0.848184</td>\n",
       "      <td>1.039850e-04</td>\n",
       "      <td>0.004459</td>\n",
       "      <td>0.632241</td>\n",
       "      <td>0.010284</td>\n",
       "      <td>0.002682</td>\n",
       "      <td>0.392879</td>\n",
       "      <td>0.048975</td>\n",
       "      <td>2.072150e-04</td>\n",
       "      <td>0.671454</td>\n",
       "      <td>0.566266</td>\n",
       "    </tr>\n",
       "    <tr>\n",
       "      <th>5150</th>\n",
       "      <td>0.781749</td>\n",
       "      <td>9.560000e+09</td>\n",
       "      <td>0.000000</td>\n",
       "      <td>0.234419</td>\n",
       "      <td>0.245722</td>\n",
       "      <td>0.848215</td>\n",
       "      <td>7.490000e+09</td>\n",
       "      <td>0.022148</td>\n",
       "      <td>0.630614</td>\n",
       "      <td>0.001962</td>\n",
       "      <td>0.001175</td>\n",
       "      <td>0.403247</td>\n",
       "      <td>0.002276</td>\n",
       "      <td>2.695690e-04</td>\n",
       "      <td>0.671648</td>\n",
       "      <td>0.565160</td>\n",
       "    </tr>\n",
       "  </tbody>\n",
       "</table>\n",
       "</div>"
      ],
      "text/plain": [
       "       Continuous interest rate (after tax)   Operating Expense Rate  \\\n",
       "2935                               0.781574             5.820000e+09   \n",
       "2807                               0.781613             1.038420e-04   \n",
       "1834                               0.781601             1.474370e-04   \n",
       "3475                               0.781594             1.973910e-04   \n",
       "5150                               0.781749             9.560000e+09   \n",
       "\n",
       "       Interest-bearing debt interest rate   Net Value Per Share (A)  \\\n",
       "2935                              0.000672                  0.177447   \n",
       "2807                              0.000359                  0.190342   \n",
       "1834                              0.000141                  0.171421   \n",
       "3475                              0.000484                  0.189415   \n",
       "5150                              0.000000                  0.234419   \n",
       "\n",
       "       Persistent EPS in the Last Four Seasons   Operating Profit Growth Rate  \\\n",
       "2935                                  0.217831                       0.848084   \n",
       "2807                                  0.224355                       0.848025   \n",
       "1834                                  0.218020                       0.848012   \n",
       "3475                                  0.216129                       0.848184   \n",
       "5150                                  0.245722                       0.848215   \n",
       "\n",
       "       Total Asset Growth Rate   Quick Ratio   Interest Expense Ratio  \\\n",
       "2935              5.550000e+09      0.007517                 0.632188   \n",
       "2807              8.000000e+09      0.003586                 0.631575   \n",
       "1834              5.830000e+09      0.006185                 0.631163   \n",
       "3475              1.039850e-04      0.004459                 0.632241   \n",
       "5150              7.490000e+09      0.022148                 0.630614   \n",
       "\n",
       "       Total debt/Total net worth   Accounts Receivable Turnover  \\\n",
       "2935                     0.006354                       0.001469   \n",
       "2807                     0.009883                       0.001108   \n",
       "1834                     0.007635                       0.000363   \n",
       "3475                     0.010284                       0.002682   \n",
       "5150                     0.001962                       0.001175   \n",
       "\n",
       "       Operating profit per person   Allocation rate per person  \\\n",
       "2935                      0.396373                     0.005721   \n",
       "2807                      0.398295                     0.006320   \n",
       "1834                      0.394677                     0.015585   \n",
       "3475                      0.392879                     0.048975   \n",
       "5150                      0.403247                     0.002276   \n",
       "\n",
       "       Cash Turnover Rate   Cash Flow to Sales  \\\n",
       "2935         2.580000e+08             0.671572   \n",
       "2807         6.650000e+09             0.671579   \n",
       "1834         1.250000e+09             0.671575   \n",
       "3475         2.072150e-04             0.671454   \n",
       "5150         2.695690e-04             0.671648   \n",
       "\n",
       "       Interest Coverage Ratio (Interest expense to EBIT)  \n",
       "2935                                           0.566668    \n",
       "2807                                           0.566204    \n",
       "1834                                           0.565898    \n",
       "3475                                           0.566266    \n",
       "5150                                           0.565160    "
      ]
     },
     "execution_count": 15,
     "metadata": {},
     "output_type": "execute_result"
    }
   ],
   "source": [
    "X_bank_sel=X_bank[X_bank.columns[dt.feature_importances_>.01]]\n",
    "X_bank_sel.head()"
   ]
  },
  {
   "cell_type": "code",
   "execution_count": 16,
   "id": "04136e39",
   "metadata": {},
   "outputs": [
    {
     "data": {
      "text/plain": [
       "array([[9.78771560e-01, 5.87285570e-01, 7.00069792e-13, ...,\n",
       "        2.58258258e-02, 9.72108922e-01, 5.79849651e-01],\n",
       "       [9.78829637e-01, 3.85065590e-16, 3.73995833e-13, ...,\n",
       "        6.65665666e-01, 9.72118950e-01, 5.78705083e-01],\n",
       "       [9.78812680e-01, 4.78415742e-15, 1.46889583e-13, ...,\n",
       "        1.25125125e-01, 9.72112531e-01, 5.77951033e-01],\n",
       "       ...,\n",
       "       [9.78397658e-01, 5.07578204e-15, 8.43834375e-13, ...,\n",
       "        1.39725726e-14, 9.72129663e-01, 5.72450276e-01],\n",
       "       [9.78439202e-01, 2.44808274e-14, 4.43794792e-13, ...,\n",
       "        9.09909910e-02, 9.72104756e-01, 5.71057391e-01],\n",
       "       [9.69751507e-01, 4.86501715e-13, 0.00000000e+00, ...,\n",
       "        2.34577578e-14, 9.72031743e-01, 5.76126590e-01]])"
      ]
     },
     "execution_count": 16,
     "metadata": {},
     "output_type": "execute_result"
    }
   ],
   "source": [
    "scaler1=MinMaxScaler()\n",
    "X_bank_trns=scaler1.fit_transform(X_bank_sel)\n",
    "X_bank_trns"
   ]
  },
  {
   "cell_type": "code",
   "execution_count": 17,
   "id": "7c0be442",
   "metadata": {},
   "outputs": [],
   "source": [
    "X_train, X_test, y_train, y_test=train_test_split(X_bank_trns, y_bank, test_size=0.2, random_state=0)"
   ]
  },
  {
   "cell_type": "code",
   "execution_count": 18,
   "id": "21f4edc6",
   "metadata": {},
   "outputs": [],
   "source": [
    "train_scores_log_reg, test_scores_log_reg=validation_curve(LogisticRegression(penalty='l1', solver='saga', max_iter=100000), X_train, y_train, param_name='C',\n",
    "                                           param_range=[0.01,0.05,1,5,10,20], cv=4)"
   ]
  },
  {
   "cell_type": "code",
   "execution_count": 19,
   "id": "447e3f4b",
   "metadata": {},
   "outputs": [
    {
     "data": {
      "text/plain": [
       "array([0.5   , 0.57  , 0.8023, 0.8071, 0.8088, 0.8106])"
      ]
     },
     "execution_count": 19,
     "metadata": {},
     "output_type": "execute_result"
    }
   ],
   "source": [
    "train_scores_log_reg.mean(axis=1).round(4)"
   ]
  },
  {
   "cell_type": "code",
   "execution_count": 20,
   "id": "1451a78b",
   "metadata": {},
   "outputs": [
    {
     "data": {
      "text/plain": [
       "array([0.5   , 0.5581, 0.7981, 0.8019, 0.8038, 0.8062])"
      ]
     },
     "execution_count": 20,
     "metadata": {},
     "output_type": "execute_result"
    }
   ],
   "source": [
    "test_scores_log_reg.mean(axis=1).round(4)"
   ]
  },
  {
   "cell_type": "code",
   "execution_count": 21,
   "id": "0c44dbe2",
   "metadata": {},
   "outputs": [
    {
     "data": {
      "text/plain": [
       "LogisticRegression(C=20, max_iter=1000)"
      ]
     },
     "execution_count": 21,
     "metadata": {},
     "output_type": "execute_result"
    }
   ],
   "source": [
    "log_reg=LogisticRegression(max_iter=1000, C=20)\n",
    "log_reg.fit(X_train, y_train)"
   ]
  },
  {
   "cell_type": "code",
   "execution_count": 22,
   "id": "9e4f1509",
   "metadata": {},
   "outputs": [
    {
     "name": "stdout",
     "output_type": "stream",
     "text": [
      "log reg acc on train: 79.94%\n",
      "log reg acc on test: 78.50%\n"
     ]
    }
   ],
   "source": [
    "print('log reg acc on train: {:.2%}'.format(log_reg.score(X_train, y_train)))\n",
    "print('log reg acc on test: {:.2%}'.format(log_reg.score(X_test, y_test)))"
   ]
  },
  {
   "cell_type": "code",
   "execution_count": 23,
   "id": "1a117c4e",
   "metadata": {},
   "outputs": [
    {
     "data": {
      "text/plain": [
       "array([[ 1.80562301e+00,  6.58093325e-01, -2.48466435e+00,\n",
       "        -1.85227806e+01, -3.48278375e+01, -3.57157720e+00,\n",
       "        -8.00673043e-02,  2.90046551e-01,  1.33873194e+00,\n",
       "         1.69666951e+00,  1.11453148e+00,  1.46028712e-02,\n",
       "         9.83097328e-01, -9.80587826e-02,  1.42027076e+00,\n",
       "         5.31704890e-01]])"
      ]
     },
     "execution_count": 23,
     "metadata": {},
     "output_type": "execute_result"
    }
   ],
   "source": [
    "log_reg.coef_"
   ]
  },
  {
   "cell_type": "code",
   "execution_count": 24,
   "id": "02892777",
   "metadata": {},
   "outputs": [
    {
     "ename": "ValueError",
     "evalue": "X has 17 features, but LogisticRegression is expecting 16 features as input.",
     "output_type": "error",
     "traceback": [
      "\u001b[0;31m---------------------------------------------------------------------------\u001b[0m",
      "\u001b[0;31mValueError\u001b[0m                                Traceback (most recent call last)",
      "Input \u001b[0;32mIn [24]\u001b[0m, in \u001b[0;36m<cell line: 2>\u001b[0;34m()\u001b[0m\n\u001b[1;32m      1\u001b[0m p1\u001b[38;5;241m=\u001b[39m[\u001b[38;5;241m0.2\u001b[39m,\u001b[38;5;241m0.4\u001b[39m,\u001b[38;5;241m0.5\u001b[39m,\u001b[38;5;241m0.1\u001b[39m,\u001b[38;5;241m0.4\u001b[39m,\u001b[38;5;241m0.3\u001b[39m,\u001b[38;5;241m0.2\u001b[39m,\u001b[38;5;241m0.5\u001b[39m,\u001b[38;5;241m0.2\u001b[39m,\u001b[38;5;241m0.5\u001b[39m,\u001b[38;5;241m0.5\u001b[39m,\u001b[38;5;241m0.2\u001b[39m,\u001b[38;5;241m0.2\u001b[39m,\u001b[38;5;241m0.4\u001b[39m,\u001b[38;5;241m0.5\u001b[39m,\u001b[38;5;241m0.2\u001b[39m,\u001b[38;5;241m0.1\u001b[39m]\n\u001b[0;32m----> 2\u001b[0m \u001b[43mlog_reg\u001b[49m\u001b[38;5;241;43m.\u001b[39;49m\u001b[43mpredict\u001b[49m\u001b[43m(\u001b[49m\u001b[43m[\u001b[49m\u001b[43mp1\u001b[49m\u001b[43m]\u001b[49m\u001b[43m)\u001b[49m\n",
      "File \u001b[0;32m~/opt/anaconda3/lib/python3.9/site-packages/sklearn/linear_model/_base.py:425\u001b[0m, in \u001b[0;36mLinearClassifierMixin.predict\u001b[0;34m(self, X)\u001b[0m\n\u001b[1;32m    411\u001b[0m \u001b[38;5;28;01mdef\u001b[39;00m \u001b[38;5;21mpredict\u001b[39m(\u001b[38;5;28mself\u001b[39m, X):\n\u001b[1;32m    412\u001b[0m     \u001b[38;5;124;03m\"\"\"\u001b[39;00m\n\u001b[1;32m    413\u001b[0m \u001b[38;5;124;03m    Predict class labels for samples in X.\u001b[39;00m\n\u001b[1;32m    414\u001b[0m \n\u001b[0;32m   (...)\u001b[0m\n\u001b[1;32m    423\u001b[0m \u001b[38;5;124;03m        Vector containing the class labels for each sample.\u001b[39;00m\n\u001b[1;32m    424\u001b[0m \u001b[38;5;124;03m    \"\"\"\u001b[39;00m\n\u001b[0;32m--> 425\u001b[0m     scores \u001b[38;5;241m=\u001b[39m \u001b[38;5;28;43mself\u001b[39;49m\u001b[38;5;241;43m.\u001b[39;49m\u001b[43mdecision_function\u001b[49m\u001b[43m(\u001b[49m\u001b[43mX\u001b[49m\u001b[43m)\u001b[49m\n\u001b[1;32m    426\u001b[0m     \u001b[38;5;28;01mif\u001b[39;00m \u001b[38;5;28mlen\u001b[39m(scores\u001b[38;5;241m.\u001b[39mshape) \u001b[38;5;241m==\u001b[39m \u001b[38;5;241m1\u001b[39m:\n\u001b[1;32m    427\u001b[0m         indices \u001b[38;5;241m=\u001b[39m (scores \u001b[38;5;241m>\u001b[39m \u001b[38;5;241m0\u001b[39m)\u001b[38;5;241m.\u001b[39mastype(\u001b[38;5;28mint\u001b[39m)\n",
      "File \u001b[0;32m~/opt/anaconda3/lib/python3.9/site-packages/sklearn/linear_model/_base.py:407\u001b[0m, in \u001b[0;36mLinearClassifierMixin.decision_function\u001b[0;34m(self, X)\u001b[0m\n\u001b[1;32m    387\u001b[0m \u001b[38;5;124;03m\"\"\"\u001b[39;00m\n\u001b[1;32m    388\u001b[0m \u001b[38;5;124;03mPredict confidence scores for samples.\u001b[39;00m\n\u001b[1;32m    389\u001b[0m \n\u001b[0;32m   (...)\u001b[0m\n\u001b[1;32m    403\u001b[0m \u001b[38;5;124;03m    this class would be predicted.\u001b[39;00m\n\u001b[1;32m    404\u001b[0m \u001b[38;5;124;03m\"\"\"\u001b[39;00m\n\u001b[1;32m    405\u001b[0m check_is_fitted(\u001b[38;5;28mself\u001b[39m)\n\u001b[0;32m--> 407\u001b[0m X \u001b[38;5;241m=\u001b[39m \u001b[38;5;28;43mself\u001b[39;49m\u001b[38;5;241;43m.\u001b[39;49m\u001b[43m_validate_data\u001b[49m\u001b[43m(\u001b[49m\u001b[43mX\u001b[49m\u001b[43m,\u001b[49m\u001b[43m \u001b[49m\u001b[43maccept_sparse\u001b[49m\u001b[38;5;241;43m=\u001b[39;49m\u001b[38;5;124;43m\"\u001b[39;49m\u001b[38;5;124;43mcsr\u001b[39;49m\u001b[38;5;124;43m\"\u001b[39;49m\u001b[43m,\u001b[49m\u001b[43m \u001b[49m\u001b[43mreset\u001b[49m\u001b[38;5;241;43m=\u001b[39;49m\u001b[38;5;28;43;01mFalse\u001b[39;49;00m\u001b[43m)\u001b[49m\n\u001b[1;32m    408\u001b[0m scores \u001b[38;5;241m=\u001b[39m safe_sparse_dot(X, \u001b[38;5;28mself\u001b[39m\u001b[38;5;241m.\u001b[39mcoef_\u001b[38;5;241m.\u001b[39mT, dense_output\u001b[38;5;241m=\u001b[39m\u001b[38;5;28;01mTrue\u001b[39;00m) \u001b[38;5;241m+\u001b[39m \u001b[38;5;28mself\u001b[39m\u001b[38;5;241m.\u001b[39mintercept_\n\u001b[1;32m    409\u001b[0m \u001b[38;5;28;01mreturn\u001b[39;00m scores\u001b[38;5;241m.\u001b[39mravel() \u001b[38;5;28;01mif\u001b[39;00m scores\u001b[38;5;241m.\u001b[39mshape[\u001b[38;5;241m1\u001b[39m] \u001b[38;5;241m==\u001b[39m \u001b[38;5;241m1\u001b[39m \u001b[38;5;28;01melse\u001b[39;00m scores\n",
      "File \u001b[0;32m~/opt/anaconda3/lib/python3.9/site-packages/sklearn/base.py:585\u001b[0m, in \u001b[0;36mBaseEstimator._validate_data\u001b[0;34m(self, X, y, reset, validate_separately, **check_params)\u001b[0m\n\u001b[1;32m    582\u001b[0m     out \u001b[38;5;241m=\u001b[39m X, y\n\u001b[1;32m    584\u001b[0m \u001b[38;5;28;01mif\u001b[39;00m \u001b[38;5;129;01mnot\u001b[39;00m no_val_X \u001b[38;5;129;01mand\u001b[39;00m check_params\u001b[38;5;241m.\u001b[39mget(\u001b[38;5;124m\"\u001b[39m\u001b[38;5;124mensure_2d\u001b[39m\u001b[38;5;124m\"\u001b[39m, \u001b[38;5;28;01mTrue\u001b[39;00m):\n\u001b[0;32m--> 585\u001b[0m     \u001b[38;5;28;43mself\u001b[39;49m\u001b[38;5;241;43m.\u001b[39;49m\u001b[43m_check_n_features\u001b[49m\u001b[43m(\u001b[49m\u001b[43mX\u001b[49m\u001b[43m,\u001b[49m\u001b[43m \u001b[49m\u001b[43mreset\u001b[49m\u001b[38;5;241;43m=\u001b[39;49m\u001b[43mreset\u001b[49m\u001b[43m)\u001b[49m\n\u001b[1;32m    587\u001b[0m \u001b[38;5;28;01mreturn\u001b[39;00m out\n",
      "File \u001b[0;32m~/opt/anaconda3/lib/python3.9/site-packages/sklearn/base.py:400\u001b[0m, in \u001b[0;36mBaseEstimator._check_n_features\u001b[0;34m(self, X, reset)\u001b[0m\n\u001b[1;32m    397\u001b[0m     \u001b[38;5;28;01mreturn\u001b[39;00m\n\u001b[1;32m    399\u001b[0m \u001b[38;5;28;01mif\u001b[39;00m n_features \u001b[38;5;241m!=\u001b[39m \u001b[38;5;28mself\u001b[39m\u001b[38;5;241m.\u001b[39mn_features_in_:\n\u001b[0;32m--> 400\u001b[0m     \u001b[38;5;28;01mraise\u001b[39;00m \u001b[38;5;167;01mValueError\u001b[39;00m(\n\u001b[1;32m    401\u001b[0m         \u001b[38;5;124mf\u001b[39m\u001b[38;5;124m\"\u001b[39m\u001b[38;5;124mX has \u001b[39m\u001b[38;5;132;01m{\u001b[39;00mn_features\u001b[38;5;132;01m}\u001b[39;00m\u001b[38;5;124m features, but \u001b[39m\u001b[38;5;132;01m{\u001b[39;00m\u001b[38;5;28mself\u001b[39m\u001b[38;5;241m.\u001b[39m\u001b[38;5;18m__class__\u001b[39m\u001b[38;5;241m.\u001b[39m\u001b[38;5;18m__name__\u001b[39m\u001b[38;5;132;01m}\u001b[39;00m\u001b[38;5;124m \u001b[39m\u001b[38;5;124m\"\u001b[39m\n\u001b[1;32m    402\u001b[0m         \u001b[38;5;124mf\u001b[39m\u001b[38;5;124m\"\u001b[39m\u001b[38;5;124mis expecting \u001b[39m\u001b[38;5;132;01m{\u001b[39;00m\u001b[38;5;28mself\u001b[39m\u001b[38;5;241m.\u001b[39mn_features_in_\u001b[38;5;132;01m}\u001b[39;00m\u001b[38;5;124m features as input.\u001b[39m\u001b[38;5;124m\"\u001b[39m\n\u001b[1;32m    403\u001b[0m     )\n",
      "\u001b[0;31mValueError\u001b[0m: X has 17 features, but LogisticRegression is expecting 16 features as input."
     ]
    }
   ],
   "source": [
    "p1=[0.2,0.4,0.5,0.1,0.4,0.3,0.2,0.5,0.2,0.5,0.5,0.2,0.2,0.4,0.5,0.2,0.1]\n",
    "log_reg.predict([p1])"
   ]
  },
  {
   "cell_type": "code",
   "execution_count": 25,
   "id": "a4cc4810",
   "metadata": {},
   "outputs": [],
   "source": [
    "import numpy as np\n",
    "np.set_printoptions(suppress=True)"
   ]
  },
  {
   "cell_type": "code",
   "execution_count": 26,
   "id": "c43f413f",
   "metadata": {},
   "outputs": [
    {
     "ename": "ValueError",
     "evalue": "X has 17 features, but LogisticRegression is expecting 16 features as input.",
     "output_type": "error",
     "traceback": [
      "\u001b[0;31m---------------------------------------------------------------------------\u001b[0m",
      "\u001b[0;31mValueError\u001b[0m                                Traceback (most recent call last)",
      "Input \u001b[0;32mIn [26]\u001b[0m, in \u001b[0;36m<cell line: 1>\u001b[0;34m()\u001b[0m\n\u001b[0;32m----> 1\u001b[0m \u001b[43mlog_reg\u001b[49m\u001b[38;5;241;43m.\u001b[39;49m\u001b[43mpredict_proba\u001b[49m\u001b[43m(\u001b[49m\u001b[43m[\u001b[49m\u001b[43mp1\u001b[49m\u001b[43m]\u001b[49m\u001b[43m)\u001b[49m\u001b[38;5;241m.\u001b[39mround(\u001b[38;5;241m4\u001b[39m)\n",
      "File \u001b[0;32m~/opt/anaconda3/lib/python3.9/site-packages/sklearn/linear_model/_logistic.py:1670\u001b[0m, in \u001b[0;36mLogisticRegression.predict_proba\u001b[0;34m(self, X)\u001b[0m\n\u001b[1;32m   1665\u001b[0m ovr \u001b[38;5;241m=\u001b[39m \u001b[38;5;28mself\u001b[39m\u001b[38;5;241m.\u001b[39mmulti_class \u001b[38;5;129;01min\u001b[39;00m [\u001b[38;5;124m\"\u001b[39m\u001b[38;5;124movr\u001b[39m\u001b[38;5;124m\"\u001b[39m, \u001b[38;5;124m\"\u001b[39m\u001b[38;5;124mwarn\u001b[39m\u001b[38;5;124m\"\u001b[39m] \u001b[38;5;129;01mor\u001b[39;00m (\n\u001b[1;32m   1666\u001b[0m     \u001b[38;5;28mself\u001b[39m\u001b[38;5;241m.\u001b[39mmulti_class \u001b[38;5;241m==\u001b[39m \u001b[38;5;124m\"\u001b[39m\u001b[38;5;124mauto\u001b[39m\u001b[38;5;124m\"\u001b[39m\n\u001b[1;32m   1667\u001b[0m     \u001b[38;5;129;01mand\u001b[39;00m (\u001b[38;5;28mself\u001b[39m\u001b[38;5;241m.\u001b[39mclasses_\u001b[38;5;241m.\u001b[39msize \u001b[38;5;241m<\u001b[39m\u001b[38;5;241m=\u001b[39m \u001b[38;5;241m2\u001b[39m \u001b[38;5;129;01mor\u001b[39;00m \u001b[38;5;28mself\u001b[39m\u001b[38;5;241m.\u001b[39msolver \u001b[38;5;241m==\u001b[39m \u001b[38;5;124m\"\u001b[39m\u001b[38;5;124mliblinear\u001b[39m\u001b[38;5;124m\"\u001b[39m)\n\u001b[1;32m   1668\u001b[0m )\n\u001b[1;32m   1669\u001b[0m \u001b[38;5;28;01mif\u001b[39;00m ovr:\n\u001b[0;32m-> 1670\u001b[0m     \u001b[38;5;28;01mreturn\u001b[39;00m \u001b[38;5;28;43msuper\u001b[39;49m\u001b[43m(\u001b[49m\u001b[43m)\u001b[49m\u001b[38;5;241;43m.\u001b[39;49m\u001b[43m_predict_proba_lr\u001b[49m\u001b[43m(\u001b[49m\u001b[43mX\u001b[49m\u001b[43m)\u001b[49m\n\u001b[1;32m   1671\u001b[0m \u001b[38;5;28;01melse\u001b[39;00m:\n\u001b[1;32m   1672\u001b[0m     decision \u001b[38;5;241m=\u001b[39m \u001b[38;5;28mself\u001b[39m\u001b[38;5;241m.\u001b[39mdecision_function(X)\n",
      "File \u001b[0;32m~/opt/anaconda3/lib/python3.9/site-packages/sklearn/linear_model/_base.py:439\u001b[0m, in \u001b[0;36mLinearClassifierMixin._predict_proba_lr\u001b[0;34m(self, X)\u001b[0m\n\u001b[1;32m    432\u001b[0m \u001b[38;5;28;01mdef\u001b[39;00m \u001b[38;5;21m_predict_proba_lr\u001b[39m(\u001b[38;5;28mself\u001b[39m, X):\n\u001b[1;32m    433\u001b[0m     \u001b[38;5;124;03m\"\"\"Probability estimation for OvR logistic regression.\u001b[39;00m\n\u001b[1;32m    434\u001b[0m \n\u001b[1;32m    435\u001b[0m \u001b[38;5;124;03m    Positive class probabilities are computed as\u001b[39;00m\n\u001b[1;32m    436\u001b[0m \u001b[38;5;124;03m    1. / (1. + np.exp(-self.decision_function(X)));\u001b[39;00m\n\u001b[1;32m    437\u001b[0m \u001b[38;5;124;03m    multiclass is handled by normalizing that over all classes.\u001b[39;00m\n\u001b[1;32m    438\u001b[0m \u001b[38;5;124;03m    \"\"\"\u001b[39;00m\n\u001b[0;32m--> 439\u001b[0m     prob \u001b[38;5;241m=\u001b[39m \u001b[38;5;28;43mself\u001b[39;49m\u001b[38;5;241;43m.\u001b[39;49m\u001b[43mdecision_function\u001b[49m\u001b[43m(\u001b[49m\u001b[43mX\u001b[49m\u001b[43m)\u001b[49m\n\u001b[1;32m    440\u001b[0m     expit(prob, out\u001b[38;5;241m=\u001b[39mprob)\n\u001b[1;32m    441\u001b[0m     \u001b[38;5;28;01mif\u001b[39;00m prob\u001b[38;5;241m.\u001b[39mndim \u001b[38;5;241m==\u001b[39m \u001b[38;5;241m1\u001b[39m:\n",
      "File \u001b[0;32m~/opt/anaconda3/lib/python3.9/site-packages/sklearn/linear_model/_base.py:407\u001b[0m, in \u001b[0;36mLinearClassifierMixin.decision_function\u001b[0;34m(self, X)\u001b[0m\n\u001b[1;32m    387\u001b[0m \u001b[38;5;124;03m\"\"\"\u001b[39;00m\n\u001b[1;32m    388\u001b[0m \u001b[38;5;124;03mPredict confidence scores for samples.\u001b[39;00m\n\u001b[1;32m    389\u001b[0m \n\u001b[0;32m   (...)\u001b[0m\n\u001b[1;32m    403\u001b[0m \u001b[38;5;124;03m    this class would be predicted.\u001b[39;00m\n\u001b[1;32m    404\u001b[0m \u001b[38;5;124;03m\"\"\"\u001b[39;00m\n\u001b[1;32m    405\u001b[0m check_is_fitted(\u001b[38;5;28mself\u001b[39m)\n\u001b[0;32m--> 407\u001b[0m X \u001b[38;5;241m=\u001b[39m \u001b[38;5;28;43mself\u001b[39;49m\u001b[38;5;241;43m.\u001b[39;49m\u001b[43m_validate_data\u001b[49m\u001b[43m(\u001b[49m\u001b[43mX\u001b[49m\u001b[43m,\u001b[49m\u001b[43m \u001b[49m\u001b[43maccept_sparse\u001b[49m\u001b[38;5;241;43m=\u001b[39;49m\u001b[38;5;124;43m\"\u001b[39;49m\u001b[38;5;124;43mcsr\u001b[39;49m\u001b[38;5;124;43m\"\u001b[39;49m\u001b[43m,\u001b[49m\u001b[43m \u001b[49m\u001b[43mreset\u001b[49m\u001b[38;5;241;43m=\u001b[39;49m\u001b[38;5;28;43;01mFalse\u001b[39;49;00m\u001b[43m)\u001b[49m\n\u001b[1;32m    408\u001b[0m scores \u001b[38;5;241m=\u001b[39m safe_sparse_dot(X, \u001b[38;5;28mself\u001b[39m\u001b[38;5;241m.\u001b[39mcoef_\u001b[38;5;241m.\u001b[39mT, dense_output\u001b[38;5;241m=\u001b[39m\u001b[38;5;28;01mTrue\u001b[39;00m) \u001b[38;5;241m+\u001b[39m \u001b[38;5;28mself\u001b[39m\u001b[38;5;241m.\u001b[39mintercept_\n\u001b[1;32m    409\u001b[0m \u001b[38;5;28;01mreturn\u001b[39;00m scores\u001b[38;5;241m.\u001b[39mravel() \u001b[38;5;28;01mif\u001b[39;00m scores\u001b[38;5;241m.\u001b[39mshape[\u001b[38;5;241m1\u001b[39m] \u001b[38;5;241m==\u001b[39m \u001b[38;5;241m1\u001b[39m \u001b[38;5;28;01melse\u001b[39;00m scores\n",
      "File \u001b[0;32m~/opt/anaconda3/lib/python3.9/site-packages/sklearn/base.py:585\u001b[0m, in \u001b[0;36mBaseEstimator._validate_data\u001b[0;34m(self, X, y, reset, validate_separately, **check_params)\u001b[0m\n\u001b[1;32m    582\u001b[0m     out \u001b[38;5;241m=\u001b[39m X, y\n\u001b[1;32m    584\u001b[0m \u001b[38;5;28;01mif\u001b[39;00m \u001b[38;5;129;01mnot\u001b[39;00m no_val_X \u001b[38;5;129;01mand\u001b[39;00m check_params\u001b[38;5;241m.\u001b[39mget(\u001b[38;5;124m\"\u001b[39m\u001b[38;5;124mensure_2d\u001b[39m\u001b[38;5;124m\"\u001b[39m, \u001b[38;5;28;01mTrue\u001b[39;00m):\n\u001b[0;32m--> 585\u001b[0m     \u001b[38;5;28;43mself\u001b[39;49m\u001b[38;5;241;43m.\u001b[39;49m\u001b[43m_check_n_features\u001b[49m\u001b[43m(\u001b[49m\u001b[43mX\u001b[49m\u001b[43m,\u001b[49m\u001b[43m \u001b[49m\u001b[43mreset\u001b[49m\u001b[38;5;241;43m=\u001b[39;49m\u001b[43mreset\u001b[49m\u001b[43m)\u001b[49m\n\u001b[1;32m    587\u001b[0m \u001b[38;5;28;01mreturn\u001b[39;00m out\n",
      "File \u001b[0;32m~/opt/anaconda3/lib/python3.9/site-packages/sklearn/base.py:400\u001b[0m, in \u001b[0;36mBaseEstimator._check_n_features\u001b[0;34m(self, X, reset)\u001b[0m\n\u001b[1;32m    397\u001b[0m     \u001b[38;5;28;01mreturn\u001b[39;00m\n\u001b[1;32m    399\u001b[0m \u001b[38;5;28;01mif\u001b[39;00m n_features \u001b[38;5;241m!=\u001b[39m \u001b[38;5;28mself\u001b[39m\u001b[38;5;241m.\u001b[39mn_features_in_:\n\u001b[0;32m--> 400\u001b[0m     \u001b[38;5;28;01mraise\u001b[39;00m \u001b[38;5;167;01mValueError\u001b[39;00m(\n\u001b[1;32m    401\u001b[0m         \u001b[38;5;124mf\u001b[39m\u001b[38;5;124m\"\u001b[39m\u001b[38;5;124mX has \u001b[39m\u001b[38;5;132;01m{\u001b[39;00mn_features\u001b[38;5;132;01m}\u001b[39;00m\u001b[38;5;124m features, but \u001b[39m\u001b[38;5;132;01m{\u001b[39;00m\u001b[38;5;28mself\u001b[39m\u001b[38;5;241m.\u001b[39m\u001b[38;5;18m__class__\u001b[39m\u001b[38;5;241m.\u001b[39m\u001b[38;5;18m__name__\u001b[39m\u001b[38;5;132;01m}\u001b[39;00m\u001b[38;5;124m \u001b[39m\u001b[38;5;124m\"\u001b[39m\n\u001b[1;32m    402\u001b[0m         \u001b[38;5;124mf\u001b[39m\u001b[38;5;124m\"\u001b[39m\u001b[38;5;124mis expecting \u001b[39m\u001b[38;5;132;01m{\u001b[39;00m\u001b[38;5;28mself\u001b[39m\u001b[38;5;241m.\u001b[39mn_features_in_\u001b[38;5;132;01m}\u001b[39;00m\u001b[38;5;124m features as input.\u001b[39m\u001b[38;5;124m\"\u001b[39m\n\u001b[1;32m    403\u001b[0m     )\n",
      "\u001b[0;31mValueError\u001b[0m: X has 17 features, but LogisticRegression is expecting 16 features as input."
     ]
    }
   ],
   "source": [
    "log_reg.predict_proba([p1]).round(4)"
   ]
  },
  {
   "cell_type": "code",
   "execution_count": 27,
   "id": "829a4f9a",
   "metadata": {},
   "outputs": [
    {
     "data": {
      "text/plain": [
       "array([0, 1])"
      ]
     },
     "execution_count": 27,
     "metadata": {},
     "output_type": "execute_result"
    }
   ],
   "source": [
    "log_reg.classes_"
   ]
  },
  {
   "cell_type": "code",
   "execution_count": 28,
   "id": "a2093a8a",
   "metadata": {},
   "outputs": [
    {
     "data": {
      "text/plain": [
       "array([[  1.8056,   0.6581,  -2.4847, -18.5228, -34.8278,  -3.5716,\n",
       "         -0.0801,   0.29  ,   1.3387,   1.6967,   1.1145,   0.0146,\n",
       "          0.9831,  -0.0981,   1.4203,   0.5317]])"
      ]
     },
     "execution_count": 28,
     "metadata": {},
     "output_type": "execute_result"
    }
   ],
   "source": [
    "log_reg.coef_.round(4)"
   ]
  },
  {
   "cell_type": "code",
   "execution_count": 29,
   "id": "bb7c6f16",
   "metadata": {},
   "outputs": [
    {
     "data": {
      "text/plain": [
       "array([9.9882])"
      ]
     },
     "execution_count": 29,
     "metadata": {},
     "output_type": "execute_result"
    }
   ],
   "source": [
    "log_reg.intercept_.round(4)"
   ]
  },
  {
   "cell_type": "markdown",
   "id": "0c6315fd",
   "metadata": {},
   "source": [
    "# SVM "
   ]
  },
  {
   "cell_type": "code",
   "execution_count": 30,
   "id": "14049490",
   "metadata": {},
   "outputs": [
    {
     "data": {
      "text/plain": [
       "LinearSVC(random_state=0)"
      ]
     },
     "execution_count": 30,
     "metadata": {},
     "output_type": "execute_result"
    }
   ],
   "source": [
    "svm1=LinearSVC(random_state=0)\n",
    "svm1.fit(X_train,y_train)"
   ]
  },
  {
   "cell_type": "code",
   "execution_count": 31,
   "id": "d3f43c5e",
   "metadata": {},
   "outputs": [
    {
     "data": {
      "text/plain": [
       "array([[  1.22938622,   0.24493122,  -0.8032349 ,  -6.99867714,\n",
       "        -10.02797319,  -0.5244424 ,  -0.07087926,   0.16478105,\n",
       "          0.40563937,   0.46416572,   0.36308411,  -0.64152345,\n",
       "          0.34479265,  -0.03438365,   1.31493451,   0.31815455]])"
      ]
     },
     "execution_count": 31,
     "metadata": {},
     "output_type": "execute_result"
    }
   ],
   "source": [
    "svm1.coef_"
   ]
  },
  {
   "cell_type": "code",
   "execution_count": 32,
   "id": "a63af486",
   "metadata": {},
   "outputs": [
    {
     "data": {
      "text/plain": [
       "array([1.43886974])"
      ]
     },
     "execution_count": 32,
     "metadata": {},
     "output_type": "execute_result"
    }
   ],
   "source": [
    "svm1.intercept_"
   ]
  },
  {
   "cell_type": "code",
   "execution_count": 33,
   "id": "3b08eee3",
   "metadata": {},
   "outputs": [
    {
     "name": "stdout",
     "output_type": "stream",
     "text": [
      "svm acc on train: 79.75%\n",
      "svm acc on test: 78.25%\n"
     ]
    }
   ],
   "source": [
    "print('svm acc on train: {:.2%}'.format(svm1.score(X_train, y_train)))\n",
    "print('svm acc on test: {:.2%}'.format(svm1.score(X_test, y_test)))"
   ]
  },
  {
   "cell_type": "code",
   "execution_count": 34,
   "id": "c1eddaef",
   "metadata": {
    "scrolled": true
   },
   "outputs": [
    {
     "ename": "ValueError",
     "evalue": "X has 17 features, but LinearSVC is expecting 16 features as input.",
     "output_type": "error",
     "traceback": [
      "\u001b[0;31m---------------------------------------------------------------------------\u001b[0m",
      "\u001b[0;31mValueError\u001b[0m                                Traceback (most recent call last)",
      "Input \u001b[0;32mIn [34]\u001b[0m, in \u001b[0;36m<cell line: 2>\u001b[0;34m()\u001b[0m\n\u001b[1;32m      1\u001b[0m b\u001b[38;5;241m=\u001b[39m[[\u001b[38;5;241m0.616\u001b[39m,\u001b[38;5;241m0.999\u001b[39m,\u001b[38;5;241m0.781\u001b[39m,\u001b[38;5;241m0.0001\u001b[39m,\u001b[38;5;241m0.471\u001b[39m,\u001b[38;5;241m0.0005\u001b[39m,\u001b[38;5;241m0.631\u001b[39m,\u001b[38;5;241m0.3696\u001b[39m,\u001b[38;5;241m0.0415\u001b[39m,\u001b[38;5;241m0.0022\u001b[39m,\u001b[38;5;241m0.27698\u001b[39m,\u001b[38;5;241m0\u001b[39m,\u001b[38;5;241m0.953\u001b[39m,\u001b[38;5;241m0\u001b[39m,\u001b[38;5;241m0.7022\u001b[39m,\u001b[38;5;241m0.0029\u001b[39m,\u001b[38;5;241m0.0345\u001b[39m]]\n\u001b[0;32m----> 2\u001b[0m \u001b[43msvm1\u001b[49m\u001b[38;5;241;43m.\u001b[39;49m\u001b[43mpredict\u001b[49m\u001b[43m(\u001b[49m\u001b[43mb\u001b[49m\u001b[43m)\u001b[49m\n",
      "File \u001b[0;32m~/opt/anaconda3/lib/python3.9/site-packages/sklearn/linear_model/_base.py:425\u001b[0m, in \u001b[0;36mLinearClassifierMixin.predict\u001b[0;34m(self, X)\u001b[0m\n\u001b[1;32m    411\u001b[0m \u001b[38;5;28;01mdef\u001b[39;00m \u001b[38;5;21mpredict\u001b[39m(\u001b[38;5;28mself\u001b[39m, X):\n\u001b[1;32m    412\u001b[0m     \u001b[38;5;124;03m\"\"\"\u001b[39;00m\n\u001b[1;32m    413\u001b[0m \u001b[38;5;124;03m    Predict class labels for samples in X.\u001b[39;00m\n\u001b[1;32m    414\u001b[0m \n\u001b[0;32m   (...)\u001b[0m\n\u001b[1;32m    423\u001b[0m \u001b[38;5;124;03m        Vector containing the class labels for each sample.\u001b[39;00m\n\u001b[1;32m    424\u001b[0m \u001b[38;5;124;03m    \"\"\"\u001b[39;00m\n\u001b[0;32m--> 425\u001b[0m     scores \u001b[38;5;241m=\u001b[39m \u001b[38;5;28;43mself\u001b[39;49m\u001b[38;5;241;43m.\u001b[39;49m\u001b[43mdecision_function\u001b[49m\u001b[43m(\u001b[49m\u001b[43mX\u001b[49m\u001b[43m)\u001b[49m\n\u001b[1;32m    426\u001b[0m     \u001b[38;5;28;01mif\u001b[39;00m \u001b[38;5;28mlen\u001b[39m(scores\u001b[38;5;241m.\u001b[39mshape) \u001b[38;5;241m==\u001b[39m \u001b[38;5;241m1\u001b[39m:\n\u001b[1;32m    427\u001b[0m         indices \u001b[38;5;241m=\u001b[39m (scores \u001b[38;5;241m>\u001b[39m \u001b[38;5;241m0\u001b[39m)\u001b[38;5;241m.\u001b[39mastype(\u001b[38;5;28mint\u001b[39m)\n",
      "File \u001b[0;32m~/opt/anaconda3/lib/python3.9/site-packages/sklearn/linear_model/_base.py:407\u001b[0m, in \u001b[0;36mLinearClassifierMixin.decision_function\u001b[0;34m(self, X)\u001b[0m\n\u001b[1;32m    387\u001b[0m \u001b[38;5;124;03m\"\"\"\u001b[39;00m\n\u001b[1;32m    388\u001b[0m \u001b[38;5;124;03mPredict confidence scores for samples.\u001b[39;00m\n\u001b[1;32m    389\u001b[0m \n\u001b[0;32m   (...)\u001b[0m\n\u001b[1;32m    403\u001b[0m \u001b[38;5;124;03m    this class would be predicted.\u001b[39;00m\n\u001b[1;32m    404\u001b[0m \u001b[38;5;124;03m\"\"\"\u001b[39;00m\n\u001b[1;32m    405\u001b[0m check_is_fitted(\u001b[38;5;28mself\u001b[39m)\n\u001b[0;32m--> 407\u001b[0m X \u001b[38;5;241m=\u001b[39m \u001b[38;5;28;43mself\u001b[39;49m\u001b[38;5;241;43m.\u001b[39;49m\u001b[43m_validate_data\u001b[49m\u001b[43m(\u001b[49m\u001b[43mX\u001b[49m\u001b[43m,\u001b[49m\u001b[43m \u001b[49m\u001b[43maccept_sparse\u001b[49m\u001b[38;5;241;43m=\u001b[39;49m\u001b[38;5;124;43m\"\u001b[39;49m\u001b[38;5;124;43mcsr\u001b[39;49m\u001b[38;5;124;43m\"\u001b[39;49m\u001b[43m,\u001b[49m\u001b[43m \u001b[49m\u001b[43mreset\u001b[49m\u001b[38;5;241;43m=\u001b[39;49m\u001b[38;5;28;43;01mFalse\u001b[39;49;00m\u001b[43m)\u001b[49m\n\u001b[1;32m    408\u001b[0m scores \u001b[38;5;241m=\u001b[39m safe_sparse_dot(X, \u001b[38;5;28mself\u001b[39m\u001b[38;5;241m.\u001b[39mcoef_\u001b[38;5;241m.\u001b[39mT, dense_output\u001b[38;5;241m=\u001b[39m\u001b[38;5;28;01mTrue\u001b[39;00m) \u001b[38;5;241m+\u001b[39m \u001b[38;5;28mself\u001b[39m\u001b[38;5;241m.\u001b[39mintercept_\n\u001b[1;32m    409\u001b[0m \u001b[38;5;28;01mreturn\u001b[39;00m scores\u001b[38;5;241m.\u001b[39mravel() \u001b[38;5;28;01mif\u001b[39;00m scores\u001b[38;5;241m.\u001b[39mshape[\u001b[38;5;241m1\u001b[39m] \u001b[38;5;241m==\u001b[39m \u001b[38;5;241m1\u001b[39m \u001b[38;5;28;01melse\u001b[39;00m scores\n",
      "File \u001b[0;32m~/opt/anaconda3/lib/python3.9/site-packages/sklearn/base.py:585\u001b[0m, in \u001b[0;36mBaseEstimator._validate_data\u001b[0;34m(self, X, y, reset, validate_separately, **check_params)\u001b[0m\n\u001b[1;32m    582\u001b[0m     out \u001b[38;5;241m=\u001b[39m X, y\n\u001b[1;32m    584\u001b[0m \u001b[38;5;28;01mif\u001b[39;00m \u001b[38;5;129;01mnot\u001b[39;00m no_val_X \u001b[38;5;129;01mand\u001b[39;00m check_params\u001b[38;5;241m.\u001b[39mget(\u001b[38;5;124m\"\u001b[39m\u001b[38;5;124mensure_2d\u001b[39m\u001b[38;5;124m\"\u001b[39m, \u001b[38;5;28;01mTrue\u001b[39;00m):\n\u001b[0;32m--> 585\u001b[0m     \u001b[38;5;28;43mself\u001b[39;49m\u001b[38;5;241;43m.\u001b[39;49m\u001b[43m_check_n_features\u001b[49m\u001b[43m(\u001b[49m\u001b[43mX\u001b[49m\u001b[43m,\u001b[49m\u001b[43m \u001b[49m\u001b[43mreset\u001b[49m\u001b[38;5;241;43m=\u001b[39;49m\u001b[43mreset\u001b[49m\u001b[43m)\u001b[49m\n\u001b[1;32m    587\u001b[0m \u001b[38;5;28;01mreturn\u001b[39;00m out\n",
      "File \u001b[0;32m~/opt/anaconda3/lib/python3.9/site-packages/sklearn/base.py:400\u001b[0m, in \u001b[0;36mBaseEstimator._check_n_features\u001b[0;34m(self, X, reset)\u001b[0m\n\u001b[1;32m    397\u001b[0m     \u001b[38;5;28;01mreturn\u001b[39;00m\n\u001b[1;32m    399\u001b[0m \u001b[38;5;28;01mif\u001b[39;00m n_features \u001b[38;5;241m!=\u001b[39m \u001b[38;5;28mself\u001b[39m\u001b[38;5;241m.\u001b[39mn_features_in_:\n\u001b[0;32m--> 400\u001b[0m     \u001b[38;5;28;01mraise\u001b[39;00m \u001b[38;5;167;01mValueError\u001b[39;00m(\n\u001b[1;32m    401\u001b[0m         \u001b[38;5;124mf\u001b[39m\u001b[38;5;124m\"\u001b[39m\u001b[38;5;124mX has \u001b[39m\u001b[38;5;132;01m{\u001b[39;00mn_features\u001b[38;5;132;01m}\u001b[39;00m\u001b[38;5;124m features, but \u001b[39m\u001b[38;5;132;01m{\u001b[39;00m\u001b[38;5;28mself\u001b[39m\u001b[38;5;241m.\u001b[39m\u001b[38;5;18m__class__\u001b[39m\u001b[38;5;241m.\u001b[39m\u001b[38;5;18m__name__\u001b[39m\u001b[38;5;132;01m}\u001b[39;00m\u001b[38;5;124m \u001b[39m\u001b[38;5;124m\"\u001b[39m\n\u001b[1;32m    402\u001b[0m         \u001b[38;5;124mf\u001b[39m\u001b[38;5;124m\"\u001b[39m\u001b[38;5;124mis expecting \u001b[39m\u001b[38;5;132;01m{\u001b[39;00m\u001b[38;5;28mself\u001b[39m\u001b[38;5;241m.\u001b[39mn_features_in_\u001b[38;5;132;01m}\u001b[39;00m\u001b[38;5;124m features as input.\u001b[39m\u001b[38;5;124m\"\u001b[39m\n\u001b[1;32m    403\u001b[0m     )\n",
      "\u001b[0;31mValueError\u001b[0m: X has 17 features, but LinearSVC is expecting 16 features as input."
     ]
    }
   ],
   "source": [
    "b=[[0.616,0.999,0.781,0.0001,0.471,0.0005,0.631,0.3696,0.0415,0.0022,0.27698,0,0.953,0,0.7022,0.0029,0.0345]]\n",
    "svm1.predict(b)"
   ]
  },
  {
   "cell_type": "code",
   "execution_count": 35,
   "id": "616cc87a",
   "metadata": {},
   "outputs": [
    {
     "name": "stderr",
     "output_type": "stream",
     "text": [
      "/Users/ryanmaki/opt/anaconda3/lib/python3.9/site-packages/sklearn/base.py:450: UserWarning: X does not have valid feature names, but MinMaxScaler was fitted with feature names\n",
      "  warnings.warn(\n"
     ]
    },
    {
     "ename": "ValueError",
     "evalue": "X has 17 features, but MinMaxScaler is expecting 16 features as input.",
     "output_type": "error",
     "traceback": [
      "\u001b[0;31m---------------------------------------------------------------------------\u001b[0m",
      "\u001b[0;31mValueError\u001b[0m                                Traceback (most recent call last)",
      "Input \u001b[0;32mIn [35]\u001b[0m, in \u001b[0;36m<cell line: 1>\u001b[0;34m()\u001b[0m\n\u001b[0;32m----> 1\u001b[0m b_trns\u001b[38;5;241m=\u001b[39m\u001b[43mscaler1\u001b[49m\u001b[38;5;241;43m.\u001b[39;49m\u001b[43mtransform\u001b[49m\u001b[43m(\u001b[49m\u001b[43mb\u001b[49m\u001b[43m)\u001b[49m\n\u001b[1;32m      2\u001b[0m b_trns\n",
      "File \u001b[0;32m~/opt/anaconda3/lib/python3.9/site-packages/sklearn/preprocessing/_data.py:496\u001b[0m, in \u001b[0;36mMinMaxScaler.transform\u001b[0;34m(self, X)\u001b[0m\n\u001b[1;32m    482\u001b[0m \u001b[38;5;124;03m\"\"\"Scale features of X according to feature_range.\u001b[39;00m\n\u001b[1;32m    483\u001b[0m \n\u001b[1;32m    484\u001b[0m \u001b[38;5;124;03mParameters\u001b[39;00m\n\u001b[0;32m   (...)\u001b[0m\n\u001b[1;32m    492\u001b[0m \u001b[38;5;124;03m    Transformed data.\u001b[39;00m\n\u001b[1;32m    493\u001b[0m \u001b[38;5;124;03m\"\"\"\u001b[39;00m\n\u001b[1;32m    494\u001b[0m check_is_fitted(\u001b[38;5;28mself\u001b[39m)\n\u001b[0;32m--> 496\u001b[0m X \u001b[38;5;241m=\u001b[39m \u001b[38;5;28;43mself\u001b[39;49m\u001b[38;5;241;43m.\u001b[39;49m\u001b[43m_validate_data\u001b[49m\u001b[43m(\u001b[49m\n\u001b[1;32m    497\u001b[0m \u001b[43m    \u001b[49m\u001b[43mX\u001b[49m\u001b[43m,\u001b[49m\n\u001b[1;32m    498\u001b[0m \u001b[43m    \u001b[49m\u001b[43mcopy\u001b[49m\u001b[38;5;241;43m=\u001b[39;49m\u001b[38;5;28;43mself\u001b[39;49m\u001b[38;5;241;43m.\u001b[39;49m\u001b[43mcopy\u001b[49m\u001b[43m,\u001b[49m\n\u001b[1;32m    499\u001b[0m \u001b[43m    \u001b[49m\u001b[43mdtype\u001b[49m\u001b[38;5;241;43m=\u001b[39;49m\u001b[43mFLOAT_DTYPES\u001b[49m\u001b[43m,\u001b[49m\n\u001b[1;32m    500\u001b[0m \u001b[43m    \u001b[49m\u001b[43mforce_all_finite\u001b[49m\u001b[38;5;241;43m=\u001b[39;49m\u001b[38;5;124;43m\"\u001b[39;49m\u001b[38;5;124;43mallow-nan\u001b[39;49m\u001b[38;5;124;43m\"\u001b[39;49m\u001b[43m,\u001b[49m\n\u001b[1;32m    501\u001b[0m \u001b[43m    \u001b[49m\u001b[43mreset\u001b[49m\u001b[38;5;241;43m=\u001b[39;49m\u001b[38;5;28;43;01mFalse\u001b[39;49;00m\u001b[43m,\u001b[49m\n\u001b[1;32m    502\u001b[0m \u001b[43m\u001b[49m\u001b[43m)\u001b[49m\n\u001b[1;32m    504\u001b[0m X \u001b[38;5;241m*\u001b[39m\u001b[38;5;241m=\u001b[39m \u001b[38;5;28mself\u001b[39m\u001b[38;5;241m.\u001b[39mscale_\n\u001b[1;32m    505\u001b[0m X \u001b[38;5;241m+\u001b[39m\u001b[38;5;241m=\u001b[39m \u001b[38;5;28mself\u001b[39m\u001b[38;5;241m.\u001b[39mmin_\n",
      "File \u001b[0;32m~/opt/anaconda3/lib/python3.9/site-packages/sklearn/base.py:585\u001b[0m, in \u001b[0;36mBaseEstimator._validate_data\u001b[0;34m(self, X, y, reset, validate_separately, **check_params)\u001b[0m\n\u001b[1;32m    582\u001b[0m     out \u001b[38;5;241m=\u001b[39m X, y\n\u001b[1;32m    584\u001b[0m \u001b[38;5;28;01mif\u001b[39;00m \u001b[38;5;129;01mnot\u001b[39;00m no_val_X \u001b[38;5;129;01mand\u001b[39;00m check_params\u001b[38;5;241m.\u001b[39mget(\u001b[38;5;124m\"\u001b[39m\u001b[38;5;124mensure_2d\u001b[39m\u001b[38;5;124m\"\u001b[39m, \u001b[38;5;28;01mTrue\u001b[39;00m):\n\u001b[0;32m--> 585\u001b[0m     \u001b[38;5;28;43mself\u001b[39;49m\u001b[38;5;241;43m.\u001b[39;49m\u001b[43m_check_n_features\u001b[49m\u001b[43m(\u001b[49m\u001b[43mX\u001b[49m\u001b[43m,\u001b[49m\u001b[43m \u001b[49m\u001b[43mreset\u001b[49m\u001b[38;5;241;43m=\u001b[39;49m\u001b[43mreset\u001b[49m\u001b[43m)\u001b[49m\n\u001b[1;32m    587\u001b[0m \u001b[38;5;28;01mreturn\u001b[39;00m out\n",
      "File \u001b[0;32m~/opt/anaconda3/lib/python3.9/site-packages/sklearn/base.py:400\u001b[0m, in \u001b[0;36mBaseEstimator._check_n_features\u001b[0;34m(self, X, reset)\u001b[0m\n\u001b[1;32m    397\u001b[0m     \u001b[38;5;28;01mreturn\u001b[39;00m\n\u001b[1;32m    399\u001b[0m \u001b[38;5;28;01mif\u001b[39;00m n_features \u001b[38;5;241m!=\u001b[39m \u001b[38;5;28mself\u001b[39m\u001b[38;5;241m.\u001b[39mn_features_in_:\n\u001b[0;32m--> 400\u001b[0m     \u001b[38;5;28;01mraise\u001b[39;00m \u001b[38;5;167;01mValueError\u001b[39;00m(\n\u001b[1;32m    401\u001b[0m         \u001b[38;5;124mf\u001b[39m\u001b[38;5;124m\"\u001b[39m\u001b[38;5;124mX has \u001b[39m\u001b[38;5;132;01m{\u001b[39;00mn_features\u001b[38;5;132;01m}\u001b[39;00m\u001b[38;5;124m features, but \u001b[39m\u001b[38;5;132;01m{\u001b[39;00m\u001b[38;5;28mself\u001b[39m\u001b[38;5;241m.\u001b[39m\u001b[38;5;18m__class__\u001b[39m\u001b[38;5;241m.\u001b[39m\u001b[38;5;18m__name__\u001b[39m\u001b[38;5;132;01m}\u001b[39;00m\u001b[38;5;124m \u001b[39m\u001b[38;5;124m\"\u001b[39m\n\u001b[1;32m    402\u001b[0m         \u001b[38;5;124mf\u001b[39m\u001b[38;5;124m\"\u001b[39m\u001b[38;5;124mis expecting \u001b[39m\u001b[38;5;132;01m{\u001b[39;00m\u001b[38;5;28mself\u001b[39m\u001b[38;5;241m.\u001b[39mn_features_in_\u001b[38;5;132;01m}\u001b[39;00m\u001b[38;5;124m features as input.\u001b[39m\u001b[38;5;124m\"\u001b[39m\n\u001b[1;32m    403\u001b[0m     )\n",
      "\u001b[0;31mValueError\u001b[0m: X has 17 features, but MinMaxScaler is expecting 16 features as input."
     ]
    }
   ],
   "source": [
    "b_trns=scaler1.transform(b)\n",
    "b_trns"
   ]
  },
  {
   "cell_type": "code",
   "execution_count": 36,
   "id": "f64d6be3",
   "metadata": {},
   "outputs": [
    {
     "ename": "NameError",
     "evalue": "name 'b_trns' is not defined",
     "output_type": "error",
     "traceback": [
      "\u001b[0;31m---------------------------------------------------------------------------\u001b[0m",
      "\u001b[0;31mNameError\u001b[0m                                 Traceback (most recent call last)",
      "Input \u001b[0;32mIn [36]\u001b[0m, in \u001b[0;36m<cell line: 1>\u001b[0;34m()\u001b[0m\n\u001b[0;32m----> 1\u001b[0m svm1\u001b[38;5;241m.\u001b[39mpredict((\u001b[43mb_trns\u001b[49m))\n",
      "\u001b[0;31mNameError\u001b[0m: name 'b_trns' is not defined"
     ]
    }
   ],
   "source": [
    "svm1.predict((b_trns))"
   ]
  },
  {
   "cell_type": "code",
   "execution_count": 37,
   "id": "e32ba6fd",
   "metadata": {},
   "outputs": [
    {
     "data": {
      "text/plain": [
       "array([1.44])"
      ]
     },
     "execution_count": 37,
     "metadata": {},
     "output_type": "execute_result"
    }
   ],
   "source": [
    "svm1.intercept_.round(2)"
   ]
  },
  {
   "cell_type": "code",
   "execution_count": 38,
   "id": "4e3ccad4",
   "metadata": {},
   "outputs": [
    {
     "data": {
      "text/plain": [
       "array([[  1.23,   0.24,  -0.8 ,  -7.  , -10.03,  -0.52,  -0.07,   0.16,\n",
       "          0.41,   0.46,   0.36,  -0.64,   0.34,  -0.03,   1.31,   0.32]])"
      ]
     },
     "execution_count": 38,
     "metadata": {},
     "output_type": "execute_result"
    }
   ],
   "source": [
    "svm1.coef_.round(2)"
   ]
  },
  {
   "cell_type": "code",
   "execution_count": 39,
   "id": "93c8bde7",
   "metadata": {},
   "outputs": [
    {
     "data": {
      "text/plain": [
       "LinearSVC()"
      ]
     },
     "execution_count": 39,
     "metadata": {},
     "output_type": "execute_result"
    }
   ],
   "source": [
    "LinearSVC()"
   ]
  },
  {
   "cell_type": "code",
   "execution_count": 40,
   "id": "b7a84119",
   "metadata": {},
   "outputs": [],
   "source": [
    "C_range=[.1,1,5,10,50,100]"
   ]
  },
  {
   "cell_type": "code",
   "execution_count": 41,
   "id": "270ec9e3",
   "metadata": {},
   "outputs": [],
   "source": [
    "train_scores_SVM, test_scores_SVM=validation_curve(LinearSVC(random_state=0, max_iter=100000), X_bank_trns, y_bank, param_name='C',\n",
    "                                           param_range=[.1,1,5,10,50,100], cv=4)"
   ]
  },
  {
   "cell_type": "code",
   "execution_count": 42,
   "id": "7ebfe317",
   "metadata": {},
   "outputs": [
    {
     "data": {
      "text/plain": [
       "array([[0.752 , 0.7667, 0.7593, 0.7593],\n",
       "       [0.7833, 0.79  , 0.7913, 0.7927],\n",
       "       [0.8   , 0.8   , 0.8007, 0.804 ],\n",
       "       [0.8033, 0.802 , 0.7947, 0.8   ],\n",
       "       [0.81  , 0.8027, 0.7973, 0.8067],\n",
       "       [0.81  , 0.8027, 0.7987, 0.8053]])"
      ]
     },
     "execution_count": 42,
     "metadata": {},
     "output_type": "execute_result"
    }
   ],
   "source": [
    "train_scores_SVM.round(4)"
   ]
  },
  {
   "cell_type": "code",
   "execution_count": 46,
   "id": "05ae5374",
   "metadata": {},
   "outputs": [
    {
     "name": "stdout",
     "output_type": "stream",
     "text": [
      "ave cross in 4 folds for different C values:\n",
      "training: [0.7593 0.7893 0.8012 0.8    0.8042 0.8042]\n",
      "test [0.7525 0.786  0.798  0.798  0.7995 0.799 ]\n"
     ]
    }
   ],
   "source": [
    "print('ave cross in 4 folds for different C values:')\n",
    "print('training:', train_scores_SVM.mean(axis=1).round(4))\n",
    "print('test', test_scores_SVM.mean(axis=1).round(4))"
   ]
  },
  {
   "cell_type": "code",
   "execution_count": 48,
   "id": "4b1401c1",
   "metadata": {},
   "outputs": [
    {
     "data": {
      "text/plain": [
       "0.7930277777777778"
      ]
     },
     "execution_count": 48,
     "metadata": {},
     "output_type": "execute_result"
    }
   ],
   "source": [
    "train_scores_SVM.mean()"
   ]
  },
  {
   "cell_type": "markdown",
   "id": "cf6b58e0",
   "metadata": {},
   "source": [
    "# Decision tree"
   ]
  },
  {
   "cell_type": "code",
   "execution_count": 49,
   "id": "0fe440a5",
   "metadata": {},
   "outputs": [],
   "source": [
    "X_train, X_test, y_train, y_test=train_test_split(X_bank_sel, y_bank, test_size=0.2, random_state=0)"
   ]
  },
  {
   "cell_type": "code",
   "execution_count": 50,
   "id": "0a37c458",
   "metadata": {
    "scrolled": true
   },
   "outputs": [
    {
     "data": {
      "text/html": [
       "<div>\n",
       "<style scoped>\n",
       "    .dataframe tbody tr th:only-of-type {\n",
       "        vertical-align: middle;\n",
       "    }\n",
       "\n",
       "    .dataframe tbody tr th {\n",
       "        vertical-align: top;\n",
       "    }\n",
       "\n",
       "    .dataframe thead th {\n",
       "        text-align: right;\n",
       "    }\n",
       "</style>\n",
       "<table border=\"1\" class=\"dataframe\">\n",
       "  <thead>\n",
       "    <tr style=\"text-align: right;\">\n",
       "      <th></th>\n",
       "      <th>Continuous interest rate (after tax)</th>\n",
       "      <th>Operating Expense Rate</th>\n",
       "      <th>Interest-bearing debt interest rate</th>\n",
       "      <th>Net Value Per Share (A)</th>\n",
       "      <th>Persistent EPS in the Last Four Seasons</th>\n",
       "      <th>Operating Profit Growth Rate</th>\n",
       "      <th>Total Asset Growth Rate</th>\n",
       "      <th>Quick Ratio</th>\n",
       "      <th>Interest Expense Ratio</th>\n",
       "      <th>Total debt/Total net worth</th>\n",
       "      <th>Accounts Receivable Turnover</th>\n",
       "      <th>Operating profit per person</th>\n",
       "      <th>Allocation rate per person</th>\n",
       "      <th>Cash Turnover Rate</th>\n",
       "      <th>Cash Flow to Sales</th>\n",
       "      <th>Interest Coverage Ratio (Interest expense to EBIT)</th>\n",
       "    </tr>\n",
       "  </thead>\n",
       "  <tbody>\n",
       "    <tr>\n",
       "      <th>1376</th>\n",
       "      <td>0.781566</td>\n",
       "      <td>9.310000e+09</td>\n",
       "      <td>0.000267</td>\n",
       "      <td>0.177279</td>\n",
       "      <td>0.214900</td>\n",
       "      <td>0.848122</td>\n",
       "      <td>8.880000e+09</td>\n",
       "      <td>0.005079</td>\n",
       "      <td>0.633328</td>\n",
       "      <td>0.021935</td>\n",
       "      <td>0.000706</td>\n",
       "      <td>0.390957</td>\n",
       "      <td>0.001681</td>\n",
       "      <td>2.230000e+09</td>\n",
       "      <td>0.671576</td>\n",
       "      <td>0.567550</td>\n",
       "    </tr>\n",
       "    <tr>\n",
       "      <th>6215</th>\n",
       "      <td>0.781836</td>\n",
       "      <td>1.455860e-04</td>\n",
       "      <td>0.000000</td>\n",
       "      <td>0.261304</td>\n",
       "      <td>0.284202</td>\n",
       "      <td>0.848040</td>\n",
       "      <td>7.410000e+09</td>\n",
       "      <td>0.012941</td>\n",
       "      <td>0.630617</td>\n",
       "      <td>0.003169</td>\n",
       "      <td>0.000611</td>\n",
       "      <td>0.405237</td>\n",
       "      <td>0.006409</td>\n",
       "      <td>1.566090e-04</td>\n",
       "      <td>0.671570</td>\n",
       "      <td>0.565164</td>\n",
       "    </tr>\n",
       "    <tr>\n",
       "      <th>349</th>\n",
       "      <td>0.781454</td>\n",
       "      <td>6.550000e+09</td>\n",
       "      <td>0.000201</td>\n",
       "      <td>0.153639</td>\n",
       "      <td>0.186064</td>\n",
       "      <td>0.848017</td>\n",
       "      <td>6.530000e+09</td>\n",
       "      <td>0.006014</td>\n",
       "      <td>0.630282</td>\n",
       "      <td>0.026291</td>\n",
       "      <td>0.000812</td>\n",
       "      <td>0.372267</td>\n",
       "      <td>0.007499</td>\n",
       "      <td>3.700000e+09</td>\n",
       "      <td>0.671568</td>\n",
       "      <td>0.564661</td>\n",
       "    </tr>\n",
       "    <tr>\n",
       "      <th>3911</th>\n",
       "      <td>0.781616</td>\n",
       "      <td>9.660000e+09</td>\n",
       "      <td>0.000826</td>\n",
       "      <td>0.177110</td>\n",
       "      <td>0.223598</td>\n",
       "      <td>0.848026</td>\n",
       "      <td>7.590000e+09</td>\n",
       "      <td>0.004494</td>\n",
       "      <td>0.631522</td>\n",
       "      <td>0.006069</td>\n",
       "      <td>0.001485</td>\n",
       "      <td>0.395920</td>\n",
       "      <td>0.009785</td>\n",
       "      <td>1.130000e+09</td>\n",
       "      <td>0.671573</td>\n",
       "      <td>0.566431</td>\n",
       "    </tr>\n",
       "    <tr>\n",
       "      <th>5464</th>\n",
       "      <td>0.781675</td>\n",
       "      <td>6.735830e-04</td>\n",
       "      <td>0.000000</td>\n",
       "      <td>0.180397</td>\n",
       "      <td>0.229744</td>\n",
       "      <td>0.848096</td>\n",
       "      <td>6.830000e+09</td>\n",
       "      <td>0.009013</td>\n",
       "      <td>0.630612</td>\n",
       "      <td>0.002608</td>\n",
       "      <td>0.001321</td>\n",
       "      <td>0.394677</td>\n",
       "      <td>0.002524</td>\n",
       "      <td>5.610000e+09</td>\n",
       "      <td>0.671568</td>\n",
       "      <td>0.565158</td>\n",
       "    </tr>\n",
       "    <tr>\n",
       "      <th>...</th>\n",
       "      <td>...</td>\n",
       "      <td>...</td>\n",
       "      <td>...</td>\n",
       "      <td>...</td>\n",
       "      <td>...</td>\n",
       "      <td>...</td>\n",
       "      <td>...</td>\n",
       "      <td>...</td>\n",
       "      <td>...</td>\n",
       "      <td>...</td>\n",
       "      <td>...</td>\n",
       "      <td>...</td>\n",
       "      <td>...</td>\n",
       "      <td>...</td>\n",
       "      <td>...</td>\n",
       "      <td>...</td>\n",
       "    </tr>\n",
       "    <tr>\n",
       "      <th>4945</th>\n",
       "      <td>0.781618</td>\n",
       "      <td>7.120000e+09</td>\n",
       "      <td>0.000927</td>\n",
       "      <td>0.207829</td>\n",
       "      <td>0.237024</td>\n",
       "      <td>0.850289</td>\n",
       "      <td>8.150000e+09</td>\n",
       "      <td>0.005253</td>\n",
       "      <td>0.631644</td>\n",
       "      <td>0.004416</td>\n",
       "      <td>0.002875</td>\n",
       "      <td>0.400669</td>\n",
       "      <td>0.007736</td>\n",
       "      <td>1.850000e+09</td>\n",
       "      <td>0.671570</td>\n",
       "      <td>0.566489</td>\n",
       "    </tr>\n",
       "    <tr>\n",
       "      <th>3158</th>\n",
       "      <td>0.781625</td>\n",
       "      <td>1.025700e-04</td>\n",
       "      <td>0.000647</td>\n",
       "      <td>0.178838</td>\n",
       "      <td>0.223787</td>\n",
       "      <td>0.848022</td>\n",
       "      <td>7.240000e+09</td>\n",
       "      <td>0.002789</td>\n",
       "      <td>0.632245</td>\n",
       "      <td>0.013788</td>\n",
       "      <td>0.001035</td>\n",
       "      <td>0.393829</td>\n",
       "      <td>0.013643</td>\n",
       "      <td>4.440000e+07</td>\n",
       "      <td>0.671573</td>\n",
       "      <td>0.567263</td>\n",
       "    </tr>\n",
       "    <tr>\n",
       "      <th>1924</th>\n",
       "      <td>0.781602</td>\n",
       "      <td>5.060000e+08</td>\n",
       "      <td>0.000481</td>\n",
       "      <td>0.193039</td>\n",
       "      <td>0.221802</td>\n",
       "      <td>0.848050</td>\n",
       "      <td>6.790000e+08</td>\n",
       "      <td>0.002089</td>\n",
       "      <td>0.633201</td>\n",
       "      <td>0.018054</td>\n",
       "      <td>0.000781</td>\n",
       "      <td>0.398171</td>\n",
       "      <td>0.002960</td>\n",
       "      <td>8.190000e+08</td>\n",
       "      <td>0.671565</td>\n",
       "      <td>0.567897</td>\n",
       "    </tr>\n",
       "    <tr>\n",
       "      <th>3357</th>\n",
       "      <td>0.781634</td>\n",
       "      <td>9.140000e+09</td>\n",
       "      <td>0.000206</td>\n",
       "      <td>0.174835</td>\n",
       "      <td>0.219438</td>\n",
       "      <td>0.848161</td>\n",
       "      <td>6.980000e+09</td>\n",
       "      <td>0.007633</td>\n",
       "      <td>0.630861</td>\n",
       "      <td>0.002505</td>\n",
       "      <td>0.000988</td>\n",
       "      <td>0.395186</td>\n",
       "      <td>0.010188</td>\n",
       "      <td>8.180000e+09</td>\n",
       "      <td>0.671574</td>\n",
       "      <td>0.565472</td>\n",
       "    </tr>\n",
       "    <tr>\n",
       "      <th>5492</th>\n",
       "      <td>0.781993</td>\n",
       "      <td>3.186940e-04</td>\n",
       "      <td>0.000188</td>\n",
       "      <td>0.201761</td>\n",
       "      <td>0.248275</td>\n",
       "      <td>0.848070</td>\n",
       "      <td>6.110000e+09</td>\n",
       "      <td>0.005213</td>\n",
       "      <td>0.630670</td>\n",
       "      <td>0.003395</td>\n",
       "      <td>0.000534</td>\n",
       "      <td>0.403892</td>\n",
       "      <td>0.010464</td>\n",
       "      <td>6.530000e+09</td>\n",
       "      <td>0.671529</td>\n",
       "      <td>0.565233</td>\n",
       "    </tr>\n",
       "  </tbody>\n",
       "</table>\n",
       "<p>1600 rows × 16 columns</p>\n",
       "</div>"
      ],
      "text/plain": [
       "       Continuous interest rate (after tax)   Operating Expense Rate  \\\n",
       "1376                               0.781566             9.310000e+09   \n",
       "6215                               0.781836             1.455860e-04   \n",
       "349                                0.781454             6.550000e+09   \n",
       "3911                               0.781616             9.660000e+09   \n",
       "5464                               0.781675             6.735830e-04   \n",
       "...                                     ...                      ...   \n",
       "4945                               0.781618             7.120000e+09   \n",
       "3158                               0.781625             1.025700e-04   \n",
       "1924                               0.781602             5.060000e+08   \n",
       "3357                               0.781634             9.140000e+09   \n",
       "5492                               0.781993             3.186940e-04   \n",
       "\n",
       "       Interest-bearing debt interest rate   Net Value Per Share (A)  \\\n",
       "1376                              0.000267                  0.177279   \n",
       "6215                              0.000000                  0.261304   \n",
       "349                               0.000201                  0.153639   \n",
       "3911                              0.000826                  0.177110   \n",
       "5464                              0.000000                  0.180397   \n",
       "...                                    ...                       ...   \n",
       "4945                              0.000927                  0.207829   \n",
       "3158                              0.000647                  0.178838   \n",
       "1924                              0.000481                  0.193039   \n",
       "3357                              0.000206                  0.174835   \n",
       "5492                              0.000188                  0.201761   \n",
       "\n",
       "       Persistent EPS in the Last Four Seasons   Operating Profit Growth Rate  \\\n",
       "1376                                  0.214900                       0.848122   \n",
       "6215                                  0.284202                       0.848040   \n",
       "349                                   0.186064                       0.848017   \n",
       "3911                                  0.223598                       0.848026   \n",
       "5464                                  0.229744                       0.848096   \n",
       "...                                        ...                            ...   \n",
       "4945                                  0.237024                       0.850289   \n",
       "3158                                  0.223787                       0.848022   \n",
       "1924                                  0.221802                       0.848050   \n",
       "3357                                  0.219438                       0.848161   \n",
       "5492                                  0.248275                       0.848070   \n",
       "\n",
       "       Total Asset Growth Rate   Quick Ratio   Interest Expense Ratio  \\\n",
       "1376              8.880000e+09      0.005079                 0.633328   \n",
       "6215              7.410000e+09      0.012941                 0.630617   \n",
       "349               6.530000e+09      0.006014                 0.630282   \n",
       "3911              7.590000e+09      0.004494                 0.631522   \n",
       "5464              6.830000e+09      0.009013                 0.630612   \n",
       "...                        ...           ...                      ...   \n",
       "4945              8.150000e+09      0.005253                 0.631644   \n",
       "3158              7.240000e+09      0.002789                 0.632245   \n",
       "1924              6.790000e+08      0.002089                 0.633201   \n",
       "3357              6.980000e+09      0.007633                 0.630861   \n",
       "5492              6.110000e+09      0.005213                 0.630670   \n",
       "\n",
       "       Total debt/Total net worth   Accounts Receivable Turnover  \\\n",
       "1376                     0.021935                       0.000706   \n",
       "6215                     0.003169                       0.000611   \n",
       "349                      0.026291                       0.000812   \n",
       "3911                     0.006069                       0.001485   \n",
       "5464                     0.002608                       0.001321   \n",
       "...                           ...                            ...   \n",
       "4945                     0.004416                       0.002875   \n",
       "3158                     0.013788                       0.001035   \n",
       "1924                     0.018054                       0.000781   \n",
       "3357                     0.002505                       0.000988   \n",
       "5492                     0.003395                       0.000534   \n",
       "\n",
       "       Operating profit per person   Allocation rate per person  \\\n",
       "1376                      0.390957                     0.001681   \n",
       "6215                      0.405237                     0.006409   \n",
       "349                       0.372267                     0.007499   \n",
       "3911                      0.395920                     0.009785   \n",
       "5464                      0.394677                     0.002524   \n",
       "...                            ...                          ...   \n",
       "4945                      0.400669                     0.007736   \n",
       "3158                      0.393829                     0.013643   \n",
       "1924                      0.398171                     0.002960   \n",
       "3357                      0.395186                     0.010188   \n",
       "5492                      0.403892                     0.010464   \n",
       "\n",
       "       Cash Turnover Rate   Cash Flow to Sales  \\\n",
       "1376         2.230000e+09             0.671576   \n",
       "6215         1.566090e-04             0.671570   \n",
       "349          3.700000e+09             0.671568   \n",
       "3911         1.130000e+09             0.671573   \n",
       "5464         5.610000e+09             0.671568   \n",
       "...                   ...                  ...   \n",
       "4945         1.850000e+09             0.671570   \n",
       "3158         4.440000e+07             0.671573   \n",
       "1924         8.190000e+08             0.671565   \n",
       "3357         8.180000e+09             0.671574   \n",
       "5492         6.530000e+09             0.671529   \n",
       "\n",
       "       Interest Coverage Ratio (Interest expense to EBIT)  \n",
       "1376                                           0.567550    \n",
       "6215                                           0.565164    \n",
       "349                                            0.564661    \n",
       "3911                                           0.566431    \n",
       "5464                                           0.565158    \n",
       "...                                                 ...    \n",
       "4945                                           0.566489    \n",
       "3158                                           0.567263    \n",
       "1924                                           0.567897    \n",
       "3357                                           0.565472    \n",
       "5492                                           0.565233    \n",
       "\n",
       "[1600 rows x 16 columns]"
      ]
     },
     "execution_count": 50,
     "metadata": {},
     "output_type": "execute_result"
    }
   ],
   "source": [
    "X_train"
   ]
  },
  {
   "cell_type": "code",
   "execution_count": 51,
   "id": "8ebf70be",
   "metadata": {},
   "outputs": [],
   "source": [
    "train_scores_decision_tree, test_scores_decision_tree=validation_curve(DecisionTreeClassifier(random_state=0), X_train, y_train, param_name='max_leaf_nodes', \n",
    "                                          param_range=[2,6,8,10,15,25,50], cv=5)"
   ]
  },
  {
   "cell_type": "code",
   "execution_count": 52,
   "id": "5324ccbf",
   "metadata": {},
   "outputs": [
    {
     "data": {
      "text/plain": [
       "DecisionTreeClassifier(max_leaf_nodes=10, random_state=0)"
      ]
     },
     "execution_count": 52,
     "metadata": {},
     "output_type": "execute_result"
    }
   ],
   "source": [
    "dt0=DecisionTreeClassifier(random_state=0, max_leaf_nodes=10)\n",
    "dt0.fit(X_train, y_train)"
   ]
  },
  {
   "cell_type": "code",
   "execution_count": 53,
   "id": "40e977bf",
   "metadata": {},
   "outputs": [
    {
     "name": "stdout",
     "output_type": "stream",
     "text": [
      "dt0 acc on train: 91.81%\n",
      "dt0 acc on test: 86.25%\n"
     ]
    }
   ],
   "source": [
    "print('dt0 acc on train: {:.2%}'.format(dt0.score(X_train, y_train)))\n",
    "print('dt0 acc on test: {:.2%}'.format(dt0.score(X_test, y_test)))"
   ]
  },
  {
   "cell_type": "code",
   "execution_count": 54,
   "id": "ddb8ebd0",
   "metadata": {
    "scrolled": true
   },
   "outputs": [
    {
     "name": "stderr",
     "output_type": "stream",
     "text": [
      "/Users/ryanmaki/opt/anaconda3/lib/python3.9/site-packages/sklearn/base.py:450: UserWarning: X does not have valid feature names, but DecisionTreeClassifier was fitted with feature names\n",
      "  warnings.warn(\n"
     ]
    },
    {
     "ename": "ValueError",
     "evalue": "X has 17 features, but DecisionTreeClassifier is expecting 16 features as input.",
     "output_type": "error",
     "traceback": [
      "\u001b[0;31m---------------------------------------------------------------------------\u001b[0m",
      "\u001b[0;31mValueError\u001b[0m                                Traceback (most recent call last)",
      "Input \u001b[0;32mIn [54]\u001b[0m, in \u001b[0;36m<cell line: 2>\u001b[0;34m()\u001b[0m\n\u001b[1;32m      1\u001b[0m p1\u001b[38;5;241m=\u001b[39m[\u001b[38;5;241m0.616\u001b[39m,\u001b[38;5;241m0.999\u001b[39m,\u001b[38;5;241m0.781\u001b[39m,\u001b[38;5;241m0.0001\u001b[39m,\u001b[38;5;241m0.471\u001b[39m,\u001b[38;5;241m0.0005\u001b[39m,\u001b[38;5;241m0.631\u001b[39m,\u001b[38;5;241m0.3696\u001b[39m,\u001b[38;5;241m0.0415\u001b[39m,\u001b[38;5;241m0.0022\u001b[39m,\u001b[38;5;241m0.27698\u001b[39m,\u001b[38;5;241m0\u001b[39m,\u001b[38;5;241m0.953\u001b[39m,\u001b[38;5;241m0\u001b[39m,\u001b[38;5;241m0.7022\u001b[39m,\u001b[38;5;241m0.0029\u001b[39m,\u001b[38;5;241m0.0345\u001b[39m]\n\u001b[0;32m----> 2\u001b[0m \u001b[43mdt0\u001b[49m\u001b[38;5;241;43m.\u001b[39;49m\u001b[43mpredict\u001b[49m\u001b[43m(\u001b[49m\u001b[43m[\u001b[49m\u001b[43mp1\u001b[49m\u001b[43m]\u001b[49m\u001b[43m)\u001b[49m\n",
      "File \u001b[0;32m~/opt/anaconda3/lib/python3.9/site-packages/sklearn/tree/_classes.py:467\u001b[0m, in \u001b[0;36mBaseDecisionTree.predict\u001b[0;34m(self, X, check_input)\u001b[0m\n\u001b[1;32m    444\u001b[0m \u001b[38;5;124;03m\"\"\"Predict class or regression value for X.\u001b[39;00m\n\u001b[1;32m    445\u001b[0m \n\u001b[1;32m    446\u001b[0m \u001b[38;5;124;03mFor a classification model, the predicted class for each sample in X is\u001b[39;00m\n\u001b[0;32m   (...)\u001b[0m\n\u001b[1;32m    464\u001b[0m \u001b[38;5;124;03m    The predicted classes, or the predict values.\u001b[39;00m\n\u001b[1;32m    465\u001b[0m \u001b[38;5;124;03m\"\"\"\u001b[39;00m\n\u001b[1;32m    466\u001b[0m check_is_fitted(\u001b[38;5;28mself\u001b[39m)\n\u001b[0;32m--> 467\u001b[0m X \u001b[38;5;241m=\u001b[39m \u001b[38;5;28;43mself\u001b[39;49m\u001b[38;5;241;43m.\u001b[39;49m\u001b[43m_validate_X_predict\u001b[49m\u001b[43m(\u001b[49m\u001b[43mX\u001b[49m\u001b[43m,\u001b[49m\u001b[43m \u001b[49m\u001b[43mcheck_input\u001b[49m\u001b[43m)\u001b[49m\n\u001b[1;32m    468\u001b[0m proba \u001b[38;5;241m=\u001b[39m \u001b[38;5;28mself\u001b[39m\u001b[38;5;241m.\u001b[39mtree_\u001b[38;5;241m.\u001b[39mpredict(X)\n\u001b[1;32m    469\u001b[0m n_samples \u001b[38;5;241m=\u001b[39m X\u001b[38;5;241m.\u001b[39mshape[\u001b[38;5;241m0\u001b[39m]\n",
      "File \u001b[0;32m~/opt/anaconda3/lib/python3.9/site-packages/sklearn/tree/_classes.py:433\u001b[0m, in \u001b[0;36mBaseDecisionTree._validate_X_predict\u001b[0;34m(self, X, check_input)\u001b[0m\n\u001b[1;32m    431\u001b[0m \u001b[38;5;124;03m\"\"\"Validate the training data on predict (probabilities).\"\"\"\u001b[39;00m\n\u001b[1;32m    432\u001b[0m \u001b[38;5;28;01mif\u001b[39;00m check_input:\n\u001b[0;32m--> 433\u001b[0m     X \u001b[38;5;241m=\u001b[39m \u001b[38;5;28;43mself\u001b[39;49m\u001b[38;5;241;43m.\u001b[39;49m\u001b[43m_validate_data\u001b[49m\u001b[43m(\u001b[49m\u001b[43mX\u001b[49m\u001b[43m,\u001b[49m\u001b[43m \u001b[49m\u001b[43mdtype\u001b[49m\u001b[38;5;241;43m=\u001b[39;49m\u001b[43mDTYPE\u001b[49m\u001b[43m,\u001b[49m\u001b[43m \u001b[49m\u001b[43maccept_sparse\u001b[49m\u001b[38;5;241;43m=\u001b[39;49m\u001b[38;5;124;43m\"\u001b[39;49m\u001b[38;5;124;43mcsr\u001b[39;49m\u001b[38;5;124;43m\"\u001b[39;49m\u001b[43m,\u001b[49m\u001b[43m \u001b[49m\u001b[43mreset\u001b[49m\u001b[38;5;241;43m=\u001b[39;49m\u001b[38;5;28;43;01mFalse\u001b[39;49;00m\u001b[43m)\u001b[49m\n\u001b[1;32m    434\u001b[0m     \u001b[38;5;28;01mif\u001b[39;00m issparse(X) \u001b[38;5;129;01mand\u001b[39;00m (\n\u001b[1;32m    435\u001b[0m         X\u001b[38;5;241m.\u001b[39mindices\u001b[38;5;241m.\u001b[39mdtype \u001b[38;5;241m!=\u001b[39m np\u001b[38;5;241m.\u001b[39mintc \u001b[38;5;129;01mor\u001b[39;00m X\u001b[38;5;241m.\u001b[39mindptr\u001b[38;5;241m.\u001b[39mdtype \u001b[38;5;241m!=\u001b[39m np\u001b[38;5;241m.\u001b[39mintc\n\u001b[1;32m    436\u001b[0m     ):\n\u001b[1;32m    437\u001b[0m         \u001b[38;5;28;01mraise\u001b[39;00m \u001b[38;5;167;01mValueError\u001b[39;00m(\u001b[38;5;124m\"\u001b[39m\u001b[38;5;124mNo support for np.int64 index based sparse matrices\u001b[39m\u001b[38;5;124m\"\u001b[39m)\n",
      "File \u001b[0;32m~/opt/anaconda3/lib/python3.9/site-packages/sklearn/base.py:585\u001b[0m, in \u001b[0;36mBaseEstimator._validate_data\u001b[0;34m(self, X, y, reset, validate_separately, **check_params)\u001b[0m\n\u001b[1;32m    582\u001b[0m     out \u001b[38;5;241m=\u001b[39m X, y\n\u001b[1;32m    584\u001b[0m \u001b[38;5;28;01mif\u001b[39;00m \u001b[38;5;129;01mnot\u001b[39;00m no_val_X \u001b[38;5;129;01mand\u001b[39;00m check_params\u001b[38;5;241m.\u001b[39mget(\u001b[38;5;124m\"\u001b[39m\u001b[38;5;124mensure_2d\u001b[39m\u001b[38;5;124m\"\u001b[39m, \u001b[38;5;28;01mTrue\u001b[39;00m):\n\u001b[0;32m--> 585\u001b[0m     \u001b[38;5;28;43mself\u001b[39;49m\u001b[38;5;241;43m.\u001b[39;49m\u001b[43m_check_n_features\u001b[49m\u001b[43m(\u001b[49m\u001b[43mX\u001b[49m\u001b[43m,\u001b[49m\u001b[43m \u001b[49m\u001b[43mreset\u001b[49m\u001b[38;5;241;43m=\u001b[39;49m\u001b[43mreset\u001b[49m\u001b[43m)\u001b[49m\n\u001b[1;32m    587\u001b[0m \u001b[38;5;28;01mreturn\u001b[39;00m out\n",
      "File \u001b[0;32m~/opt/anaconda3/lib/python3.9/site-packages/sklearn/base.py:400\u001b[0m, in \u001b[0;36mBaseEstimator._check_n_features\u001b[0;34m(self, X, reset)\u001b[0m\n\u001b[1;32m    397\u001b[0m     \u001b[38;5;28;01mreturn\u001b[39;00m\n\u001b[1;32m    399\u001b[0m \u001b[38;5;28;01mif\u001b[39;00m n_features \u001b[38;5;241m!=\u001b[39m \u001b[38;5;28mself\u001b[39m\u001b[38;5;241m.\u001b[39mn_features_in_:\n\u001b[0;32m--> 400\u001b[0m     \u001b[38;5;28;01mraise\u001b[39;00m \u001b[38;5;167;01mValueError\u001b[39;00m(\n\u001b[1;32m    401\u001b[0m         \u001b[38;5;124mf\u001b[39m\u001b[38;5;124m\"\u001b[39m\u001b[38;5;124mX has \u001b[39m\u001b[38;5;132;01m{\u001b[39;00mn_features\u001b[38;5;132;01m}\u001b[39;00m\u001b[38;5;124m features, but \u001b[39m\u001b[38;5;132;01m{\u001b[39;00m\u001b[38;5;28mself\u001b[39m\u001b[38;5;241m.\u001b[39m\u001b[38;5;18m__class__\u001b[39m\u001b[38;5;241m.\u001b[39m\u001b[38;5;18m__name__\u001b[39m\u001b[38;5;132;01m}\u001b[39;00m\u001b[38;5;124m \u001b[39m\u001b[38;5;124m\"\u001b[39m\n\u001b[1;32m    402\u001b[0m         \u001b[38;5;124mf\u001b[39m\u001b[38;5;124m\"\u001b[39m\u001b[38;5;124mis expecting \u001b[39m\u001b[38;5;132;01m{\u001b[39;00m\u001b[38;5;28mself\u001b[39m\u001b[38;5;241m.\u001b[39mn_features_in_\u001b[38;5;132;01m}\u001b[39;00m\u001b[38;5;124m features as input.\u001b[39m\u001b[38;5;124m\"\u001b[39m\n\u001b[1;32m    403\u001b[0m     )\n",
      "\u001b[0;31mValueError\u001b[0m: X has 17 features, but DecisionTreeClassifier is expecting 16 features as input."
     ]
    }
   ],
   "source": [
    "p1=[0.616,0.999,0.781,0.0001,0.471,0.0005,0.631,0.3696,0.0415,0.0022,0.27698,0,0.953,0,0.7022,0.0029,0.0345]\n",
    "dt0.predict([p1])"
   ]
  },
  {
   "cell_type": "code",
   "execution_count": 55,
   "id": "6d6a6e21",
   "metadata": {},
   "outputs": [],
   "source": [
    "export_graphviz(dt0, out_file='dt0_vis.dot', feature_names=X_bank_sel.columns, class_names=dt0.classes_.astype(str), impurity=False, filled=True)"
   ]
  },
  {
   "cell_type": "code",
   "execution_count": 56,
   "id": "1423e4eb",
   "metadata": {},
   "outputs": [
    {
     "data": {
      "text/plain": [
       "array([0, 1])"
      ]
     },
     "execution_count": 56,
     "metadata": {},
     "output_type": "execute_result"
    }
   ],
   "source": [
    "dt0.classes_"
   ]
  },
  {
   "cell_type": "code",
   "execution_count": 57,
   "id": "d0b0f195",
   "metadata": {},
   "outputs": [
    {
     "data": {
      "text/plain": [
       "array([0.166, 0.   , 0.077, 0.   , 0.086, 0.   , 0.024, 0.   , 0.   ,\n",
       "       0.581, 0.   , 0.022, 0.   , 0.   , 0.023, 0.022])"
      ]
     },
     "execution_count": 57,
     "metadata": {},
     "output_type": "execute_result"
    }
   ],
   "source": [
    "dt0.feature_importances_.round(3)"
   ]
  },
  {
   "cell_type": "code",
   "execution_count": 58,
   "id": "033ddb58",
   "metadata": {},
   "outputs": [
    {
     "data": {
      "text/plain": [
       "Index([' Continuous interest rate (after tax)', ' Operating Expense Rate',\n",
       "       ' Interest-bearing debt interest rate', ' Net Value Per Share (A)',\n",
       "       ' Persistent EPS in the Last Four Seasons',\n",
       "       ' Operating Profit Growth Rate', ' Total Asset Growth Rate',\n",
       "       ' Quick Ratio', ' Interest Expense Ratio',\n",
       "       ' Total debt/Total net worth', ' Accounts Receivable Turnover',\n",
       "       ' Operating profit per person', ' Allocation rate per person',\n",
       "       ' Cash Turnover Rate', ' Cash Flow to Sales',\n",
       "       ' Interest Coverage Ratio (Interest expense to EBIT)'],\n",
       "      dtype='object')"
      ]
     },
     "execution_count": 58,
     "metadata": {},
     "output_type": "execute_result"
    }
   ],
   "source": [
    "X_bank_sel.columns"
   ]
  },
  {
   "cell_type": "code",
   "execution_count": 59,
   "id": "3878039b",
   "metadata": {
    "scrolled": true
   },
   "outputs": [
    {
     "data": {
      "text/html": [
       "<div>\n",
       "<style scoped>\n",
       "    .dataframe tbody tr th:only-of-type {\n",
       "        vertical-align: middle;\n",
       "    }\n",
       "\n",
       "    .dataframe tbody tr th {\n",
       "        vertical-align: top;\n",
       "    }\n",
       "\n",
       "    .dataframe thead th {\n",
       "        text-align: right;\n",
       "    }\n",
       "</style>\n",
       "<table border=\"1\" class=\"dataframe\">\n",
       "  <thead>\n",
       "    <tr style=\"text-align: right;\">\n",
       "      <th></th>\n",
       "      <th>importance</th>\n",
       "    </tr>\n",
       "  </thead>\n",
       "  <tbody>\n",
       "    <tr>\n",
       "      <th>Total debt/Total net worth</th>\n",
       "      <td>0.581</td>\n",
       "    </tr>\n",
       "    <tr>\n",
       "      <th>Continuous interest rate (after tax)</th>\n",
       "      <td>0.166</td>\n",
       "    </tr>\n",
       "    <tr>\n",
       "      <th>Persistent EPS in the Last Four Seasons</th>\n",
       "      <td>0.086</td>\n",
       "    </tr>\n",
       "    <tr>\n",
       "      <th>Interest-bearing debt interest rate</th>\n",
       "      <td>0.077</td>\n",
       "    </tr>\n",
       "    <tr>\n",
       "      <th>Total Asset Growth Rate</th>\n",
       "      <td>0.024</td>\n",
       "    </tr>\n",
       "    <tr>\n",
       "      <th>Cash Flow to Sales</th>\n",
       "      <td>0.023</td>\n",
       "    </tr>\n",
       "    <tr>\n",
       "      <th>Operating profit per person</th>\n",
       "      <td>0.022</td>\n",
       "    </tr>\n",
       "    <tr>\n",
       "      <th>Interest Coverage Ratio (Interest expense to EBIT)</th>\n",
       "      <td>0.022</td>\n",
       "    </tr>\n",
       "    <tr>\n",
       "      <th>Operating Expense Rate</th>\n",
       "      <td>0.000</td>\n",
       "    </tr>\n",
       "    <tr>\n",
       "      <th>Net Value Per Share (A)</th>\n",
       "      <td>0.000</td>\n",
       "    </tr>\n",
       "    <tr>\n",
       "      <th>Operating Profit Growth Rate</th>\n",
       "      <td>0.000</td>\n",
       "    </tr>\n",
       "    <tr>\n",
       "      <th>Quick Ratio</th>\n",
       "      <td>0.000</td>\n",
       "    </tr>\n",
       "    <tr>\n",
       "      <th>Interest Expense Ratio</th>\n",
       "      <td>0.000</td>\n",
       "    </tr>\n",
       "    <tr>\n",
       "      <th>Accounts Receivable Turnover</th>\n",
       "      <td>0.000</td>\n",
       "    </tr>\n",
       "    <tr>\n",
       "      <th>Allocation rate per person</th>\n",
       "      <td>0.000</td>\n",
       "    </tr>\n",
       "    <tr>\n",
       "      <th>Cash Turnover Rate</th>\n",
       "      <td>0.000</td>\n",
       "    </tr>\n",
       "  </tbody>\n",
       "</table>\n",
       "</div>"
      ],
      "text/plain": [
       "                                                    importance\n",
       " Total debt/Total net worth                              0.581\n",
       " Continuous interest rate (after tax)                    0.166\n",
       " Persistent EPS in the Last Four Seasons                 0.086\n",
       " Interest-bearing debt interest rate                     0.077\n",
       " Total Asset Growth Rate                                 0.024\n",
       " Cash Flow to Sales                                      0.023\n",
       " Operating profit per person                             0.022\n",
       " Interest Coverage Ratio (Interest expense to E...       0.022\n",
       " Operating Expense Rate                                  0.000\n",
       " Net Value Per Share (A)                                 0.000\n",
       " Operating Profit Growth Rate                            0.000\n",
       " Quick Ratio                                             0.000\n",
       " Interest Expense Ratio                                  0.000\n",
       " Accounts Receivable Turnover                            0.000\n",
       " Allocation rate per person                              0.000\n",
       " Cash Turnover Rate                                      0.000"
      ]
     },
     "execution_count": 59,
     "metadata": {},
     "output_type": "execute_result"
    }
   ],
   "source": [
    "feat_imp=pd.DataFrame(data=dt0.feature_importances_.round(3),index=X_bank_sel.columns, columns=['importance'])\n",
    "feat_imp.sort_values('importance', ascending=False)"
   ]
  },
  {
   "cell_type": "markdown",
   "id": "70ec18fd",
   "metadata": {},
   "source": [
    "# KNN Classifier"
   ]
  },
  {
   "cell_type": "code",
   "execution_count": 60,
   "id": "ead9c3ec",
   "metadata": {},
   "outputs": [],
   "source": [
    "train_scores_KNN, test_scores_KNN=validation_curve(KNeighborsClassifier(), X_bank_trns, y_bank, param_name='n_neighbors', \n",
    "                                           param_range=[1,2,3,4,5,6], cv=4)"
   ]
  },
  {
   "cell_type": "code",
   "execution_count": 61,
   "id": "0708e7ad",
   "metadata": {},
   "outputs": [
    {
     "data": {
      "text/plain": [
       "array([1.        , 0.99      , 0.94016667, 0.92966667, 0.897     ,\n",
       "       0.886     ])"
      ]
     },
     "execution_count": 61,
     "metadata": {},
     "output_type": "execute_result"
    }
   ],
   "source": [
    "train_scores_KNN.mean(axis=1)"
   ]
  },
  {
   "cell_type": "code",
   "execution_count": 62,
   "id": "e33963e8",
   "metadata": {},
   "outputs": [
    {
     "data": {
      "text/plain": [
       "0.9404722222222223"
      ]
     },
     "execution_count": 62,
     "metadata": {},
     "output_type": "execute_result"
    }
   ],
   "source": [
    "train_scores_KNN.mean()"
   ]
  },
  {
   "cell_type": "code",
   "execution_count": 63,
   "id": "f691dad7",
   "metadata": {},
   "outputs": [
    {
     "data": {
      "text/plain": [
       "0.8690000000000001"
      ]
     },
     "execution_count": 63,
     "metadata": {},
     "output_type": "execute_result"
    }
   ],
   "source": [
    "test_scores_KNN.mean()"
   ]
  },
  {
   "cell_type": "code",
   "execution_count": 64,
   "id": "808dea14",
   "metadata": {},
   "outputs": [],
   "source": [
    "X_train, X_test, y_train, y_test=train_test_split(X_bank_sel,y_bank,\n",
    "                                                  random_state=0)"
   ]
  },
  {
   "cell_type": "code",
   "execution_count": 65,
   "id": "7b831b80",
   "metadata": {},
   "outputs": [],
   "source": [
    "knn_cls_bank_bal=KNeighborsClassifier(n_neighbors=5)"
   ]
  },
  {
   "cell_type": "code",
   "execution_count": 66,
   "id": "0afa6256",
   "metadata": {},
   "outputs": [
    {
     "data": {
      "text/plain": [
       "KNeighborsClassifier()"
      ]
     },
     "execution_count": 66,
     "metadata": {},
     "output_type": "execute_result"
    }
   ],
   "source": [
    "knn_cls_bank_bal.fit(X_train,y_train)"
   ]
  },
  {
   "cell_type": "code",
   "execution_count": 67,
   "id": "9c6c4553",
   "metadata": {},
   "outputs": [
    {
     "name": "stdout",
     "output_type": "stream",
     "text": [
      "knn_cls_bank_bal acc on train: 85.67%\n",
      "knn_cls_bank_bal acc on test: 73.40% \n",
      "\n"
     ]
    }
   ],
   "source": [
    "print('knn_cls_bank_bal acc on train: {:.2%}'.format(knn_cls_bank_bal.score(X_train,y_train)))\n",
    "print('knn_cls_bank_bal acc on test: {:.2%}'.format(knn_cls_bank_bal.score(X_test,y_test)),'\\n')"
   ]
  },
  {
   "cell_type": "code",
   "execution_count": 68,
   "id": "ecbb0850",
   "metadata": {},
   "outputs": [
    {
     "data": {
      "text/plain": [
       "0.826"
      ]
     },
     "execution_count": 68,
     "metadata": {},
     "output_type": "execute_result"
    }
   ],
   "source": [
    "knn_cls_bank_bal.score(X_bank_sel,y_bank)"
   ]
  },
  {
   "cell_type": "code",
   "execution_count": 69,
   "id": "12af74a1",
   "metadata": {},
   "outputs": [
    {
     "name": "stderr",
     "output_type": "stream",
     "text": [
      "/Users/ryanmaki/opt/anaconda3/lib/python3.9/site-packages/sklearn/base.py:450: UserWarning: X does not have valid feature names, but KNeighborsClassifier was fitted with feature names\n",
      "  warnings.warn(\n"
     ]
    },
    {
     "ename": "ValueError",
     "evalue": "X has 17 features, but KNeighborsClassifier is expecting 16 features as input.",
     "output_type": "error",
     "traceback": [
      "\u001b[0;31m---------------------------------------------------------------------------\u001b[0m",
      "\u001b[0;31mValueError\u001b[0m                                Traceback (most recent call last)",
      "Input \u001b[0;32mIn [69]\u001b[0m, in \u001b[0;36m<cell line: 2>\u001b[0;34m()\u001b[0m\n\u001b[1;32m      1\u001b[0m w1\u001b[38;5;241m=\u001b[39m[\u001b[38;5;241m1\u001b[39m,\u001b[38;5;241m1\u001b[39m,\u001b[38;5;241m0.5\u001b[39m,\u001b[38;5;241m0.4\u001b[39m,\u001b[38;5;241m0.3\u001b[39m,\u001b[38;5;241m0.3\u001b[39m,\u001b[38;5;241m0.6\u001b[39m,\u001b[38;5;241m0.7\u001b[39m,\u001b[38;5;241m1\u001b[39m,\u001b[38;5;241m0.4\u001b[39m,\u001b[38;5;241m0.2\u001b[39m,\u001b[38;5;241m0.5\u001b[39m,\u001b[38;5;241m0.7\u001b[39m,\u001b[38;5;241m0.4\u001b[39m,\u001b[38;5;241m0.1\u001b[39m,\u001b[38;5;241m0.9\u001b[39m,\u001b[38;5;241m0.6\u001b[39m]\n\u001b[0;32m----> 2\u001b[0m \u001b[43mknn_cls_bank_bal\u001b[49m\u001b[38;5;241;43m.\u001b[39;49m\u001b[43mpredict\u001b[49m\u001b[43m(\u001b[49m\u001b[43m[\u001b[49m\u001b[43mw1\u001b[49m\u001b[43m]\u001b[49m\u001b[43m)\u001b[49m\n",
      "File \u001b[0;32m~/opt/anaconda3/lib/python3.9/site-packages/sklearn/neighbors/_classification.py:214\u001b[0m, in \u001b[0;36mKNeighborsClassifier.predict\u001b[0;34m(self, X)\u001b[0m\n\u001b[1;32m    200\u001b[0m \u001b[38;5;28;01mdef\u001b[39;00m \u001b[38;5;21mpredict\u001b[39m(\u001b[38;5;28mself\u001b[39m, X):\n\u001b[1;32m    201\u001b[0m     \u001b[38;5;124;03m\"\"\"Predict the class labels for the provided data.\u001b[39;00m\n\u001b[1;32m    202\u001b[0m \n\u001b[1;32m    203\u001b[0m \u001b[38;5;124;03m    Parameters\u001b[39;00m\n\u001b[0;32m   (...)\u001b[0m\n\u001b[1;32m    212\u001b[0m \u001b[38;5;124;03m        Class labels for each data sample.\u001b[39;00m\n\u001b[1;32m    213\u001b[0m \u001b[38;5;124;03m    \"\"\"\u001b[39;00m\n\u001b[0;32m--> 214\u001b[0m     neigh_dist, neigh_ind \u001b[38;5;241m=\u001b[39m \u001b[38;5;28;43mself\u001b[39;49m\u001b[38;5;241;43m.\u001b[39;49m\u001b[43mkneighbors\u001b[49m\u001b[43m(\u001b[49m\u001b[43mX\u001b[49m\u001b[43m)\u001b[49m\n\u001b[1;32m    215\u001b[0m     classes_ \u001b[38;5;241m=\u001b[39m \u001b[38;5;28mself\u001b[39m\u001b[38;5;241m.\u001b[39mclasses_\n\u001b[1;32m    216\u001b[0m     _y \u001b[38;5;241m=\u001b[39m \u001b[38;5;28mself\u001b[39m\u001b[38;5;241m.\u001b[39m_y\n",
      "File \u001b[0;32m~/opt/anaconda3/lib/python3.9/site-packages/sklearn/neighbors/_base.py:717\u001b[0m, in \u001b[0;36mKNeighborsMixin.kneighbors\u001b[0;34m(self, X, n_neighbors, return_distance)\u001b[0m\n\u001b[1;32m    715\u001b[0m         X \u001b[38;5;241m=\u001b[39m _check_precomputed(X)\n\u001b[1;32m    716\u001b[0m     \u001b[38;5;28;01melse\u001b[39;00m:\n\u001b[0;32m--> 717\u001b[0m         X \u001b[38;5;241m=\u001b[39m \u001b[38;5;28;43mself\u001b[39;49m\u001b[38;5;241;43m.\u001b[39;49m\u001b[43m_validate_data\u001b[49m\u001b[43m(\u001b[49m\u001b[43mX\u001b[49m\u001b[43m,\u001b[49m\u001b[43m \u001b[49m\u001b[43maccept_sparse\u001b[49m\u001b[38;5;241;43m=\u001b[39;49m\u001b[38;5;124;43m\"\u001b[39;49m\u001b[38;5;124;43mcsr\u001b[39;49m\u001b[38;5;124;43m\"\u001b[39;49m\u001b[43m,\u001b[49m\u001b[43m \u001b[49m\u001b[43mreset\u001b[49m\u001b[38;5;241;43m=\u001b[39;49m\u001b[38;5;28;43;01mFalse\u001b[39;49;00m\u001b[43m)\u001b[49m\n\u001b[1;32m    718\u001b[0m \u001b[38;5;28;01melse\u001b[39;00m:\n\u001b[1;32m    719\u001b[0m     query_is_train \u001b[38;5;241m=\u001b[39m \u001b[38;5;28;01mTrue\u001b[39;00m\n",
      "File \u001b[0;32m~/opt/anaconda3/lib/python3.9/site-packages/sklearn/base.py:585\u001b[0m, in \u001b[0;36mBaseEstimator._validate_data\u001b[0;34m(self, X, y, reset, validate_separately, **check_params)\u001b[0m\n\u001b[1;32m    582\u001b[0m     out \u001b[38;5;241m=\u001b[39m X, y\n\u001b[1;32m    584\u001b[0m \u001b[38;5;28;01mif\u001b[39;00m \u001b[38;5;129;01mnot\u001b[39;00m no_val_X \u001b[38;5;129;01mand\u001b[39;00m check_params\u001b[38;5;241m.\u001b[39mget(\u001b[38;5;124m\"\u001b[39m\u001b[38;5;124mensure_2d\u001b[39m\u001b[38;5;124m\"\u001b[39m, \u001b[38;5;28;01mTrue\u001b[39;00m):\n\u001b[0;32m--> 585\u001b[0m     \u001b[38;5;28;43mself\u001b[39;49m\u001b[38;5;241;43m.\u001b[39;49m\u001b[43m_check_n_features\u001b[49m\u001b[43m(\u001b[49m\u001b[43mX\u001b[49m\u001b[43m,\u001b[49m\u001b[43m \u001b[49m\u001b[43mreset\u001b[49m\u001b[38;5;241;43m=\u001b[39;49m\u001b[43mreset\u001b[49m\u001b[43m)\u001b[49m\n\u001b[1;32m    587\u001b[0m \u001b[38;5;28;01mreturn\u001b[39;00m out\n",
      "File \u001b[0;32m~/opt/anaconda3/lib/python3.9/site-packages/sklearn/base.py:400\u001b[0m, in \u001b[0;36mBaseEstimator._check_n_features\u001b[0;34m(self, X, reset)\u001b[0m\n\u001b[1;32m    397\u001b[0m     \u001b[38;5;28;01mreturn\u001b[39;00m\n\u001b[1;32m    399\u001b[0m \u001b[38;5;28;01mif\u001b[39;00m n_features \u001b[38;5;241m!=\u001b[39m \u001b[38;5;28mself\u001b[39m\u001b[38;5;241m.\u001b[39mn_features_in_:\n\u001b[0;32m--> 400\u001b[0m     \u001b[38;5;28;01mraise\u001b[39;00m \u001b[38;5;167;01mValueError\u001b[39;00m(\n\u001b[1;32m    401\u001b[0m         \u001b[38;5;124mf\u001b[39m\u001b[38;5;124m\"\u001b[39m\u001b[38;5;124mX has \u001b[39m\u001b[38;5;132;01m{\u001b[39;00mn_features\u001b[38;5;132;01m}\u001b[39;00m\u001b[38;5;124m features, but \u001b[39m\u001b[38;5;132;01m{\u001b[39;00m\u001b[38;5;28mself\u001b[39m\u001b[38;5;241m.\u001b[39m\u001b[38;5;18m__class__\u001b[39m\u001b[38;5;241m.\u001b[39m\u001b[38;5;18m__name__\u001b[39m\u001b[38;5;132;01m}\u001b[39;00m\u001b[38;5;124m \u001b[39m\u001b[38;5;124m\"\u001b[39m\n\u001b[1;32m    402\u001b[0m         \u001b[38;5;124mf\u001b[39m\u001b[38;5;124m\"\u001b[39m\u001b[38;5;124mis expecting \u001b[39m\u001b[38;5;132;01m{\u001b[39;00m\u001b[38;5;28mself\u001b[39m\u001b[38;5;241m.\u001b[39mn_features_in_\u001b[38;5;132;01m}\u001b[39;00m\u001b[38;5;124m features as input.\u001b[39m\u001b[38;5;124m\"\u001b[39m\n\u001b[1;32m    403\u001b[0m     )\n",
      "\u001b[0;31mValueError\u001b[0m: X has 17 features, but KNeighborsClassifier is expecting 16 features as input."
     ]
    }
   ],
   "source": [
    "w1=[1,1,0.5,0.4,0.3,0.3,0.6,0.7,1,0.4,0.2,0.5,0.7,0.4,0.1,0.9,0.6]\n",
    "knn_cls_bank_bal.predict([w1])"
   ]
  },
  {
   "cell_type": "code",
   "execution_count": 70,
   "id": "1472d56b",
   "metadata": {},
   "outputs": [
    {
     "data": {
      "text/plain": [
       "array([1, 0, 1, ..., 1, 0, 1])"
      ]
     },
     "execution_count": 70,
     "metadata": {},
     "output_type": "execute_result"
    }
   ],
   "source": [
    "knn_cls_bank_bal.predict(X_bank_sel)"
   ]
  },
  {
   "cell_type": "code",
   "execution_count": 71,
   "id": "b6bae21e",
   "metadata": {},
   "outputs": [
    {
     "data": {
      "text/plain": [
       "2000"
      ]
     },
     "execution_count": 71,
     "metadata": {},
     "output_type": "execute_result"
    }
   ],
   "source": [
    "len(knn_cls_bank_bal.predict(X_bank_sel))"
   ]
  },
  {
   "cell_type": "code",
   "execution_count": 72,
   "id": "93877f4c",
   "metadata": {},
   "outputs": [
    {
     "name": "stdout",
     "output_type": "stream",
     "text": [
      "1198\n"
     ]
    }
   ],
   "source": [
    "predict_array = knn_cls_bank_bal.predict(X_bank_sel)\n",
    "count_non_zero = 0\n",
    "for i in predict_array:\n",
    "    if i != 0:\n",
    "        count_non_zero += 1\n",
    "print(count_non_zero)      "
   ]
  },
  {
   "cell_type": "markdown",
   "id": "b70165cd",
   "metadata": {},
   "source": [
    "# Fair Evaluation "
   ]
  },
  {
   "cell_type": "code",
   "execution_count": 73,
   "id": "2e28915d",
   "metadata": {},
   "outputs": [
    {
     "name": "stdout",
     "output_type": "stream",
     "text": [
      "initial features set size: (2000, 16)\n",
      "X_train shape (1500, 16)\n",
      "X_test shape (500, 16)\n",
      "y_train shape (1500,)\n",
      "y_test shape (500,)\n"
     ]
    }
   ],
   "source": [
    "print('initial features set size:',X_bank_sel.shape)\n",
    "print('X_train shape',X_train.shape)\n",
    "print('X_test shape',X_test.shape)\n",
    "\n",
    "print('y_train shape',y_train.shape)\n",
    "print('y_test shape',y_test.shape)"
   ]
  },
  {
   "cell_type": "code",
   "execution_count": 74,
   "id": "e9489bad",
   "metadata": {},
   "outputs": [],
   "source": [
    "knn_cls_bank_bal=KNeighborsClassifier(n_neighbors=5)"
   ]
  },
  {
   "cell_type": "code",
   "execution_count": 75,
   "id": "782f9776",
   "metadata": {},
   "outputs": [
    {
     "data": {
      "text/plain": [
       "KNeighborsClassifier()"
      ]
     },
     "execution_count": 75,
     "metadata": {},
     "output_type": "execute_result"
    }
   ],
   "source": [
    "knn_cls_bank_bal.fit(X_train, y_train)"
   ]
  },
  {
   "cell_type": "code",
   "execution_count": 76,
   "id": "cd4e96a3",
   "metadata": {
    "scrolled": true
   },
   "outputs": [
    {
     "name": "stdout",
     "output_type": "stream",
     "text": [
      "knn accuracy on training data: 0.8566666666666667\n",
      "knn accuracy on test data: 0.734\n"
     ]
    }
   ],
   "source": [
    "print('knn accuracy on training data:', knn_cls_bank_bal.score(X_train, y_train))\n",
    "print('knn accuracy on test data:', knn_cls_bank_bal.score(X_test, y_test))"
   ]
  },
  {
   "cell_type": "markdown",
   "id": "1cf3c35d",
   "metadata": {},
   "source": [
    "# Cross-Validation"
   ]
  },
  {
   "cell_type": "code",
   "execution_count": 77,
   "id": "d4ab62bd",
   "metadata": {},
   "outputs": [],
   "source": [
    "knn_cls_bank_bal1=KNeighborsClassifier(n_neighbors=9)"
   ]
  },
  {
   "cell_type": "code",
   "execution_count": 78,
   "id": "2a97ea5f",
   "metadata": {},
   "outputs": [
    {
     "data": {
      "text/plain": [
       "array([0.76946108, 0.70359281, 0.72072072, 0.72372372, 0.67567568,\n",
       "       0.69369369])"
      ]
     },
     "execution_count": 78,
     "metadata": {},
     "output_type": "execute_result"
    }
   ],
   "source": [
    "scores=cross_val_score(knn_cls_bank_bal1,X_bank_sel,y_bank,cv=6)\n",
    "scores"
   ]
  },
  {
   "cell_type": "code",
   "execution_count": 79,
   "id": "2d4a2356",
   "metadata": {},
   "outputs": [
    {
     "data": {
      "text/plain": [
       "0.7144779510048972"
      ]
     },
     "execution_count": 79,
     "metadata": {},
     "output_type": "execute_result"
    }
   ],
   "source": [
    "scores.mean()"
   ]
  },
  {
   "cell_type": "code",
   "execution_count": 80,
   "id": "44d44c09",
   "metadata": {
    "scrolled": true
   },
   "outputs": [
    {
     "name": "stdout",
     "output_type": "stream",
     "text": [
      "Average test accuracy in a 6-fold cross val is: 71.45%\n"
     ]
    }
   ],
   "source": [
    "print('Average test accuracy in a 6-fold cross val is: {:.2%}'.format(\n",
    "    scores.mean()))"
   ]
  },
  {
   "cell_type": "markdown",
   "id": "fcca47fd",
   "metadata": {},
   "source": [
    "# Overfit and Underfit"
   ]
  },
  {
   "cell_type": "code",
   "execution_count": 81,
   "id": "1d296c77",
   "metadata": {},
   "outputs": [],
   "source": [
    "X_train, X_test, y_train, y_test=train_test_split(X_bank_sel, y_bank, random_state=0, test_size=0.25)"
   ]
  },
  {
   "cell_type": "code",
   "execution_count": 82,
   "id": "a6cec74e",
   "metadata": {},
   "outputs": [],
   "source": [
    "knn1=KNeighborsClassifier(n_neighbors=1)\n",
    "knn5=KNeighborsClassifier(n_neighbors=5)\n",
    "knn9=KNeighborsClassifier(n_neighbors=9)\n",
    "knn29=KNeighborsClassifier(n_neighbors=29)"
   ]
  },
  {
   "cell_type": "code",
   "execution_count": 83,
   "id": "007b570a",
   "metadata": {},
   "outputs": [
    {
     "data": {
      "text/plain": [
       "KNeighborsClassifier(n_neighbors=29)"
      ]
     },
     "execution_count": 83,
     "metadata": {},
     "output_type": "execute_result"
    }
   ],
   "source": [
    "knn1.fit(X_train, y_train)\n",
    "knn5.fit(X_train, y_train)\n",
    "knn9.fit(X_train, y_train)\n",
    "knn29.fit(X_train, y_train)"
   ]
  },
  {
   "cell_type": "code",
   "execution_count": 84,
   "id": "511ab7fc",
   "metadata": {
    "scrolled": true
   },
   "outputs": [
    {
     "name": "stdout",
     "output_type": "stream",
     "text": [
      "knn1 acc on train: 99.67%\n",
      "knn1 acc on test: 92.80% \n",
      "\n",
      "knn5 acc on train: 85.67%\n",
      "knn5 acc on test: 73.40% \n",
      "\n",
      "knn9 acc on train: 78.80%\n",
      "knn9 acc on test: 67.80% \n",
      "\n",
      "knn29 acc on train: 73.40%\n",
      "knn29 acc on test: 69.20%\n"
     ]
    }
   ],
   "source": [
    "print('knn1 acc on train: {:.2%}'.format(knn1.score(X_train, y_train)))\n",
    "print('knn1 acc on test: {:.2%}'.format(knn1.score(X_test, y_test)),'\\n')\n",
    "\n",
    "print('knn5 acc on train: {:.2%}'.format(knn5.score(X_train, y_train)))\n",
    "print('knn5 acc on test: {:.2%}'.format(knn5.score(X_test, y_test)),'\\n')\n",
    "\n",
    "print('knn9 acc on train: {:.2%}'.format(knn9.score(X_train, y_train)))\n",
    "print('knn9 acc on test: {:.2%}'.format(knn9.score(X_test, y_test)),'\\n')\n",
    "\n",
    "print('knn29 acc on train: {:.2%}'.format(knn29.score(X_train, y_train)))\n",
    "print('knn29 acc on test: {:.2%}'.format(knn29.score(X_test, y_test)))"
   ]
  },
  {
   "cell_type": "code",
   "execution_count": null,
   "id": "7df1e472",
   "metadata": {},
   "outputs": [],
   "source": []
  }
 ],
 "metadata": {
  "kernelspec": {
   "display_name": "Python 3 (ipykernel)",
   "language": "python",
   "name": "python3"
  },
  "language_info": {
   "codemirror_mode": {
    "name": "ipython",
    "version": 3
   },
   "file_extension": ".py",
   "mimetype": "text/x-python",
   "name": "python",
   "nbconvert_exporter": "python",
   "pygments_lexer": "ipython3",
   "version": "3.9.12"
  },
  "toc": {
   "base_numbering": 1,
   "nav_menu": {},
   "number_sections": true,
   "sideBar": true,
   "skip_h1_title": false,
   "title_cell": "Table of Contents",
   "title_sidebar": "Contents",
   "toc_cell": false,
   "toc_position": {},
   "toc_section_display": true,
   "toc_window_display": true
  }
 },
 "nbformat": 4,
 "nbformat_minor": 5
}
