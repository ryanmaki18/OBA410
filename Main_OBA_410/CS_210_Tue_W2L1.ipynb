{
 "cells": [
  {
   "cell_type": "code",
   "execution_count": 2,
   "id": "79297cd7",
   "metadata": {},
   "outputs": [
    {
     "ename": "SyntaxError",
     "evalue": "EOF while scanning triple-quoted string literal (1734381145.py, line 6)",
     "output_type": "error",
     "traceback": [
      "\u001b[0;36m  Input \u001b[0;32mIn [2]\u001b[0;36m\u001b[0m\n\u001b[0;31m    c = sum(a,b)\u001b[0m\n\u001b[0m                \n^\u001b[0m\n\u001b[0;31mSyntaxError\u001b[0m\u001b[0;31m:\u001b[0m EOF while scanning triple-quoted string literal\n"
     ]
    }
   ],
   "source": [
    "def sum (x:int, y:int) -> int:\n",
    "    \"\"\"Returns sum of its arguements\"\n",
    "    \n",
    "a = 13\n",
    "b = 12\n",
    "c = sum(a,b)"
   ]
  },
  {
   "cell_type": "markdown",
   "id": "228471bc",
   "metadata": {},
   "source": [
    "# Results and Effects"
   ]
  },
  {
   "cell_type": "code",
   "execution_count": null,
   "id": "ece58412",
   "metadata": {},
   "outputs": [],
   "source": [
    "#A function with a result\n",
    "def f(x:int) -> int:\n",
    "    \"\"\"A number greated than X\"\"\"\n",
    "    return x+1"
   ]
  },
  {
   "cell_type": "code",
   "execution_count": 1,
   "id": "fb022850",
   "metadata": {
    "code_folding": []
   },
   "outputs": [
    {
     "ename": "IndentationError",
     "evalue": "unexpected indent (2168582255.py, line 2)",
     "output_type": "error",
     "traceback": [
      "\u001b[0;36m  Input \u001b[0;32mIn [1]\u001b[0;36m\u001b[0m\n\u001b[0;31m    def f (x:int):\u001b[0m\n\u001b[0m    ^\u001b[0m\n\u001b[0;31mIndentationError\u001b[0m\u001b[0;31m:\u001b[0m unexpected indent\n"
     ]
    }
   ],
   "source": [
    "#A function with an effect\n",
    "def f (x:int):\n",
    "    \"\"\"Print a number greated than X\"\"\"\n",
    "    print(X+1)"
   ]
  },
  {
   "cell_type": "code",
   "execution_count": null,
   "id": "7df3f46e",
   "metadata": {},
   "outputs": [],
   "source": []
  }
 ],
 "metadata": {
  "kernelspec": {
   "display_name": "Python 3 (ipykernel)",
   "language": "python",
   "name": "python3"
  },
  "language_info": {
   "codemirror_mode": {
    "name": "ipython",
    "version": 3
   },
   "file_extension": ".py",
   "mimetype": "text/x-python",
   "name": "python",
   "nbconvert_exporter": "python",
   "pygments_lexer": "ipython3",
   "version": "3.9.12"
  },
  "toc": {
   "base_numbering": 1,
   "nav_menu": {},
   "number_sections": true,
   "sideBar": true,
   "skip_h1_title": false,
   "title_cell": "Table of Contents",
   "title_sidebar": "Contents",
   "toc_cell": false,
   "toc_position": {},
   "toc_section_display": true,
   "toc_window_display": true
  }
 },
 "nbformat": 4,
 "nbformat_minor": 5
}
