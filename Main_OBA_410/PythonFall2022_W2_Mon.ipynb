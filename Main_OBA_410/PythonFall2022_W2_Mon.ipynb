{
 "cells": [
  {
   "cell_type": "markdown",
   "id": "56b22bbd",
   "metadata": {
    "deletable": false,
    "editable": false,
    "run_control": {
     "frozen": true
    }
   },
   "source": [
    "# Monday, October 3, 2022 @2:00PM"
   ]
  },
  {
   "cell_type": "markdown",
   "id": "89e94e9f",
   "metadata": {
    "code_folding": []
   },
   "source": [
    "## Strings"
   ]
  },
  {
   "cell_type": "markdown",
   "id": "bac157f0",
   "metadata": {
    "code_folding": [],
    "deletable": false,
    "editable": false,
    "run_control": {
     "frozen": true
    }
   },
   "source": [
    "#changing the cell type to Markdown: Esc + M"
   ]
  },
  {
   "cell_type": "code",
   "execution_count": 2,
   "id": "026ce65d",
   "metadata": {
    "scrolled": true
   },
   "outputs": [
    {
     "data": {
      "text/plain": [
       "'Jessica'"
      ]
     },
     "execution_count": 2,
     "metadata": {},
     "output_type": "execute_result"
    }
   ],
   "source": [
    "name='Jessica'\n",
    "name"
   ]
  },
  {
   "cell_type": "markdown",
   "id": "4c325d9e",
   "metadata": {},
   "source": [
    "### Indexing"
   ]
  },
  {
   "cell_type": "code",
   "execution_count": null,
   "id": "8a43d4dc",
   "metadata": {},
   "outputs": [],
   "source": [
    "#get the 1st character in name\n",
    "#we use indexing operators--[]\n",
    "name[0]"
   ]
  },
  {
   "cell_type": "code",
   "execution_count": 4,
   "id": "402e1dae",
   "metadata": {},
   "outputs": [
    {
     "data": {
      "text/plain": [
       "'s'"
      ]
     },
     "execution_count": 4,
     "metadata": {},
     "output_type": "execute_result"
    }
   ],
   "source": [
    "#getting the 4th character in name\n",
    "name[3]"
   ]
  },
  {
   "cell_type": "code",
   "execution_count": 6,
   "id": "64be9496",
   "metadata": {
    "scrolled": true
   },
   "outputs": [
    {
     "data": {
      "text/plain": [
       "'J'"
      ]
     },
     "execution_count": 6,
     "metadata": {},
     "output_type": "execute_result"
    }
   ],
   "source": [
    "#create a new string for name initial\n",
    "name_int=name[0]\n",
    "name_int"
   ]
  },
  {
   "cell_type": "code",
   "execution_count": 11,
   "id": "42446490",
   "metadata": {},
   "outputs": [
    {
     "data": {
      "text/plain": [
       "'2356 South Monroe St, 97405'"
      ]
     },
     "execution_count": 11,
     "metadata": {},
     "output_type": "execute_result"
    }
   ],
   "source": [
    "address='2356 South Monroe St, 97405'\n",
    "address"
   ]
  },
  {
   "cell_type": "code",
   "execution_count": 12,
   "id": "054f1fe9",
   "metadata": {},
   "outputs": [
    {
     "data": {
      "text/plain": [
       "27"
      ]
     },
     "execution_count": 12,
     "metadata": {},
     "output_type": "execute_result"
    }
   ],
   "source": [
    "#Len: a function that gives the length of a string\n",
    "len(address)"
   ]
  },
  {
   "cell_type": "markdown",
   "id": "8fc32747",
   "metadata": {},
   "source": [
    "### Slicing"
   ]
  },
  {
   "cell_type": "code",
   "execution_count": 13,
   "id": "1bbba84c",
   "metadata": {},
   "outputs": [
    {
     "data": {
      "text/plain": [
       "'56 South'"
      ]
     },
     "execution_count": 13,
     "metadata": {},
     "output_type": "execute_result"
    }
   ],
   "source": [
    "# we can access (subset) sultiple chargacters using slicing\n",
    "#get the thirds character up to (and including) 10th character\n",
    "address[2:10]"
   ]
  },
  {
   "cell_type": "code",
   "execution_count": 14,
   "id": "36ac76a4",
   "metadata": {},
   "outputs": [
    {
     "data": {
      "text/plain": [
       "'Sou'"
      ]
     },
     "execution_count": 14,
     "metadata": {},
     "output_type": "execute_result"
    }
   ],
   "source": [
    "# 6th character up to (not including) 9th character\n",
    "address[5:8]"
   ]
  },
  {
   "cell_type": "code",
   "execution_count": 16,
   "id": "884afe22",
   "metadata": {},
   "outputs": [
    {
     "data": {
      "text/plain": [
       "'2356 '"
      ]
     },
     "execution_count": 16,
     "metadata": {},
     "output_type": "execute_result"
    }
   ],
   "source": [
    "# get the first  5 characters\n",
    "address[0:5]"
   ]
  },
  {
   "cell_type": "code",
   "execution_count": 17,
   "id": "cf962b1c",
   "metadata": {},
   "outputs": [
    {
     "data": {
      "text/plain": [
       "'2356 '"
      ]
     },
     "execution_count": 17,
     "metadata": {},
     "output_type": "execute_result"
    }
   ],
   "source": [
    "address[:5]"
   ]
  },
  {
   "cell_type": "code",
   "execution_count": 18,
   "id": "12027c32",
   "metadata": {},
   "outputs": [
    {
     "data": {
      "text/plain": [
       "'2356 South'"
      ]
     },
     "execution_count": 18,
     "metadata": {},
     "output_type": "execute_result"
    }
   ],
   "source": [
    "# first 10 characters\n",
    "address[0:10]"
   ]
  },
  {
   "cell_type": "code",
   "execution_count": 19,
   "id": "2650ed3a",
   "metadata": {},
   "outputs": [
    {
     "data": {
      "text/plain": [
       "27"
      ]
     },
     "execution_count": 19,
     "metadata": {},
     "output_type": "execute_result"
    }
   ],
   "source": [
    "#len gives me the length\n",
    "len(address)"
   ]
  },
  {
   "cell_type": "code",
   "execution_count": 20,
   "id": "ae7049f4",
   "metadata": {},
   "outputs": [
    {
     "data": {
      "text/plain": [
       "'5'"
      ]
     },
     "execution_count": 20,
     "metadata": {},
     "output_type": "execute_result"
    }
   ],
   "source": [
    "# Get the last character\n",
    "address[26]"
   ]
  },
  {
   "cell_type": "code",
   "execution_count": 21,
   "id": "4c1348d8",
   "metadata": {},
   "outputs": [
    {
     "data": {
      "text/plain": [
       "'5'"
      ]
     },
     "execution_count": 21,
     "metadata": {},
     "output_type": "execute_result"
    }
   ],
   "source": [
    "# get the last character -- using negative index\n",
    "address[-1]"
   ]
  },
  {
   "cell_type": "code",
   "execution_count": 26,
   "id": "5b0a521d",
   "metadata": {
    "code_folding": []
   },
   "outputs": [
    {
     "data": {
      "text/plain": [
       "'97405'"
      ]
     },
     "execution_count": 26,
     "metadata": {},
     "output_type": "execute_result"
    }
   ],
   "source": [
    "# get the last 5 characters\n",
    "address[-5:]"
   ]
  },
  {
   "cell_type": "code",
   "execution_count": 28,
   "id": "92e2e311",
   "metadata": {},
   "outputs": [
    {
     "data": {
      "text/plain": [
       "'9740'"
      ]
     },
     "execution_count": 28,
     "metadata": {},
     "output_type": "execute_result"
    }
   ],
   "source": [
    "# this woudl exclude the last character\n",
    "address[-5:-1]"
   ]
  },
  {
   "cell_type": "code",
   "execution_count": 29,
   "id": "8371321b",
   "metadata": {
    "code_folding": []
   },
   "outputs": [
    {
     "data": {
      "text/plain": [
       "','"
      ]
     },
     "execution_count": 29,
     "metadata": {},
     "output_type": "execute_result"
    }
   ],
   "source": [
    "# get the 7th chracter from the last\n",
    "address[-7]"
   ]
  },
  {
   "cell_type": "code",
   "execution_count": 30,
   "id": "dda7a377",
   "metadata": {
    "code_folding": []
   },
   "outputs": [
    {
     "data": {
      "text/plain": [
       "'2356 South Monroe St, 97405'"
      ]
     },
     "execution_count": 30,
     "metadata": {},
     "output_type": "execute_result"
    }
   ],
   "source": [
    "# this will give back the whole string (same as typing the name)\n",
    "address[:]"
   ]
  },
  {
   "cell_type": "markdown",
   "id": "ca1f1324",
   "metadata": {},
   "source": [
    "### String Methods"
   ]
  },
  {
   "cell_type": "code",
   "execution_count": 31,
   "id": "074db55a",
   "metadata": {},
   "outputs": [
    {
     "data": {
      "text/plain": [
       "'Eugene'"
      ]
     },
     "execution_count": 31,
     "metadata": {},
     "output_type": "execute_result"
    }
   ],
   "source": [
    "# a new string \n",
    "city='Eugene'\n",
    "city"
   ]
  },
  {
   "cell_type": "code",
   "execution_count": 33,
   "id": "bf96bb5b",
   "metadata": {},
   "outputs": [
    {
     "data": {
      "text/plain": [
       "'eugene'"
      ]
     },
     "execution_count": 33,
     "metadata": {},
     "output_type": "execute_result"
    }
   ],
   "source": [
    "# a method that makes everything lower case \n",
    "city.lower()\n"
   ]
  },
  {
   "cell_type": "code",
   "execution_count": 35,
   "id": "4793de44",
   "metadata": {},
   "outputs": [
    {
     "data": {
      "text/plain": [
       "'EUGENE'"
      ]
     },
     "execution_count": 35,
     "metadata": {},
     "output_type": "execute_result"
    }
   ],
   "source": [
    "# a method that makes everything upper case \n",
    "city.upper()"
   ]
  },
  {
   "cell_type": "code",
   "execution_count": 36,
   "id": "e2f3c080",
   "metadata": {},
   "outputs": [
    {
     "data": {
      "text/plain": [
       "'2356 South Monroe St, 97405'"
      ]
     },
     "execution_count": 36,
     "metadata": {},
     "output_type": "execute_result"
    }
   ],
   "source": [
    "address"
   ]
  },
  {
   "cell_type": "code",
   "execution_count": 37,
   "id": "e1d30e13",
   "metadata": {},
   "outputs": [
    {
     "data": {
      "text/plain": [
       "2"
      ]
     },
     "execution_count": 37,
     "metadata": {},
     "output_type": "execute_result"
    }
   ],
   "source": [
    "# count function -- counts the number of sub-string in a string\n",
    "#count '5's\n",
    "address.count('5')"
   ]
  },
  {
   "cell_type": "code",
   "execution_count": 38,
   "id": "25426c04",
   "metadata": {
    "code_folding": []
   },
   "outputs": [
    {
     "data": {
      "text/plain": [
       "1"
      ]
     },
     "execution_count": 38,
     "metadata": {},
     "output_type": "execute_result"
    }
   ],
   "source": [
    "#\n",
    "address.count('South')"
   ]
  },
  {
   "cell_type": "code",
   "execution_count": 40,
   "id": "600cc352",
   "metadata": {},
   "outputs": [
    {
     "data": {
      "text/plain": [
       "0"
      ]
     },
     "execution_count": 40,
     "metadata": {},
     "output_type": "execute_result"
    }
   ],
   "source": [
    "#cout is case-sensitive\n",
    "address.count('south')"
   ]
  },
  {
   "cell_type": "markdown",
   "id": "b9eb00d8",
   "metadata": {},
   "source": [
    "## Lists"
   ]
  },
  {
   "cell_type": "code",
   "execution_count": 42,
   "id": "b91f3172",
   "metadata": {},
   "outputs": [
    {
     "data": {
      "text/plain": [
       "[22, 54, 87, 11, 39]"
      ]
     },
     "execution_count": 42,
     "metadata": {},
     "output_type": "execute_result"
    }
   ],
   "source": [
    "# we create lists using square brackets\n",
    "# values (items) are seperated by commas\n",
    "l1=[22,54,87,11,39]\n",
    "l1"
   ]
  },
  {
   "cell_type": "code",
   "execution_count": 48,
   "id": "724615d9",
   "metadata": {},
   "outputs": [
    {
     "data": {
      "text/plain": [
       "[25, 'Hi', 44.732, True, 'Yes']"
      ]
     },
     "execution_count": 48,
     "metadata": {},
     "output_type": "execute_result"
    }
   ],
   "source": [
    "# lists can contain different types of values\n",
    "l2=[25,'Hi',44.732,True,'Yes']\n",
    "l2"
   ]
  },
  {
   "cell_type": "markdown",
   "id": "c3b5f8b8",
   "metadata": {},
   "source": [
    "### subsetting lists"
   ]
  },
  {
   "cell_type": "markdown",
   "id": "0ece56ff",
   "metadata": {
    "deletable": false,
    "editable": false,
    "run_control": {
     "frozen": true
    }
   },
   "source": [
    "#we subset lists using indexes and indexing operator"
   ]
  },
  {
   "cell_type": "code",
   "execution_count": 49,
   "id": "3b60d338",
   "metadata": {},
   "outputs": [
    {
     "data": {
      "text/plain": [
       "25"
      ]
     },
     "execution_count": 49,
     "metadata": {},
     "output_type": "execute_result"
    }
   ],
   "source": [
    "#the first item in l2\n",
    "l2[0]"
   ]
  },
  {
   "cell_type": "code",
   "execution_count": 51,
   "id": "a5bf4334",
   "metadata": {},
   "outputs": [
    {
     "data": {
      "text/plain": [
       "[44.732, True, 'Yes']"
      ]
     },
     "execution_count": 51,
     "metadata": {},
     "output_type": "execute_result"
    }
   ],
   "source": [
    "# get the last 3 items from l2\n",
    "l2[-3:]"
   ]
  },
  {
   "cell_type": "code",
   "execution_count": 63,
   "id": "e2cbdf4f",
   "metadata": {},
   "outputs": [
    {
     "data": {
      "text/plain": [
       "[11, 24, 'Hi', 'False', False, [0, -34, 'Bye'], 11.62]"
      ]
     },
     "execution_count": 63,
     "metadata": {},
     "output_type": "execute_result"
    }
   ],
   "source": [
    "#create another list\n",
    "l3=[11,24,'Hi', 'False', False, [0,-34,'Bye'], 11.62]\n",
    "l3"
   ]
  },
  {
   "cell_type": "code",
   "execution_count": 54,
   "id": "24a4bca5",
   "metadata": {},
   "outputs": [
    {
     "data": {
      "text/plain": [
       "7"
      ]
     },
     "execution_count": 54,
     "metadata": {},
     "output_type": "execute_result"
    }
   ],
   "source": [
    "len(l3)"
   ]
  },
  {
   "cell_type": "code",
   "execution_count": 64,
   "id": "aba79f4f",
   "metadata": {},
   "outputs": [
    {
     "data": {
      "text/plain": [
       "[200, 24, 'Hi', 'False', False, [0, -34, 'Bye'], 11.62]"
      ]
     },
     "execution_count": 64,
     "metadata": {},
     "output_type": "execute_result"
    }
   ],
   "source": [
    "# changing the first item in l3 to 200\n",
    "l3[0]=200\n",
    "l3"
   ]
  },
  {
   "cell_type": "code",
   "execution_count": 65,
   "id": "f04fda7a",
   "metadata": {},
   "outputs": [
    {
     "data": {
      "text/plain": [
       "[200, 24, 'Hi', 'False', ['a', 'b', True], [0, -34, 'Bye'], 11.62]"
      ]
     },
     "execution_count": 65,
     "metadata": {},
     "output_type": "execute_result"
    }
   ],
   "source": [
    "#change the 3rd item from the end to ['a', 'b', True]\n",
    "l3[-3]=['a', 'b', True]\n",
    "l3"
   ]
  },
  {
   "cell_type": "code",
   "execution_count": 66,
   "id": "b170ff6c",
   "metadata": {},
   "outputs": [
    {
     "data": {
      "text/plain": [
       "['a', 'b']"
      ]
     },
     "execution_count": 66,
     "metadata": {},
     "output_type": "execute_result"
    }
   ],
   "source": [
    "# get the first two characters in the 3rd item from end\n",
    "l3[-3][:2]"
   ]
  },
  {
   "cell_type": "markdown",
   "id": "4507fa53",
   "metadata": {},
   "source": [
    "### Lists Methods"
   ]
  },
  {
   "cell_type": "code",
   "execution_count": 67,
   "id": "b684f284",
   "metadata": {},
   "outputs": [
    {
     "data": {
      "text/plain": [
       "[200, 24, 'Hi', 'False', ['a', 'b', True], [0, -34, 'Bye'], 11.62, True]"
      ]
     },
     "execution_count": 67,
     "metadata": {},
     "output_type": "execute_result"
    }
   ],
   "source": [
    "# a method  that adds an element to the end of our list\n",
    "l3.append(True)\n",
    "l3"
   ]
  },
  {
   "cell_type": "code",
   "execution_count": 68,
   "id": "4735ebdc",
   "metadata": {
    "code_folding": [
     0
    ]
   },
   "outputs": [
    {
     "data": {
      "text/plain": [
       "[200, 24, 'Hi', ['a', 'b', True], [0, -34, 'Bye'], 11.62, True]"
      ]
     },
     "execution_count": 68,
     "metadata": {},
     "output_type": "execute_result"
    }
   ],
   "source": [
    "# a method that removes an element to the end of our list\n",
    "#remove 'False'\n",
    "l3.remove('False')\n",
    "l3"
   ]
  },
  {
   "cell_type": "code",
   "execution_count": 70,
   "id": "cdd4e3c5",
   "metadata": {},
   "outputs": [
    {
     "data": {
      "text/plain": [
       "[200, 24, 'Hi', [0, -34, 'Bye'], 11.62, True]"
      ]
     },
     "execution_count": 70,
     "metadata": {},
     "output_type": "execute_result"
    }
   ],
   "source": [
    "# remove the 4th element from l3\n",
    "l3.remove(l3[3])\n",
    "l3"
   ]
  },
  {
   "cell_type": "code",
   "execution_count": 72,
   "id": "5ee3a6b4",
   "metadata": {},
   "outputs": [],
   "source": [
    "# define a new function that takes a list of numbers as input and adds up the first and last items in return\n",
    "def Lsum(l):\n",
    "    return l[0]+l[-1]"
   ]
  },
  {
   "cell_type": "code",
   "execution_count": 73,
   "id": "17f43d38",
   "metadata": {},
   "outputs": [
    {
     "data": {
      "text/plain": [
       "12"
      ]
     },
     "execution_count": 73,
     "metadata": {},
     "output_type": "execute_result"
    }
   ],
   "source": [
    "Lsum([12,44,56,9,0])"
   ]
  },
  {
   "cell_type": "code",
   "execution_count": 74,
   "id": "9276f366",
   "metadata": {},
   "outputs": [
    {
     "data": {
      "text/plain": [
       "-34"
      ]
     },
     "execution_count": 74,
     "metadata": {},
     "output_type": "execute_result"
    }
   ],
   "source": [
    "Lsum([-44,5,1,2,88,10])"
   ]
  },
  {
   "cell_type": "code",
   "execution_count": 75,
   "id": "bdd66356",
   "metadata": {},
   "outputs": [
    {
     "data": {
      "text/plain": [
       "8"
      ]
     },
     "execution_count": 75,
     "metadata": {},
     "output_type": "execute_result"
    }
   ],
   "source": [
    "Lsum([4])"
   ]
  },
  {
   "cell_type": "markdown",
   "id": "98f54625",
   "metadata": {},
   "source": [
    "## Dictionaries"
   ]
  },
  {
   "cell_type": "code",
   "execution_count": 78,
   "id": "1e126462",
   "metadata": {},
   "outputs": [
    {
     "data": {
      "text/plain": [
       "{'a': 'Oregon', 'b': 'California', 22: 100, 11: 'Hi'}"
      ]
     },
     "execution_count": 78,
     "metadata": {},
     "output_type": "execute_result"
    }
   ],
   "source": [
    "# curly brackes -- {}\n",
    "# pairs of keys (index) and values\n",
    "# key and value are seperated by -- :\n",
    "# pairs are seperated by -- ,\n",
    "d1={'a':'Oregon', 'b':'California', 22:100, 11:'Hi'}\n",
    "d1"
   ]
  },
  {
   "cell_type": "code",
   "execution_count": 79,
   "id": "7fbe2e0f",
   "metadata": {},
   "outputs": [
    {
     "data": {
      "text/plain": [
       "'California'"
      ]
     },
     "execution_count": 79,
     "metadata": {},
     "output_type": "execute_result"
    }
   ],
   "source": [
    "# get the value for key 'b'\n",
    "d1['b']"
   ]
  },
  {
   "cell_type": "code",
   "execution_count": 80,
   "id": "8099ec31",
   "metadata": {},
   "outputs": [
    {
     "data": {
      "text/plain": [
       "100"
      ]
     },
     "execution_count": 80,
     "metadata": {},
     "output_type": "execute_result"
    }
   ],
   "source": [
    "# get the value for key 22\n",
    "d1[22]"
   ]
  },
  {
   "cell_type": "code",
   "execution_count": 82,
   "id": "c693d1bd",
   "metadata": {},
   "outputs": [
    {
     "data": {
      "text/plain": [
       "{'a': 'Oregon', 'b': 'California', 22: [100, 50, 10], 11: 'Hi'}"
      ]
     },
     "execution_count": 82,
     "metadata": {},
     "output_type": "execute_result"
    }
   ],
   "source": [
    "# change the value for key 22 to [100,50,10]\n",
    "d1[22]=[100,50,10]\n",
    "d1"
   ]
  },
  {
   "cell_type": "code",
   "execution_count": 83,
   "id": "4834d5de",
   "metadata": {},
   "outputs": [
    {
     "data": {
      "text/plain": [
       "{'a': 'Oregon',\n",
       " 'b': 'California',\n",
       " 22: [100, 50, 10],\n",
       " 11: 'Hi',\n",
       " 'city': 'Eugene'}"
      ]
     },
     "execution_count": 83,
     "metadata": {},
     "output_type": "execute_result"
    }
   ],
   "source": [
    "#add a new element\n",
    "# just use a new key and assign the value\n",
    "d1['city']='Eugene'\n",
    "d1"
   ]
  },
  {
   "cell_type": "code",
   "execution_count": 84,
   "id": "6629f35e",
   "metadata": {},
   "outputs": [
    {
     "data": {
      "text/plain": [
       "5"
      ]
     },
     "execution_count": 84,
     "metadata": {},
     "output_type": "execute_result"
    }
   ],
   "source": [
    "len(d1)"
   ]
  },
  {
   "cell_type": "code",
   "execution_count": 85,
   "id": "0a63532f",
   "metadata": {},
   "outputs": [
    {
     "data": {
      "text/plain": [
       "{'a': 'Oregon', 22: [100, 50, 10], 11: 'Hi', 'city': 'Eugene'}"
      ]
     },
     "execution_count": 85,
     "metadata": {},
     "output_type": "execute_result"
    }
   ],
   "source": [
    "# removing an element\n",
    "del d1['b']\n",
    "d1"
   ]
  },
  {
   "cell_type": "code",
   "execution_count": null,
   "id": "150f87ff",
   "metadata": {},
   "outputs": [],
   "source": []
  }
 ],
 "metadata": {
  "kernelspec": {
   "display_name": "Python 3 (ipykernel)",
   "language": "python",
   "name": "python3"
  },
  "language_info": {
   "codemirror_mode": {
    "name": "ipython",
    "version": 3
   },
   "file_extension": ".py",
   "mimetype": "text/x-python",
   "name": "python",
   "nbconvert_exporter": "python",
   "pygments_lexer": "ipython3",
   "version": "3.9.12"
  },
  "toc": {
   "base_numbering": 1,
   "nav_menu": {},
   "number_sections": true,
   "sideBar": true,
   "skip_h1_title": false,
   "title_cell": "Table of Contents",
   "title_sidebar": "Contents",
   "toc_cell": false,
   "toc_position": {
    "height": "calc(100% - 180px)",
    "left": "10px",
    "top": "150px",
    "width": "247.796875px"
   },
   "toc_section_display": true,
   "toc_window_display": true
  }
 },
 "nbformat": 4,
 "nbformat_minor": 5
}
