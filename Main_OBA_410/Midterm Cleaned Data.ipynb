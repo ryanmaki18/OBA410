{
 "cells": [
  {
   "cell_type": "code",
   "execution_count": 28,
   "id": "5f7fc988",
   "metadata": {},
   "outputs": [],
   "source": [
    "import pandas as pd\n",
    "import numpy as np"
   ]
  },
  {
   "cell_type": "code",
   "execution_count": 29,
   "id": "f5895983",
   "metadata": {},
   "outputs": [
    {
     "name": "stderr",
     "output_type": "stream",
     "text": [
      "/var/folders/yl/7fz36w6555x8lddq1hvcnv0r0000gn/T/ipykernel_9861/4149889676.py:2: FutureWarning: The default value of numeric_only in DataFrame.mean is deprecated. In a future version, it will default to False. In addition, specifying 'numeric_only=None' is deprecated. Select only valid columns or specify the value of numeric_only to silence this warning.\n",
      "  blood.fillna(value=blood.mean(),inplace=True)\n"
     ]
    },
    {
     "data": {
      "text/html": [
       "<div>\n",
       "<style scoped>\n",
       "    .dataframe tbody tr th:only-of-type {\n",
       "        vertical-align: middle;\n",
       "    }\n",
       "\n",
       "    .dataframe tbody tr th {\n",
       "        vertical-align: top;\n",
       "    }\n",
       "\n",
       "    .dataframe thead th {\n",
       "        text-align: right;\n",
       "    }\n",
       "</style>\n",
       "<table border=\"1\" class=\"dataframe\">\n",
       "  <thead>\n",
       "    <tr style=\"text-align: right;\">\n",
       "      <th></th>\n",
       "      <th>Age</th>\n",
       "      <th>Gender</th>\n",
       "      <th>Recency</th>\n",
       "      <th>Frequency</th>\n",
       "      <th>TotalDonation</th>\n",
       "      <th>TimeFromFirstDonation</th>\n",
       "      <th>Donated2020</th>\n",
       "    </tr>\n",
       "  </thead>\n",
       "  <tbody>\n",
       "    <tr>\n",
       "      <th>0</th>\n",
       "      <td>42.0</td>\n",
       "      <td>Male</td>\n",
       "      <td>2</td>\n",
       "      <td>50</td>\n",
       "      <td>12500</td>\n",
       "      <td>98</td>\n",
       "      <td>1</td>\n",
       "    </tr>\n",
       "    <tr>\n",
       "      <th>1</th>\n",
       "      <td>27.0</td>\n",
       "      <td>Male</td>\n",
       "      <td>1</td>\n",
       "      <td>13</td>\n",
       "      <td>3250</td>\n",
       "      <td>28</td>\n",
       "      <td>1</td>\n",
       "    </tr>\n",
       "  </tbody>\n",
       "</table>\n",
       "</div>"
      ],
      "text/plain": [
       "    Age Gender  Recency  Frequency  TotalDonation  TimeFromFirstDonation  \\\n",
       "0  42.0   Male        2         50          12500                     98   \n",
       "1  27.0   Male        1         13           3250                     28   \n",
       "\n",
       "   Donated2020  \n",
       "0            1  \n",
       "1            1  "
      ]
     },
     "execution_count": 29,
     "metadata": {},
     "output_type": "execute_result"
    }
   ],
   "source": [
    "blood = pd.read_csv('blood_donation.csv')\n",
    "blood.fillna(value=blood.mean(),inplace=True)\n",
    "blood.head(2)"
   ]
  },
  {
   "cell_type": "code",
   "execution_count": 30,
   "id": "cc41b34f",
   "metadata": {},
   "outputs": [
    {
     "data": {
      "text/html": [
       "<div>\n",
       "<style scoped>\n",
       "    .dataframe tbody tr th:only-of-type {\n",
       "        vertical-align: middle;\n",
       "    }\n",
       "\n",
       "    .dataframe tbody tr th {\n",
       "        vertical-align: top;\n",
       "    }\n",
       "\n",
       "    .dataframe thead th {\n",
       "        text-align: right;\n",
       "    }\n",
       "</style>\n",
       "<table border=\"1\" class=\"dataframe\">\n",
       "  <thead>\n",
       "    <tr style=\"text-align: right;\">\n",
       "      <th></th>\n",
       "      <th>Age</th>\n",
       "      <th>Gender</th>\n",
       "      <th>Recency</th>\n",
       "      <th>Frequency</th>\n",
       "      <th>TotalDonation</th>\n",
       "      <th>TimeFromFirstDonation</th>\n",
       "    </tr>\n",
       "  </thead>\n",
       "  <tbody>\n",
       "    <tr>\n",
       "      <th>0</th>\n",
       "      <td>42.0</td>\n",
       "      <td>Male</td>\n",
       "      <td>2</td>\n",
       "      <td>50</td>\n",
       "      <td>12500</td>\n",
       "      <td>98</td>\n",
       "    </tr>\n",
       "  </tbody>\n",
       "</table>\n",
       "</div>"
      ],
      "text/plain": [
       "    Age Gender  Recency  Frequency  TotalDonation  TimeFromFirstDonation\n",
       "0  42.0   Male        2         50          12500                     98"
      ]
     },
     "metadata": {},
     "output_type": "display_data"
    },
    {
     "data": {
      "text/plain": [
       "0    1\n",
       "Name: Donated2020, dtype: int64"
      ]
     },
     "metadata": {},
     "output_type": "display_data"
    }
   ],
   "source": [
    "x_default, y_default = blood.iloc[:,:-1],blood['Donated2020']\n",
    "display(x_default.head(1))\n",
    "display(y_default.head(1))"
   ]
  },
  {
   "cell_type": "code",
   "execution_count": 31,
   "id": "c7531fee",
   "metadata": {},
   "outputs": [
    {
     "data": {
      "text/html": [
       "<div>\n",
       "<style scoped>\n",
       "    .dataframe tbody tr th:only-of-type {\n",
       "        vertical-align: middle;\n",
       "    }\n",
       "\n",
       "    .dataframe tbody tr th {\n",
       "        vertical-align: top;\n",
       "    }\n",
       "\n",
       "    .dataframe thead th {\n",
       "        text-align: right;\n",
       "    }\n",
       "</style>\n",
       "<table border=\"1\" class=\"dataframe\">\n",
       "  <thead>\n",
       "    <tr style=\"text-align: right;\">\n",
       "      <th></th>\n",
       "      <th>Age</th>\n",
       "      <th>Recency</th>\n",
       "      <th>Frequency</th>\n",
       "      <th>TotalDonation</th>\n",
       "      <th>TimeFromFirstDonation</th>\n",
       "      <th>Gender_Female</th>\n",
       "      <th>Gender_Male</th>\n",
       "      <th>Gender_Other</th>\n",
       "    </tr>\n",
       "  </thead>\n",
       "  <tbody>\n",
       "    <tr>\n",
       "      <th>0</th>\n",
       "      <td>42.000000</td>\n",
       "      <td>2</td>\n",
       "      <td>50</td>\n",
       "      <td>12500</td>\n",
       "      <td>98</td>\n",
       "      <td>0</td>\n",
       "      <td>1</td>\n",
       "      <td>0</td>\n",
       "    </tr>\n",
       "    <tr>\n",
       "      <th>1</th>\n",
       "      <td>27.000000</td>\n",
       "      <td>1</td>\n",
       "      <td>13</td>\n",
       "      <td>3250</td>\n",
       "      <td>28</td>\n",
       "      <td>0</td>\n",
       "      <td>1</td>\n",
       "      <td>0</td>\n",
       "    </tr>\n",
       "    <tr>\n",
       "      <th>2</th>\n",
       "      <td>34.000000</td>\n",
       "      <td>1</td>\n",
       "      <td>16</td>\n",
       "      <td>4000</td>\n",
       "      <td>35</td>\n",
       "      <td>0</td>\n",
       "      <td>0</td>\n",
       "      <td>1</td>\n",
       "    </tr>\n",
       "    <tr>\n",
       "      <th>3</th>\n",
       "      <td>44.011765</td>\n",
       "      <td>2</td>\n",
       "      <td>20</td>\n",
       "      <td>5000</td>\n",
       "      <td>45</td>\n",
       "      <td>1</td>\n",
       "      <td>0</td>\n",
       "      <td>0</td>\n",
       "    </tr>\n",
       "    <tr>\n",
       "      <th>4</th>\n",
       "      <td>47.000000</td>\n",
       "      <td>1</td>\n",
       "      <td>24</td>\n",
       "      <td>6000</td>\n",
       "      <td>77</td>\n",
       "      <td>0</td>\n",
       "      <td>1</td>\n",
       "      <td>0</td>\n",
       "    </tr>\n",
       "    <tr>\n",
       "      <th>...</th>\n",
       "      <td>...</td>\n",
       "      <td>...</td>\n",
       "      <td>...</td>\n",
       "      <td>...</td>\n",
       "      <td>...</td>\n",
       "      <td>...</td>\n",
       "      <td>...</td>\n",
       "      <td>...</td>\n",
       "    </tr>\n",
       "    <tr>\n",
       "      <th>856</th>\n",
       "      <td>33.000000</td>\n",
       "      <td>7</td>\n",
       "      <td>9</td>\n",
       "      <td>2350</td>\n",
       "      <td>45</td>\n",
       "      <td>0</td>\n",
       "      <td>1</td>\n",
       "      <td>0</td>\n",
       "    </tr>\n",
       "    <tr>\n",
       "      <th>857</th>\n",
       "      <td>34.000000</td>\n",
       "      <td>2</td>\n",
       "      <td>10</td>\n",
       "      <td>2450</td>\n",
       "      <td>45</td>\n",
       "      <td>1</td>\n",
       "      <td>0</td>\n",
       "      <td>0</td>\n",
       "    </tr>\n",
       "    <tr>\n",
       "      <th>858</th>\n",
       "      <td>28.000000</td>\n",
       "      <td>10</td>\n",
       "      <td>8</td>\n",
       "      <td>1700</td>\n",
       "      <td>24</td>\n",
       "      <td>0</td>\n",
       "      <td>1</td>\n",
       "      <td>0</td>\n",
       "    </tr>\n",
       "    <tr>\n",
       "      <th>859</th>\n",
       "      <td>21.000000</td>\n",
       "      <td>8</td>\n",
       "      <td>7</td>\n",
       "      <td>1550</td>\n",
       "      <td>42</td>\n",
       "      <td>1</td>\n",
       "      <td>0</td>\n",
       "      <td>0</td>\n",
       "    </tr>\n",
       "    <tr>\n",
       "      <th>860</th>\n",
       "      <td>38.000000</td>\n",
       "      <td>6</td>\n",
       "      <td>8</td>\n",
       "      <td>2000</td>\n",
       "      <td>11</td>\n",
       "      <td>1</td>\n",
       "      <td>0</td>\n",
       "      <td>0</td>\n",
       "    </tr>\n",
       "  </tbody>\n",
       "</table>\n",
       "<p>861 rows × 8 columns</p>\n",
       "</div>"
      ],
      "text/plain": [
       "           Age  Recency  Frequency  TotalDonation  TimeFromFirstDonation  \\\n",
       "0    42.000000        2         50          12500                     98   \n",
       "1    27.000000        1         13           3250                     28   \n",
       "2    34.000000        1         16           4000                     35   \n",
       "3    44.011765        2         20           5000                     45   \n",
       "4    47.000000        1         24           6000                     77   \n",
       "..         ...      ...        ...            ...                    ...   \n",
       "856  33.000000        7          9           2350                     45   \n",
       "857  34.000000        2         10           2450                     45   \n",
       "858  28.000000       10          8           1700                     24   \n",
       "859  21.000000        8          7           1550                     42   \n",
       "860  38.000000        6          8           2000                     11   \n",
       "\n",
       "     Gender_Female  Gender_Male  Gender_Other  \n",
       "0                0            1             0  \n",
       "1                0            1             0  \n",
       "2                0            0             1  \n",
       "3                1            0             0  \n",
       "4                0            1             0  \n",
       "..             ...          ...           ...  \n",
       "856              0            1             0  \n",
       "857              1            0             0  \n",
       "858              0            1             0  \n",
       "859              1            0             0  \n",
       "860              1            0             0  \n",
       "\n",
       "[861 rows x 8 columns]"
      ]
     },
     "execution_count": 31,
     "metadata": {},
     "output_type": "execute_result"
    }
   ],
   "source": [
    "x_dummies=pd.get_dummies(x_default)\n",
    "x_dummies"
   ]
  },
  {
   "cell_type": "code",
   "execution_count": 32,
   "id": "e1b94687",
   "metadata": {},
   "outputs": [],
   "source": [
    "from sklearn.neighbors import KNeighborsClassifier, KNeighborsRegressor\n",
    "from sklearn.model_selection import cross_val_score, train_test_split"
   ]
  },
  {
   "cell_type": "code",
   "execution_count": 33,
   "id": "6595e8b9",
   "metadata": {},
   "outputs": [],
   "source": [
    "x_train,x_test,y_train,y_test=train_test_split(x_dummies,y_default,random_state=0)"
   ]
  },
  {
   "cell_type": "code",
   "execution_count": 34,
   "id": "7f5e4bca",
   "metadata": {},
   "outputs": [
    {
     "data": {
      "text/html": [
       "<div>\n",
       "<style scoped>\n",
       "    .dataframe tbody tr th:only-of-type {\n",
       "        vertical-align: middle;\n",
       "    }\n",
       "\n",
       "    .dataframe tbody tr th {\n",
       "        vertical-align: top;\n",
       "    }\n",
       "\n",
       "    .dataframe thead th {\n",
       "        text-align: right;\n",
       "    }\n",
       "</style>\n",
       "<table border=\"1\" class=\"dataframe\">\n",
       "  <thead>\n",
       "    <tr style=\"text-align: right;\">\n",
       "      <th></th>\n",
       "      <th>Age</th>\n",
       "      <th>Recency</th>\n",
       "      <th>Frequency</th>\n",
       "      <th>TotalDonation</th>\n",
       "      <th>TimeFromFirstDonation</th>\n",
       "      <th>Gender_Female</th>\n",
       "      <th>Gender_Male</th>\n",
       "      <th>Gender_Other</th>\n",
       "    </tr>\n",
       "  </thead>\n",
       "  <tbody>\n",
       "    <tr>\n",
       "      <th>count</th>\n",
       "      <td>645.000000</td>\n",
       "      <td>645.000000</td>\n",
       "      <td>645.000000</td>\n",
       "      <td>645.000000</td>\n",
       "      <td>645.000000</td>\n",
       "      <td>645.000000</td>\n",
       "      <td>645.000000</td>\n",
       "      <td>645.000000</td>\n",
       "    </tr>\n",
       "    <tr>\n",
       "      <th>mean</th>\n",
       "      <td>44.096306</td>\n",
       "      <td>8.631008</td>\n",
       "      <td>5.663566</td>\n",
       "      <td>1414.806202</td>\n",
       "      <td>33.620155</td>\n",
       "      <td>0.493023</td>\n",
       "      <td>0.493023</td>\n",
       "      <td>0.013953</td>\n",
       "    </tr>\n",
       "    <tr>\n",
       "      <th>std</th>\n",
       "      <td>10.452348</td>\n",
       "      <td>6.863824</td>\n",
       "      <td>5.453074</td>\n",
       "      <td>1361.208988</td>\n",
       "      <td>23.375876</td>\n",
       "      <td>0.500339</td>\n",
       "      <td>0.500339</td>\n",
       "      <td>0.117389</td>\n",
       "    </tr>\n",
       "    <tr>\n",
       "      <th>min</th>\n",
       "      <td>16.000000</td>\n",
       "      <td>1.000000</td>\n",
       "      <td>1.000000</td>\n",
       "      <td>250.000000</td>\n",
       "      <td>2.000000</td>\n",
       "      <td>0.000000</td>\n",
       "      <td>0.000000</td>\n",
       "      <td>0.000000</td>\n",
       "    </tr>\n",
       "    <tr>\n",
       "      <th>25%</th>\n",
       "      <td>39.000000</td>\n",
       "      <td>2.000000</td>\n",
       "      <td>2.000000</td>\n",
       "      <td>500.000000</td>\n",
       "      <td>16.000000</td>\n",
       "      <td>0.000000</td>\n",
       "      <td>0.000000</td>\n",
       "      <td>0.000000</td>\n",
       "    </tr>\n",
       "    <tr>\n",
       "      <th>50%</th>\n",
       "      <td>45.000000</td>\n",
       "      <td>6.000000</td>\n",
       "      <td>5.000000</td>\n",
       "      <td>1150.000000</td>\n",
       "      <td>28.000000</td>\n",
       "      <td>0.000000</td>\n",
       "      <td>0.000000</td>\n",
       "      <td>0.000000</td>\n",
       "    </tr>\n",
       "    <tr>\n",
       "      <th>75%</th>\n",
       "      <td>52.000000</td>\n",
       "      <td>14.000000</td>\n",
       "      <td>7.000000</td>\n",
       "      <td>1750.000000</td>\n",
       "      <td>46.000000</td>\n",
       "      <td>1.000000</td>\n",
       "      <td>1.000000</td>\n",
       "      <td>0.000000</td>\n",
       "    </tr>\n",
       "    <tr>\n",
       "      <th>max</th>\n",
       "      <td>60.000000</td>\n",
       "      <td>40.000000</td>\n",
       "      <td>50.000000</td>\n",
       "      <td>12500.000000</td>\n",
       "      <td>98.000000</td>\n",
       "      <td>1.000000</td>\n",
       "      <td>1.000000</td>\n",
       "      <td>1.000000</td>\n",
       "    </tr>\n",
       "  </tbody>\n",
       "</table>\n",
       "</div>"
      ],
      "text/plain": [
       "              Age     Recency   Frequency  TotalDonation  \\\n",
       "count  645.000000  645.000000  645.000000     645.000000   \n",
       "mean    44.096306    8.631008    5.663566    1414.806202   \n",
       "std     10.452348    6.863824    5.453074    1361.208988   \n",
       "min     16.000000    1.000000    1.000000     250.000000   \n",
       "25%     39.000000    2.000000    2.000000     500.000000   \n",
       "50%     45.000000    6.000000    5.000000    1150.000000   \n",
       "75%     52.000000   14.000000    7.000000    1750.000000   \n",
       "max     60.000000   40.000000   50.000000   12500.000000   \n",
       "\n",
       "       TimeFromFirstDonation  Gender_Female  Gender_Male  Gender_Other  \n",
       "count             645.000000     645.000000   645.000000    645.000000  \n",
       "mean               33.620155       0.493023     0.493023      0.013953  \n",
       "std                23.375876       0.500339     0.500339      0.117389  \n",
       "min                 2.000000       0.000000     0.000000      0.000000  \n",
       "25%                16.000000       0.000000     0.000000      0.000000  \n",
       "50%                28.000000       0.000000     0.000000      0.000000  \n",
       "75%                46.000000       1.000000     1.000000      0.000000  \n",
       "max                98.000000       1.000000     1.000000      1.000000  "
      ]
     },
     "execution_count": 34,
     "metadata": {},
     "output_type": "execute_result"
    }
   ],
   "source": [
    "x_train.describe()"
   ]
  },
  {
   "cell_type": "code",
   "execution_count": 35,
   "id": "70fc35eb",
   "metadata": {},
   "outputs": [],
   "source": [
    "from sklearn.linear_model import LogisticRegression"
   ]
  },
  {
   "cell_type": "code",
   "execution_count": 65,
   "id": "dfd2a405",
   "metadata": {},
   "outputs": [
    {
     "data": {
      "text/plain": [
       "LogisticRegression(C=0.1, max_iter=1000)"
      ]
     },
     "execution_count": 65,
     "metadata": {},
     "output_type": "execute_result"
    }
   ],
   "source": [
    "LogisticRegression(solver='lbfgs' , max_iter=1000 , C=0.1)"
   ]
  },
  {
   "cell_type": "code",
   "execution_count": 66,
   "id": "91ae199a",
   "metadata": {},
   "outputs": [
    {
     "data": {
      "text/plain": [
       "LogisticRegression(C=0.1, max_iter=1000)"
      ]
     },
     "execution_count": 66,
     "metadata": {},
     "output_type": "execute_result"
    }
   ],
   "source": [
    "log_reg.fit(x_train, y_train)"
   ]
  },
  {
   "cell_type": "code",
   "execution_count": 67,
   "id": "561222c4",
   "metadata": {},
   "outputs": [
    {
     "data": {
      "text/plain": [
       "array([[-0.53, -0.09, -0.03,  0.  , -0.02,  0.13, -0.07, -0.07]])"
      ]
     },
     "execution_count": 67,
     "metadata": {},
     "output_type": "execute_result"
    }
   ],
   "source": [
    "log_reg.coef_.round(2)"
   ]
  },
  {
   "cell_type": "code",
   "execution_count": 68,
   "id": "e6447e5e",
   "metadata": {},
   "outputs": [
    {
     "name": "stdout",
     "output_type": "stream",
     "text": [
      "log reg acc on train: 91.78%\n",
      "log reg acc on test: 91.20%\n"
     ]
    }
   ],
   "source": [
    "print('log reg acc on train: {:.2%}'.format(log_reg.score(x_train,y_train)))\n",
    "print('log reg acc on test: {:.2%}'.format(log_reg.score(x_test,y_test)))"
   ]
  },
  {
   "cell_type": "code",
   "execution_count": 70,
   "id": "d2fe89bb",
   "metadata": {},
   "outputs": [
    {
     "name": "stderr",
     "output_type": "stream",
     "text": [
      "/Users/ryanmaki/opt/anaconda3/lib/python3.9/site-packages/sklearn/base.py:450: UserWarning: X does not have valid feature names, but LogisticRegression was fitted with feature names\n",
      "  warnings.warn(\n"
     ]
    },
    {
     "data": {
      "text/plain": [
       "array([0])"
      ]
     },
     "execution_count": 70,
     "metadata": {},
     "output_type": "execute_result"
    }
   ],
   "source": [
    "b = [41, 7, 5, 1150, 27, 0, 1, 0]\n",
    "log_reg.predict([b])"
   ]
  },
  {
   "cell_type": "code",
   "execution_count": 76,
   "id": "17558854",
   "metadata": {},
   "outputs": [
    {
     "name": "stderr",
     "output_type": "stream",
     "text": [
      "/Users/ryanmaki/opt/anaconda3/lib/python3.9/site-packages/sklearn/base.py:450: UserWarning: X does not have valid feature names, but LogisticRegression was fitted with feature names\n",
      "  warnings.warn(\n"
     ]
    },
    {
     "data": {
      "text/plain": [
       "array([[0.28988226, 0.71011774]])"
      ]
     },
     "execution_count": 76,
     "metadata": {},
     "output_type": "execute_result"
    }
   ],
   "source": [
    "#Age=39,     Gender=\"Female\",      Recency=7,     Frequency=5,    TotalDonation=1150,    TimeFromFirstDonation=27\n",
    "b1 = [39, 7, 5, 1150, 27, 0, 1, 0]\n",
    "log_reg.predict_proba([b1])\n",
    "#log_reg.predict([b1])"
   ]
  },
  {
   "cell_type": "code",
   "execution_count": 42,
   "id": "d8719b69",
   "metadata": {},
   "outputs": [
    {
     "data": {
      "text/plain": [
       "array([0, 1])"
      ]
     },
     "execution_count": 42,
     "metadata": {},
     "output_type": "execute_result"
    }
   ],
   "source": [
    "log_reg.classes_"
   ]
  },
  {
   "cell_type": "code",
   "execution_count": 43,
   "id": "26f1eb41",
   "metadata": {},
   "outputs": [],
   "source": [
    "knn1=KNeighborsClassifier(n_neighbors=1)"
   ]
  },
  {
   "cell_type": "code",
   "execution_count": 44,
   "id": "d867f6d9",
   "metadata": {},
   "outputs": [
    {
     "data": {
      "text/plain": [
       "KNeighborsClassifier(n_neighbors=1)"
      ]
     },
     "execution_count": 44,
     "metadata": {},
     "output_type": "execute_result"
    }
   ],
   "source": [
    "knn1.fit(x_train,y_train)\n",
    "knn1.fit(x_train,y_train)\n",
    "knn1.fit(x_train,y_train)\n",
    "knn1.fit(x_train,y_train)"
   ]
  },
  {
   "cell_type": "code",
   "execution_count": 45,
   "id": "2661e685",
   "metadata": {},
   "outputs": [
    {
     "name": "stdout",
     "output_type": "stream",
     "text": [
      "knn1 accruacy on train: 99.53%\n",
      "knn1 accruacy on test: 84.72% \n",
      "\n"
     ]
    }
   ],
   "source": [
    "print('knn1 accruacy on train: {:.2%}'.format(knn1.score(x_train,y_train)))\n",
    "print('knn1 accruacy on test: {:.2%}'.format(knn1.score(x_test,y_test)),'\\n')"
   ]
  },
  {
   "cell_type": "code",
   "execution_count": 46,
   "id": "70425ff2",
   "metadata": {},
   "outputs": [],
   "source": [
    "from sklearn.preprocessing import MinMaxScaler"
   ]
  },
  {
   "cell_type": "code",
   "execution_count": 47,
   "id": "40c5436e",
   "metadata": {},
   "outputs": [
    {
     "data": {
      "text/plain": [
       "array([[0.59090909, 0.01369863, 1.        , ..., 0.        , 1.        ,\n",
       "        0.        ],\n",
       "       [0.25      , 0.        , 0.24489796, ..., 0.        , 1.        ,\n",
       "        0.        ],\n",
       "       [0.40909091, 0.        , 0.30612245, ..., 0.        , 0.        ,\n",
       "        1.        ],\n",
       "       ...,\n",
       "       [0.27272727, 0.12328767, 0.14285714, ..., 0.        , 1.        ,\n",
       "        0.        ],\n",
       "       [0.11363636, 0.09589041, 0.12244898, ..., 1.        , 0.        ,\n",
       "        0.        ],\n",
       "       [0.5       , 0.06849315, 0.14285714, ..., 1.        , 0.        ,\n",
       "        0.        ]])"
      ]
     },
     "execution_count": 47,
     "metadata": {},
     "output_type": "execute_result"
    }
   ],
   "source": [
    "scaler1=MinMaxScaler()\n",
    "x_dummies_transformed=scaler1.fit_transform(x_dummies)\n",
    "x_dummies_transformed"
   ]
  },
  {
   "cell_type": "code",
   "execution_count": 48,
   "id": "7de985ab",
   "metadata": {},
   "outputs": [],
   "source": [
    "from sklearn.model_selection import validation_curve"
   ]
  },
  {
   "cell_type": "code",
   "execution_count": 55,
   "id": "c3c72e4b",
   "metadata": {},
   "outputs": [
    {
     "data": {
      "text/plain": [
       "array([[0.8822, 0.8684, 0.8514, 0.8406],\n",
       "       [0.9395, 0.9381, 0.918 , 0.8947],\n",
       "       [0.9411, 0.935 , 0.9241, 0.904 ],\n",
       "       [0.9333, 0.935 , 0.9211, 0.8947],\n",
       "       [0.9302, 0.935 , 0.9149, 0.8932],\n",
       "       [0.9287, 0.935 , 0.9149, 0.8932]])"
      ]
     },
     "execution_count": 55,
     "metadata": {},
     "output_type": "execute_result"
    }
   ],
   "source": [
    "from sklearn.linear_model import LogisticRegression\n",
    "\n",
    "C_range=[.1,.5,1,10,100,200]\n",
    "train_scores, test_scores = validation_curve(LogisticRegression(max_iter=10000),x_dummies_transformed,y_default,param_name='C',\n",
    "                                            param_range=C_range,cv=4)\n",
    "train_scores.round(4)"
   ]
  },
  {
   "cell_type": "code",
   "execution_count": 56,
   "id": "c80774e8",
   "metadata": {},
   "outputs": [
    {
     "data": {
      "text/plain": [
       "array([[0.8102, 0.8186, 0.8558, 0.9256],\n",
       "       [0.875 , 0.8651, 0.9395, 1.    ],\n",
       "       [0.8889, 0.8791, 0.9349, 1.    ],\n",
       "       [0.875 , 0.8884, 0.9302, 0.9953],\n",
       "       [0.8611, 0.8884, 0.9209, 0.9907],\n",
       "       [0.8611, 0.8837, 0.9163, 0.9907]])"
      ]
     },
     "execution_count": 56,
     "metadata": {},
     "output_type": "execute_result"
    }
   ],
   "source": [
    "test_scores.round(4)"
   ]
  },
  {
   "cell_type": "code",
   "execution_count": 61,
   "id": "6f708b5f",
   "metadata": {},
   "outputs": [
    {
     "data": {
      "text/plain": [
       "0.9081063379270744"
      ]
     },
     "execution_count": 61,
     "metadata": {},
     "output_type": "execute_result"
    }
   ],
   "source": [
    "test_scores.mean()"
   ]
  },
  {
   "cell_type": "code",
   "execution_count": null,
   "id": "4c461770",
   "metadata": {},
   "outputs": [],
   "source": [
    "Age=41,     Gender=\"Female\",      Recency=7,     Frequency=5,    TotalDonation=1150,    TimeFromFirstDonation=27"
   ]
  },
  {
   "cell_type": "code",
   "execution_count": 62,
   "id": "8db374f3",
   "metadata": {},
   "outputs": [],
   "source": []
  },
  {
   "cell_type": "code",
   "execution_count": 64,
   "id": "2f2dfc66",
   "metadata": {},
   "outputs": [
    {
     "ename": "TypeError",
     "evalue": "predict() missing 1 required positional argument: 'X'",
     "output_type": "error",
     "traceback": [
      "\u001b[0;31m---------------------------------------------------------------------------\u001b[0m",
      "\u001b[0;31mTypeError\u001b[0m                                 Traceback (most recent call last)",
      "Input \u001b[0;32mIn [64]\u001b[0m, in \u001b[0;36m<cell line: 1>\u001b[0;34m()\u001b[0m\n\u001b[0;32m----> 1\u001b[0m \u001b[43mLogisticRegression\u001b[49m\u001b[38;5;241;43m.\u001b[39;49m\u001b[43mpredict\u001b[49m\u001b[43m(\u001b[49m\u001b[43mb\u001b[49m\u001b[43m)\u001b[49m\n",
      "\u001b[0;31mTypeError\u001b[0m: predict() missing 1 required positional argument: 'X'"
     ]
    }
   ],
   "source": [
    "LogisticRegression.predict(b)"
   ]
  },
  {
   "cell_type": "code",
   "execution_count": 51,
   "id": "e88e41e1",
   "metadata": {},
   "outputs": [],
   "source": [
    "s1=\"Data analysis is a process of inspecting, cleansing, transforming, and modeling data with the goal of discovering useful information, informing conclusions, and supporting decision-making. Data analysis has multiple facets and approaches, encompassing diverse techniques under a variety of names, and is used in different business, science, and social science domains. In today's business world, data analysis plays a role in making decisions more scientific and helping businesses operate more effectively. Data mining is a particular data analysis technique that focuses on statistical modeling and knowledge discovery for predictive rather than purely descriptive purposes, while business intelligence covers data analysis that relies heavily on aggregation, focusing mainly on business information. In statistical applications, data analysis can be divided into descriptive statistics, exploratory data analysis (EDA), and confirmatory data analysis (CDA). EDA focuses on discovering new features in the data while CDA focuses on confirming or falsifying existing hypotheses. The Predictive analytics focuses on the application of statistical models for predictive forecasting or classification, while text analytics applies statistical, linguistic, and structural techniques to extract and classify information from textual sources, a species of unstructured data. All of the above are varieties of data analysis. Once processed and organized, the data may be incomplete, contain duplicates, or contain errors. The need for data cleaning, will arise from problems in the way that the datum are entered and stored. Data cleaning is the process of preventing and correcting these errors. And, Common tasks include record matching, identifying inaccuracy of data, overall quality of existing data, deduplication, and column segmentation.[7] Such data problems can also be identified through a variety of analytical techniques. For example, with financial information, the totals for particular variables may be compared against separately published numbers, that are believed to be reliable. Of Unusual amounts, above or below predetermined thresholds, may also be reviewed. There are several types of data cleaning, that are dependent upon the type of data in the set; this could be phone numbers, email addresses, employers, or other values. Quantitative data methods for outlier detection, can be used to get rid of data that appears to have a higher likelihood of being input incorrectly. Of Textual data spell checkers, can be used to lessen the amount of mistyped words, however, it is harder to tell if the words themselves are correct.\""
   ]
  },
  {
   "cell_type": "code",
   "execution_count": 52,
   "id": "d3fa6e2d",
   "metadata": {},
   "outputs": [
    {
     "data": {
      "text/plain": [
       "14"
      ]
     },
     "execution_count": 52,
     "metadata": {},
     "output_type": "execute_result"
    }
   ],
   "source": [
    "s1.count('and')"
   ]
  },
  {
   "cell_type": "code",
   "execution_count": 53,
   "id": "51903508",
   "metadata": {},
   "outputs": [],
   "source": [
    "a1=\"45 , 11 , 43 , 20\""
   ]
  },
  {
   "cell_type": "code",
   "execution_count": 54,
   "id": "cc87335f",
   "metadata": {},
   "outputs": [
    {
     "ename": "AttributeError",
     "evalue": "'str' object has no attribute 'argmin'",
     "output_type": "error",
     "traceback": [
      "\u001b[0;31m---------------------------------------------------------------------------\u001b[0m",
      "\u001b[0;31mAttributeError\u001b[0m                            Traceback (most recent call last)",
      "Input \u001b[0;32mIn [54]\u001b[0m, in \u001b[0;36m<cell line: 1>\u001b[0;34m()\u001b[0m\n\u001b[0;32m----> 1\u001b[0m \u001b[43ma1\u001b[49m\u001b[38;5;241;43m.\u001b[39;49m\u001b[43margmin\u001b[49m()\n",
      "\u001b[0;31mAttributeError\u001b[0m: 'str' object has no attribute 'argmin'"
     ]
    }
   ],
   "source": [
    "a1.argmin()"
   ]
  },
  {
   "cell_type": "code",
   "execution_count": 41,
   "id": "733445ea",
   "metadata": {},
   "outputs": [
    {
     "data": {
      "text/plain": [
       "['Hi', True]"
      ]
     },
     "execution_count": 41,
     "metadata": {},
     "output_type": "execute_result"
    }
   ],
   "source": [
    "a3=[[23, 65, 2], 'Hi', True, False, 'Python']\n",
    "a3[1:3]"
   ]
  },
  {
   "cell_type": "code",
   "execution_count": 42,
   "id": "37f7ba16",
   "metadata": {},
   "outputs": [
    {
     "data": {
      "text/plain": [
       "3"
      ]
     },
     "execution_count": 42,
     "metadata": {},
     "output_type": "execute_result"
    }
   ],
   "source": [
    "import numpy as np\n",
    "a1=np.array([11,3,0,33,20])\n",
    "a1.argmax()"
   ]
  },
  {
   "cell_type": "code",
   "execution_count": 43,
   "id": "9b619bd7",
   "metadata": {},
   "outputs": [
    {
     "data": {
      "text/html": [
       "<div>\n",
       "<style scoped>\n",
       "    .dataframe tbody tr th:only-of-type {\n",
       "        vertical-align: middle;\n",
       "    }\n",
       "\n",
       "    .dataframe tbody tr th {\n",
       "        vertical-align: top;\n",
       "    }\n",
       "\n",
       "    .dataframe thead th {\n",
       "        text-align: right;\n",
       "    }\n",
       "</style>\n",
       "<table border=\"1\" class=\"dataframe\">\n",
       "  <thead>\n",
       "    <tr style=\"text-align: right;\">\n",
       "      <th></th>\n",
       "      <th>Age</th>\n",
       "      <th>Gender</th>\n",
       "      <th>Recency</th>\n",
       "      <th>Frequency</th>\n",
       "      <th>TotalDonation</th>\n",
       "      <th>TimeFromFirstDonation</th>\n",
       "    </tr>\n",
       "  </thead>\n",
       "  <tbody>\n",
       "    <tr>\n",
       "      <th>0</th>\n",
       "      <td>42.0</td>\n",
       "      <td>Male</td>\n",
       "      <td>2</td>\n",
       "      <td>50</td>\n",
       "      <td>12500</td>\n",
       "      <td>98</td>\n",
       "    </tr>\n",
       "    <tr>\n",
       "      <th>1</th>\n",
       "      <td>27.0</td>\n",
       "      <td>Male</td>\n",
       "      <td>1</td>\n",
       "      <td>13</td>\n",
       "      <td>3250</td>\n",
       "      <td>28</td>\n",
       "    </tr>\n",
       "  </tbody>\n",
       "</table>\n",
       "</div>"
      ],
      "text/plain": [
       "    Age Gender  Recency  Frequency  TotalDonation  TimeFromFirstDonation\n",
       "0  42.0   Male        2         50          12500                     98\n",
       "1  27.0   Male        1         13           3250                     28"
      ]
     },
     "execution_count": 43,
     "metadata": {},
     "output_type": "execute_result"
    }
   ],
   "source": [
    "x_default.head(2)"
   ]
  },
  {
   "cell_type": "code",
   "execution_count": 1,
   "id": "d5d99eb1",
   "metadata": {},
   "outputs": [],
   "source": [
    "a1=234\n",
    "\n",
    "a2=False\n",
    "\n",
    "a3='4500'\n",
    "\n",
    "a4=254.32"
   ]
  },
  {
   "cell_type": "code",
   "execution_count": 7,
   "id": "d1dd9bd7",
   "metadata": {},
   "outputs": [
    {
     "data": {
      "text/plain": [
       "float"
      ]
     },
     "execution_count": 7,
     "metadata": {},
     "output_type": "execute_result"
    }
   ],
   "source": [
    "type(a4)"
   ]
  },
  {
   "cell_type": "code",
   "execution_count": 9,
   "id": "644bbf88",
   "metadata": {},
   "outputs": [],
   "source": [
    "s1 = s1=\"Data analysis is a process of inspecting, cleansing, transforming, and modeling data with the goal of discovering useful information, informing conclusions, and supporting decision-making. Data analysis has multiple facets and approaches, encompassing diverse techniques under a variety of names, and is used in different business, science, and social science domains. In today's business world, data analysis plays a role in making decisions more scientific and helping businesses operate more effectively. Data mining is a particular data analysis technique that focuses on statistical modeling and knowledge discovery for predictive rather than purely descriptive purposes, while business intelligence covers data analysis that relies heavily on aggregation, focusing mainly on business information. In statistical applications, data analysis can be divided into descriptive statistics, exploratory data analysis (EDA), and confirmatory data analysis (CDA). EDA focuses on discovering new features in the data while CDA focuses on confirming or falsifying existing hypotheses. The Predictive analytics focuses on the application of statistical models for predictive forecasting or classification, while text analytics applies statistical, linguistic, and structural techniques to extract and classify information from textual sources, a species of unstructured data. All of the above are varieties of data analysis. Once processed and organized, the data may be incomplete, contain duplicates, or contain errors. The need for data cleaning, will arise from problems in the way that the datum are entered and stored. Data cleaning is the process of preventing and correcting these errors. And, Common tasks include record matching, identifying inaccuracy of data, overall quality of existing data, deduplication, and column segmentation.[7] Such data problems can also be identified through a variety of analytical techniques. For example, with financial information, the totals for particular variables may be compared against separately published numbers, that are believed to be reliable. Of Unusual amounts, above or below predetermined thresholds, may also be reviewed. There are several types of data cleaning, that are dependent upon the type of data in the set; this could be phone numbers, email addresses, employers, or other values. Quantitative data methods for outlier detection, can be used to get rid of data that appears to have a higher likelihood of being input incorrectly. Of Textual data spell checkers, can be used to lessen the amount of mistyped words, however, it is harder to tell if the words themselves are correct.\""
   ]
  },
  {
   "cell_type": "code",
   "execution_count": 11,
   "id": "dfd283a6",
   "metadata": {},
   "outputs": [
    {
     "data": {
      "text/plain": [
       "16"
      ]
     },
     "execution_count": 11,
     "metadata": {},
     "output_type": "execute_result"
    }
   ],
   "source": [
    "s1.count('of')"
   ]
  },
  {
   "cell_type": "code",
   "execution_count": 12,
   "id": "ad74e7f6",
   "metadata": {},
   "outputs": [],
   "source": [
    "a1=\"45 , 11 , 43 , 20\""
   ]
  },
  {
   "cell_type": "code",
   "execution_count": 18,
   "id": "c5b394b7",
   "metadata": {},
   "outputs": [
    {
     "data": {
      "text/plain": [
       "1"
      ]
     },
     "execution_count": 18,
     "metadata": {},
     "output_type": "execute_result"
    }
   ],
   "source": [
    "a1.count('45')"
   ]
  },
  {
   "cell_type": "code",
   "execution_count": 17,
   "id": "092b9f1f",
   "metadata": {},
   "outputs": [
    {
     "ename": "AttributeError",
     "evalue": "'str' object has no attribute 'remove'",
     "output_type": "error",
     "traceback": [
      "\u001b[0;31m---------------------------------------------------------------------------\u001b[0m",
      "\u001b[0;31mAttributeError\u001b[0m                            Traceback (most recent call last)",
      "Input \u001b[0;32mIn [17]\u001b[0m, in \u001b[0;36m<cell line: 1>\u001b[0;34m()\u001b[0m\n\u001b[0;32m----> 1\u001b[0m \u001b[43ma1\u001b[49m\u001b[38;5;241;43m.\u001b[39;49m\u001b[43mremove\u001b[49m(\u001b[38;5;124m'\u001b[39m\u001b[38;5;124m45\u001b[39m\u001b[38;5;124m'\u001b[39m)\n",
      "\u001b[0;31mAttributeError\u001b[0m: 'str' object has no attribute 'remove'"
     ]
    }
   ],
   "source": [
    "a1.remove('45')"
   ]
  },
  {
   "cell_type": "code",
   "execution_count": 15,
   "id": "15ca3343",
   "metadata": {},
   "outputs": [
    {
     "ename": "AttributeError",
     "evalue": "'str' object has no attribute 'argmin'",
     "output_type": "error",
     "traceback": [
      "\u001b[0;31m---------------------------------------------------------------------------\u001b[0m",
      "\u001b[0;31mAttributeError\u001b[0m                            Traceback (most recent call last)",
      "Input \u001b[0;32mIn [15]\u001b[0m, in \u001b[0;36m<cell line: 1>\u001b[0;34m()\u001b[0m\n\u001b[0;32m----> 1\u001b[0m \u001b[43ma1\u001b[49m\u001b[38;5;241;43m.\u001b[39;49m\u001b[43margmin\u001b[49m()\n",
      "\u001b[0;31mAttributeError\u001b[0m: 'str' object has no attribute 'argmin'"
     ]
    }
   ],
   "source": [
    "a1.argmin()"
   ]
  },
  {
   "cell_type": "code",
   "execution_count": 19,
   "id": "961ba6c2",
   "metadata": {},
   "outputs": [],
   "source": [
    "a3=[[23, 65, 2], 'Hi', True, False, 'Python']"
   ]
  },
  {
   "cell_type": "code",
   "execution_count": 20,
   "id": "7f3b1b03",
   "metadata": {},
   "outputs": [
    {
     "data": {
      "text/plain": [
       "['Hi', True]"
      ]
     },
     "execution_count": 20,
     "metadata": {},
     "output_type": "execute_result"
    }
   ],
   "source": [
    "\n",
    "a3[1:3]"
   ]
  },
  {
   "cell_type": "code",
   "execution_count": 25,
   "id": "b969c4b5",
   "metadata": {},
   "outputs": [],
   "source": [
    "a1=np.array([11,3,0,33,20])"
   ]
  },
  {
   "cell_type": "code",
   "execution_count": 26,
   "id": "2d3a85cb",
   "metadata": {},
   "outputs": [
    {
     "data": {
      "text/plain": [
       "3"
      ]
     },
     "execution_count": 26,
     "metadata": {},
     "output_type": "execute_result"
    }
   ],
   "source": [
    "a1.argmax()"
   ]
  },
  {
   "cell_type": "code",
   "execution_count": null,
   "id": "12b939b7",
   "metadata": {},
   "outputs": [],
   "source": []
  }
 ],
 "metadata": {
  "kernelspec": {
   "display_name": "Python 3 (ipykernel)",
   "language": "python",
   "name": "python3"
  },
  "language_info": {
   "codemirror_mode": {
    "name": "ipython",
    "version": 3
   },
   "file_extension": ".py",
   "mimetype": "text/x-python",
   "name": "python",
   "nbconvert_exporter": "python",
   "pygments_lexer": "ipython3",
   "version": "3.9.12"
  },
  "toc": {
   "base_numbering": 1,
   "nav_menu": {},
   "number_sections": true,
   "sideBar": true,
   "skip_h1_title": false,
   "title_cell": "Table of Contents",
   "title_sidebar": "Contents",
   "toc_cell": false,
   "toc_position": {},
   "toc_section_display": true,
   "toc_window_display": true
  }
 },
 "nbformat": 4,
 "nbformat_minor": 5
}
