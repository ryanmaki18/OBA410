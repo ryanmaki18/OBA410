{
 "cells": [
  {
   "cell_type": "markdown",
   "id": "1845003b",
   "metadata": {},
   "source": [
    "# Decision Tree Classification"
   ]
  },
  {
   "cell_type": "markdown",
   "id": "7a09b003",
   "metadata": {},
   "source": [
    "## Diabetes 2 Features Data"
   ]
  },
  {
   "cell_type": "code",
   "execution_count": 1,
   "id": "c64a279c",
   "metadata": {},
   "outputs": [],
   "source": [
    "import pandas as pd"
   ]
  },
  {
   "cell_type": "code",
   "execution_count": 2,
   "id": "de03db16",
   "metadata": {},
   "outputs": [
    {
     "data": {
      "text/html": [
       "<div>\n",
       "<style scoped>\n",
       "    .dataframe tbody tr th:only-of-type {\n",
       "        vertical-align: middle;\n",
       "    }\n",
       "\n",
       "    .dataframe tbody tr th {\n",
       "        vertical-align: top;\n",
       "    }\n",
       "\n",
       "    .dataframe thead th {\n",
       "        text-align: right;\n",
       "    }\n",
       "</style>\n",
       "<table border=\"1\" class=\"dataframe\">\n",
       "  <thead>\n",
       "    <tr style=\"text-align: right;\">\n",
       "      <th></th>\n",
       "      <th>Glucose</th>\n",
       "      <th>BloodPressure</th>\n",
       "      <th>Outcome</th>\n",
       "    </tr>\n",
       "  </thead>\n",
       "  <tbody>\n",
       "    <tr>\n",
       "      <th>0</th>\n",
       "      <td>131</td>\n",
       "      <td>109</td>\n",
       "      <td>diabetic</td>\n",
       "    </tr>\n",
       "    <tr>\n",
       "      <th>1</th>\n",
       "      <td>114</td>\n",
       "      <td>52</td>\n",
       "      <td>non-diabetic</td>\n",
       "    </tr>\n",
       "    <tr>\n",
       "      <th>2</th>\n",
       "      <td>108</td>\n",
       "      <td>50</td>\n",
       "      <td>non-diabetic</td>\n",
       "    </tr>\n",
       "  </tbody>\n",
       "</table>\n",
       "</div>"
      ],
      "text/plain": [
       "   Glucose  BloodPressure       Outcome\n",
       "0      131            109      diabetic\n",
       "1      114             52  non-diabetic\n",
       "2      108             50  non-diabetic"
      ]
     },
     "execution_count": 2,
     "metadata": {},
     "output_type": "execute_result"
    }
   ],
   "source": [
    "# reading the data\n",
    "diab2 = pd.read_csv('diabetes_2_features.csv')\n",
    "diab2.head(3)"
   ]
  },
  {
   "cell_type": "code",
   "execution_count": 3,
   "id": "482fb2f7",
   "metadata": {},
   "outputs": [
    {
     "data": {
      "text/html": [
       "<div>\n",
       "<style scoped>\n",
       "    .dataframe tbody tr th:only-of-type {\n",
       "        vertical-align: middle;\n",
       "    }\n",
       "\n",
       "    .dataframe tbody tr th {\n",
       "        vertical-align: top;\n",
       "    }\n",
       "\n",
       "    .dataframe thead th {\n",
       "        text-align: right;\n",
       "    }\n",
       "</style>\n",
       "<table border=\"1\" class=\"dataframe\">\n",
       "  <thead>\n",
       "    <tr style=\"text-align: right;\">\n",
       "      <th></th>\n",
       "      <th>Glucose</th>\n",
       "      <th>BloodPressure</th>\n",
       "    </tr>\n",
       "  </thead>\n",
       "  <tbody>\n",
       "    <tr>\n",
       "      <th>0</th>\n",
       "      <td>131</td>\n",
       "      <td>109</td>\n",
       "    </tr>\n",
       "    <tr>\n",
       "      <th>1</th>\n",
       "      <td>114</td>\n",
       "      <td>52</td>\n",
       "    </tr>\n",
       "    <tr>\n",
       "      <th>2</th>\n",
       "      <td>108</td>\n",
       "      <td>50</td>\n",
       "    </tr>\n",
       "  </tbody>\n",
       "</table>\n",
       "</div>"
      ],
      "text/plain": [
       "   Glucose  BloodPressure\n",
       "0      131            109\n",
       "1      114             52\n",
       "2      108             50"
      ]
     },
     "metadata": {},
     "output_type": "display_data"
    },
    {
     "data": {
      "text/plain": [
       "0        diabetic\n",
       "1    non-diabetic\n",
       "2    non-diabetic\n",
       "Name: Outcome, dtype: object"
      ]
     },
     "metadata": {},
     "output_type": "display_data"
    }
   ],
   "source": [
    "# creating features and target sets\n",
    "x_diab2, y_diab2=diab2.iloc[:,:-1], diab2['Outcome']\n",
    "# checking my work\n",
    "display(x_diab2.head(3))\n",
    "display(y_diab2.head(3))"
   ]
  },
  {
   "cell_type": "code",
   "execution_count": 4,
   "id": "406b70f6",
   "metadata": {},
   "outputs": [],
   "source": [
    "from sklearn.model_selection import train_test_split, validation_curve\n",
    "# make sure to import decision tree classifier!!\n",
    "from sklearn.tree import DecisionTreeClassifier"
   ]
  },
  {
   "cell_type": "code",
   "execution_count": 5,
   "id": "41dbb607",
   "metadata": {},
   "outputs": [],
   "source": [
    "# split data to train and test (80/20)\n",
    "x_train, x_test, y_train, y_test = train_test_split(x_diab2, y_diab2, test_size=.2, random_state=0)"
   ]
  },
  {
   "cell_type": "code",
   "execution_count": 8,
   "id": "635b815b",
   "metadata": {},
   "outputs": [
    {
     "data": {
      "text/plain": [
       "DecisionTreeClassifier(random_state=0)"
      ]
     },
     "execution_count": 8,
     "metadata": {},
     "output_type": "execute_result"
    }
   ],
   "source": [
    "# define and fit a Decision Tree\n",
    "dt1 = DecisionTreeClassifier(random_state=0)\n",
    "dt1.fit(x_train, y_train)"
   ]
  },
  {
   "cell_type": "code",
   "execution_count": 10,
   "id": "aff55f93",
   "metadata": {},
   "outputs": [
    {
     "name": "stdout",
     "output_type": "stream",
     "text": [
      "dt1 acc on train: 100.00%\n",
      "dt1 acc on test: 100.00%\n"
     ]
    }
   ],
   "source": [
    "# evaluate performane on the model\n",
    "print('dt1 acc on train: {:.2%}'.format(dt1.score(x_train, y_train)))\n",
    "print('dt1 acc on test: {:.2%}'.format(dt1.score(x_test, y_test)))"
   ]
  },
  {
   "cell_type": "code",
   "execution_count": 12,
   "id": "1079e514",
   "metadata": {},
   "outputs": [
    {
     "name": "stderr",
     "output_type": "stream",
     "text": [
      "/Users/ryanmaki/opt/anaconda3/lib/python3.9/site-packages/sklearn/base.py:450: UserWarning: X does not have valid feature names, but DecisionTreeClassifier was fitted with feature names\n",
      "  warnings.warn(\n"
     ]
    },
    {
     "data": {
      "text/plain": [
       "array(['diabetic', 'non-diabetic'], dtype=object)"
      ]
     },
     "execution_count": 12,
     "metadata": {},
     "output_type": "execute_result"
    }
   ],
   "source": [
    "# predictions\n",
    "p1 = [170, 140]\n",
    "p2 = [88,75]\n",
    "\n",
    "dt1.predict([p1,p2])"
   ]
  },
  {
   "cell_type": "markdown",
   "id": "bc7d6502",
   "metadata": {},
   "source": [
    "### visualizing our decision tree"
   ]
  },
  {
   "cell_type": "code",
   "execution_count": null,
   "id": "fdf1c48e",
   "metadata": {},
   "outputs": [],
   "source": [
    "# webgraphviz.com"
   ]
  },
  {
   "cell_type": "code",
   "execution_count": 13,
   "id": "c7a5169f",
   "metadata": {},
   "outputs": [],
   "source": [
    "from sklearn.tree import export_graphviz"
   ]
  },
  {
   "cell_type": "code",
   "execution_count": 15,
   "id": "bc6d7f2b",
   "metadata": {},
   "outputs": [],
   "source": [
    "export_graphviz(dt1, out_file='dt1_vis.dot', \n",
    "                feature_names=x_diab2.columns, class_names=dt1.classes_, filled=True)"
   ]
  },
  {
   "cell_type": "code",
   "execution_count": 16,
   "id": "d41a1022",
   "metadata": {},
   "outputs": [
    {
     "data": {
      "text/plain": [
       "Index(['Glucose', 'BloodPressure'], dtype='object')"
      ]
     },
     "execution_count": 16,
     "metadata": {},
     "output_type": "execute_result"
    }
   ],
   "source": [
    "x_diab2.columns"
   ]
  },
  {
   "cell_type": "code",
   "execution_count": 17,
   "id": "056e439d",
   "metadata": {},
   "outputs": [
    {
     "data": {
      "text/plain": [
       "array(['diabetic', 'non-diabetic'], dtype=object)"
      ]
     },
     "execution_count": 17,
     "metadata": {},
     "output_type": "execute_result"
    }
   ],
   "source": [
    "dt1.classes_"
   ]
  },
  {
   "cell_type": "markdown",
   "id": "6436d8fa",
   "metadata": {},
   "source": [
    "## Diabetes Data"
   ]
  },
  {
   "cell_type": "code",
   "execution_count": 18,
   "id": "d891735c",
   "metadata": {},
   "outputs": [
    {
     "data": {
      "text/html": [
       "<div>\n",
       "<style scoped>\n",
       "    .dataframe tbody tr th:only-of-type {\n",
       "        vertical-align: middle;\n",
       "    }\n",
       "\n",
       "    .dataframe tbody tr th {\n",
       "        vertical-align: top;\n",
       "    }\n",
       "\n",
       "    .dataframe thead th {\n",
       "        text-align: right;\n",
       "    }\n",
       "</style>\n",
       "<table border=\"1\" class=\"dataframe\">\n",
       "  <thead>\n",
       "    <tr style=\"text-align: right;\">\n",
       "      <th></th>\n",
       "      <th>Pregnancies</th>\n",
       "      <th>Glucose</th>\n",
       "      <th>BloodPressure</th>\n",
       "      <th>SkinThickness</th>\n",
       "      <th>Insulin</th>\n",
       "      <th>BMI</th>\n",
       "      <th>DiabetesPedigreeFunction</th>\n",
       "      <th>Age</th>\n",
       "      <th>Outcome</th>\n",
       "    </tr>\n",
       "  </thead>\n",
       "  <tbody>\n",
       "    <tr>\n",
       "      <th>0</th>\n",
       "      <td>6</td>\n",
       "      <td>148</td>\n",
       "      <td>72</td>\n",
       "      <td>35</td>\n",
       "      <td>0</td>\n",
       "      <td>33.6</td>\n",
       "      <td>0.627</td>\n",
       "      <td>50</td>\n",
       "      <td>1</td>\n",
       "    </tr>\n",
       "    <tr>\n",
       "      <th>1</th>\n",
       "      <td>1</td>\n",
       "      <td>85</td>\n",
       "      <td>66</td>\n",
       "      <td>29</td>\n",
       "      <td>0</td>\n",
       "      <td>26.6</td>\n",
       "      <td>0.351</td>\n",
       "      <td>31</td>\n",
       "      <td>0</td>\n",
       "    </tr>\n",
       "    <tr>\n",
       "      <th>2</th>\n",
       "      <td>8</td>\n",
       "      <td>183</td>\n",
       "      <td>64</td>\n",
       "      <td>0</td>\n",
       "      <td>0</td>\n",
       "      <td>23.3</td>\n",
       "      <td>0.672</td>\n",
       "      <td>32</td>\n",
       "      <td>1</td>\n",
       "    </tr>\n",
       "  </tbody>\n",
       "</table>\n",
       "</div>"
      ],
      "text/plain": [
       "   Pregnancies  Glucose  BloodPressure  SkinThickness  Insulin   BMI  \\\n",
       "0            6      148             72             35        0  33.6   \n",
       "1            1       85             66             29        0  26.6   \n",
       "2            8      183             64              0        0  23.3   \n",
       "\n",
       "   DiabetesPedigreeFunction  Age  Outcome  \n",
       "0                     0.627   50        1  \n",
       "1                     0.351   31        0  \n",
       "2                     0.672   32        1  "
      ]
     },
     "execution_count": 18,
     "metadata": {},
     "output_type": "execute_result"
    }
   ],
   "source": [
    "# reading the data \n",
    "diabetes = pd.read_csv('diabetes-1.csv')\n",
    "diabetes.head(3)"
   ]
  },
  {
   "cell_type": "code",
   "execution_count": 34,
   "id": "8de20a63",
   "metadata": {},
   "outputs": [
    {
     "data": {
      "text/html": [
       "<div>\n",
       "<style scoped>\n",
       "    .dataframe tbody tr th:only-of-type {\n",
       "        vertical-align: middle;\n",
       "    }\n",
       "\n",
       "    .dataframe tbody tr th {\n",
       "        vertical-align: top;\n",
       "    }\n",
       "\n",
       "    .dataframe thead th {\n",
       "        text-align: right;\n",
       "    }\n",
       "</style>\n",
       "<table border=\"1\" class=\"dataframe\">\n",
       "  <thead>\n",
       "    <tr style=\"text-align: right;\">\n",
       "      <th></th>\n",
       "      <th>Pregnancies</th>\n",
       "      <th>Glucose</th>\n",
       "      <th>BloodPressure</th>\n",
       "      <th>SkinThickness</th>\n",
       "      <th>Insulin</th>\n",
       "      <th>BMI</th>\n",
       "      <th>DiabetesPedigreeFunction</th>\n",
       "      <th>Age</th>\n",
       "    </tr>\n",
       "  </thead>\n",
       "  <tbody>\n",
       "    <tr>\n",
       "      <th>0</th>\n",
       "      <td>6</td>\n",
       "      <td>148</td>\n",
       "      <td>72</td>\n",
       "      <td>35</td>\n",
       "      <td>0</td>\n",
       "      <td>33.6</td>\n",
       "      <td>0.627</td>\n",
       "      <td>50</td>\n",
       "    </tr>\n",
       "    <tr>\n",
       "      <th>1</th>\n",
       "      <td>1</td>\n",
       "      <td>85</td>\n",
       "      <td>66</td>\n",
       "      <td>29</td>\n",
       "      <td>0</td>\n",
       "      <td>26.6</td>\n",
       "      <td>0.351</td>\n",
       "      <td>31</td>\n",
       "    </tr>\n",
       "    <tr>\n",
       "      <th>2</th>\n",
       "      <td>8</td>\n",
       "      <td>183</td>\n",
       "      <td>64</td>\n",
       "      <td>0</td>\n",
       "      <td>0</td>\n",
       "      <td>23.3</td>\n",
       "      <td>0.672</td>\n",
       "      <td>32</td>\n",
       "    </tr>\n",
       "  </tbody>\n",
       "</table>\n",
       "</div>"
      ],
      "text/plain": [
       "   Pregnancies  Glucose  BloodPressure  SkinThickness  Insulin   BMI  \\\n",
       "0            6      148             72             35        0  33.6   \n",
       "1            1       85             66             29        0  26.6   \n",
       "2            8      183             64              0        0  23.3   \n",
       "\n",
       "   DiabetesPedigreeFunction  Age  \n",
       "0                     0.627   50  \n",
       "1                     0.351   31  \n",
       "2                     0.672   32  "
      ]
     },
     "metadata": {},
     "output_type": "display_data"
    },
    {
     "data": {
      "text/plain": [
       "0    1\n",
       "1    0\n",
       "2    1\n",
       "Name: Outcome, dtype: int64"
      ]
     },
     "metadata": {},
     "output_type": "display_data"
    }
   ],
   "source": [
    "# creating features and target sets\n",
    "x_diabetes, y_diabetes=diabetes.iloc[:,:-1], diabetes['Outcome']\n",
    "# checking my work\n",
    "display(x_diabetes.head(3))\n",
    "display(y_diabetes.head(3))"
   ]
  },
  {
   "cell_type": "code",
   "execution_count": 20,
   "id": "232d75f4",
   "metadata": {},
   "outputs": [],
   "source": [
    "from sklearn.model_selection import train_test_split, validation_curve\n",
    "# make sure to import decision tree classifier!!\n",
    "from sklearn.tree import DecisionTreeClassifier"
   ]
  },
  {
   "cell_type": "code",
   "execution_count": 24,
   "id": "bc333b05",
   "metadata": {},
   "outputs": [],
   "source": [
    "# split data to train and test (80/20)\n",
    "x_train1, x_test1, y_train1, y_test1 = train_test_split(x_diabetes, y_diabetes, test_size=.2, random_state=0)"
   ]
  },
  {
   "cell_type": "code",
   "execution_count": 25,
   "id": "19eb3c49",
   "metadata": {},
   "outputs": [
    {
     "data": {
      "text/plain": [
       "DecisionTreeClassifier(random_state=0)"
      ]
     },
     "execution_count": 25,
     "metadata": {},
     "output_type": "execute_result"
    }
   ],
   "source": [
    "# define and fit a Decision Tree\n",
    "dt2 = DecisionTreeClassifier(random_state=0)\n",
    "dt2.fit(x_train1, y_train1)"
   ]
  },
  {
   "cell_type": "code",
   "execution_count": 36,
   "id": "cf905231",
   "metadata": {},
   "outputs": [
    {
     "name": "stdout",
     "output_type": "stream",
     "text": [
      "dt1 acc on train: 100.00%\n",
      "dt1 acc on test: 76.62%\n"
     ]
    }
   ],
   "source": [
    "# evaluate performane on the model\n",
    "print('dt1 acc on train: {:.2%}'.format(dt2.score(x_train1, y_train1)))\n",
    "print('dt1 acc on test: {:.2%}'.format(dt2.score(x_test1, y_test1)))"
   ]
  },
  {
   "cell_type": "code",
   "execution_count": 35,
   "id": "f2c36e77",
   "metadata": {},
   "outputs": [
    {
     "name": "stderr",
     "output_type": "stream",
     "text": [
      "/Users/ryanmaki/opt/anaconda3/lib/python3.9/site-packages/sklearn/base.py:450: UserWarning: X does not have valid feature names, but DecisionTreeClassifier was fitted with feature names\n",
      "  warnings.warn(\n"
     ]
    },
    {
     "data": {
      "text/plain": [
       "array([1, 0])"
      ]
     },
     "execution_count": 35,
     "metadata": {},
     "output_type": "execute_result"
    }
   ],
   "source": [
    "# predictions\n",
    "p1 = [3, 140, 120, 33, 0, 31, 0.452, 45]\n",
    "p2 = [1, 80, 70, 22, 0, 23, 0.320, 30]\n",
    "\n",
    "dt2.predict([p1,p2])"
   ]
  },
  {
   "cell_type": "markdown",
   "id": "b082390f",
   "metadata": {},
   "source": [
    "### visualizing our decision tree"
   ]
  },
  {
   "cell_type": "code",
   "execution_count": 29,
   "id": "469c88a3",
   "metadata": {},
   "outputs": [],
   "source": [
    "# webgraphviz.com\n",
    "from sklearn.tree import export_graphviz"
   ]
  },
  {
   "cell_type": "code",
   "execution_count": 38,
   "id": "fb54aed0",
   "metadata": {},
   "outputs": [],
   "source": [
    "export_graphviz(dt2, out_file='dt2_vis.dot', feature_names=x_diabetes.columns, \n",
    "                class_names=dt2.classes_.astype(str), filled=True) "
   ]
  },
  {
   "cell_type": "code",
   "execution_count": 31,
   "id": "bb0628d0",
   "metadata": {},
   "outputs": [
    {
     "data": {
      "text/plain": [
       "Index(['Pregnancies', 'Glucose', 'BloodPressure', 'SkinThickness', 'Insulin',\n",
       "       'BMI', 'DiabetesPedigreeFunction', 'Age'],\n",
       "      dtype='object')"
      ]
     },
     "execution_count": 31,
     "metadata": {},
     "output_type": "execute_result"
    }
   ],
   "source": [
    "x_diabetes.columns"
   ]
  },
  {
   "cell_type": "code",
   "execution_count": 32,
   "id": "c4541ea0",
   "metadata": {},
   "outputs": [
    {
     "data": {
      "text/plain": [
       "array([0, 1])"
      ]
     },
     "execution_count": 32,
     "metadata": {},
     "output_type": "execute_result"
    }
   ],
   "source": [
    "dt2.classes_"
   ]
  },
  {
   "cell_type": "markdown",
   "id": "ddf7dd10",
   "metadata": {},
   "source": [
    "### validation curve to find the best DT param value"
   ]
  },
  {
   "cell_type": "code",
   "execution_count": 40,
   "id": "7971db27",
   "metadata": {},
   "outputs": [],
   "source": [
    "train_scores, test_scores = validation_curve(DecisionTreeClassifier(random_state=0), x_train1, y_train1, \n",
    "                                             param_name='max_leaf_nodes', param_range=[2,6,8,10,15,25,50], cv= 5)"
   ]
  },
  {
   "cell_type": "code",
   "execution_count": 43,
   "id": "20443eb2",
   "metadata": {},
   "outputs": [
    {
     "data": {
      "text/plain": [
       "array([0.74 , 0.767, 0.785, 0.803, 0.831, 0.874, 0.937])"
      ]
     },
     "execution_count": 43,
     "metadata": {},
     "output_type": "execute_result"
    }
   ],
   "source": [
    "train_scores.mean(axis=1).round(3)"
   ]
  },
  {
   "cell_type": "code",
   "execution_count": 44,
   "id": "e2cc36d5",
   "metadata": {},
   "outputs": [
    {
     "data": {
      "text/plain": [
       "array([0.7  , 0.704, 0.71 , 0.73 , 0.715, 0.708, 0.707])"
      ]
     },
     "execution_count": 44,
     "metadata": {},
     "output_type": "execute_result"
    }
   ],
   "source": [
    "test_scores.mean(axis=1).round(3)\n",
    "# max_leaf_nodes 10 has the highest test score"
   ]
  },
  {
   "cell_type": "markdown",
   "id": "e2c89fa4",
   "metadata": {},
   "source": [
    "### Build a decision with best param values"
   ]
  },
  {
   "cell_type": "code",
   "execution_count": 47,
   "id": "3ee6f6c4",
   "metadata": {},
   "outputs": [
    {
     "data": {
      "text/plain": [
       "DecisionTreeClassifier(max_leaf_nodes=10, random_state=0)"
      ]
     },
     "execution_count": 47,
     "metadata": {},
     "output_type": "execute_result"
    }
   ],
   "source": [
    "# define and fit a model w best param value\n",
    "dt3 = DecisionTreeClassifier(random_state=0, max_leaf_nodes=10)\n",
    "dt3.fit(x_train1, y_train1)"
   ]
  },
  {
   "cell_type": "code",
   "execution_count": 49,
   "id": "0eb6d8bc",
   "metadata": {},
   "outputs": [
    {
     "name": "stdout",
     "output_type": "stream",
     "text": [
      "dt3 acc on train: 77.36%\n",
      "dt3 acc on test: 77.92%\n"
     ]
    }
   ],
   "source": [
    "# evaluate the performance\n",
    "print('dt3 acc on train: {:.2%}'.format(dt3.score(x_train1, y_train1)))\n",
    "print('dt3 acc on test: {:.2%}'.format(dt3.score(x_test1, y_test1)))"
   ]
  },
  {
   "cell_type": "code",
   "execution_count": 50,
   "id": "21731f47",
   "metadata": {},
   "outputs": [],
   "source": [
    "export_graphviz(dt3, out_file='dt3_vis.dot', feature_names=x_diabetes.columns, \n",
    "                class_names=dt3.classes_.astype(str), filled=True) "
   ]
  },
  {
   "cell_type": "markdown",
   "id": "bf83254a",
   "metadata": {},
   "source": [
    "### Feature Importance"
   ]
  },
  {
   "cell_type": "code",
   "execution_count": 53,
   "id": "236da220",
   "metadata": {},
   "outputs": [
    {
     "data": {
      "text/plain": [
       "array([0.   , 0.583, 0.   , 0.   , 0.   , 0.21 , 0.039, 0.167])"
      ]
     },
     "execution_count": 53,
     "metadata": {},
     "output_type": "execute_result"
    }
   ],
   "source": [
    "# the higher the value, the more important the feature is\n",
    "# summation of all of these is always equal to 1\n",
    "dt3.feature_importances_.round(3)"
   ]
  },
  {
   "cell_type": "code",
   "execution_count": 54,
   "id": "ef1fa267",
   "metadata": {},
   "outputs": [
    {
     "data": {
      "text/plain": [
       "Index(['Pregnancies', 'Glucose', 'BloodPressure', 'SkinThickness', 'Insulin',\n",
       "       'BMI', 'DiabetesPedigreeFunction', 'Age'],\n",
       "      dtype='object')"
      ]
     },
     "execution_count": 54,
     "metadata": {},
     "output_type": "execute_result"
    }
   ],
   "source": [
    "x_diabetes.columns"
   ]
  },
  {
   "cell_type": "code",
   "execution_count": 59,
   "id": "1393af1c",
   "metadata": {},
   "outputs": [
    {
     "data": {
      "text/html": [
       "<div>\n",
       "<style scoped>\n",
       "    .dataframe tbody tr th:only-of-type {\n",
       "        vertical-align: middle;\n",
       "    }\n",
       "\n",
       "    .dataframe tbody tr th {\n",
       "        vertical-align: top;\n",
       "    }\n",
       "\n",
       "    .dataframe thead th {\n",
       "        text-align: right;\n",
       "    }\n",
       "</style>\n",
       "<table border=\"1\" class=\"dataframe\">\n",
       "  <thead>\n",
       "    <tr style=\"text-align: right;\">\n",
       "      <th></th>\n",
       "      <th>Importance</th>\n",
       "    </tr>\n",
       "  </thead>\n",
       "  <tbody>\n",
       "    <tr>\n",
       "      <th>Glucose</th>\n",
       "      <td>0.583</td>\n",
       "    </tr>\n",
       "    <tr>\n",
       "      <th>BMI</th>\n",
       "      <td>0.210</td>\n",
       "    </tr>\n",
       "    <tr>\n",
       "      <th>Age</th>\n",
       "      <td>0.167</td>\n",
       "    </tr>\n",
       "    <tr>\n",
       "      <th>DiabetesPedigreeFunction</th>\n",
       "      <td>0.039</td>\n",
       "    </tr>\n",
       "    <tr>\n",
       "      <th>Pregnancies</th>\n",
       "      <td>0.000</td>\n",
       "    </tr>\n",
       "    <tr>\n",
       "      <th>BloodPressure</th>\n",
       "      <td>0.000</td>\n",
       "    </tr>\n",
       "    <tr>\n",
       "      <th>SkinThickness</th>\n",
       "      <td>0.000</td>\n",
       "    </tr>\n",
       "    <tr>\n",
       "      <th>Insulin</th>\n",
       "      <td>0.000</td>\n",
       "    </tr>\n",
       "  </tbody>\n",
       "</table>\n",
       "</div>"
      ],
      "text/plain": [
       "                          Importance\n",
       "Glucose                        0.583\n",
       "BMI                            0.210\n",
       "Age                            0.167\n",
       "DiabetesPedigreeFunction       0.039\n",
       "Pregnancies                    0.000\n",
       "BloodPressure                  0.000\n",
       "SkinThickness                  0.000\n",
       "Insulin                        0.000"
      ]
     },
     "execution_count": 59,
     "metadata": {},
     "output_type": "execute_result"
    }
   ],
   "source": [
    "feat_imp=pd.DataFrame(data=dt3.feature_importances_.round(3), \n",
    "                       index = x_diabetes.columns,\n",
    "                       columns=[\"Importance\"])\n",
    "feat_imp.sort_values(\"Importance\", ascending=False)"
   ]
  },
  {
   "cell_type": "code",
   "execution_count": null,
   "id": "18d0569b",
   "metadata": {},
   "outputs": [],
   "source": []
  }
 ],
 "metadata": {
  "kernelspec": {
   "display_name": "Python 3 (ipykernel)",
   "language": "python",
   "name": "python3"
  },
  "language_info": {
   "codemirror_mode": {
    "name": "ipython",
    "version": 3
   },
   "file_extension": ".py",
   "mimetype": "text/x-python",
   "name": "python",
   "nbconvert_exporter": "python",
   "pygments_lexer": "ipython3",
   "version": "3.9.12"
  },
  "toc": {
   "base_numbering": 1,
   "nav_menu": {},
   "number_sections": true,
   "sideBar": true,
   "skip_h1_title": false,
   "title_cell": "Table of Contents",
   "title_sidebar": "Contents",
   "toc_cell": false,
   "toc_position": {
    "height": "calc(100% - 180px)",
    "left": "10px",
    "top": "150px",
    "width": "247px"
   },
   "toc_section_display": true,
   "toc_window_display": true
  }
 },
 "nbformat": 4,
 "nbformat_minor": 5
}
