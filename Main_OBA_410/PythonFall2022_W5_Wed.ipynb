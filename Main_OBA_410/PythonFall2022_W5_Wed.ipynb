{
 "cells": [
  {
   "cell_type": "markdown",
   "id": "0a9b5d0d",
   "metadata": {},
   "source": [
    "# Import Packages"
   ]
  },
  {
   "cell_type": "code",
   "execution_count": 30,
   "id": "d88a71ca",
   "metadata": {},
   "outputs": [],
   "source": [
    "import pandas as pd\n",
    "from sklearn.model_selection import train_test_split\n",
    "from sklearn.linear_model import LinearRegression"
   ]
  },
  {
   "cell_type": "markdown",
   "id": "fa816e3e",
   "metadata": {},
   "source": [
    "# Linear Regression"
   ]
  },
  {
   "cell_type": "code",
   "execution_count": 31,
   "id": "3f3e68b0",
   "metadata": {},
   "outputs": [
    {
     "data": {
      "text/html": [
       "<div>\n",
       "<style scoped>\n",
       "    .dataframe tbody tr th:only-of-type {\n",
       "        vertical-align: middle;\n",
       "    }\n",
       "\n",
       "    .dataframe tbody tr th {\n",
       "        vertical-align: top;\n",
       "    }\n",
       "\n",
       "    .dataframe thead th {\n",
       "        text-align: right;\n",
       "    }\n",
       "</style>\n",
       "<table border=\"1\" class=\"dataframe\">\n",
       "  <thead>\n",
       "    <tr style=\"text-align: right;\">\n",
       "      <th></th>\n",
       "      <th>target_medv</th>\n",
       "      <th>crim</th>\n",
       "      <th>zn</th>\n",
       "      <th>indus</th>\n",
       "      <th>chas</th>\n",
       "      <th>nox</th>\n",
       "      <th>rm</th>\n",
       "      <th>age</th>\n",
       "      <th>dis</th>\n",
       "      <th>rad</th>\n",
       "      <th>...</th>\n",
       "      <th>col40</th>\n",
       "      <th>col41</th>\n",
       "      <th>col42</th>\n",
       "      <th>col43</th>\n",
       "      <th>col44</th>\n",
       "      <th>col45</th>\n",
       "      <th>col46</th>\n",
       "      <th>col47</th>\n",
       "      <th>col48</th>\n",
       "      <th>col49</th>\n",
       "    </tr>\n",
       "  </thead>\n",
       "  <tbody>\n",
       "    <tr>\n",
       "      <th>0</th>\n",
       "      <td>24.0</td>\n",
       "      <td>0.00632</td>\n",
       "      <td>18.0</td>\n",
       "      <td>2.31</td>\n",
       "      <td>0</td>\n",
       "      <td>0.538</td>\n",
       "      <td>6.575</td>\n",
       "      <td>65.2</td>\n",
       "      <td>4.0900</td>\n",
       "      <td>1</td>\n",
       "      <td>...</td>\n",
       "      <td>0.065486</td>\n",
       "      <td>0.000000</td>\n",
       "      <td>0.084749</td>\n",
       "      <td>0.201987</td>\n",
       "      <td>0.181807</td>\n",
       "      <td>0.099108</td>\n",
       "      <td>0.0</td>\n",
       "      <td>0.0</td>\n",
       "      <td>0.0</td>\n",
       "      <td>0.0</td>\n",
       "    </tr>\n",
       "    <tr>\n",
       "      <th>1</th>\n",
       "      <td>21.6</td>\n",
       "      <td>0.02731</td>\n",
       "      <td>0.0</td>\n",
       "      <td>7.07</td>\n",
       "      <td>0</td>\n",
       "      <td>0.469</td>\n",
       "      <td>6.421</td>\n",
       "      <td>78.9</td>\n",
       "      <td>4.9671</td>\n",
       "      <td>2</td>\n",
       "      <td>...</td>\n",
       "      <td>0.018142</td>\n",
       "      <td>0.007515</td>\n",
       "      <td>0.060314</td>\n",
       "      <td>0.135281</td>\n",
       "      <td>0.094716</td>\n",
       "      <td>0.029873</td>\n",
       "      <td>0.0</td>\n",
       "      <td>0.0</td>\n",
       "      <td>0.0</td>\n",
       "      <td>0.0</td>\n",
       "    </tr>\n",
       "    <tr>\n",
       "      <th>2</th>\n",
       "      <td>33.4</td>\n",
       "      <td>0.03237</td>\n",
       "      <td>0.0</td>\n",
       "      <td>2.18</td>\n",
       "      <td>0</td>\n",
       "      <td>0.458</td>\n",
       "      <td>6.998</td>\n",
       "      <td>45.8</td>\n",
       "      <td>6.0622</td>\n",
       "      <td>3</td>\n",
       "      <td>...</td>\n",
       "      <td>0.018142</td>\n",
       "      <td>0.007515</td>\n",
       "      <td>0.060314</td>\n",
       "      <td>0.103597</td>\n",
       "      <td>0.120017</td>\n",
       "      <td>0.029873</td>\n",
       "      <td>0.0</td>\n",
       "      <td>0.0</td>\n",
       "      <td>0.0</td>\n",
       "      <td>0.0</td>\n",
       "    </tr>\n",
       "  </tbody>\n",
       "</table>\n",
       "<p>3 rows × 62 columns</p>\n",
       "</div>"
      ],
      "text/plain": [
       "   target_medv     crim    zn  indus  chas    nox     rm   age     dis  rad  \\\n",
       "0         24.0  0.00632  18.0   2.31     0  0.538  6.575  65.2  4.0900    1   \n",
       "1         21.6  0.02731   0.0   7.07     0  0.469  6.421  78.9  4.9671    2   \n",
       "2         33.4  0.03237   0.0   2.18     0  0.458  6.998  45.8  6.0622    3   \n",
       "\n",
       "   ...     col40     col41     col42     col43     col44     col45  col46  \\\n",
       "0  ...  0.065486  0.000000  0.084749  0.201987  0.181807  0.099108    0.0   \n",
       "1  ...  0.018142  0.007515  0.060314  0.135281  0.094716  0.029873    0.0   \n",
       "2  ...  0.018142  0.007515  0.060314  0.103597  0.120017  0.029873    0.0   \n",
       "\n",
       "   col47  col48  col49  \n",
       "0    0.0    0.0    0.0  \n",
       "1    0.0    0.0    0.0  \n",
       "2    0.0    0.0    0.0  \n",
       "\n",
       "[3 rows x 62 columns]"
      ]
     },
     "execution_count": 31,
     "metadata": {},
     "output_type": "execute_result"
    }
   ],
   "source": [
    "#reading Boston housing data v2 -- make sure to read version 2!!!\n",
    "boston2 = pd.read_csv('boston_housing_data_v2-1.csv')\n",
    "boston2.head(3)"
   ]
  },
  {
   "cell_type": "code",
   "execution_count": 32,
   "id": "3b646f98",
   "metadata": {},
   "outputs": [
    {
     "data": {
      "text/plain": [
       "(333, 62)"
      ]
     },
     "execution_count": 32,
     "metadata": {},
     "output_type": "execute_result"
    }
   ],
   "source": [
    "# we ave too many columns (62) relative to the number of recors in this dataset\n",
    "boston2.shape"
   ]
  },
  {
   "cell_type": "code",
   "execution_count": 33,
   "id": "14313026",
   "metadata": {},
   "outputs": [
    {
     "data": {
      "text/html": [
       "<div>\n",
       "<style scoped>\n",
       "    .dataframe tbody tr th:only-of-type {\n",
       "        vertical-align: middle;\n",
       "    }\n",
       "\n",
       "    .dataframe tbody tr th {\n",
       "        vertical-align: top;\n",
       "    }\n",
       "\n",
       "    .dataframe thead th {\n",
       "        text-align: right;\n",
       "    }\n",
       "</style>\n",
       "<table border=\"1\" class=\"dataframe\">\n",
       "  <thead>\n",
       "    <tr style=\"text-align: right;\">\n",
       "      <th></th>\n",
       "      <th>crim</th>\n",
       "      <th>zn</th>\n",
       "      <th>indus</th>\n",
       "      <th>chas</th>\n",
       "      <th>nox</th>\n",
       "      <th>rm</th>\n",
       "      <th>age</th>\n",
       "      <th>dis</th>\n",
       "      <th>rad</th>\n",
       "      <th>tax</th>\n",
       "      <th>...</th>\n",
       "      <th>col40</th>\n",
       "      <th>col41</th>\n",
       "      <th>col42</th>\n",
       "      <th>col43</th>\n",
       "      <th>col44</th>\n",
       "      <th>col45</th>\n",
       "      <th>col46</th>\n",
       "      <th>col47</th>\n",
       "      <th>col48</th>\n",
       "      <th>col49</th>\n",
       "    </tr>\n",
       "  </thead>\n",
       "  <tbody>\n",
       "    <tr>\n",
       "      <th>0</th>\n",
       "      <td>0.00632</td>\n",
       "      <td>18.0</td>\n",
       "      <td>2.31</td>\n",
       "      <td>0</td>\n",
       "      <td>0.538</td>\n",
       "      <td>6.575</td>\n",
       "      <td>65.2</td>\n",
       "      <td>4.0900</td>\n",
       "      <td>1</td>\n",
       "      <td>296</td>\n",
       "      <td>...</td>\n",
       "      <td>0.065486</td>\n",
       "      <td>0.000000</td>\n",
       "      <td>0.084749</td>\n",
       "      <td>0.201987</td>\n",
       "      <td>0.181807</td>\n",
       "      <td>0.099108</td>\n",
       "      <td>0.0</td>\n",
       "      <td>0.0</td>\n",
       "      <td>0.0</td>\n",
       "      <td>0.0</td>\n",
       "    </tr>\n",
       "    <tr>\n",
       "      <th>1</th>\n",
       "      <td>0.02731</td>\n",
       "      <td>0.0</td>\n",
       "      <td>7.07</td>\n",
       "      <td>0</td>\n",
       "      <td>0.469</td>\n",
       "      <td>6.421</td>\n",
       "      <td>78.9</td>\n",
       "      <td>4.9671</td>\n",
       "      <td>2</td>\n",
       "      <td>242</td>\n",
       "      <td>...</td>\n",
       "      <td>0.018142</td>\n",
       "      <td>0.007515</td>\n",
       "      <td>0.060314</td>\n",
       "      <td>0.135281</td>\n",
       "      <td>0.094716</td>\n",
       "      <td>0.029873</td>\n",
       "      <td>0.0</td>\n",
       "      <td>0.0</td>\n",
       "      <td>0.0</td>\n",
       "      <td>0.0</td>\n",
       "    </tr>\n",
       "    <tr>\n",
       "      <th>2</th>\n",
       "      <td>0.03237</td>\n",
       "      <td>0.0</td>\n",
       "      <td>2.18</td>\n",
       "      <td>0</td>\n",
       "      <td>0.458</td>\n",
       "      <td>6.998</td>\n",
       "      <td>45.8</td>\n",
       "      <td>6.0622</td>\n",
       "      <td>3</td>\n",
       "      <td>222</td>\n",
       "      <td>...</td>\n",
       "      <td>0.018142</td>\n",
       "      <td>0.007515</td>\n",
       "      <td>0.060314</td>\n",
       "      <td>0.103597</td>\n",
       "      <td>0.120017</td>\n",
       "      <td>0.029873</td>\n",
       "      <td>0.0</td>\n",
       "      <td>0.0</td>\n",
       "      <td>0.0</td>\n",
       "      <td>0.0</td>\n",
       "    </tr>\n",
       "  </tbody>\n",
       "</table>\n",
       "<p>3 rows × 61 columns</p>\n",
       "</div>"
      ],
      "text/plain": [
       "      crim    zn  indus  chas    nox     rm   age     dis  rad  tax  ...  \\\n",
       "0  0.00632  18.0   2.31     0  0.538  6.575  65.2  4.0900    1  296  ...   \n",
       "1  0.02731   0.0   7.07     0  0.469  6.421  78.9  4.9671    2  242  ...   \n",
       "2  0.03237   0.0   2.18     0  0.458  6.998  45.8  6.0622    3  222  ...   \n",
       "\n",
       "      col40     col41     col42     col43     col44     col45  col46  col47  \\\n",
       "0  0.065486  0.000000  0.084749  0.201987  0.181807  0.099108    0.0    0.0   \n",
       "1  0.018142  0.007515  0.060314  0.135281  0.094716  0.029873    0.0    0.0   \n",
       "2  0.018142  0.007515  0.060314  0.103597  0.120017  0.029873    0.0    0.0   \n",
       "\n",
       "   col48  col49  \n",
       "0    0.0    0.0  \n",
       "1    0.0    0.0  \n",
       "2    0.0    0.0  \n",
       "\n",
       "[3 rows x 61 columns]"
      ]
     },
     "metadata": {},
     "output_type": "display_data"
    },
    {
     "data": {
      "text/plain": [
       "0    24.0\n",
       "1    21.6\n",
       "2    33.4\n",
       "Name: target_medv, dtype: float64"
      ]
     },
     "metadata": {},
     "output_type": "display_data"
    }
   ],
   "source": [
    "# create features and target sets\n",
    "x_boston2, y_boston2 = boston2.iloc[:,1:], boston2['target_medv']\n",
    "# check my work\n",
    "display(x_boston2.head(3))\n",
    "display(y_boston2.head(3))"
   ]
  },
  {
   "cell_type": "code",
   "execution_count": 34,
   "id": "63fbf4dc",
   "metadata": {},
   "outputs": [
    {
     "name": "stdout",
     "output_type": "stream",
     "text": [
      "(249, 61)\n",
      "(84, 61)\n",
      "(249,)\n",
      "(84,)\n"
     ]
    }
   ],
   "source": [
    "# split data to train and test (75/25)\n",
    "x_train, x_test, y_train, y_test = train_test_split(x_boston2, y_boston2, random_state=0, test_size=.25)\n",
    "\n",
    "print(x_train.shape)\n",
    "print(x_test.shape)\n",
    "print(y_train.shape)\n",
    "print(y_test.shape)"
   ]
  },
  {
   "cell_type": "code",
   "execution_count": 35,
   "id": "772cf849",
   "metadata": {},
   "outputs": [
    {
     "data": {
      "text/plain": [
       "LinearRegression()"
      ]
     },
     "execution_count": 35,
     "metadata": {},
     "output_type": "execute_result"
    }
   ],
   "source": [
    "# define the model\n",
    "lr = LinearRegression()\n",
    "# fit the model\n",
    "lr.fit(x_train, y_train)"
   ]
  },
  {
   "cell_type": "code",
   "execution_count": 36,
   "id": "3871aa29",
   "metadata": {},
   "outputs": [
    {
     "name": "stdout",
     "output_type": "stream",
     "text": [
      "lr R2 on train:78.94%\n",
      "lr R2 on test:60.73%\n"
     ]
    }
   ],
   "source": [
    "# evaluate the model's performance\n",
    "print('lr R2 on train:{:.2%}'.format(lr.score(x_train, y_train)))\n",
    "print('lr R2 on test:{:.2%}'.format(lr.score(x_test, y_test)))"
   ]
  },
  {
   "cell_type": "markdown",
   "id": "516dcfb2",
   "metadata": {},
   "source": [
    "# Ridge Regression"
   ]
  },
  {
   "cell_type": "code",
   "execution_count": 37,
   "id": "120e8b8a",
   "metadata": {},
   "outputs": [],
   "source": [
    "from sklearn.linear_model import Ridge"
   ]
  },
  {
   "cell_type": "code",
   "execution_count": 38,
   "id": "a20eb89e",
   "metadata": {},
   "outputs": [
    {
     "data": {
      "text/plain": [
       "Ridge()"
      ]
     },
     "execution_count": 38,
     "metadata": {},
     "output_type": "execute_result"
    }
   ],
   "source": [
    "# define the model (with default perameters) -- alpha is 1 by default\n",
    "ridge = Ridge()\n",
    "# fit the model\n",
    "ridge.fit(x_train, y_train)"
   ]
  },
  {
   "cell_type": "code",
   "execution_count": 39,
   "id": "80e8a3ef",
   "metadata": {},
   "outputs": [
    {
     "data": {
      "text/plain": [
       "array([-0.15083518,  0.03506091,  0.07059383,  3.57834392, -6.40759591,\n",
       "        3.28455384, -0.00239048, -1.12103983,  0.33639372, -0.01510789,\n",
       "       -0.53873313, -0.72401055, -0.21547832,  0.83863566, -1.17521021,\n",
       "       -1.61933019,  1.55118512, -0.08421433,  0.97222014,  0.73573716,\n",
       "        0.79235092,  0.39013132,  0.45172906,  0.91391948,  0.45044399,\n",
       "        0.49787854,  0.27174819, -0.94219309,  0.24782388,  1.21196962,\n",
       "        0.99109483,  1.96563879,  3.7158126 ,  0.76821883,  0.94133303,\n",
       "        1.71261564,  1.01060253, -0.85018896,  0.2860957 , -1.47473913,\n",
       "       -0.1674865 , -0.10845684,  0.66969625, -0.28687709, -0.0528973 ,\n",
       "       -0.23227452,  0.31927661,  1.43029845,  2.50800571,  1.01465776,\n",
       "        0.98243765,  0.63901699, -0.11765648, -1.4123672 , -0.23148077,\n",
       "       -0.21786397,  2.81834691,  3.47530042, -0.65523441, -3.93394334,\n",
       "        0.91688331])"
      ]
     },
     "execution_count": 39,
     "metadata": {},
     "output_type": "execute_result"
    }
   ],
   "source": [
    "# ridge model coefficients\n",
    "ridge.coef_"
   ]
  },
  {
   "cell_type": "code",
   "execution_count": 40,
   "id": "4a444db1",
   "metadata": {},
   "outputs": [],
   "source": [
    "# force the numbers oto be down in float format\n",
    "import numpy as np\n",
    "np.set_printoptions(suppress=True)"
   ]
  },
  {
   "cell_type": "code",
   "execution_count": 41,
   "id": "f56d6ef2",
   "metadata": {},
   "outputs": [
    {
     "data": {
      "text/plain": [
       "array([-0.15,  0.04,  0.07,  3.58, -6.41,  3.28, -0.  , -1.12,  0.34,\n",
       "       -0.02, -0.54, -0.72, -0.22,  0.84, -1.18, -1.62,  1.55, -0.08,\n",
       "        0.97,  0.74,  0.79,  0.39,  0.45,  0.91,  0.45,  0.5 ,  0.27,\n",
       "       -0.94,  0.25,  1.21,  0.99,  1.97,  3.72,  0.77,  0.94,  1.71,\n",
       "        1.01, -0.85,  0.29, -1.47, -0.17, -0.11,  0.67, -0.29, -0.05,\n",
       "       -0.23,  0.32,  1.43,  2.51,  1.01,  0.98,  0.64, -0.12, -1.41,\n",
       "       -0.23, -0.22,  2.82,  3.48, -0.66, -3.93,  0.92])"
      ]
     },
     "execution_count": 41,
     "metadata": {},
     "output_type": "execute_result"
    }
   ],
   "source": [
    "#ridge model coefficients\n",
    "ridge.coef_.round(2)"
   ]
  },
  {
   "cell_type": "code",
   "execution_count": 42,
   "id": "8198b6a1",
   "metadata": {},
   "outputs": [
    {
     "data": {
      "text/plain": [
       "array([ -0.11,   0.01,   0.06,   4.84, -25.05,   3.42,   0.01,  -1.14,\n",
       "         0.36,  -0.01,  -0.6 ,  -0.7 ,  -0.65,  14.55, -22.33, -24.49,\n",
       "        15.19,  -6.11,  -4.3 ,  22.73,  -0.45, -24.74,  15.54,  26.07,\n",
       "       -79.91, -75.28,  15.8 ,  -6.75, -16.33,   3.65,  27.97,  99.37,\n",
       "        30.77,   5.93,   1.59,  10.38,  53.85, -30.95, -13.78,   1.8 ,\n",
       "        -2.63,  26.52,   0.24, -24.99, -37.38, -36.57,   0.88,  -0.98,\n",
       "         0.51,  -7.83,  19.75, -75.05, 148.61, -17.63, -61.48,   8.36,\n",
       "        44.94,  12.53,   9.85, -24.09, -13.37])"
      ]
     },
     "execution_count": 42,
     "metadata": {},
     "output_type": "execute_result"
    }
   ],
   "source": [
    "lr.coef_.round(2)"
   ]
  },
  {
   "cell_type": "code",
   "execution_count": 43,
   "id": "09c6e15e",
   "metadata": {},
   "outputs": [
    {
     "data": {
      "text/plain": [
       "52"
      ]
     },
     "execution_count": 43,
     "metadata": {},
     "output_type": "execute_result"
    }
   ],
   "source": [
    "# 52 coefficents have smaller absolute value in ridge compared to linear regression model\n",
    "sum(abs(ridge.coef_)<=abs(lr.coef_))"
   ]
  },
  {
   "cell_type": "code",
   "execution_count": 44,
   "id": "3361b008",
   "metadata": {},
   "outputs": [
    {
     "name": "stdout",
     "output_type": "stream",
     "text": [
      "ridge R2 on train:75.19%\n",
      "ridge R2 on test:68.49%\n"
     ]
    }
   ],
   "source": [
    "# evaluate ridge's performance\n",
    "print('ridge R2 on train:{:.2%}'.format(ridge.score(x_train,y_train)))\n",
    "print('ridge R2 on test:{:.2%}'.format(ridge.score(x_test,y_test)))"
   ]
  },
  {
   "cell_type": "markdown",
   "id": "ad8b451b",
   "metadata": {},
   "source": [
    "## Adjusting Alpha"
   ]
  },
  {
   "cell_type": "code",
   "execution_count": 45,
   "id": "e9cb40a2",
   "metadata": {},
   "outputs": [],
   "source": [
    "# Adjust alpha to control the complexity of the ridge model\n",
    "# Ridge(alpha = 0) ------------------ Regular linear regression model (most complex)\n",
    "# smaller alpha -- more complex model/higher chance of overfitting\n",
    "ridge1 = Ridge(alpha = .01)\n",
    "\n",
    "# in between\n",
    "ridge2 = Ridge(alpha = 1)\n",
    "\n",
    "# larger alpha -- less complex (simpler) model/lower chance of over-fitting \n",
    "# if we keep increading alpha we may do underfitting eventually (very simple model)\n",
    "ridge3 = Ridge(alpha = 10)"
   ]
  },
  {
   "cell_type": "code",
   "execution_count": 46,
   "id": "e49f5848",
   "metadata": {},
   "outputs": [
    {
     "data": {
      "text/plain": [
       "Ridge(alpha=10)"
      ]
     },
     "execution_count": 46,
     "metadata": {},
     "output_type": "execute_result"
    }
   ],
   "source": [
    "# fit the models \n",
    "ridge1.fit(x_train, y_train)\n",
    "ridge2.fit(x_train, y_train)\n",
    "ridge3.fit(x_train, y_train)"
   ]
  },
  {
   "cell_type": "code",
   "execution_count": 47,
   "id": "a3e63bef",
   "metadata": {},
   "outputs": [
    {
     "name": "stdout",
     "output_type": "stream",
     "text": [
      "ridge1 R2 score on train: 78.44%\n",
      "ridge1 R2 score on test: 66.67% \n",
      "\n",
      "ridge2 R2 score on train: 75.19%\n",
      "ridge2 R2 score on test: 68.49% \n",
      "\n",
      "ridge3 R2 score on train: 73.62%\n",
      "ridge3 R2 score on test: 68.13% \n",
      "\n"
     ]
    }
   ],
   "source": [
    "# evaluate performance \n",
    "print('ridge1 R2 score on train: {:.2%}'.format(ridge1.score(x_train, y_train)))\n",
    "print('ridge1 R2 score on test: {:.2%}'.format(ridge1.score(x_test, y_test)), '\\n')\n",
    "\n",
    "print('ridge2 R2 score on train: {:.2%}'.format(ridge2.score(x_train, y_train)))\n",
    "print('ridge2 R2 score on test: {:.2%}'.format(ridge2.score(x_test, y_test)), '\\n')\n",
    "\n",
    "print('ridge3 R2 score on train: {:.2%}'.format(ridge3.score(x_train, y_train)))\n",
    "print('ridge3 R2 score on test: {:.2%}'.format(ridge3.score(x_test, y_test)), '\\n')"
   ]
  },
  {
   "cell_type": "markdown",
   "id": "4c060841",
   "metadata": {},
   "source": [
    "# Lasso"
   ]
  },
  {
   "cell_type": "code",
   "execution_count": 48,
   "id": "d29121ce",
   "metadata": {},
   "outputs": [],
   "source": [
    "from sklearn.linear_model import Lasso"
   ]
  },
  {
   "cell_type": "code",
   "execution_count": 49,
   "id": "00c58338",
   "metadata": {},
   "outputs": [
    {
     "data": {
      "text/plain": [
       "Lasso()"
      ]
     },
     "execution_count": 49,
     "metadata": {},
     "output_type": "execute_result"
    }
   ],
   "source": [
    "# define a Lasso with default param values -- by default, alpha is 1\n",
    "lasso = Lasso()\n",
    "# fit the model \n",
    "lasso.fit(x_train,y_train)"
   ]
  },
  {
   "cell_type": "code",
   "execution_count": 50,
   "id": "37bec31d",
   "metadata": {},
   "outputs": [
    {
     "name": "stdout",
     "output_type": "stream",
     "text": [
      "lasso R2 on train:66.06%\n",
      "lasso R2 on test:60.40%\n"
     ]
    }
   ],
   "source": [
    "# evaluate the performance\n",
    "print ('lasso R2 on train:{:.2%}'.format(lasso.score(x_train,y_train)))\n",
    "print ('lasso R2 on test:{:.2%}'.format(lasso.score(x_test,y_test)))"
   ]
  },
  {
   "cell_type": "code",
   "execution_count": 51,
   "id": "c095ce12",
   "metadata": {},
   "outputs": [
    {
     "data": {
      "text/plain": [
       "array([-0.09,  0.02,  0.  ,  0.  , -0.  ,  0.68,  0.03, -0.4 ,  0.26,\n",
       "       -0.01, -0.53, -0.9 ,  0.  ,  0.  , -0.  ,  0.  ,  0.  ,  0.  ,\n",
       "        0.  ,  0.  ,  0.  ,  0.  ,  0.  ,  0.  ,  0.  ,  0.  ,  0.  ,\n",
       "       -0.  , -0.  , -0.  , -0.  ,  0.  , -0.  ,  0.  ,  0.  ,  0.  ,\n",
       "        0.  ,  0.  , -0.  ,  0.  ,  0.  , -0.  , -0.  ,  0.  , -0.  ,\n",
       "       -0.  ,  0.  , -0.  ,  0.  ,  0.  ,  0.  ,  0.  ,  0.  , -0.  ,\n",
       "        0.  ,  0.  ,  0.  ,  0.  , -0.  , -0.  ,  0.  ])"
      ]
     },
     "execution_count": 51,
     "metadata": {},
     "output_type": "execute_result"
    }
   ],
   "source": [
    "lasso.coef_.round(2)"
   ]
  },
  {
   "cell_type": "code",
   "execution_count": 52,
   "id": "5e8a3451",
   "metadata": {},
   "outputs": [
    {
     "data": {
      "text/plain": [
       "9"
      ]
     },
     "execution_count": 52,
     "metadata": {},
     "output_type": "execute_result"
    }
   ],
   "source": [
    "# number of non-0 coefficients \n",
    "sum(lasso.coef_ != 0)"
   ]
  },
  {
   "cell_type": "markdown",
   "id": "dcdd5038",
   "metadata": {},
   "source": [
    "## Adjusting Alpha"
   ]
  },
  {
   "cell_type": "code",
   "execution_count": 54,
   "id": "9620b0d1",
   "metadata": {},
   "outputs": [
    {
     "data": {
      "text/plain": [
       "Lasso(alpha=0.0001, max_iter=100000)"
      ]
     },
     "metadata": {},
     "output_type": "display_data"
    },
    {
     "data": {
      "text/plain": [
       "Lasso(alpha=0.001, max_iter=100000)"
      ]
     },
     "metadata": {},
     "output_type": "display_data"
    },
    {
     "data": {
      "text/plain": [
       "Lasso(alpha=0.1, max_iter=100000)"
      ]
     },
     "metadata": {},
     "output_type": "display_data"
    },
    {
     "data": {
      "text/plain": [
       "Lasso(alpha=1, max_iter=100000)"
      ]
     },
     "metadata": {},
     "output_type": "display_data"
    }
   ],
   "source": [
    "# Lasso (alpha=0) -- regular linear regression\n",
    "\n",
    "#smaller alpha -- more complex complex model -- higher chancve of overfitting\n",
    "lasso1 = Lasso(alpha=.0001, max_iter=100000)\n",
    "\n",
    "# in between\n",
    "lasso2 = Lasso(alpha=.001, max_iter=100000)\n",
    "\n",
    "# in between\n",
    "lasso3 = Lasso(alpha=.1, max_iter=100000)\n",
    "\n",
    "# larger alpha -- less complex (simpler) -- lower chance of overfitting but can have underfitting (too simple)\n",
    "lasso4 = Lasso(alpha=1, max_iter=100000)"
   ]
  },
  {
   "cell_type": "code",
   "execution_count": 55,
   "id": "3d234013",
   "metadata": {},
   "outputs": [
    {
     "data": {
      "text/plain": [
       "Lasso(alpha=1, max_iter=100000)"
      ]
     },
     "execution_count": 55,
     "metadata": {},
     "output_type": "execute_result"
    }
   ],
   "source": [
    "# fit all models\n",
    "lasso1.fit(x_train, y_train)\n",
    "lasso2.fit(x_train, y_train)\n",
    "lasso3.fit(x_train, y_train)\n",
    "lasso4.fit(x_train, y_train)"
   ]
  },
  {
   "cell_type": "code",
   "execution_count": 62,
   "id": "04272dd5",
   "metadata": {},
   "outputs": [
    {
     "name": "stdout",
     "output_type": "stream",
     "text": [
      "lasso1 R2 score on train: 78.93%\n",
      "lasso1 R2 score on test: 62.31%\n",
      "lasso1 # of non-zero coeffs: 57 \n",
      "\n",
      "lasso2 R2 score on train: 78.27%\n",
      "lasso R2 score on test: 68.07%\n",
      "lasso2 # of non-zero coeffs: 49 \n",
      "\n",
      "lasso3 R2 score on train: 72.48%\n",
      "lasso3 R2 score on test: 66.94%\n",
      "lasso3 # of non-zero coeffs: 14 \n",
      "\n",
      "lasso4 R2 score on train: 66.06%\n",
      "lasso4 R2 score on test: 60.40%\n",
      "lasso4 # of non-zero coeffs: 9 \n",
      "\n"
     ]
    }
   ],
   "source": [
    "# evaluate their performance\n",
    "#find the number of non-zero coeffs\n",
    "# choose the best model\n",
    "\n",
    "print('lasso1 R2 score on train: {:.2%}'.format(lasso1.score(x_train, y_train)))\n",
    "print('lasso1 R2 score on test: {:.2%}'.format(lasso1.score(x_test, y_test)))\n",
    "print('lasso1 # of non-zero coeffs:', sum(lasso1.coef_ != 0), '\\n')\n",
    "\n",
    "print('lasso2 R2 score on train: {:.2%}'.format(lasso2.score(x_train, y_train)))\n",
    "print('lasso R2 score on test: {:.2%}'.format(lasso2.score(x_test, y_test)))\n",
    "print('lasso2 # of non-zero coeffs:', sum(lasso2.coef_ != 0), '\\n')\n",
    "\n",
    "print('lasso3 R2 score on train: {:.2%}'.format(lasso3.score(x_train, y_train)))\n",
    "print('lasso3 R2 score on test: {:.2%}'.format(lasso3.score(x_test, y_test)))\n",
    "print('lasso3 # of non-zero coeffs:', sum(lasso3.coef_ != 0), '\\n')\n",
    "\n",
    "print('lasso4 R2 score on train: {:.2%}'.format(lasso4.score(x_train, y_train)))\n",
    "print('lasso4 R2 score on test: {:.2%}'.format(lasso4.score(x_test, y_test)))\n",
    "print('lasso4 # of non-zero coeffs:', sum(lasso4.coef_ != 0), '\\n')"
   ]
  },
  {
   "cell_type": "code",
   "execution_count": 63,
   "id": "3e4fa553",
   "metadata": {},
   "outputs": [],
   "source": [
    "# lasso 2 or 3 is best depending on the case (if you want a simpler model then use lasso 3, if you want \n",
    "# it to be more accurate, use lasso 2)"
   ]
  }
 ],
 "metadata": {
  "kernelspec": {
   "display_name": "Python 3 (ipykernel)",
   "language": "python",
   "name": "python3"
  },
  "language_info": {
   "codemirror_mode": {
    "name": "ipython",
    "version": 3
   },
   "file_extension": ".py",
   "mimetype": "text/x-python",
   "name": "python",
   "nbconvert_exporter": "python",
   "pygments_lexer": "ipython3",
   "version": "3.9.12"
  },
  "toc": {
   "base_numbering": 1,
   "nav_menu": {},
   "number_sections": true,
   "sideBar": true,
   "skip_h1_title": false,
   "title_cell": "Table of Contents",
   "title_sidebar": "Contents",
   "toc_cell": false,
   "toc_position": {},
   "toc_section_display": true,
   "toc_window_display": true
  }
 },
 "nbformat": 4,
 "nbformat_minor": 5
}
