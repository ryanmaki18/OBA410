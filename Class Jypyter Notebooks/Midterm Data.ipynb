{
 "cells": [
  {
   "cell_type": "code",
   "execution_count": 19,
   "id": "c86b8953",
   "metadata": {},
   "outputs": [],
   "source": [
    "import pandas as pd\n",
    "from sklearn.neighbors import KNeighborsClassifier, KNeighborsRegressor\n",
    "from sklearn.model_selection import cross_val_score, train_test_split\n",
    "from sklearn.model_selection import train_test_split\n",
    "from sklearn.linear_model import LinearRegression\n",
    "from sklearn.linear_model import LogisticRegression\n",
    "from sklearn.preprocessing import MinMaxScaler\n",
    "from sklearn.model_selection import train_test_split, validation_curve\n",
    "from sklearn.svm import LinearSVC"
   ]
  },
  {
   "cell_type": "markdown",
   "id": "1b4ad6a2",
   "metadata": {},
   "source": [
    "# Midterm Data"
   ]
  },
  {
   "cell_type": "markdown",
   "id": "b8bdcb4b",
   "metadata": {},
   "source": [
    "## Reading the data / Getting Dummies"
   ]
  },
  {
   "cell_type": "code",
   "execution_count": 60,
   "id": "b3785f32",
   "metadata": {},
   "outputs": [
    {
     "data": {
      "text/html": [
       "<div>\n",
       "<style scoped>\n",
       "    .dataframe tbody tr th:only-of-type {\n",
       "        vertical-align: middle;\n",
       "    }\n",
       "\n",
       "    .dataframe tbody tr th {\n",
       "        vertical-align: top;\n",
       "    }\n",
       "\n",
       "    .dataframe thead th {\n",
       "        text-align: right;\n",
       "    }\n",
       "</style>\n",
       "<table border=\"1\" class=\"dataframe\">\n",
       "  <thead>\n",
       "    <tr style=\"text-align: right;\">\n",
       "      <th></th>\n",
       "      <th>Age</th>\n",
       "      <th>Gender</th>\n",
       "      <th>Recency</th>\n",
       "      <th>Frequency</th>\n",
       "      <th>TotalDonation</th>\n",
       "      <th>TimeFromFirstDonation</th>\n",
       "      <th>Donated2020</th>\n",
       "    </tr>\n",
       "  </thead>\n",
       "  <tbody>\n",
       "    <tr>\n",
       "      <th>0</th>\n",
       "      <td>42.0</td>\n",
       "      <td>Male</td>\n",
       "      <td>2</td>\n",
       "      <td>50</td>\n",
       "      <td>12500</td>\n",
       "      <td>98</td>\n",
       "      <td>1</td>\n",
       "    </tr>\n",
       "    <tr>\n",
       "      <th>1</th>\n",
       "      <td>27.0</td>\n",
       "      <td>Male</td>\n",
       "      <td>1</td>\n",
       "      <td>13</td>\n",
       "      <td>3250</td>\n",
       "      <td>28</td>\n",
       "      <td>1</td>\n",
       "    </tr>\n",
       "    <tr>\n",
       "      <th>2</th>\n",
       "      <td>34.0</td>\n",
       "      <td>Other</td>\n",
       "      <td>1</td>\n",
       "      <td>16</td>\n",
       "      <td>4000</td>\n",
       "      <td>35</td>\n",
       "      <td>1</td>\n",
       "    </tr>\n",
       "    <tr>\n",
       "      <th>3</th>\n",
       "      <td>NaN</td>\n",
       "      <td>Female</td>\n",
       "      <td>2</td>\n",
       "      <td>20</td>\n",
       "      <td>5000</td>\n",
       "      <td>45</td>\n",
       "      <td>1</td>\n",
       "    </tr>\n",
       "    <tr>\n",
       "      <th>4</th>\n",
       "      <td>47.0</td>\n",
       "      <td>Male</td>\n",
       "      <td>1</td>\n",
       "      <td>24</td>\n",
       "      <td>6000</td>\n",
       "      <td>77</td>\n",
       "      <td>0</td>\n",
       "    </tr>\n",
       "  </tbody>\n",
       "</table>\n",
       "</div>"
      ],
      "text/plain": [
       "    Age  Gender  Recency  Frequency  TotalDonation  TimeFromFirstDonation  \\\n",
       "0  42.0    Male        2         50          12500                     98   \n",
       "1  27.0    Male        1         13           3250                     28   \n",
       "2  34.0   Other        1         16           4000                     35   \n",
       "3   NaN  Female        2         20           5000                     45   \n",
       "4  47.0    Male        1         24           6000                     77   \n",
       "\n",
       "   Donated2020  \n",
       "0            1  \n",
       "1            1  \n",
       "2            1  \n",
       "3            1  \n",
       "4            0  "
      ]
     },
     "execution_count": 60,
     "metadata": {},
     "output_type": "execute_result"
    }
   ],
   "source": [
    "# reading the data\n",
    "blood = pd.read_csv(\"blood_donation.csv\")\n",
    "blood.head(5)"
   ]
  },
  {
   "cell_type": "code",
   "execution_count": 94,
   "id": "9b7032fd",
   "metadata": {},
   "outputs": [
    {
     "data": {
      "text/html": [
       "<div>\n",
       "<style scoped>\n",
       "    .dataframe tbody tr th:only-of-type {\n",
       "        vertical-align: middle;\n",
       "    }\n",
       "\n",
       "    .dataframe tbody tr th {\n",
       "        vertical-align: top;\n",
       "    }\n",
       "\n",
       "    .dataframe thead th {\n",
       "        text-align: right;\n",
       "    }\n",
       "</style>\n",
       "<table border=\"1\" class=\"dataframe\">\n",
       "  <thead>\n",
       "    <tr style=\"text-align: right;\">\n",
       "      <th></th>\n",
       "      <th>Age</th>\n",
       "      <th>Recency</th>\n",
       "      <th>Frequency</th>\n",
       "      <th>TotalDonation</th>\n",
       "      <th>TimeFromFirstDonation</th>\n",
       "      <th>Donated2020</th>\n",
       "    </tr>\n",
       "  </thead>\n",
       "  <tbody>\n",
       "    <tr>\n",
       "      <th>count</th>\n",
       "      <td>850.000000</td>\n",
       "      <td>861.000000</td>\n",
       "      <td>861.000000</td>\n",
       "      <td>861.000000</td>\n",
       "      <td>861.000000</td>\n",
       "      <td>861.000000</td>\n",
       "    </tr>\n",
       "    <tr>\n",
       "      <th>mean</th>\n",
       "      <td>44.011765</td>\n",
       "      <td>9.047619</td>\n",
       "      <td>5.695703</td>\n",
       "      <td>1420.905923</td>\n",
       "      <td>33.771196</td>\n",
       "      <td>0.337979</td>\n",
       "    </tr>\n",
       "    <tr>\n",
       "      <th>std</th>\n",
       "      <td>10.549557</td>\n",
       "      <td>7.707822</td>\n",
       "      <td>5.510062</td>\n",
       "      <td>1374.249771</td>\n",
       "      <td>23.144187</td>\n",
       "      <td>0.473296</td>\n",
       "    </tr>\n",
       "    <tr>\n",
       "      <th>min</th>\n",
       "      <td>16.000000</td>\n",
       "      <td>1.000000</td>\n",
       "      <td>1.000000</td>\n",
       "      <td>250.000000</td>\n",
       "      <td>2.000000</td>\n",
       "      <td>0.000000</td>\n",
       "    </tr>\n",
       "    <tr>\n",
       "      <th>25%</th>\n",
       "      <td>38.000000</td>\n",
       "      <td>3.000000</td>\n",
       "      <td>2.000000</td>\n",
       "      <td>500.000000</td>\n",
       "      <td>16.000000</td>\n",
       "      <td>0.000000</td>\n",
       "    </tr>\n",
       "    <tr>\n",
       "      <th>50%</th>\n",
       "      <td>45.000000</td>\n",
       "      <td>7.000000</td>\n",
       "      <td>4.000000</td>\n",
       "      <td>1150.000000</td>\n",
       "      <td>28.000000</td>\n",
       "      <td>0.000000</td>\n",
       "    </tr>\n",
       "    <tr>\n",
       "      <th>75%</th>\n",
       "      <td>52.000000</td>\n",
       "      <td>14.000000</td>\n",
       "      <td>7.000000</td>\n",
       "      <td>1850.000000</td>\n",
       "      <td>46.000000</td>\n",
       "      <td>1.000000</td>\n",
       "    </tr>\n",
       "    <tr>\n",
       "      <th>max</th>\n",
       "      <td>60.000000</td>\n",
       "      <td>74.000000</td>\n",
       "      <td>50.000000</td>\n",
       "      <td>12500.000000</td>\n",
       "      <td>98.000000</td>\n",
       "      <td>1.000000</td>\n",
       "    </tr>\n",
       "  </tbody>\n",
       "</table>\n",
       "</div>"
      ],
      "text/plain": [
       "              Age     Recency   Frequency  TotalDonation  \\\n",
       "count  850.000000  861.000000  861.000000     861.000000   \n",
       "mean    44.011765    9.047619    5.695703    1420.905923   \n",
       "std     10.549557    7.707822    5.510062    1374.249771   \n",
       "min     16.000000    1.000000    1.000000     250.000000   \n",
       "25%     38.000000    3.000000    2.000000     500.000000   \n",
       "50%     45.000000    7.000000    4.000000    1150.000000   \n",
       "75%     52.000000   14.000000    7.000000    1850.000000   \n",
       "max     60.000000   74.000000   50.000000   12500.000000   \n",
       "\n",
       "       TimeFromFirstDonation  Donated2020  \n",
       "count             861.000000   861.000000  \n",
       "mean               33.771196     0.337979  \n",
       "std                23.144187     0.473296  \n",
       "min                 2.000000     0.000000  \n",
       "25%                16.000000     0.000000  \n",
       "50%                28.000000     0.000000  \n",
       "75%                46.000000     1.000000  \n",
       "max                98.000000     1.000000  "
      ]
     },
     "execution_count": 94,
     "metadata": {},
     "output_type": "execute_result"
    }
   ],
   "source": [
    "# describing dataset\n",
    "## use count row to tell if there are any missing values\n",
    "blood.describe()"
   ]
  },
  {
   "cell_type": "code",
   "execution_count": 98,
   "id": "8939d6e0",
   "metadata": {
    "scrolled": true
   },
   "outputs": [],
   "source": [
    "# drop rows with missing (the default)\n",
    "blood.dropna(axis=0, inplace=True)"
   ]
  },
  {
   "cell_type": "code",
   "execution_count": 99,
   "id": "b04f34a6",
   "metadata": {},
   "outputs": [
    {
     "data": {
      "text/plain": [
       "Age                      object\n",
       "Gender                   object\n",
       "Recency                   int64\n",
       "Frequency                 int64\n",
       "TotalDonation             int64\n",
       "TimeFromFirstDonation     int64\n",
       "dtype: object"
      ]
     },
     "execution_count": 99,
     "metadata": {},
     "output_type": "execute_result"
    }
   ],
   "source": [
    "x_blood.dtypes"
   ]
  },
  {
   "cell_type": "code",
   "execution_count": 100,
   "id": "399f3241",
   "metadata": {},
   "outputs": [
    {
     "name": "stdout",
     "output_type": "stream",
     "text": [
      "<class 'pandas.core.frame.DataFrame'>\n",
      "Int64Index: 850 entries, 0 to 860\n",
      "Data columns (total 7 columns):\n",
      " #   Column                 Non-Null Count  Dtype  \n",
      "---  ------                 --------------  -----  \n",
      " 0   Age                    850 non-null    float64\n",
      " 1   Gender                 850 non-null    object \n",
      " 2   Recency                850 non-null    int64  \n",
      " 3   Frequency              850 non-null    int64  \n",
      " 4   TotalDonation          850 non-null    int64  \n",
      " 5   TimeFromFirstDonation  850 non-null    int64  \n",
      " 6   Donated2020            850 non-null    int64  \n",
      "dtypes: float64(1), int64(5), object(1)\n",
      "memory usage: 53.1+ KB\n"
     ]
    }
   ],
   "source": [
    "blood.info()"
   ]
  },
  {
   "cell_type": "code",
   "execution_count": 101,
   "id": "d242ef3b",
   "metadata": {},
   "outputs": [
    {
     "data": {
      "text/html": [
       "<div>\n",
       "<style scoped>\n",
       "    .dataframe tbody tr th:only-of-type {\n",
       "        vertical-align: middle;\n",
       "    }\n",
       "\n",
       "    .dataframe tbody tr th {\n",
       "        vertical-align: top;\n",
       "    }\n",
       "\n",
       "    .dataframe thead th {\n",
       "        text-align: right;\n",
       "    }\n",
       "</style>\n",
       "<table border=\"1\" class=\"dataframe\">\n",
       "  <thead>\n",
       "    <tr style=\"text-align: right;\">\n",
       "      <th></th>\n",
       "      <th>Age</th>\n",
       "      <th>Gender</th>\n",
       "      <th>Recency</th>\n",
       "      <th>Frequency</th>\n",
       "      <th>TotalDonation</th>\n",
       "      <th>TimeFromFirstDonation</th>\n",
       "    </tr>\n",
       "  </thead>\n",
       "  <tbody>\n",
       "    <tr>\n",
       "      <th>0</th>\n",
       "      <td>42.0</td>\n",
       "      <td>Male</td>\n",
       "      <td>2</td>\n",
       "      <td>50</td>\n",
       "      <td>12500</td>\n",
       "      <td>98</td>\n",
       "    </tr>\n",
       "    <tr>\n",
       "      <th>1</th>\n",
       "      <td>27.0</td>\n",
       "      <td>Male</td>\n",
       "      <td>1</td>\n",
       "      <td>13</td>\n",
       "      <td>3250</td>\n",
       "      <td>28</td>\n",
       "    </tr>\n",
       "    <tr>\n",
       "      <th>2</th>\n",
       "      <td>34.0</td>\n",
       "      <td>Other</td>\n",
       "      <td>1</td>\n",
       "      <td>16</td>\n",
       "      <td>4000</td>\n",
       "      <td>35</td>\n",
       "    </tr>\n",
       "  </tbody>\n",
       "</table>\n",
       "</div>"
      ],
      "text/plain": [
       "    Age Gender  Recency  Frequency  TotalDonation  TimeFromFirstDonation\n",
       "0  42.0   Male        2         50          12500                     98\n",
       "1  27.0   Male        1         13           3250                     28\n",
       "2  34.0  Other        1         16           4000                     35"
      ]
     },
     "metadata": {},
     "output_type": "display_data"
    },
    {
     "data": {
      "text/plain": [
       "0    1\n",
       "1    1\n",
       "2    1\n",
       "Name: Donated2020, dtype: int64"
      ]
     },
     "metadata": {},
     "output_type": "display_data"
    }
   ],
   "source": [
    "# Create features and target sets\n",
    "x_blood, y_blood = blood.iloc[:,:-1], blood[\"Donated2020\"]\n",
    "# Check our work\n",
    "display(x_blood.head(3))\n",
    "display(y_blood.head(3))"
   ]
  },
  {
   "cell_type": "code",
   "execution_count": 102,
   "id": "b3f917cb",
   "metadata": {},
   "outputs": [
    {
     "data": {
      "text/plain": [
       "Age                      float64\n",
       "Gender                    object\n",
       "Recency                    int64\n",
       "Frequency                  int64\n",
       "TotalDonation              int64\n",
       "TimeFromFirstDonation      int64\n",
       "dtype: object"
      ]
     },
     "execution_count": 102,
     "metadata": {},
     "output_type": "execute_result"
    }
   ],
   "source": [
    "x_blood.dtypes"
   ]
  },
  {
   "cell_type": "code",
   "execution_count": 162,
   "id": "5dfbc554",
   "metadata": {},
   "outputs": [
    {
     "data": {
      "text/html": [
       "<div>\n",
       "<style scoped>\n",
       "    .dataframe tbody tr th:only-of-type {\n",
       "        vertical-align: middle;\n",
       "    }\n",
       "\n",
       "    .dataframe tbody tr th {\n",
       "        vertical-align: top;\n",
       "    }\n",
       "\n",
       "    .dataframe thead th {\n",
       "        text-align: right;\n",
       "    }\n",
       "</style>\n",
       "<table border=\"1\" class=\"dataframe\">\n",
       "  <thead>\n",
       "    <tr style=\"text-align: right;\">\n",
       "      <th></th>\n",
       "      <th>Age</th>\n",
       "      <th>Recency</th>\n",
       "      <th>Frequency</th>\n",
       "      <th>TotalDonation</th>\n",
       "      <th>TimeFromFirstDonation</th>\n",
       "      <th>Gender_Female</th>\n",
       "      <th>Gender_Male</th>\n",
       "      <th>Gender_Other</th>\n",
       "    </tr>\n",
       "  </thead>\n",
       "  <tbody>\n",
       "    <tr>\n",
       "      <th>0</th>\n",
       "      <td>42.0</td>\n",
       "      <td>2</td>\n",
       "      <td>50</td>\n",
       "      <td>12500</td>\n",
       "      <td>98</td>\n",
       "      <td>0</td>\n",
       "      <td>1</td>\n",
       "      <td>0</td>\n",
       "    </tr>\n",
       "    <tr>\n",
       "      <th>1</th>\n",
       "      <td>27.0</td>\n",
       "      <td>1</td>\n",
       "      <td>13</td>\n",
       "      <td>3250</td>\n",
       "      <td>28</td>\n",
       "      <td>0</td>\n",
       "      <td>1</td>\n",
       "      <td>0</td>\n",
       "    </tr>\n",
       "    <tr>\n",
       "      <th>2</th>\n",
       "      <td>34.0</td>\n",
       "      <td>1</td>\n",
       "      <td>16</td>\n",
       "      <td>4000</td>\n",
       "      <td>35</td>\n",
       "      <td>0</td>\n",
       "      <td>0</td>\n",
       "      <td>1</td>\n",
       "    </tr>\n",
       "    <tr>\n",
       "      <th>4</th>\n",
       "      <td>47.0</td>\n",
       "      <td>1</td>\n",
       "      <td>24</td>\n",
       "      <td>6000</td>\n",
       "      <td>77</td>\n",
       "      <td>0</td>\n",
       "      <td>1</td>\n",
       "      <td>0</td>\n",
       "    </tr>\n",
       "    <tr>\n",
       "      <th>6</th>\n",
       "      <td>41.0</td>\n",
       "      <td>2</td>\n",
       "      <td>7</td>\n",
       "      <td>1750</td>\n",
       "      <td>14</td>\n",
       "      <td>0</td>\n",
       "      <td>0</td>\n",
       "      <td>1</td>\n",
       "    </tr>\n",
       "    <tr>\n",
       "      <th>7</th>\n",
       "      <td>57.0</td>\n",
       "      <td>1</td>\n",
       "      <td>12</td>\n",
       "      <td>3000</td>\n",
       "      <td>35</td>\n",
       "      <td>1</td>\n",
       "      <td>0</td>\n",
       "      <td>0</td>\n",
       "    </tr>\n",
       "    <tr>\n",
       "      <th>8</th>\n",
       "      <td>38.0</td>\n",
       "      <td>2</td>\n",
       "      <td>9</td>\n",
       "      <td>2250</td>\n",
       "      <td>22</td>\n",
       "      <td>1</td>\n",
       "      <td>0</td>\n",
       "      <td>0</td>\n",
       "    </tr>\n",
       "    <tr>\n",
       "      <th>9</th>\n",
       "      <td>44.0</td>\n",
       "      <td>5</td>\n",
       "      <td>46</td>\n",
       "      <td>11500</td>\n",
       "      <td>98</td>\n",
       "      <td>0</td>\n",
       "      <td>1</td>\n",
       "      <td>0</td>\n",
       "    </tr>\n",
       "    <tr>\n",
       "      <th>10</th>\n",
       "      <td>44.0</td>\n",
       "      <td>4</td>\n",
       "      <td>23</td>\n",
       "      <td>5750</td>\n",
       "      <td>58</td>\n",
       "      <td>1</td>\n",
       "      <td>0</td>\n",
       "      <td>0</td>\n",
       "    </tr>\n",
       "    <tr>\n",
       "      <th>11</th>\n",
       "      <td>55.0</td>\n",
       "      <td>1</td>\n",
       "      <td>3</td>\n",
       "      <td>750</td>\n",
       "      <td>4</td>\n",
       "      <td>0</td>\n",
       "      <td>1</td>\n",
       "      <td>0</td>\n",
       "    </tr>\n",
       "  </tbody>\n",
       "</table>\n",
       "</div>"
      ],
      "text/plain": [
       "     Age  Recency  Frequency  TotalDonation  TimeFromFirstDonation  \\\n",
       "0   42.0        2         50          12500                     98   \n",
       "1   27.0        1         13           3250                     28   \n",
       "2   34.0        1         16           4000                     35   \n",
       "4   47.0        1         24           6000                     77   \n",
       "6   41.0        2          7           1750                     14   \n",
       "7   57.0        1         12           3000                     35   \n",
       "8   38.0        2          9           2250                     22   \n",
       "9   44.0        5         46          11500                     98   \n",
       "10  44.0        4         23           5750                     58   \n",
       "11  55.0        1          3            750                      4   \n",
       "\n",
       "    Gender_Female  Gender_Male  Gender_Other  \n",
       "0               0            1             0  \n",
       "1               0            1             0  \n",
       "2               0            0             1  \n",
       "4               0            1             0  \n",
       "6               0            0             1  \n",
       "7               1            0             0  \n",
       "8               1            0             0  \n",
       "9               0            1             0  \n",
       "10              1            0             0  \n",
       "11              0            1             0  "
      ]
     },
     "execution_count": 162,
     "metadata": {},
     "output_type": "execute_result"
    }
   ],
   "source": [
    "x_dummies = pd.get_dummies(x_blood)\n",
    "x_dummies.head(10)"
   ]
  },
  {
   "cell_type": "code",
   "execution_count": 117,
   "id": "ac195fa3",
   "metadata": {},
   "outputs": [
    {
     "name": "stdout",
     "output_type": "stream",
     "text": [
      "(637, 8)\n",
      "(213, 8)\n",
      "(637,)\n",
      "(213,)\n"
     ]
    }
   ],
   "source": [
    "# split data to train and test (80/20)\n",
    "x_train, x_test, y_train, y_test = train_test_split(x_dummies, y_blood, test_size=.25, random_state=0)\n",
    "\n",
    "print(x_train.shape)\n",
    "print(x_test.shape)\n",
    "print(y_train.shape)\n",
    "print(y_test.shape)"
   ]
  },
  {
   "cell_type": "code",
   "execution_count": null,
   "id": "fc85222c",
   "metadata": {},
   "outputs": [],
   "source": []
  },
  {
   "cell_type": "markdown",
   "id": "bbaf6d8b",
   "metadata": {},
   "source": [
    "## KNN Classifier"
   ]
  },
  {
   "cell_type": "code",
   "execution_count": 141,
   "id": "a723eceb",
   "metadata": {},
   "outputs": [],
   "source": [
    "# define the model\n",
    "knn_cls = KNeighborsClassifier(n_neighbors=1)"
   ]
  },
  {
   "cell_type": "code",
   "execution_count": 142,
   "id": "93a0a8a8",
   "metadata": {},
   "outputs": [
    {
     "data": {
      "text/plain": [
       "KNeighborsClassifier(n_neighbors=1)"
      ]
     },
     "execution_count": 142,
     "metadata": {},
     "output_type": "execute_result"
    }
   ],
   "source": [
    "# fit (train) the model -- we pass both features and target sets\n",
    "# we use fit() method to fit a model\n",
    "knn_cls.fit(x_train, y_train)"
   ]
  },
  {
   "cell_type": "code",
   "execution_count": 143,
   "id": "58f546ce",
   "metadata": {},
   "outputs": [
    {
     "name": "stdout",
     "output_type": "stream",
     "text": [
      "knn accuracy on train: 99.53%\n",
      "knn accuracy on test: 85.45%\n"
     ]
    }
   ],
   "source": [
    "# we evaluate our model's performance\n",
    "# we use score() method\n",
    "print(\"knn accuracy on train: {:.2%}\".format(knn_cls.score(x_train, y_train)))\n",
    "print(\"knn accuracy on test: {:.2%}\".format(knn_cls.score(x_test, y_test)))"
   ]
  },
  {
   "cell_type": "code",
   "execution_count": 144,
   "id": "32eb4ceb",
   "metadata": {},
   "outputs": [
    {
     "data": {
      "text/html": [
       "<div>\n",
       "<style scoped>\n",
       "    .dataframe tbody tr th:only-of-type {\n",
       "        vertical-align: middle;\n",
       "    }\n",
       "\n",
       "    .dataframe tbody tr th {\n",
       "        vertical-align: top;\n",
       "    }\n",
       "\n",
       "    .dataframe thead th {\n",
       "        text-align: right;\n",
       "    }\n",
       "</style>\n",
       "<table border=\"1\" class=\"dataframe\">\n",
       "  <thead>\n",
       "    <tr style=\"text-align: right;\">\n",
       "      <th></th>\n",
       "      <th>Age</th>\n",
       "      <th>Recency</th>\n",
       "      <th>Frequency</th>\n",
       "      <th>TotalDonation</th>\n",
       "      <th>TimeFromFirstDonation</th>\n",
       "      <th>Gender_Female</th>\n",
       "      <th>Gender_Male</th>\n",
       "      <th>Gender_Other</th>\n",
       "    </tr>\n",
       "  </thead>\n",
       "  <tbody>\n",
       "    <tr>\n",
       "      <th>225</th>\n",
       "      <td>32.0</td>\n",
       "      <td>4</td>\n",
       "      <td>1</td>\n",
       "      <td>250</td>\n",
       "      <td>4</td>\n",
       "      <td>1</td>\n",
       "      <td>0</td>\n",
       "      <td>0</td>\n",
       "    </tr>\n",
       "    <tr>\n",
       "      <th>304</th>\n",
       "      <td>42.0</td>\n",
       "      <td>14</td>\n",
       "      <td>6</td>\n",
       "      <td>1500</td>\n",
       "      <td>34</td>\n",
       "      <td>1</td>\n",
       "      <td>0</td>\n",
       "      <td>0</td>\n",
       "    </tr>\n",
       "    <tr>\n",
       "      <th>252</th>\n",
       "      <td>45.0</td>\n",
       "      <td>11</td>\n",
       "      <td>8</td>\n",
       "      <td>2000</td>\n",
       "      <td>41</td>\n",
       "      <td>1</td>\n",
       "      <td>0</td>\n",
       "      <td>0</td>\n",
       "    </tr>\n",
       "    <tr>\n",
       "      <th>204</th>\n",
       "      <td>46.0</td>\n",
       "      <td>11</td>\n",
       "      <td>9</td>\n",
       "      <td>2250</td>\n",
       "      <td>38</td>\n",
       "      <td>0</td>\n",
       "      <td>1</td>\n",
       "      <td>0</td>\n",
       "    </tr>\n",
       "  </tbody>\n",
       "</table>\n",
       "</div>"
      ],
      "text/plain": [
       "      Age  Recency  Frequency  TotalDonation  TimeFromFirstDonation  \\\n",
       "225  32.0        4          1            250                      4   \n",
       "304  42.0       14          6           1500                     34   \n",
       "252  45.0       11          8           2000                     41   \n",
       "204  46.0       11          9           2250                     38   \n",
       "\n",
       "     Gender_Female  Gender_Male  Gender_Other  \n",
       "225              1            0             0  \n",
       "304              1            0             0  \n",
       "252              1            0             0  \n",
       "204              0            1             0  "
      ]
     },
     "execution_count": 144,
     "metadata": {},
     "output_type": "execute_result"
    }
   ],
   "source": [
    "smpl = x_test.iloc[:4]\n",
    "smpl"
   ]
  },
  {
   "cell_type": "code",
   "execution_count": 145,
   "id": "8b44659b",
   "metadata": {},
   "outputs": [
    {
     "data": {
      "text/plain": [
       "array([1, 1, 1, 0])"
      ]
     },
     "execution_count": 145,
     "metadata": {},
     "output_type": "execute_result"
    }
   ],
   "source": [
    "# make predictions\n",
    "# we use predict() method -- it only takes features\n",
    "knn_cls.predict(smpl)"
   ]
  },
  {
   "cell_type": "code",
   "execution_count": 124,
   "id": "387b8ce2",
   "metadata": {},
   "outputs": [
    {
     "data": {
      "text/plain": [
       "225    1\n",
       "304    0\n",
       "252    1\n",
       "204    0\n",
       "Name: Donated2020, dtype: int64"
      ]
     },
     "execution_count": 124,
     "metadata": {},
     "output_type": "execute_result"
    }
   ],
   "source": [
    "y_test.head(4)"
   ]
  },
  {
   "cell_type": "code",
   "execution_count": null,
   "id": "6f7fc495",
   "metadata": {},
   "outputs": [],
   "source": []
  },
  {
   "cell_type": "markdown",
   "id": "9abec8b4",
   "metadata": {},
   "source": [
    "## Cross Validation"
   ]
  },
  {
   "cell_type": "code",
   "execution_count": 159,
   "id": "c96439d2",
   "metadata": {},
   "outputs": [],
   "source": [
    "# define the model\n",
    "knn_cls_blood = KNeighborsClassifier(n_neighbors = 9)"
   ]
  },
  {
   "cell_type": "code",
   "execution_count": 160,
   "id": "00b87dc7",
   "metadata": {},
   "outputs": [
    {
     "data": {
      "text/plain": [
       "array([0.76056338, 0.78169014, 0.79577465, 0.84507042, 0.93617021,\n",
       "       0.97163121])"
      ]
     },
     "execution_count": 160,
     "metadata": {},
     "output_type": "execute_result"
    }
   ],
   "source": [
    "# cross-validation\n",
    "scores = cross_val_score(knn_cls_blood, x_dummies, y_blood, cv=6)\n",
    "scores"
   ]
  },
  {
   "cell_type": "code",
   "execution_count": 161,
   "id": "c5928f87",
   "metadata": {},
   "outputs": [
    {
     "data": {
      "text/plain": [
       "0.8484833349981686"
      ]
     },
     "execution_count": 161,
     "metadata": {},
     "output_type": "execute_result"
    }
   ],
   "source": [
    "# the average test score on 6-folds\n",
    "scores.mean()"
   ]
  },
  {
   "cell_type": "code",
   "execution_count": 133,
   "id": "261652c9",
   "metadata": {},
   "outputs": [
    {
     "name": "stdout",
     "output_type": "stream",
     "text": [
      "Average test accuracy in a 6-fold cross val is: 83.56%\n"
     ]
    }
   ],
   "source": [
    "print('Average test accuracy in a 6-fold cross val is: {:.2%}'.format(scores.mean()))"
   ]
  },
  {
   "cell_type": "markdown",
   "id": "37376c4a",
   "metadata": {},
   "source": [
    "## DONT USE -- Logistic Regression"
   ]
  },
  {
   "cell_type": "code",
   "execution_count": 164,
   "id": "7e8c4ea6",
   "metadata": {},
   "outputs": [],
   "source": [
    "C_range = [.1, .5, 1, 10, 100, 200]"
   ]
  },
  {
   "cell_type": "code",
   "execution_count": 165,
   "id": "2d2efb7e",
   "metadata": {},
   "outputs": [],
   "source": [
    "# validation_curve has two outputs:\n",
    "## 1- scores on train 2- scores on tests\n",
    "### the order is important\n",
    "train_scores, test_scores = validation_curve(LogisticRegression(solver='liblinear'), x_dummies, y_blood, \n",
    "                                             param_name = 'C', param_range = C_range, cv = 6)"
   ]
  },
  {
   "cell_type": "code",
   "execution_count": 166,
   "id": "d4a9136d",
   "metadata": {},
   "outputs": [
    {
     "data": {
      "text/plain": [
       "array([[0.8941, 0.8955, 0.8898, 0.8814, 0.8787, 0.8702],\n",
       "       [0.9294, 0.9379, 0.9294, 0.9209, 0.9168, 0.9097],\n",
       "       [0.9336, 0.9407, 0.9266, 0.9251, 0.9182, 0.9111],\n",
       "       [0.9322, 0.9379, 0.9266, 0.9294, 0.9083, 0.9055],\n",
       "       [0.928 , 0.9364, 0.9251, 0.928 , 0.9097, 0.9097],\n",
       "       [0.928 , 0.935 , 0.928 , 0.928 , 0.9111, 0.9111]])"
      ]
     },
     "execution_count": 166,
     "metadata": {},
     "output_type": "execute_result"
    }
   ],
   "source": [
    "train_scores.round(4)"
   ]
  },
  {
   "cell_type": "code",
   "execution_count": 167,
   "id": "ad845e65",
   "metadata": {},
   "outputs": [
    {
     "data": {
      "text/plain": [
       "array([[0.8803, 0.7746, 0.8451, 0.8239, 0.9645, 0.9716],\n",
       "       [0.8944, 0.8451, 0.9014, 0.9085, 0.9716, 1.    ],\n",
       "       [0.8944, 0.8592, 0.9085, 0.9085, 0.9574, 1.    ],\n",
       "       [0.8873, 0.8521, 0.9155, 0.9225, 0.9433, 1.    ],\n",
       "       [0.8803, 0.8592, 0.9155, 0.9225, 0.9362, 1.    ],\n",
       "       [0.8803, 0.8592, 0.9155, 0.9225, 0.9362, 1.    ]])"
      ]
     },
     "execution_count": 167,
     "metadata": {},
     "output_type": "execute_result"
    }
   ],
   "source": [
    "test_scores.round(4)"
   ]
  },
  {
   "cell_type": "code",
   "execution_count": 168,
   "id": "e847acac",
   "metadata": {},
   "outputs": [
    {
     "name": "stdout",
     "output_type": "stream",
     "text": [
      "ave cross val scores on train: [0.8849 0.924  0.9259 0.9233 0.9228 0.9235]\n"
     ]
    }
   ],
   "source": [
    "# axis = 1 calculates mean for each row\n",
    "print('ave cross val scores on train:', train_scores.mean(axis = 1).round(4))"
   ]
  },
  {
   "cell_type": "code",
   "execution_count": 169,
   "id": "2973d21c",
   "metadata": {},
   "outputs": [
    {
     "name": "stdout",
     "output_type": "stream",
     "text": [
      "ave cross val scores on test: [0.8767 0.9202 0.9213 0.9201 0.9189 0.9189]\n"
     ]
    }
   ],
   "source": [
    "# C=10 has the highest test score\n",
    "print('ave cross val scores on test:', test_scores.mean(axis = 1).round(4))"
   ]
  },
  {
   "cell_type": "code",
   "execution_count": 170,
   "id": "0aee6978",
   "metadata": {},
   "outputs": [
    {
     "data": {
      "text/plain": [
       "[0.1, 0.5, 1, 10, 100, 200]"
      ]
     },
     "execution_count": 170,
     "metadata": {},
     "output_type": "execute_result"
    }
   ],
   "source": [
    "C_range"
   ]
  },
  {
   "cell_type": "markdown",
   "id": "5b872150",
   "metadata": {},
   "source": [
    "## Support Vector Machine"
   ]
  },
  {
   "cell_type": "code",
   "execution_count": 173,
   "id": "aa37cb66",
   "metadata": {},
   "outputs": [
    {
     "data": {
      "text/plain": [
       "array([[0.59090909, 0.01369863, 1.        , ..., 0.        , 1.        ,\n",
       "        0.        ],\n",
       "       [0.25      , 0.        , 0.24489796, ..., 0.        , 1.        ,\n",
       "        0.        ],\n",
       "       [0.40909091, 0.        , 0.30612245, ..., 0.        , 0.        ,\n",
       "        1.        ],\n",
       "       ...,\n",
       "       [0.27272727, 0.12328767, 0.14285714, ..., 0.        , 1.        ,\n",
       "        0.        ],\n",
       "       [0.11363636, 0.09589041, 0.12244898, ..., 1.        , 0.        ,\n",
       "        0.        ],\n",
       "       [0.5       , 0.06849315, 0.14285714, ..., 1.        , 0.        ,\n",
       "        0.        ]])"
      ]
     },
     "execution_count": 173,
     "metadata": {},
     "output_type": "execute_result"
    }
   ],
   "source": [
    "# define and fit (and transform) the scaler\n",
    "scaler1 = MinMaxScaler()\n",
    "x_blood_trns = scaler1.fit_transform(x_dummies)\n",
    "x_blood_trns"
   ]
  },
  {
   "cell_type": "code",
   "execution_count": 174,
   "id": "52390e29",
   "metadata": {},
   "outputs": [],
   "source": [
    "# Splitting to train and test (Default 75/25)\n",
    "x_train1, x_test1, y_train1, y_test1 = train_test_split(x_blood_trns, y_blood, test_size=.2, random_state=0)"
   ]
  },
  {
   "cell_type": "code",
   "execution_count": 175,
   "id": "e584d063",
   "metadata": {},
   "outputs": [
    {
     "data": {
      "text/plain": [
       "LinearSVC(random_state=0)"
      ]
     },
     "execution_count": 175,
     "metadata": {},
     "output_type": "execute_result"
    }
   ],
   "source": [
    "# define a LinearSVC(random_state=0)\n",
    "svm1 = LinearSVC(random_state=0)\n",
    "svm1.fit(x_train1, y_train1)"
   ]
  },
  {
   "cell_type": "code",
   "execution_count": 176,
   "id": "e46366cc",
   "metadata": {},
   "outputs": [
    {
     "name": "stdout",
     "output_type": "stream",
     "text": [
      "Linear SVC acc on train data: 92.65%\n",
      "Linear SVC on test data: 91.76%\n"
     ]
    }
   ],
   "source": [
    "# Evaluate performance of the model\n",
    "print('Linear SVC acc on train data: {:.2%}'.format(svm1.score(x_train1, y_train1)))\n",
    "print('Linear SVC on test data: {:.2%}'.format(svm1.score(x_test1, y_test1)))"
   ]
  },
  {
   "cell_type": "code",
   "execution_count": 180,
   "id": "fd5334d8",
   "metadata": {},
   "outputs": [
    {
     "name": "stderr",
     "output_type": "stream",
     "text": [
      "/Users/ryanmaki/opt/anaconda3/lib/python3.9/site-packages/sklearn/base.py:450: UserWarning: X does not have valid feature names, but MinMaxScaler was fitted with feature names\n",
      "  warnings.warn(\n"
     ]
    },
    {
     "data": {
      "text/plain": [
       "array([[0.59090909, 0.01369863, 0.59183673, 1.        , 0.9375    ,\n",
       "        1.        , 0.        , 0.        ]])"
      ]
     },
     "execution_count": 180,
     "metadata": {},
     "output_type": "execute_result"
    }
   ],
   "source": [
    "# Make predictions\n",
    "b = [[42.0, 2, 30, 12500, 92, 1, 0, 0]]\n",
    "b_trns=scaler1.transform(b)\n",
    "b_trns"
   ]
  },
  {
   "cell_type": "code",
   "execution_count": 181,
   "id": "1e8b6a6d",
   "metadata": {},
   "outputs": [
    {
     "data": {
      "text/plain": [
       "array([1])"
      ]
     },
     "execution_count": 181,
     "metadata": {},
     "output_type": "execute_result"
    }
   ],
   "source": [
    "# the correct prediction\n",
    "svm1.predict(b_trns)"
   ]
  },
  {
   "cell_type": "code",
   "execution_count": 182,
   "id": "3ce36d16",
   "metadata": {},
   "outputs": [
    {
     "data": {
      "text/plain": [
       "array([2.19])"
      ]
     },
     "execution_count": 182,
     "metadata": {},
     "output_type": "execute_result"
    }
   ],
   "source": [
    "# get the linear equation for the decision boundry\n",
    "# intercept\n",
    "svm1.intercept_.round(2)"
   ]
  },
  {
   "cell_type": "code",
   "execution_count": 183,
   "id": "4674d41b",
   "metadata": {},
   "outputs": [
    {
     "data": {
      "text/plain": [
       "array([[-5.15, -1.94,  0.99,  1.05, -0.46,  0.76,  0.76,  0.67]])"
      ]
     },
     "execution_count": 183,
     "metadata": {},
     "output_type": "execute_result"
    }
   ],
   "source": [
    "# Coef\n",
    "svm1.coef_.round(2)"
   ]
  },
  {
   "cell_type": "markdown",
   "id": "013ec45a",
   "metadata": {},
   "source": [
    "## Controlling the COmplexity of SVM by Changing Peramter \"C\""
   ]
  },
  {
   "cell_type": "code",
   "execution_count": 190,
   "id": "21c4abdf",
   "metadata": {},
   "outputs": [],
   "source": [
    "# validation_curve has two outputs:\n",
    "## 1- scores on train 2- scores on tests\n",
    "### the order is important\n",
    "train_scores1, test_scores1 = validation_curve(LinearSVC(random_state=0, max_iter=100000), \n",
    "                                             x_blood_trns, y_blood, \n",
    "                                             param_name = 'C', \n",
    "                                             param_range=[.1, 1, 5, 10, 50, 100], \n",
    "                                             cv = 4)"
   ]
  },
  {
   "cell_type": "code",
   "execution_count": 191,
   "id": "6e1cca26",
   "metadata": {},
   "outputs": [
    {
     "data": {
      "text/plain": [
       "array([[0.9419, 0.9419, 0.9232, 0.9028],\n",
       "       [0.9372, 0.9451, 0.9263, 0.8966],\n",
       "       [0.9356, 0.9435, 0.9279, 0.8981],\n",
       "       [0.9341, 0.9388, 0.9263, 0.8981],\n",
       "       [0.9341, 0.9388, 0.9248, 0.8981],\n",
       "       [0.9341, 0.9388, 0.9248, 0.8981]])"
      ]
     },
     "execution_count": 191,
     "metadata": {},
     "output_type": "execute_result"
    }
   ],
   "source": [
    "train_scores1.round(4)"
   ]
  },
  {
   "cell_type": "code",
   "execution_count": 192,
   "id": "31ff3d15",
   "metadata": {},
   "outputs": [
    {
     "data": {
      "text/plain": [
       "array([[0.8826, 0.8685, 0.9434, 1.    ],\n",
       "       [0.8873, 0.8873, 0.934 , 0.9953],\n",
       "       [0.8779, 0.8873, 0.9292, 0.9953],\n",
       "       [0.8732, 0.8826, 0.9245, 0.9953],\n",
       "       [0.8732, 0.8826, 0.9245, 0.9906],\n",
       "       [0.8732, 0.8826, 0.9245, 0.9906]])"
      ]
     },
     "execution_count": 192,
     "metadata": {},
     "output_type": "execute_result"
    }
   ],
   "source": [
    "test_scores1.round(4)"
   ]
  },
  {
   "cell_type": "code",
   "execution_count": 193,
   "id": "f68d79a9",
   "metadata": {},
   "outputs": [
    {
     "name": "stdout",
     "output_type": "stream",
     "text": [
      "average score in 4 folds\n",
      "training: [0.8849 0.924  0.9259 0.9233 0.9228 0.9235]\n",
      "test: [0.8767 0.9202 0.9213 0.9201 0.9189 0.9189]\n"
     ]
    }
   ],
   "source": [
    "print('average score in 4 folds')\n",
    "print('training:', train_scores.mean(axis = 1).round(4))\n",
    "print('test:', test_scores.mean(axis = 1).round(4))"
   ]
  },
  {
   "cell_type": "code",
   "execution_count": 194,
   "id": "a2c65d33",
   "metadata": {},
   "outputs": [
    {
     "data": {
      "text/plain": [
       "0.9174175938985528"
      ]
     },
     "execution_count": 194,
     "metadata": {},
     "output_type": "execute_result"
    }
   ],
   "source": [
    "# returns mean of all levels of C\n",
    "train_scores.mean()"
   ]
  },
  {
   "cell_type": "markdown",
   "id": "d8b3a30a",
   "metadata": {},
   "source": [
    "# Other"
   ]
  },
  {
   "cell_type": "code",
   "execution_count": 148,
   "id": "0ae3fd3e",
   "metadata": {},
   "outputs": [
    {
     "data": {
      "text/plain": [
       "Index(['Age', 'Gender', 'Recency', 'Frequency', 'TotalDonation',\n",
       "       'TimeFromFirstDonation', 'Donated2020'],\n",
       "      dtype='object')"
      ]
     },
     "execution_count": 148,
     "metadata": {},
     "output_type": "execute_result"
    }
   ],
   "source": [
    "# columns\n",
    "blood.columns"
   ]
  },
  {
   "cell_type": "code",
   "execution_count": 149,
   "id": "054bfd28",
   "metadata": {},
   "outputs": [
    {
     "data": {
      "text/plain": [
       "Int64Index([  0,   1,   2,   4,   6,   7,   8,   9,  10,  11,\n",
       "            ...\n",
       "            851, 852, 853, 854, 855, 856, 857, 858, 859, 860],\n",
       "           dtype='int64', length=850)"
      ]
     },
     "execution_count": 149,
     "metadata": {},
     "output_type": "execute_result"
    }
   ],
   "source": [
    "# index\n",
    "blood.index"
   ]
  },
  {
   "cell_type": "code",
   "execution_count": 151,
   "id": "c047af0c",
   "metadata": {},
   "outputs": [
    {
     "data": {
      "text/plain": [
       "array([[42.0, 'Male', 2, ..., 12500, 98, 1],\n",
       "       [27.0, 'Male', 1, ..., 3250, 28, 1],\n",
       "       [34.0, 'Other', 1, ..., 4000, 35, 1],\n",
       "       ...,\n",
       "       [28.0, 'Male', 10, ..., 1700, 24, 1],\n",
       "       [21.0, 'Female', 8, ..., 1550, 42, 1],\n",
       "       [38.0, 'Female', 6, ..., 2000, 11, 1]], dtype=object)"
      ]
     },
     "execution_count": 151,
     "metadata": {},
     "output_type": "execute_result"
    }
   ],
   "source": [
    "# values\n",
    "blood.values"
   ]
  },
  {
   "cell_type": "code",
   "execution_count": 154,
   "id": "e740659a",
   "metadata": {},
   "outputs": [],
   "source": [
    "blood1 = blood.copy()"
   ]
  },
  {
   "cell_type": "code",
   "execution_count": 156,
   "id": "f8e3c5b9",
   "metadata": {},
   "outputs": [
    {
     "data": {
      "text/html": [
       "<div>\n",
       "<style scoped>\n",
       "    .dataframe tbody tr th:only-of-type {\n",
       "        vertical-align: middle;\n",
       "    }\n",
       "\n",
       "    .dataframe tbody tr th {\n",
       "        vertical-align: top;\n",
       "    }\n",
       "\n",
       "    .dataframe thead th {\n",
       "        text-align: right;\n",
       "    }\n",
       "</style>\n",
       "<table border=\"1\" class=\"dataframe\">\n",
       "  <thead>\n",
       "    <tr style=\"text-align: right;\">\n",
       "      <th></th>\n",
       "      <th>Age</th>\n",
       "      <th>Gender</th>\n",
       "      <th>Recency</th>\n",
       "      <th>Frequency</th>\n",
       "      <th>TotalDonation</th>\n",
       "      <th>TimeFromFirstDonation</th>\n",
       "      <th>Donated2020</th>\n",
       "    </tr>\n",
       "  </thead>\n",
       "  <tbody>\n",
       "    <tr>\n",
       "      <th>763</th>\n",
       "      <td>16.0</td>\n",
       "      <td>Female</td>\n",
       "      <td>7</td>\n",
       "      <td>7</td>\n",
       "      <td>1600</td>\n",
       "      <td>46</td>\n",
       "      <td>1</td>\n",
       "    </tr>\n",
       "    <tr>\n",
       "      <th>797</th>\n",
       "      <td>17.0</td>\n",
       "      <td>Male</td>\n",
       "      <td>7</td>\n",
       "      <td>7</td>\n",
       "      <td>1500</td>\n",
       "      <td>43</td>\n",
       "      <td>1</td>\n",
       "    </tr>\n",
       "    <tr>\n",
       "      <th>793</th>\n",
       "      <td>17.0</td>\n",
       "      <td>Male</td>\n",
       "      <td>4</td>\n",
       "      <td>6</td>\n",
       "      <td>1650</td>\n",
       "      <td>47</td>\n",
       "      <td>1</td>\n",
       "    </tr>\n",
       "    <tr>\n",
       "      <th>822</th>\n",
       "      <td>17.0</td>\n",
       "      <td>Female</td>\n",
       "      <td>8</td>\n",
       "      <td>5</td>\n",
       "      <td>1300</td>\n",
       "      <td>36</td>\n",
       "      <td>1</td>\n",
       "    </tr>\n",
       "    <tr>\n",
       "      <th>821</th>\n",
       "      <td>17.0</td>\n",
       "      <td>Male</td>\n",
       "      <td>1</td>\n",
       "      <td>6</td>\n",
       "      <td>1550</td>\n",
       "      <td>50</td>\n",
       "      <td>1</td>\n",
       "    </tr>\n",
       "    <tr>\n",
       "      <th>...</th>\n",
       "      <td>...</td>\n",
       "      <td>...</td>\n",
       "      <td>...</td>\n",
       "      <td>...</td>\n",
       "      <td>...</td>\n",
       "      <td>...</td>\n",
       "      <td>...</td>\n",
       "    </tr>\n",
       "    <tr>\n",
       "      <th>43</th>\n",
       "      <td>60.0</td>\n",
       "      <td>Male</td>\n",
       "      <td>2</td>\n",
       "      <td>5</td>\n",
       "      <td>1250</td>\n",
       "      <td>16</td>\n",
       "      <td>0</td>\n",
       "    </tr>\n",
       "    <tr>\n",
       "      <th>445</th>\n",
       "      <td>60.0</td>\n",
       "      <td>Male</td>\n",
       "      <td>21</td>\n",
       "      <td>3</td>\n",
       "      <td>750</td>\n",
       "      <td>35</td>\n",
       "      <td>0</td>\n",
       "    </tr>\n",
       "    <tr>\n",
       "      <th>79</th>\n",
       "      <td>60.0</td>\n",
       "      <td>Male</td>\n",
       "      <td>2</td>\n",
       "      <td>2</td>\n",
       "      <td>500</td>\n",
       "      <td>4</td>\n",
       "      <td>0</td>\n",
       "    </tr>\n",
       "    <tr>\n",
       "      <th>429</th>\n",
       "      <td>60.0</td>\n",
       "      <td>Female</td>\n",
       "      <td>16</td>\n",
       "      <td>3</td>\n",
       "      <td>750</td>\n",
       "      <td>40</td>\n",
       "      <td>0</td>\n",
       "    </tr>\n",
       "    <tr>\n",
       "      <th>133</th>\n",
       "      <td>60.0</td>\n",
       "      <td>Male</td>\n",
       "      <td>4</td>\n",
       "      <td>6</td>\n",
       "      <td>1500</td>\n",
       "      <td>35</td>\n",
       "      <td>0</td>\n",
       "    </tr>\n",
       "  </tbody>\n",
       "</table>\n",
       "<p>850 rows × 7 columns</p>\n",
       "</div>"
      ],
      "text/plain": [
       "      Age  Gender  Recency  Frequency  TotalDonation  TimeFromFirstDonation  \\\n",
       "763  16.0  Female        7          7           1600                     46   \n",
       "797  17.0    Male        7          7           1500                     43   \n",
       "793  17.0    Male        4          6           1650                     47   \n",
       "822  17.0  Female        8          5           1300                     36   \n",
       "821  17.0    Male        1          6           1550                     50   \n",
       "..    ...     ...      ...        ...            ...                    ...   \n",
       "43   60.0    Male        2          5           1250                     16   \n",
       "445  60.0    Male       21          3            750                     35   \n",
       "79   60.0    Male        2          2            500                      4   \n",
       "429  60.0  Female       16          3            750                     40   \n",
       "133  60.0    Male        4          6           1500                     35   \n",
       "\n",
       "     Donated2020  \n",
       "763            1  \n",
       "797            1  \n",
       "793            1  \n",
       "822            1  \n",
       "821            1  \n",
       "..           ...  \n",
       "43             0  \n",
       "445            0  \n",
       "79             0  \n",
       "429            0  \n",
       "133            0  \n",
       "\n",
       "[850 rows x 7 columns]"
      ]
     },
     "execution_count": 156,
     "metadata": {},
     "output_type": "execute_result"
    }
   ],
   "source": [
    "# Sorting df by prenganices\n",
    "blood2 = blood1.sort_values(by=['Age'])\n",
    "blood2"
   ]
  },
  {
   "cell_type": "code",
   "execution_count": 157,
   "id": "3fa78c38",
   "metadata": {
    "scrolled": true
   },
   "outputs": [
    {
     "data": {
      "text/html": [
       "<div>\n",
       "<style scoped>\n",
       "    .dataframe tbody tr th:only-of-type {\n",
       "        vertical-align: middle;\n",
       "    }\n",
       "\n",
       "    .dataframe tbody tr th {\n",
       "        vertical-align: top;\n",
       "    }\n",
       "\n",
       "    .dataframe thead th {\n",
       "        text-align: right;\n",
       "    }\n",
       "</style>\n",
       "<table border=\"1\" class=\"dataframe\">\n",
       "  <thead>\n",
       "    <tr style=\"text-align: right;\">\n",
       "      <th></th>\n",
       "      <th>Age</th>\n",
       "      <th>Gender</th>\n",
       "      <th>Recency</th>\n",
       "      <th>Frequency</th>\n",
       "      <th>TotalDonation</th>\n",
       "      <th>TimeFromFirstDonation</th>\n",
       "      <th>Donated2020</th>\n",
       "    </tr>\n",
       "  </thead>\n",
       "  <tbody>\n",
       "    <tr>\n",
       "      <th>763</th>\n",
       "      <td>16.0</td>\n",
       "      <td>Female</td>\n",
       "      <td>7</td>\n",
       "      <td>7</td>\n",
       "      <td>1600</td>\n",
       "      <td>46</td>\n",
       "      <td>1</td>\n",
       "    </tr>\n",
       "    <tr>\n",
       "      <th>795</th>\n",
       "      <td>17.0</td>\n",
       "      <td>Female</td>\n",
       "      <td>8</td>\n",
       "      <td>3</td>\n",
       "      <td>1000</td>\n",
       "      <td>33</td>\n",
       "      <td>1</td>\n",
       "    </tr>\n",
       "    <tr>\n",
       "      <th>822</th>\n",
       "      <td>17.0</td>\n",
       "      <td>Female</td>\n",
       "      <td>8</td>\n",
       "      <td>5</td>\n",
       "      <td>1300</td>\n",
       "      <td>36</td>\n",
       "      <td>1</td>\n",
       "    </tr>\n",
       "    <tr>\n",
       "      <th>782</th>\n",
       "      <td>17.0</td>\n",
       "      <td>Male</td>\n",
       "      <td>3</td>\n",
       "      <td>9</td>\n",
       "      <td>1900</td>\n",
       "      <td>34</td>\n",
       "      <td>1</td>\n",
       "    </tr>\n",
       "    <tr>\n",
       "      <th>793</th>\n",
       "      <td>17.0</td>\n",
       "      <td>Male</td>\n",
       "      <td>4</td>\n",
       "      <td>6</td>\n",
       "      <td>1650</td>\n",
       "      <td>47</td>\n",
       "      <td>1</td>\n",
       "    </tr>\n",
       "    <tr>\n",
       "      <th>...</th>\n",
       "      <td>...</td>\n",
       "      <td>...</td>\n",
       "      <td>...</td>\n",
       "      <td>...</td>\n",
       "      <td>...</td>\n",
       "      <td>...</td>\n",
       "      <td>...</td>\n",
       "    </tr>\n",
       "    <tr>\n",
       "      <th>445</th>\n",
       "      <td>60.0</td>\n",
       "      <td>Male</td>\n",
       "      <td>21</td>\n",
       "      <td>3</td>\n",
       "      <td>750</td>\n",
       "      <td>35</td>\n",
       "      <td>0</td>\n",
       "    </tr>\n",
       "    <tr>\n",
       "      <th>448</th>\n",
       "      <td>60.0</td>\n",
       "      <td>Male</td>\n",
       "      <td>23</td>\n",
       "      <td>8</td>\n",
       "      <td>2000</td>\n",
       "      <td>64</td>\n",
       "      <td>0</td>\n",
       "    </tr>\n",
       "    <tr>\n",
       "      <th>525</th>\n",
       "      <td>60.0</td>\n",
       "      <td>Male</td>\n",
       "      <td>2</td>\n",
       "      <td>4</td>\n",
       "      <td>1000</td>\n",
       "      <td>11</td>\n",
       "      <td>0</td>\n",
       "    </tr>\n",
       "    <tr>\n",
       "      <th>578</th>\n",
       "      <td>60.0</td>\n",
       "      <td>Male</td>\n",
       "      <td>11</td>\n",
       "      <td>5</td>\n",
       "      <td>1250</td>\n",
       "      <td>18</td>\n",
       "      <td>0</td>\n",
       "    </tr>\n",
       "    <tr>\n",
       "      <th>638</th>\n",
       "      <td>60.0</td>\n",
       "      <td>Male</td>\n",
       "      <td>11</td>\n",
       "      <td>4</td>\n",
       "      <td>1000</td>\n",
       "      <td>27</td>\n",
       "      <td>0</td>\n",
       "    </tr>\n",
       "  </tbody>\n",
       "</table>\n",
       "<p>850 rows × 7 columns</p>\n",
       "</div>"
      ],
      "text/plain": [
       "      Age  Gender  Recency  Frequency  TotalDonation  TimeFromFirstDonation  \\\n",
       "763  16.0  Female        7          7           1600                     46   \n",
       "795  17.0  Female        8          3           1000                     33   \n",
       "822  17.0  Female        8          5           1300                     36   \n",
       "782  17.0    Male        3          9           1900                     34   \n",
       "793  17.0    Male        4          6           1650                     47   \n",
       "..    ...     ...      ...        ...            ...                    ...   \n",
       "445  60.0    Male       21          3            750                     35   \n",
       "448  60.0    Male       23          8           2000                     64   \n",
       "525  60.0    Male        2          4           1000                     11   \n",
       "578  60.0    Male       11          5           1250                     18   \n",
       "638  60.0    Male       11          4           1000                     27   \n",
       "\n",
       "     Donated2020  \n",
       "763            1  \n",
       "795            1  \n",
       "822            1  \n",
       "782            1  \n",
       "793            1  \n",
       "..           ...  \n",
       "445            0  \n",
       "448            0  \n",
       "525            0  \n",
       "578            0  \n",
       "638            0  \n",
       "\n",
       "[850 rows x 7 columns]"
      ]
     },
     "execution_count": 157,
     "metadata": {},
     "output_type": "execute_result"
    }
   ],
   "source": [
    "blood1.sort_values(by=[\"Age\", \"Gender\"])"
   ]
  },
  {
   "cell_type": "code",
   "execution_count": 158,
   "id": "d0c2be7c",
   "metadata": {},
   "outputs": [
    {
     "data": {
      "text/html": [
       "<div>\n",
       "<style scoped>\n",
       "    .dataframe tbody tr th:only-of-type {\n",
       "        vertical-align: middle;\n",
       "    }\n",
       "\n",
       "    .dataframe tbody tr th {\n",
       "        vertical-align: top;\n",
       "    }\n",
       "\n",
       "    .dataframe thead th {\n",
       "        text-align: right;\n",
       "    }\n",
       "</style>\n",
       "<table border=\"1\" class=\"dataframe\">\n",
       "  <thead>\n",
       "    <tr style=\"text-align: right;\">\n",
       "      <th></th>\n",
       "      <th>Age</th>\n",
       "      <th>Gender</th>\n",
       "      <th>Recency</th>\n",
       "      <th>Frequency</th>\n",
       "      <th>TotalDonation</th>\n",
       "      <th>TimeFromFirstDonation</th>\n",
       "      <th>Donated2020</th>\n",
       "    </tr>\n",
       "  </thead>\n",
       "  <tbody>\n",
       "    <tr>\n",
       "      <th>214</th>\n",
       "      <td>60.0</td>\n",
       "      <td>Male</td>\n",
       "      <td>4</td>\n",
       "      <td>1</td>\n",
       "      <td>250</td>\n",
       "      <td>4</td>\n",
       "      <td>0</td>\n",
       "    </tr>\n",
       "    <tr>\n",
       "      <th>378</th>\n",
       "      <td>60.0</td>\n",
       "      <td>Male</td>\n",
       "      <td>14</td>\n",
       "      <td>1</td>\n",
       "      <td>250</td>\n",
       "      <td>14</td>\n",
       "      <td>0</td>\n",
       "    </tr>\n",
       "    <tr>\n",
       "      <th>479</th>\n",
       "      <td>60.0</td>\n",
       "      <td>Female</td>\n",
       "      <td>23</td>\n",
       "      <td>1</td>\n",
       "      <td>250</td>\n",
       "      <td>23</td>\n",
       "      <td>0</td>\n",
       "    </tr>\n",
       "    <tr>\n",
       "      <th>736</th>\n",
       "      <td>60.0</td>\n",
       "      <td>Female</td>\n",
       "      <td>23</td>\n",
       "      <td>1</td>\n",
       "      <td>250</td>\n",
       "      <td>23</td>\n",
       "      <td>0</td>\n",
       "    </tr>\n",
       "    <tr>\n",
       "      <th>79</th>\n",
       "      <td>60.0</td>\n",
       "      <td>Male</td>\n",
       "      <td>2</td>\n",
       "      <td>2</td>\n",
       "      <td>500</td>\n",
       "      <td>4</td>\n",
       "      <td>0</td>\n",
       "    </tr>\n",
       "    <tr>\n",
       "      <th>...</th>\n",
       "      <td>...</td>\n",
       "      <td>...</td>\n",
       "      <td>...</td>\n",
       "      <td>...</td>\n",
       "      <td>...</td>\n",
       "      <td>...</td>\n",
       "      <td>...</td>\n",
       "    </tr>\n",
       "    <tr>\n",
       "      <th>797</th>\n",
       "      <td>17.0</td>\n",
       "      <td>Male</td>\n",
       "      <td>7</td>\n",
       "      <td>7</td>\n",
       "      <td>1500</td>\n",
       "      <td>43</td>\n",
       "      <td>1</td>\n",
       "    </tr>\n",
       "    <tr>\n",
       "      <th>821</th>\n",
       "      <td>17.0</td>\n",
       "      <td>Male</td>\n",
       "      <td>1</td>\n",
       "      <td>6</td>\n",
       "      <td>1550</td>\n",
       "      <td>50</td>\n",
       "      <td>1</td>\n",
       "    </tr>\n",
       "    <tr>\n",
       "      <th>793</th>\n",
       "      <td>17.0</td>\n",
       "      <td>Male</td>\n",
       "      <td>4</td>\n",
       "      <td>6</td>\n",
       "      <td>1650</td>\n",
       "      <td>47</td>\n",
       "      <td>1</td>\n",
       "    </tr>\n",
       "    <tr>\n",
       "      <th>782</th>\n",
       "      <td>17.0</td>\n",
       "      <td>Male</td>\n",
       "      <td>3</td>\n",
       "      <td>9</td>\n",
       "      <td>1900</td>\n",
       "      <td>34</td>\n",
       "      <td>1</td>\n",
       "    </tr>\n",
       "    <tr>\n",
       "      <th>763</th>\n",
       "      <td>16.0</td>\n",
       "      <td>Female</td>\n",
       "      <td>7</td>\n",
       "      <td>7</td>\n",
       "      <td>1600</td>\n",
       "      <td>46</td>\n",
       "      <td>1</td>\n",
       "    </tr>\n",
       "  </tbody>\n",
       "</table>\n",
       "<p>850 rows × 7 columns</p>\n",
       "</div>"
      ],
      "text/plain": [
       "      Age  Gender  Recency  Frequency  TotalDonation  TimeFromFirstDonation  \\\n",
       "214  60.0    Male        4          1            250                      4   \n",
       "378  60.0    Male       14          1            250                     14   \n",
       "479  60.0  Female       23          1            250                     23   \n",
       "736  60.0  Female       23          1            250                     23   \n",
       "79   60.0    Male        2          2            500                      4   \n",
       "..    ...     ...      ...        ...            ...                    ...   \n",
       "797  17.0    Male        7          7           1500                     43   \n",
       "821  17.0    Male        1          6           1550                     50   \n",
       "793  17.0    Male        4          6           1650                     47   \n",
       "782  17.0    Male        3          9           1900                     34   \n",
       "763  16.0  Female        7          7           1600                     46   \n",
       "\n",
       "     Donated2020  \n",
       "214            0  \n",
       "378            0  \n",
       "479            0  \n",
       "736            0  \n",
       "79             0  \n",
       "..           ...  \n",
       "797            1  \n",
       "821            1  \n",
       "793            1  \n",
       "782            1  \n",
       "763            1  \n",
       "\n",
       "[850 rows x 7 columns]"
      ]
     },
     "execution_count": 158,
     "metadata": {},
     "output_type": "execute_result"
    }
   ],
   "source": [
    "blood.sort_values(by=[\"Age\", \"TotalDonation\"],\n",
    "               ascending = [False,True])"
   ]
  },
  {
   "cell_type": "code",
   "execution_count": 146,
   "id": "e6ac7bb8",
   "metadata": {},
   "outputs": [
    {
     "data": {
      "text/html": [
       "<div>\n",
       "<style scoped>\n",
       "    .dataframe tbody tr th:only-of-type {\n",
       "        vertical-align: middle;\n",
       "    }\n",
       "\n",
       "    .dataframe tbody tr th {\n",
       "        vertical-align: top;\n",
       "    }\n",
       "\n",
       "    .dataframe thead th {\n",
       "        text-align: right;\n",
       "    }\n",
       "</style>\n",
       "<table border=\"1\" class=\"dataframe\">\n",
       "  <thead>\n",
       "    <tr style=\"text-align: right;\">\n",
       "      <th></th>\n",
       "      <th>Age</th>\n",
       "      <th>Recency</th>\n",
       "      <th>Frequency</th>\n",
       "      <th>TotalDonation</th>\n",
       "      <th>TimeFromFirstDonation</th>\n",
       "      <th>Donated2020</th>\n",
       "    </tr>\n",
       "  </thead>\n",
       "  <tbody>\n",
       "    <tr>\n",
       "      <th>count</th>\n",
       "      <td>288.00</td>\n",
       "      <td>288.00</td>\n",
       "      <td>288.00</td>\n",
       "      <td>288.0</td>\n",
       "      <td>288.00</td>\n",
       "      <td>288.0</td>\n",
       "    </tr>\n",
       "    <tr>\n",
       "      <th>mean</th>\n",
       "      <td>32.42</td>\n",
       "      <td>5.69</td>\n",
       "      <td>7.40</td>\n",
       "      <td>1840.8</td>\n",
       "      <td>31.84</td>\n",
       "      <td>1.0</td>\n",
       "    </tr>\n",
       "    <tr>\n",
       "      <th>std</th>\n",
       "      <td>7.60</td>\n",
       "      <td>4.45</td>\n",
       "      <td>6.41</td>\n",
       "      <td>1595.3</td>\n",
       "      <td>19.93</td>\n",
       "      <td>0.0</td>\n",
       "    </tr>\n",
       "    <tr>\n",
       "      <th>min</th>\n",
       "      <td>16.00</td>\n",
       "      <td>1.00</td>\n",
       "      <td>1.00</td>\n",
       "      <td>250.0</td>\n",
       "      <td>2.00</td>\n",
       "      <td>1.0</td>\n",
       "    </tr>\n",
       "    <tr>\n",
       "      <th>25%</th>\n",
       "      <td>27.00</td>\n",
       "      <td>2.00</td>\n",
       "      <td>4.00</td>\n",
       "      <td>1050.0</td>\n",
       "      <td>16.00</td>\n",
       "      <td>1.0</td>\n",
       "    </tr>\n",
       "    <tr>\n",
       "      <th>50%</th>\n",
       "      <td>33.00</td>\n",
       "      <td>4.00</td>\n",
       "      <td>6.00</td>\n",
       "      <td>1500.0</td>\n",
       "      <td>30.00</td>\n",
       "      <td>1.0</td>\n",
       "    </tr>\n",
       "    <tr>\n",
       "      <th>75%</th>\n",
       "      <td>38.00</td>\n",
       "      <td>8.00</td>\n",
       "      <td>9.00</td>\n",
       "      <td>2150.0</td>\n",
       "      <td>42.00</td>\n",
       "      <td>1.0</td>\n",
       "    </tr>\n",
       "    <tr>\n",
       "      <th>max</th>\n",
       "      <td>45.00</td>\n",
       "      <td>26.00</td>\n",
       "      <td>50.00</td>\n",
       "      <td>12500.0</td>\n",
       "      <td>98.00</td>\n",
       "      <td>1.0</td>\n",
       "    </tr>\n",
       "  </tbody>\n",
       "</table>\n",
       "</div>"
      ],
      "text/plain": [
       "          Age  Recency  Frequency  TotalDonation  TimeFromFirstDonation  \\\n",
       "count  288.00   288.00     288.00          288.0                 288.00   \n",
       "mean    32.42     5.69       7.40         1840.8                  31.84   \n",
       "std      7.60     4.45       6.41         1595.3                  19.93   \n",
       "min     16.00     1.00       1.00          250.0                   2.00   \n",
       "25%     27.00     2.00       4.00         1050.0                  16.00   \n",
       "50%     33.00     4.00       6.00         1500.0                  30.00   \n",
       "75%     38.00     8.00       9.00         2150.0                  42.00   \n",
       "max     45.00    26.00      50.00        12500.0                  98.00   \n",
       "\n",
       "       Donated2020  \n",
       "count        288.0  \n",
       "mean           1.0  \n",
       "std            0.0  \n",
       "min            1.0  \n",
       "25%            1.0  \n",
       "50%            1.0  \n",
       "75%            1.0  \n",
       "max            1.0  "
      ]
     },
     "execution_count": 146,
     "metadata": {},
     "output_type": "execute_result"
    }
   ],
   "source": [
    "# group 1 of customers: default is 1\n",
    "blood[blood['Donated2020']==1].describe().round(2)"
   ]
  },
  {
   "cell_type": "code",
   "execution_count": 147,
   "id": "d4771a48",
   "metadata": {},
   "outputs": [
    {
     "data": {
      "text/html": [
       "<div>\n",
       "<style scoped>\n",
       "    .dataframe tbody tr th:only-of-type {\n",
       "        vertical-align: middle;\n",
       "    }\n",
       "\n",
       "    .dataframe tbody tr th {\n",
       "        vertical-align: top;\n",
       "    }\n",
       "\n",
       "    .dataframe thead th {\n",
       "        text-align: right;\n",
       "    }\n",
       "</style>\n",
       "<table border=\"1\" class=\"dataframe\">\n",
       "  <thead>\n",
       "    <tr style=\"text-align: right;\">\n",
       "      <th></th>\n",
       "      <th>Age</th>\n",
       "      <th>Recency</th>\n",
       "      <th>Frequency</th>\n",
       "      <th>TotalDonation</th>\n",
       "      <th>TimeFromFirstDonation</th>\n",
       "      <th>Donated2020</th>\n",
       "    </tr>\n",
       "  </thead>\n",
       "  <tbody>\n",
       "    <tr>\n",
       "      <th>count</th>\n",
       "      <td>562.00</td>\n",
       "      <td>562.00</td>\n",
       "      <td>562.00</td>\n",
       "      <td>562.00</td>\n",
       "      <td>562.00</td>\n",
       "      <td>562.0</td>\n",
       "    </tr>\n",
       "    <tr>\n",
       "      <th>mean</th>\n",
       "      <td>49.95</td>\n",
       "      <td>10.89</td>\n",
       "      <td>4.76</td>\n",
       "      <td>1189.95</td>\n",
       "      <td>34.69</td>\n",
       "      <td>0.0</td>\n",
       "    </tr>\n",
       "    <tr>\n",
       "      <th>std</th>\n",
       "      <td>5.88</td>\n",
       "      <td>8.43</td>\n",
       "      <td>4.74</td>\n",
       "      <td>1185.11</td>\n",
       "      <td>24.61</td>\n",
       "      <td>0.0</td>\n",
       "    </tr>\n",
       "    <tr>\n",
       "      <th>min</th>\n",
       "      <td>40.00</td>\n",
       "      <td>1.00</td>\n",
       "      <td>1.00</td>\n",
       "      <td>250.00</td>\n",
       "      <td>2.00</td>\n",
       "      <td>0.0</td>\n",
       "    </tr>\n",
       "    <tr>\n",
       "      <th>25%</th>\n",
       "      <td>45.00</td>\n",
       "      <td>4.00</td>\n",
       "      <td>2.00</td>\n",
       "      <td>500.00</td>\n",
       "      <td>16.00</td>\n",
       "      <td>0.0</td>\n",
       "    </tr>\n",
       "    <tr>\n",
       "      <th>50%</th>\n",
       "      <td>50.00</td>\n",
       "      <td>11.00</td>\n",
       "      <td>3.00</td>\n",
       "      <td>750.00</td>\n",
       "      <td>28.00</td>\n",
       "      <td>0.0</td>\n",
       "    </tr>\n",
       "    <tr>\n",
       "      <th>75%</th>\n",
       "      <td>55.00</td>\n",
       "      <td>16.00</td>\n",
       "      <td>6.00</td>\n",
       "      <td>1500.00</td>\n",
       "      <td>51.75</td>\n",
       "      <td>0.0</td>\n",
       "    </tr>\n",
       "    <tr>\n",
       "      <th>max</th>\n",
       "      <td>60.00</td>\n",
       "      <td>74.00</td>\n",
       "      <td>44.00</td>\n",
       "      <td>11000.00</td>\n",
       "      <td>98.00</td>\n",
       "      <td>0.0</td>\n",
       "    </tr>\n",
       "  </tbody>\n",
       "</table>\n",
       "</div>"
      ],
      "text/plain": [
       "          Age  Recency  Frequency  TotalDonation  TimeFromFirstDonation  \\\n",
       "count  562.00   562.00     562.00         562.00                 562.00   \n",
       "mean    49.95    10.89       4.76        1189.95                  34.69   \n",
       "std      5.88     8.43       4.74        1185.11                  24.61   \n",
       "min     40.00     1.00       1.00         250.00                   2.00   \n",
       "25%     45.00     4.00       2.00         500.00                  16.00   \n",
       "50%     50.00    11.00       3.00         750.00                  28.00   \n",
       "75%     55.00    16.00       6.00        1500.00                  51.75   \n",
       "max     60.00    74.00      44.00       11000.00                  98.00   \n",
       "\n",
       "       Donated2020  \n",
       "count        562.0  \n",
       "mean           0.0  \n",
       "std            0.0  \n",
       "min            0.0  \n",
       "25%            0.0  \n",
       "50%            0.0  \n",
       "75%            0.0  \n",
       "max            0.0  "
      ]
     },
     "execution_count": 147,
     "metadata": {},
     "output_type": "execute_result"
    }
   ],
   "source": [
    "# group 2 of customers: default is 0\n",
    "blood[blood['Donated2020']==0].describe().round(2)"
   ]
  },
  {
   "cell_type": "code",
   "execution_count": null,
   "id": "5ab9209c",
   "metadata": {},
   "outputs": [],
   "source": []
  }
 ],
 "metadata": {
  "kernelspec": {
   "display_name": "Python 3 (ipykernel)",
   "language": "python",
   "name": "python3"
  },
  "language_info": {
   "codemirror_mode": {
    "name": "ipython",
    "version": 3
   },
   "file_extension": ".py",
   "mimetype": "text/x-python",
   "name": "python",
   "nbconvert_exporter": "python",
   "pygments_lexer": "ipython3",
   "version": "3.9.12"
  },
  "toc": {
   "base_numbering": 1,
   "nav_menu": {},
   "number_sections": true,
   "sideBar": true,
   "skip_h1_title": false,
   "title_cell": "Table of Contents",
   "title_sidebar": "Contents",
   "toc_cell": false,
   "toc_position": {
    "height": "calc(100% - 180px)",
    "left": "10px",
    "top": "150px",
    "width": "189px"
   },
   "toc_section_display": true,
   "toc_window_display": true
  }
 },
 "nbformat": 4,
 "nbformat_minor": 5
}
