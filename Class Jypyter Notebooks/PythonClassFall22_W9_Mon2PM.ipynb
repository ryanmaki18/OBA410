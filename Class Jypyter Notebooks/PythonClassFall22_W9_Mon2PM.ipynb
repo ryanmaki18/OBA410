{
 "cells": [
  {
   "cell_type": "markdown",
   "id": "918a323e",
   "metadata": {},
   "source": [
    "# Decision Tree Regressor"
   ]
  },
  {
   "cell_type": "code",
   "execution_count": 1,
   "id": "6853f37a",
   "metadata": {},
   "outputs": [],
   "source": [
    "import pandas as pd\n",
    "from sklearn.model_selection import train_test_split, validation_curve\n",
    "from sklearn.tree import DecisionTreeRegressor, export_graphviz"
   ]
  },
  {
   "cell_type": "markdown",
   "id": "02273efd",
   "metadata": {},
   "source": [
    "## bostong housing data"
   ]
  },
  {
   "cell_type": "code",
   "execution_count": 2,
   "id": "e4e75b1d",
   "metadata": {},
   "outputs": [
    {
     "data": {
      "text/html": [
       "<div>\n",
       "<style scoped>\n",
       "    .dataframe tbody tr th:only-of-type {\n",
       "        vertical-align: middle;\n",
       "    }\n",
       "\n",
       "    .dataframe tbody tr th {\n",
       "        vertical-align: top;\n",
       "    }\n",
       "\n",
       "    .dataframe thead th {\n",
       "        text-align: right;\n",
       "    }\n",
       "</style>\n",
       "<table border=\"1\" class=\"dataframe\">\n",
       "  <thead>\n",
       "    <tr style=\"text-align: right;\">\n",
       "      <th></th>\n",
       "      <th>crim</th>\n",
       "      <th>zn</th>\n",
       "      <th>indus</th>\n",
       "      <th>chas</th>\n",
       "      <th>nox</th>\n",
       "      <th>rm</th>\n",
       "      <th>age</th>\n",
       "      <th>dis</th>\n",
       "      <th>rad</th>\n",
       "      <th>tax</th>\n",
       "      <th>ptratio</th>\n",
       "      <th>lstat</th>\n",
       "      <th>target_medv</th>\n",
       "    </tr>\n",
       "    <tr>\n",
       "      <th>ID</th>\n",
       "      <th></th>\n",
       "      <th></th>\n",
       "      <th></th>\n",
       "      <th></th>\n",
       "      <th></th>\n",
       "      <th></th>\n",
       "      <th></th>\n",
       "      <th></th>\n",
       "      <th></th>\n",
       "      <th></th>\n",
       "      <th></th>\n",
       "      <th></th>\n",
       "      <th></th>\n",
       "    </tr>\n",
       "  </thead>\n",
       "  <tbody>\n",
       "    <tr>\n",
       "      <th>1</th>\n",
       "      <td>0.00632</td>\n",
       "      <td>18.0</td>\n",
       "      <td>2.31</td>\n",
       "      <td>0</td>\n",
       "      <td>0.538</td>\n",
       "      <td>6.575</td>\n",
       "      <td>65.2</td>\n",
       "      <td>4.09</td>\n",
       "      <td>1</td>\n",
       "      <td>296</td>\n",
       "      <td>15.3</td>\n",
       "      <td>4.98</td>\n",
       "      <td>24.0</td>\n",
       "    </tr>\n",
       "  </tbody>\n",
       "</table>\n",
       "</div>"
      ],
      "text/plain": [
       "       crim    zn  indus  chas    nox     rm   age   dis  rad  tax  ptratio  \\\n",
       "ID                                                                            \n",
       "1   0.00632  18.0   2.31     0  0.538  6.575  65.2  4.09    1  296     15.3   \n",
       "\n",
       "    lstat  target_medv  \n",
       "ID                      \n",
       "1    4.98         24.0  "
      ]
     },
     "execution_count": 2,
     "metadata": {},
     "output_type": "execute_result"
    }
   ],
   "source": [
    "boston=pd.read_csv('boston_housing_data.csv',index_col=0)\n",
    "boston.head(1)"
   ]
  },
  {
   "cell_type": "code",
   "execution_count": 3,
   "id": "cafdddf2",
   "metadata": {},
   "outputs": [
    {
     "data": {
      "text/html": [
       "<div>\n",
       "<style scoped>\n",
       "    .dataframe tbody tr th:only-of-type {\n",
       "        vertical-align: middle;\n",
       "    }\n",
       "\n",
       "    .dataframe tbody tr th {\n",
       "        vertical-align: top;\n",
       "    }\n",
       "\n",
       "    .dataframe thead th {\n",
       "        text-align: right;\n",
       "    }\n",
       "</style>\n",
       "<table border=\"1\" class=\"dataframe\">\n",
       "  <thead>\n",
       "    <tr style=\"text-align: right;\">\n",
       "      <th></th>\n",
       "      <th>crim</th>\n",
       "      <th>zn</th>\n",
       "      <th>indus</th>\n",
       "      <th>chas</th>\n",
       "      <th>nox</th>\n",
       "      <th>rm</th>\n",
       "      <th>age</th>\n",
       "      <th>dis</th>\n",
       "      <th>rad</th>\n",
       "      <th>tax</th>\n",
       "      <th>ptratio</th>\n",
       "      <th>lstat</th>\n",
       "      <th>target_medv</th>\n",
       "    </tr>\n",
       "    <tr>\n",
       "      <th>ID</th>\n",
       "      <th></th>\n",
       "      <th></th>\n",
       "      <th></th>\n",
       "      <th></th>\n",
       "      <th></th>\n",
       "      <th></th>\n",
       "      <th></th>\n",
       "      <th></th>\n",
       "      <th></th>\n",
       "      <th></th>\n",
       "      <th></th>\n",
       "      <th></th>\n",
       "      <th></th>\n",
       "    </tr>\n",
       "  </thead>\n",
       "  <tbody>\n",
       "    <tr>\n",
       "      <th>84</th>\n",
       "      <td>0.03551</td>\n",
       "      <td>25.0</td>\n",
       "      <td>4.86</td>\n",
       "      <td>0</td>\n",
       "      <td>0.426</td>\n",
       "      <td>6.167</td>\n",
       "      <td>46.7</td>\n",
       "      <td>5.4007</td>\n",
       "      <td>4</td>\n",
       "      <td>281</td>\n",
       "      <td>19.0</td>\n",
       "      <td>7.51</td>\n",
       "      <td>22.9</td>\n",
       "    </tr>\n",
       "  </tbody>\n",
       "</table>\n",
       "</div>"
      ],
      "text/plain": [
       "       crim    zn  indus  chas    nox     rm   age     dis  rad  tax  ptratio  \\\n",
       "ID                                                                              \n",
       "84  0.03551  25.0   4.86     0  0.426  6.167  46.7  5.4007    4  281     19.0   \n",
       "\n",
       "    lstat  target_medv  \n",
       "ID                      \n",
       "84   7.51         22.9  "
      ]
     },
     "execution_count": 3,
     "metadata": {},
     "output_type": "execute_result"
    }
   ],
   "source": [
    "# since we will use validation_curve (w cross-val), we shuffle the data first\n",
    "boston=boston.sample(frac=1,random_state=0)\n",
    "boston.head(1)"
   ]
  },
  {
   "cell_type": "code",
   "execution_count": 4,
   "id": "9d7dd96a",
   "metadata": {},
   "outputs": [
    {
     "data": {
      "text/html": [
       "<div>\n",
       "<style scoped>\n",
       "    .dataframe tbody tr th:only-of-type {\n",
       "        vertical-align: middle;\n",
       "    }\n",
       "\n",
       "    .dataframe tbody tr th {\n",
       "        vertical-align: top;\n",
       "    }\n",
       "\n",
       "    .dataframe thead th {\n",
       "        text-align: right;\n",
       "    }\n",
       "</style>\n",
       "<table border=\"1\" class=\"dataframe\">\n",
       "  <thead>\n",
       "    <tr style=\"text-align: right;\">\n",
       "      <th></th>\n",
       "      <th>crim</th>\n",
       "      <th>zn</th>\n",
       "      <th>indus</th>\n",
       "      <th>chas</th>\n",
       "      <th>nox</th>\n",
       "      <th>rm</th>\n",
       "      <th>age</th>\n",
       "      <th>dis</th>\n",
       "      <th>rad</th>\n",
       "      <th>tax</th>\n",
       "      <th>ptratio</th>\n",
       "      <th>lstat</th>\n",
       "    </tr>\n",
       "    <tr>\n",
       "      <th>ID</th>\n",
       "      <th></th>\n",
       "      <th></th>\n",
       "      <th></th>\n",
       "      <th></th>\n",
       "      <th></th>\n",
       "      <th></th>\n",
       "      <th></th>\n",
       "      <th></th>\n",
       "      <th></th>\n",
       "      <th></th>\n",
       "      <th></th>\n",
       "      <th></th>\n",
       "    </tr>\n",
       "  </thead>\n",
       "  <tbody>\n",
       "    <tr>\n",
       "      <th>84</th>\n",
       "      <td>0.03551</td>\n",
       "      <td>25.0</td>\n",
       "      <td>4.86</td>\n",
       "      <td>0</td>\n",
       "      <td>0.426</td>\n",
       "      <td>6.167</td>\n",
       "      <td>46.7</td>\n",
       "      <td>5.4007</td>\n",
       "      <td>4</td>\n",
       "      <td>281</td>\n",
       "      <td>19.0</td>\n",
       "      <td>7.51</td>\n",
       "    </tr>\n",
       "    <tr>\n",
       "      <th>81</th>\n",
       "      <td>0.04113</td>\n",
       "      <td>25.0</td>\n",
       "      <td>4.86</td>\n",
       "      <td>0</td>\n",
       "      <td>0.426</td>\n",
       "      <td>6.727</td>\n",
       "      <td>33.5</td>\n",
       "      <td>5.4007</td>\n",
       "      <td>4</td>\n",
       "      <td>281</td>\n",
       "      <td>19.0</td>\n",
       "      <td>5.29</td>\n",
       "    </tr>\n",
       "  </tbody>\n",
       "</table>\n",
       "</div>"
      ],
      "text/plain": [
       "       crim    zn  indus  chas    nox     rm   age     dis  rad  tax  ptratio  \\\n",
       "ID                                                                              \n",
       "84  0.03551  25.0   4.86     0  0.426  6.167  46.7  5.4007    4  281     19.0   \n",
       "81  0.04113  25.0   4.86     0  0.426  6.727  33.5  5.4007    4  281     19.0   \n",
       "\n",
       "    lstat  \n",
       "ID         \n",
       "84   7.51  \n",
       "81   5.29  "
      ]
     },
     "metadata": {},
     "output_type": "display_data"
    },
    {
     "data": {
      "text/plain": [
       "ID\n",
       "84    22.9\n",
       "81    28.0\n",
       "Name: target_medv, dtype: float64"
      ]
     },
     "metadata": {},
     "output_type": "display_data"
    }
   ],
   "source": [
    "# create features and target sets\n",
    "X_boston, y_boston=boston.iloc[:,:-1], boston['target_medv']\n",
    "# check my work\n",
    "display(X_boston.head(2))\n",
    "display(y_boston.head(2))"
   ]
  },
  {
   "cell_type": "code",
   "execution_count": 5,
   "id": "a6a6c640",
   "metadata": {},
   "outputs": [],
   "source": [
    "# split to train and test (85/15)\n",
    "X_train, X_test, y_train, y_test=train_test_split(X_boston,y_boston,\n",
    "                                                 test_size=.15,\n",
    "                                                 random_state=0)"
   ]
  },
  {
   "cell_type": "markdown",
   "id": "dd020eec",
   "metadata": {},
   "source": [
    "### use validation_curve to find best param value"
   ]
  },
  {
   "cell_type": "code",
   "execution_count": 6,
   "id": "cbfab327",
   "metadata": {},
   "outputs": [],
   "source": [
    "train_sc, test_sc=validation_curve(DecisionTreeRegressor(random_state=0),\n",
    "                                  X_train,y_train,\n",
    "                                  param_name='max_depth',\n",
    "                                  param_range=[2,3,4,5], cv=5)"
   ]
  },
  {
   "cell_type": "code",
   "execution_count": 8,
   "id": "190c01b0",
   "metadata": {},
   "outputs": [
    {
     "data": {
      "text/plain": [
       "array([0.7359, 0.8339, 0.905 , 0.9376])"
      ]
     },
     "execution_count": 8,
     "metadata": {},
     "output_type": "execute_result"
    }
   ],
   "source": [
    "train_sc.mean(axis=1).round(4)"
   ]
  },
  {
   "cell_type": "code",
   "execution_count": 9,
   "id": "d9c78d57",
   "metadata": {},
   "outputs": [
    {
     "data": {
      "text/plain": [
       "array([0.5821, 0.6262, 0.687 , 0.6701])"
      ]
     },
     "execution_count": 9,
     "metadata": {},
     "output_type": "execute_result"
    }
   ],
   "source": [
    "test_sc.mean(axis=1).round(4)\n",
    "# max_depth 4 has the highest test score"
   ]
  },
  {
   "cell_type": "markdown",
   "id": "405523d2",
   "metadata": {},
   "source": [
    "### develope a DT with best param value"
   ]
  },
  {
   "cell_type": "code",
   "execution_count": 10,
   "id": "cd3b97bd",
   "metadata": {},
   "outputs": [
    {
     "data": {
      "text/plain": [
       "DecisionTreeRegressor(max_depth=4, random_state=0)"
      ]
     },
     "execution_count": 10,
     "metadata": {},
     "output_type": "execute_result"
    }
   ],
   "source": [
    "# define and fit the model\n",
    "dt_reg1=DecisionTreeRegressor(max_depth=4,random_state=0)\n",
    "dt_reg1.fit(X_train, y_train)"
   ]
  },
  {
   "cell_type": "code",
   "execution_count": 12,
   "id": "a9894d78",
   "metadata": {},
   "outputs": [
    {
     "name": "stdout",
     "output_type": "stream",
     "text": [
      "dt_reg1 R2 on train: 89.77%\n",
      "dt_reg1 R2 on test: 87.81%\n"
     ]
    }
   ],
   "source": [
    "# evaluate the performance of the model\n",
    "print('dt_reg1 R2 on train: {:.2%}'.format(dt_reg1.score(X_train,y_train)))\n",
    "print('dt_reg1 R2 on test: {:.2%}'.format(dt_reg1.score(X_test,y_test)))"
   ]
  },
  {
   "cell_type": "code",
   "execution_count": 15,
   "id": "9288d624",
   "metadata": {},
   "outputs": [
    {
     "data": {
      "text/plain": [
       "15"
      ]
     },
     "execution_count": 15,
     "metadata": {},
     "output_type": "execute_result"
    }
   ],
   "source": [
    "dt_reg1.get_n_leaves()"
   ]
  },
  {
   "cell_type": "markdown",
   "id": "262748eb",
   "metadata": {},
   "source": [
    "### feature importance"
   ]
  },
  {
   "cell_type": "code",
   "execution_count": 16,
   "id": "920e43d1",
   "metadata": {},
   "outputs": [
    {
     "data": {
      "text/plain": [
       "array([0.04457087, 0.        , 0.        , 0.00112931, 0.        ,\n",
       "       0.64923062, 0.00161161, 0.06438004, 0.        , 0.        ,\n",
       "       0.02078456, 0.218293  ])"
      ]
     },
     "execution_count": 16,
     "metadata": {},
     "output_type": "execute_result"
    }
   ],
   "source": [
    "dt_reg1.feature_importances_"
   ]
  },
  {
   "cell_type": "code",
   "execution_count": 17,
   "id": "83b9ddf9",
   "metadata": {},
   "outputs": [
    {
     "data": {
      "text/plain": [
       "Index(['crim', 'zn', 'indus', 'chas', 'nox', 'rm', 'age', 'dis', 'rad', 'tax',\n",
       "       'ptratio', 'lstat'],\n",
       "      dtype='object')"
      ]
     },
     "execution_count": 17,
     "metadata": {},
     "output_type": "execute_result"
    }
   ],
   "source": [
    "X_train.columns"
   ]
  },
  {
   "cell_type": "code",
   "execution_count": 19,
   "id": "6fdc37d9",
   "metadata": {},
   "outputs": [
    {
     "data": {
      "text/html": [
       "<div>\n",
       "<style scoped>\n",
       "    .dataframe tbody tr th:only-of-type {\n",
       "        vertical-align: middle;\n",
       "    }\n",
       "\n",
       "    .dataframe tbody tr th {\n",
       "        vertical-align: top;\n",
       "    }\n",
       "\n",
       "    .dataframe thead th {\n",
       "        text-align: right;\n",
       "    }\n",
       "</style>\n",
       "<table border=\"1\" class=\"dataframe\">\n",
       "  <thead>\n",
       "    <tr style=\"text-align: right;\">\n",
       "      <th></th>\n",
       "      <th>importance</th>\n",
       "    </tr>\n",
       "  </thead>\n",
       "  <tbody>\n",
       "    <tr>\n",
       "      <th>rm</th>\n",
       "      <td>0.649</td>\n",
       "    </tr>\n",
       "    <tr>\n",
       "      <th>lstat</th>\n",
       "      <td>0.218</td>\n",
       "    </tr>\n",
       "    <tr>\n",
       "      <th>dis</th>\n",
       "      <td>0.064</td>\n",
       "    </tr>\n",
       "    <tr>\n",
       "      <th>crim</th>\n",
       "      <td>0.045</td>\n",
       "    </tr>\n",
       "    <tr>\n",
       "      <th>ptratio</th>\n",
       "      <td>0.021</td>\n",
       "    </tr>\n",
       "    <tr>\n",
       "      <th>age</th>\n",
       "      <td>0.002</td>\n",
       "    </tr>\n",
       "    <tr>\n",
       "      <th>chas</th>\n",
       "      <td>0.001</td>\n",
       "    </tr>\n",
       "    <tr>\n",
       "      <th>zn</th>\n",
       "      <td>0.000</td>\n",
       "    </tr>\n",
       "    <tr>\n",
       "      <th>indus</th>\n",
       "      <td>0.000</td>\n",
       "    </tr>\n",
       "    <tr>\n",
       "      <th>nox</th>\n",
       "      <td>0.000</td>\n",
       "    </tr>\n",
       "    <tr>\n",
       "      <th>rad</th>\n",
       "      <td>0.000</td>\n",
       "    </tr>\n",
       "    <tr>\n",
       "      <th>tax</th>\n",
       "      <td>0.000</td>\n",
       "    </tr>\n",
       "  </tbody>\n",
       "</table>\n",
       "</div>"
      ],
      "text/plain": [
       "         importance\n",
       "rm            0.649\n",
       "lstat         0.218\n",
       "dis           0.064\n",
       "crim          0.045\n",
       "ptratio       0.021\n",
       "age           0.002\n",
       "chas          0.001\n",
       "zn            0.000\n",
       "indus         0.000\n",
       "nox           0.000\n",
       "rad           0.000\n",
       "tax           0.000"
      ]
     },
     "execution_count": 19,
     "metadata": {},
     "output_type": "execute_result"
    }
   ],
   "source": [
    "feat_imp=pd.DataFrame(data=dt_reg1.feature_importances_.round(3),\n",
    "                     index=X_train.columns,\n",
    "                     columns=['importance'])\n",
    "feat_imp.sort_values('importance',ascending=False)"
   ]
  },
  {
   "cell_type": "markdown",
   "id": "27736f75",
   "metadata": {},
   "source": [
    "### visualizing dt_reg1"
   ]
  },
  {
   "cell_type": "code",
   "execution_count": 20,
   "id": "a3cb9578",
   "metadata": {},
   "outputs": [],
   "source": [
    "export_graphviz(dt_reg1, out_file='dt_reg1_vis.dot',\n",
    "               feature_names=X_train.columns, filled=True)"
   ]
  },
  {
   "cell_type": "markdown",
   "id": "d1c1e4f2",
   "metadata": {},
   "source": [
    "## westroxburry_categorical data"
   ]
  },
  {
   "cell_type": "code",
   "execution_count": 22,
   "id": "6caac6a0",
   "metadata": {},
   "outputs": [
    {
     "data": {
      "text/html": [
       "<div>\n",
       "<style scoped>\n",
       "    .dataframe tbody tr th:only-of-type {\n",
       "        vertical-align: middle;\n",
       "    }\n",
       "\n",
       "    .dataframe tbody tr th {\n",
       "        vertical-align: top;\n",
       "    }\n",
       "\n",
       "    .dataframe thead th {\n",
       "        text-align: right;\n",
       "    }\n",
       "</style>\n",
       "<table border=\"1\" class=\"dataframe\">\n",
       "  <thead>\n",
       "    <tr style=\"text-align: right;\">\n",
       "      <th></th>\n",
       "      <th>TOTAL VALUE</th>\n",
       "      <th>LOT SQFT</th>\n",
       "      <th>YR BUILT</th>\n",
       "      <th>GROSS AREA</th>\n",
       "      <th>LIVING AREA</th>\n",
       "      <th>FLOORS</th>\n",
       "      <th>ROOMS</th>\n",
       "      <th>BEDROOMS</th>\n",
       "      <th>FULL BATH</th>\n",
       "      <th>HALF BATH</th>\n",
       "      <th>KITCHEN</th>\n",
       "      <th>FIREPLACE</th>\n",
       "      <th>REMODEL</th>\n",
       "    </tr>\n",
       "  </thead>\n",
       "  <tbody>\n",
       "    <tr>\n",
       "      <th>0</th>\n",
       "      <td>344.2</td>\n",
       "      <td>9965</td>\n",
       "      <td>1880</td>\n",
       "      <td>2436</td>\n",
       "      <td>1352</td>\n",
       "      <td>2.0</td>\n",
       "      <td>6</td>\n",
       "      <td>3</td>\n",
       "      <td>1</td>\n",
       "      <td>1</td>\n",
       "      <td>1</td>\n",
       "      <td>No</td>\n",
       "      <td>No</td>\n",
       "    </tr>\n",
       "    <tr>\n",
       "      <th>1</th>\n",
       "      <td>412.6</td>\n",
       "      <td>6590</td>\n",
       "      <td>1945</td>\n",
       "      <td>3108</td>\n",
       "      <td>1976</td>\n",
       "      <td>2.0</td>\n",
       "      <td>10</td>\n",
       "      <td>4</td>\n",
       "      <td>2</td>\n",
       "      <td>1</td>\n",
       "      <td>1</td>\n",
       "      <td>No</td>\n",
       "      <td>Yes_Recently</td>\n",
       "    </tr>\n",
       "  </tbody>\n",
       "</table>\n",
       "</div>"
      ],
      "text/plain": [
       "   TOTAL VALUE  LOT SQFT  YR BUILT  GROSS AREA  LIVING AREA  FLOORS  ROOMS  \\\n",
       "0        344.2      9965      1880        2436         1352     2.0      6   \n",
       "1        412.6      6590      1945        3108         1976     2.0     10   \n",
       "\n",
       "   BEDROOMS  FULL BATH  HALF BATH  KITCHEN FIREPLACE       REMODEL  \n",
       "0         3          1          1        1        No            No  \n",
       "1         4          2          1        1        No  Yes_Recently  "
      ]
     },
     "execution_count": 22,
     "metadata": {},
     "output_type": "execute_result"
    }
   ],
   "source": [
    "# reading the data\n",
    "west=pd.read_csv('WestRoxbury_categorical.csv')\n",
    "west.head(2)"
   ]
  },
  {
   "cell_type": "code",
   "execution_count": 23,
   "id": "be344d34",
   "metadata": {},
   "outputs": [],
   "source": [
    "# shuffle the data\n",
    "west=west.sample(frac=1,random_state=0)"
   ]
  },
  {
   "cell_type": "code",
   "execution_count": null,
   "id": "7e3b40bc",
   "metadata": {},
   "outputs": [],
   "source": [
    "# create features and target sets (TOTAL VALUE targer, the rest features)\n",
    "# change the FLOOR type to string\n",
    "# encode categorical features\n",
    "# split to train and test (85/15), make sure to use X_dummies\n",
    "# use validation_curve to find best param value, max_leaf_nodes\n",
    "### use this param_range=[12,13,14,15,16,17], cv=5\n",
    "# built a DT regressor with best param value\n",
    "# evaluate its performance\n",
    "# check the feature importance\n",
    "# visualize the tree"
   ]
  },
  {
   "cell_type": "code",
   "execution_count": 24,
   "id": "0d5c0212",
   "metadata": {},
   "outputs": [
    {
     "data": {
      "text/html": [
       "<div>\n",
       "<style scoped>\n",
       "    .dataframe tbody tr th:only-of-type {\n",
       "        vertical-align: middle;\n",
       "    }\n",
       "\n",
       "    .dataframe tbody tr th {\n",
       "        vertical-align: top;\n",
       "    }\n",
       "\n",
       "    .dataframe thead th {\n",
       "        text-align: right;\n",
       "    }\n",
       "</style>\n",
       "<table border=\"1\" class=\"dataframe\">\n",
       "  <thead>\n",
       "    <tr style=\"text-align: right;\">\n",
       "      <th></th>\n",
       "      <th>LOT SQFT</th>\n",
       "      <th>YR BUILT</th>\n",
       "      <th>GROSS AREA</th>\n",
       "      <th>LIVING AREA</th>\n",
       "      <th>FLOORS</th>\n",
       "      <th>ROOMS</th>\n",
       "      <th>BEDROOMS</th>\n",
       "      <th>FULL BATH</th>\n",
       "      <th>HALF BATH</th>\n",
       "      <th>KITCHEN</th>\n",
       "      <th>FIREPLACE</th>\n",
       "      <th>REMODEL</th>\n",
       "    </tr>\n",
       "  </thead>\n",
       "  <tbody>\n",
       "    <tr>\n",
       "      <th>1519</th>\n",
       "      <td>4026</td>\n",
       "      <td>1940</td>\n",
       "      <td>2520</td>\n",
       "      <td>1047</td>\n",
       "      <td>1.0</td>\n",
       "      <td>6</td>\n",
       "      <td>3</td>\n",
       "      <td>1</td>\n",
       "      <td>1</td>\n",
       "      <td>1</td>\n",
       "      <td>Yes</td>\n",
       "      <td>No</td>\n",
       "    </tr>\n",
       "  </tbody>\n",
       "</table>\n",
       "</div>"
      ],
      "text/plain": [
       "      LOT SQFT  YR BUILT  GROSS AREA  LIVING AREA  FLOORS  ROOMS  BEDROOMS  \\\n",
       "1519      4026      1940        2520         1047     1.0      6         3   \n",
       "\n",
       "      FULL BATH  HALF BATH  KITCHEN FIREPLACE REMODEL  \n",
       "1519          1          1        1       Yes      No  "
      ]
     },
     "metadata": {},
     "output_type": "display_data"
    },
    {
     "data": {
      "text/plain": [
       "1519    266.0\n",
       "Name: TOTAL VALUE, dtype: float64"
      ]
     },
     "metadata": {},
     "output_type": "display_data"
    }
   ],
   "source": [
    "# create features and target sets (TOTAL VALUE targer, the rest features)\n",
    "X_west, y_west=west.iloc[:,1:], west.iloc[:,0]\n",
    "# check my work\n",
    "display(X_west.head(1))\n",
    "display(y_west.head(1))"
   ]
  },
  {
   "cell_type": "code",
   "execution_count": 25,
   "id": "52162871",
   "metadata": {},
   "outputs": [
    {
     "data": {
      "text/html": [
       "<div>\n",
       "<style scoped>\n",
       "    .dataframe tbody tr th:only-of-type {\n",
       "        vertical-align: middle;\n",
       "    }\n",
       "\n",
       "    .dataframe tbody tr th {\n",
       "        vertical-align: top;\n",
       "    }\n",
       "\n",
       "    .dataframe thead th {\n",
       "        text-align: right;\n",
       "    }\n",
       "</style>\n",
       "<table border=\"1\" class=\"dataframe\">\n",
       "  <thead>\n",
       "    <tr style=\"text-align: right;\">\n",
       "      <th></th>\n",
       "      <th>LOT SQFT</th>\n",
       "      <th>YR BUILT</th>\n",
       "      <th>GROSS AREA</th>\n",
       "      <th>LIVING AREA</th>\n",
       "      <th>ROOMS</th>\n",
       "      <th>BEDROOMS</th>\n",
       "      <th>FULL BATH</th>\n",
       "      <th>HALF BATH</th>\n",
       "      <th>KITCHEN</th>\n",
       "      <th>FLOORS_1.0</th>\n",
       "      <th>FLOORS_1.5</th>\n",
       "      <th>FLOORS_2.0</th>\n",
       "      <th>FLOORS_2.5</th>\n",
       "      <th>FLOORS_3.0</th>\n",
       "      <th>FIREPLACE_No</th>\n",
       "      <th>FIREPLACE_Yes</th>\n",
       "      <th>REMODEL_No</th>\n",
       "      <th>REMODEL_Yes</th>\n",
       "      <th>REMODEL_Yes_Recently</th>\n",
       "    </tr>\n",
       "  </thead>\n",
       "  <tbody>\n",
       "    <tr>\n",
       "      <th>1519</th>\n",
       "      <td>4026</td>\n",
       "      <td>1940</td>\n",
       "      <td>2520</td>\n",
       "      <td>1047</td>\n",
       "      <td>6</td>\n",
       "      <td>3</td>\n",
       "      <td>1</td>\n",
       "      <td>1</td>\n",
       "      <td>1</td>\n",
       "      <td>1</td>\n",
       "      <td>0</td>\n",
       "      <td>0</td>\n",
       "      <td>0</td>\n",
       "      <td>0</td>\n",
       "      <td>0</td>\n",
       "      <td>1</td>\n",
       "      <td>1</td>\n",
       "      <td>0</td>\n",
       "      <td>0</td>\n",
       "    </tr>\n",
       "    <tr>\n",
       "      <th>3457</th>\n",
       "      <td>7000</td>\n",
       "      <td>1848</td>\n",
       "      <td>6235</td>\n",
       "      <td>3446</td>\n",
       "      <td>12</td>\n",
       "      <td>5</td>\n",
       "      <td>3</td>\n",
       "      <td>0</td>\n",
       "      <td>1</td>\n",
       "      <td>0</td>\n",
       "      <td>0</td>\n",
       "      <td>1</td>\n",
       "      <td>0</td>\n",
       "      <td>0</td>\n",
       "      <td>0</td>\n",
       "      <td>1</td>\n",
       "      <td>1</td>\n",
       "      <td>0</td>\n",
       "      <td>0</td>\n",
       "    </tr>\n",
       "  </tbody>\n",
       "</table>\n",
       "</div>"
      ],
      "text/plain": [
       "      LOT SQFT  YR BUILT  GROSS AREA  LIVING AREA  ROOMS  BEDROOMS  FULL BATH  \\\n",
       "1519      4026      1940        2520         1047      6         3          1   \n",
       "3457      7000      1848        6235         3446     12         5          3   \n",
       "\n",
       "      HALF BATH  KITCHEN  FLOORS_1.0  FLOORS_1.5  FLOORS_2.0  FLOORS_2.5  \\\n",
       "1519          1        1           1           0           0           0   \n",
       "3457          0        1           0           0           1           0   \n",
       "\n",
       "      FLOORS_3.0  FIREPLACE_No  FIREPLACE_Yes  REMODEL_No  REMODEL_Yes  \\\n",
       "1519           0             0              1           1            0   \n",
       "3457           0             0              1           1            0   \n",
       "\n",
       "      REMODEL_Yes_Recently  \n",
       "1519                     0  \n",
       "3457                     0  "
      ]
     },
     "execution_count": 25,
     "metadata": {},
     "output_type": "execute_result"
    }
   ],
   "source": [
    "# change the FLOOR type to string\n",
    "X_west['FLOORS']=X_west['FLOORS'].astype(str)\n",
    "# encode categotical features\n",
    "X_dummies=pd.get_dummies(X_west)\n",
    "X_dummies.head(2)"
   ]
  },
  {
   "cell_type": "code",
   "execution_count": 26,
   "id": "79c8ced1",
   "metadata": {},
   "outputs": [],
   "source": [
    "# split to train and test (85/15)\n",
    "X_train, X_test, y_train, y_test=train_test_split(X_dummies, y_west,\n",
    "                                                 test_size=.15,\n",
    "                                                 random_state=0)"
   ]
  },
  {
   "cell_type": "markdown",
   "id": "f395ed7a",
   "metadata": {},
   "source": [
    "### validation_curve"
   ]
  },
  {
   "cell_type": "code",
   "execution_count": 27,
   "id": "b8958da4",
   "metadata": {},
   "outputs": [],
   "source": [
    "train_sc1, test_sc1=validation_curve(DecisionTreeRegressor(random_state=0),\n",
    "                                    X_train, y_train,\n",
    "                                    param_name='max_leaf_nodes',\n",
    "                                    param_range=[12,13,14,15,16,17], cv=5)"
   ]
  },
  {
   "cell_type": "code",
   "execution_count": 28,
   "id": "58e99a40",
   "metadata": {},
   "outputs": [
    {
     "data": {
      "text/plain": [
       "array([0.7297, 0.7356, 0.741 , 0.7457, 0.7502, 0.7543])"
      ]
     },
     "execution_count": 28,
     "metadata": {},
     "output_type": "execute_result"
    }
   ],
   "source": [
    "train_sc1.mean(axis=1).round(4)"
   ]
  },
  {
   "cell_type": "code",
   "execution_count": 29,
   "id": "4135d806",
   "metadata": {},
   "outputs": [
    {
     "data": {
      "text/plain": [
       "array([0.6867, 0.6935, 0.699 , 0.7015, 0.7055, 0.6963])"
      ]
     },
     "execution_count": 29,
     "metadata": {},
     "output_type": "execute_result"
    }
   ],
   "source": [
    "test_sc1.mean(axis=1).round(4)\n",
    "# max_leaf_nodes=16 has the highest test score"
   ]
  },
  {
   "cell_type": "markdown",
   "id": "97e55711",
   "metadata": {},
   "source": [
    "### build a DT regressor using best param value"
   ]
  },
  {
   "cell_type": "code",
   "execution_count": 30,
   "id": "8febe20c",
   "metadata": {},
   "outputs": [
    {
     "data": {
      "text/plain": [
       "DecisionTreeRegressor(max_leaf_nodes=16, random_state=0)"
      ]
     },
     "execution_count": 30,
     "metadata": {},
     "output_type": "execute_result"
    }
   ],
   "source": [
    "dt_reg2=DecisionTreeRegressor(max_leaf_nodes=16, random_state=0)\n",
    "dt_reg2.fit(X_train,y_train)"
   ]
  },
  {
   "cell_type": "code",
   "execution_count": 32,
   "id": "d6c50b53",
   "metadata": {},
   "outputs": [
    {
     "name": "stdout",
     "output_type": "stream",
     "text": [
      "dt_reg2 R2 on train: 74.53%\n",
      "dt_reg2 R2 on test: 70.23%\n"
     ]
    }
   ],
   "source": [
    "# evaluate the performance\n",
    "print('dt_reg2 R2 on train: {:.2%}'.format(dt_reg2.score(X_train,y_train)))\n",
    "print('dt_reg2 R2 on test: {:.2%}'.format(dt_reg2.score(X_test,y_test)))"
   ]
  },
  {
   "cell_type": "markdown",
   "id": "e19e2d66",
   "metadata": {},
   "source": [
    "### feature importance"
   ]
  },
  {
   "cell_type": "code",
   "execution_count": 35,
   "id": "6938a785",
   "metadata": {
    "collapsed": true
   },
   "outputs": [
    {
     "data": {
      "text/html": [
       "<div>\n",
       "<style scoped>\n",
       "    .dataframe tbody tr th:only-of-type {\n",
       "        vertical-align: middle;\n",
       "    }\n",
       "\n",
       "    .dataframe tbody tr th {\n",
       "        vertical-align: top;\n",
       "    }\n",
       "\n",
       "    .dataframe thead th {\n",
       "        text-align: right;\n",
       "    }\n",
       "</style>\n",
       "<table border=\"1\" class=\"dataframe\">\n",
       "  <thead>\n",
       "    <tr style=\"text-align: right;\">\n",
       "      <th></th>\n",
       "      <th>importance</th>\n",
       "    </tr>\n",
       "  </thead>\n",
       "  <tbody>\n",
       "    <tr>\n",
       "      <th>LIVING AREA</th>\n",
       "      <td>0.910</td>\n",
       "    </tr>\n",
       "    <tr>\n",
       "      <th>LOT SQFT</th>\n",
       "      <td>0.054</td>\n",
       "    </tr>\n",
       "    <tr>\n",
       "      <th>GROSS AREA</th>\n",
       "      <td>0.024</td>\n",
       "    </tr>\n",
       "    <tr>\n",
       "      <th>FIREPLACE_Yes</th>\n",
       "      <td>0.012</td>\n",
       "    </tr>\n",
       "    <tr>\n",
       "      <th>FLOORS_2.0</th>\n",
       "      <td>0.000</td>\n",
       "    </tr>\n",
       "    <tr>\n",
       "      <th>REMODEL_Yes</th>\n",
       "      <td>0.000</td>\n",
       "    </tr>\n",
       "    <tr>\n",
       "      <th>REMODEL_No</th>\n",
       "      <td>0.000</td>\n",
       "    </tr>\n",
       "    <tr>\n",
       "      <th>FIREPLACE_No</th>\n",
       "      <td>0.000</td>\n",
       "    </tr>\n",
       "    <tr>\n",
       "      <th>FLOORS_3.0</th>\n",
       "      <td>0.000</td>\n",
       "    </tr>\n",
       "    <tr>\n",
       "      <th>FLOORS_2.5</th>\n",
       "      <td>0.000</td>\n",
       "    </tr>\n",
       "    <tr>\n",
       "      <th>FLOORS_1.0</th>\n",
       "      <td>0.000</td>\n",
       "    </tr>\n",
       "    <tr>\n",
       "      <th>FLOORS_1.5</th>\n",
       "      <td>0.000</td>\n",
       "    </tr>\n",
       "    <tr>\n",
       "      <th>YR BUILT</th>\n",
       "      <td>0.000</td>\n",
       "    </tr>\n",
       "    <tr>\n",
       "      <th>KITCHEN</th>\n",
       "      <td>0.000</td>\n",
       "    </tr>\n",
       "    <tr>\n",
       "      <th>HALF BATH</th>\n",
       "      <td>0.000</td>\n",
       "    </tr>\n",
       "    <tr>\n",
       "      <th>FULL BATH</th>\n",
       "      <td>0.000</td>\n",
       "    </tr>\n",
       "    <tr>\n",
       "      <th>BEDROOMS</th>\n",
       "      <td>0.000</td>\n",
       "    </tr>\n",
       "    <tr>\n",
       "      <th>ROOMS</th>\n",
       "      <td>0.000</td>\n",
       "    </tr>\n",
       "    <tr>\n",
       "      <th>REMODEL_Yes_Recently</th>\n",
       "      <td>0.000</td>\n",
       "    </tr>\n",
       "  </tbody>\n",
       "</table>\n",
       "</div>"
      ],
      "text/plain": [
       "                      importance\n",
       "LIVING AREA                0.910\n",
       "LOT SQFT                   0.054\n",
       "GROSS AREA                 0.024\n",
       "FIREPLACE_Yes              0.012\n",
       "FLOORS_2.0                 0.000\n",
       "REMODEL_Yes                0.000\n",
       "REMODEL_No                 0.000\n",
       "FIREPLACE_No               0.000\n",
       "FLOORS_3.0                 0.000\n",
       "FLOORS_2.5                 0.000\n",
       "FLOORS_1.0                 0.000\n",
       "FLOORS_1.5                 0.000\n",
       "YR BUILT                   0.000\n",
       "KITCHEN                    0.000\n",
       "HALF BATH                  0.000\n",
       "FULL BATH                  0.000\n",
       "BEDROOMS                   0.000\n",
       "ROOMS                      0.000\n",
       "REMODEL_Yes_Recently       0.000"
      ]
     },
     "execution_count": 35,
     "metadata": {},
     "output_type": "execute_result"
    }
   ],
   "source": [
    "feat_imp2=pd.DataFrame(data=dt_reg2.feature_importances_.round(3),\n",
    "                      index=X_train.columns,\n",
    "                      columns=['importance'])\n",
    "feat_imp2.sort_values('importance',ascending=False)"
   ]
  },
  {
   "cell_type": "markdown",
   "id": "aa94afcd",
   "metadata": {},
   "source": [
    "### visualize dt_reg2"
   ]
  },
  {
   "cell_type": "code",
   "execution_count": 36,
   "id": "315c9566",
   "metadata": {},
   "outputs": [],
   "source": [
    "export_graphviz(dt_reg2, out_file='dt_reg2_vis.dot',\n",
    "               feature_names=X_train.columns, filled=True)"
   ]
  },
  {
   "cell_type": "code",
   "execution_count": null,
   "id": "21cab913",
   "metadata": {},
   "outputs": [],
   "source": []
  }
 ],
 "metadata": {
  "kernelspec": {
   "display_name": "Python 3 (ipykernel)",
   "language": "python",
   "name": "python3"
  },
  "language_info": {
   "codemirror_mode": {
    "name": "ipython",
    "version": 3
   },
   "file_extension": ".py",
   "mimetype": "text/x-python",
   "name": "python",
   "nbconvert_exporter": "python",
   "pygments_lexer": "ipython3",
   "version": "3.9.12"
  },
  "toc": {
   "base_numbering": 1,
   "nav_menu": {},
   "number_sections": true,
   "sideBar": true,
   "skip_h1_title": false,
   "title_cell": "Table of Contents",
   "title_sidebar": "Contents",
   "toc_cell": false,
   "toc_position": {},
   "toc_section_display": true,
   "toc_window_display": false
  }
 },
 "nbformat": 4,
 "nbformat_minor": 5
}
